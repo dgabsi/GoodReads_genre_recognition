{
 "cells": [
  {
   "cell_type": "markdown",
   "metadata": {
    "pycharm": {
     "name": "#%%\n"
    }
   },
   "source": [
    "# Recognising Goodreads ratings - Artificial Intelligence project\n",
    "Daniela Stern-Gabsi\n",
    "# Inference- Goodreads Genres"
   ]
  },
  {
   "cell_type": "markdown",
   "metadata": {},
   "source": [
    "We will try to recognise the books genres using different types of models:\n",
    "\n",
    "    1. Baseline model- simple rule based model. Based on the author former book genre.\n",
    "    2. Logistic regression\n",
    "    3. Random forest\n",
    "    4. Support vector machine\n",
    "    5. Convolutional neural network- based on images of book covers\n",
    "    6. Neural network based on embeddings"
   ]
  },
  {
   "cell_type": "markdown",
   "metadata": {},
   "source": [
    "Our metrics will be : Accuracy and F1 weighted average. \n",
    "Accuracy is a simple metric calculating the precentages of values predicted correctly.\n",
    "\n",
    "The F1 score takes into  account  both  precision  and  recall  values. "
   ]
  },
  {
   "cell_type": "markdown",
   "metadata": {},
   "source": [
    "$$ accuracy = \\frac{TP+TN}{TP+FP+TN+FN} $$\n",
    "\n",
    "\n",
    "$$ precision = \\frac{TP}{TP+FP}$$\n",
    "$$ recall = \\frac{TP}{TP+FN}$$\n",
    "$$ F1 = \\frac{2 * (precision * recall)}{(precision + recall)}$$"
   ]
  },
  {
   "cell_type": "code",
   "execution_count": 1,
   "metadata": {},
   "outputs": [
    {
     "name": "stderr",
     "output_type": "stream",
     "text": [
      "[nltk_data] Downloading package punkt to /home/neuralx/nltk_data...\n",
      "[nltk_data]   Package punkt is already up-to-date!\n",
      "[nltk_data] Downloading package stopwords to\n",
      "[nltk_data]     /home/neuralx/nltk_data...\n",
      "[nltk_data]   Package stopwords is already up-to-date!\n"
     ]
    }
   ],
   "source": [
    "#Import necessary packages\n",
    "import pandas as pd\n",
    "import os\n",
    "import yaml\n",
    "import matplotlib.pyplot as plt\n",
    "import seaborn as sns\n",
    "import math\n",
    "import warnings\n",
    "warnings.filterwarnings('ignore')\n",
    "#plt.style.use('ggplot')\n",
    "import goodreads as gr\n",
    "import numpy as np\n",
    "\n",
    "from sklearn.preprocessing import OneHotEncoder\n",
    "from sklearn.model_selection import train_test_split\n",
    "from sklearn.metrics import confusion_matrix\n",
    "from sklearn.metrics import ConfusionMatrixDisplay\n",
    "from sklearn import preprocessing\n",
    "from sklearn.preprocessing import OneHotEncoder, MinMaxScaler, RobustScaler, StandardScaler,PowerTransformer\n",
    "from sklearn.feature_extraction.text import TfidfVectorizer, TfidfTransformer\n",
    "from sklearn.pipeline import make_pipeline\n",
    "from sklearn.metrics import classification_report\n",
    "from sklearn.model_selection import GridSearchCV\n",
    "from sklearn.linear_model import LogisticRegression\n",
    "from sklearn.ensemble import RandomForestClassifier\n",
    "from sklearn.svm import SVC\n",
    "from sklearn.naive_bayes import MultinomialNB\n",
    "from sklearn.neighbors import KNeighborsClassifier\n",
    "from sklearn.metrics import accuracy_score, f1_score\n",
    "import time\n",
    "import numpy as np\n",
    "from sklearn.naive_bayes import GaussianNB\n",
    "from sklearn.svm import LinearSVC\n",
    "import spacy\n",
    "import gensim\n",
    "from gensim.models.word2vec import Word2Vec\n",
    "import tensorflow as tf\n",
    "\n",
    "\n",
    "from sklearn.metrics import accuracy_score\n",
    "from sklearn.feature_extraction.text import CountVectorizer"
   ]
  },
  {
   "cell_type": "markdown",
   "metadata": {},
   "source": [
    "First we will load the configuration file contaning all needed hyperparameters"
   ]
  },
  {
   "cell_type": "code",
   "execution_count": 2,
   "metadata": {
    "pycharm": {
     "name": "#%%\n"
    }
   },
   "outputs": [],
   "source": [
    "#load configuration file\n",
    "try:\n",
    "    with open('configuration.yml', 'r') as file:\n",
    "        conf = yaml.load(file, Loader=yaml.FullLoader)\n",
    "except Exception as e:\n",
    "    print('Error reading the config file')"
   ]
  },
  {
   "cell_type": "code",
   "execution_count": 3,
   "metadata": {},
   "outputs": [
    {
     "data": {
      "text/plain": [
       "{'files': {'data_dir': 'data',\n",
       "  'books_file': 'goodreads_books_eng_f.csv',\n",
       "  'image_source_dir': 'data/images-source',\n",
       "  'images_list': 'books_images_names.csv'},\n",
       " 'preprocessed': {'preprocess_col_order': ['book_id',\n",
       "   'work_id',\n",
       "   'title',\n",
       "   'num_pages',\n",
       "   'publication_year',\n",
       "   'description',\n",
       "   'is_ebook',\n",
       "   'series',\n",
       "   'image_url',\n",
       "   'read_count',\n",
       "   'text_reviews_count',\n",
       "   'ratings_count',\n",
       "   'average_rating',\n",
       "   'author_id',\n",
       "   'name',\n",
       "   'public_year_null',\n",
       "   'num_pages_null',\n",
       "   'authors_ratings_count',\n",
       "   'author_average_rating',\n",
       "   'genre'],\n",
       "  'genres_col': ['poetry',\n",
       "   'children',\n",
       "   'fantasy, paranormal',\n",
       "   'history, historical fiction, biography',\n",
       "   'comics, graphic',\n",
       "   'non-fiction',\n",
       "   'mystery, thriller, crime',\n",
       "   'young-adult',\n",
       "   'romance'],\n",
       "  'full_genres_col': ['poetry',\n",
       "   'children',\n",
       "   'fantasy, paranormal',\n",
       "   'history, historical fiction, biography',\n",
       "   'comics, graphic',\n",
       "   'non-fiction',\n",
       "   'mystery, thriller, crime',\n",
       "   'young-adult',\n",
       "   'romance',\n",
       "   'fiction']},\n",
       " 'num_classes': 10,\n",
       " 'test_precentage': 0.1,\n",
       " 'val_precentage': 0.1,\n",
       " 'hyperparams': {'desc_maxwords': 500,\n",
       "  'title_maxwords': 500,\n",
       "  'logistic_regre_params': {'C': [0.1, 1.0, 10.0, 100.0]},\n",
       "  'random_forest_params': {'n_estimators': [300, 500],\n",
       "   'min_samples_leaf': [5, 10]},\n",
       "  'conv_params': {'transfer_learning': {'top_config': [256, 64]},\n",
       "   'simple_conv': {'conv_config': [32, 128, 64],\n",
       "    'dense_config': [128, 64],\n",
       "    'kernel': 5,\n",
       "    'pool': 2},\n",
       "   'batch_size': 64,\n",
       "   'epochs': 20,\n",
       "   'patience': 3,\n",
       "   'image_size': 224,\n",
       "   'learning_rate': [0.001, 0.003]},\n",
       "  'embedding_params': {'desc_max_voc': 5000,\n",
       "   'title_max_voc': 1000,\n",
       "   'desc_max_len': 350,\n",
       "   'title_max_len': 10,\n",
       "   'batch_size': 32,\n",
       "   'epochs': 20,\n",
       "   'embedding_type': ['spacy', 'word2vec'],\n",
       "   'embedding_dim': 300,\n",
       "   'patience': 3,\n",
       "   'dense_config': [128, 64],\n",
       "   'learning_rate': [0.003, 0.001],\n",
       "   'kernel_desc': [5, 10],\n",
       "   'kernel_title': [3, 5],\n",
       "   'word2vecwindow_desc': 10,\n",
       "   'word2vecwindow_title': 3,\n",
       "   'dropout_rates': [0.2, 0.1],\n",
       "   'conv_filters_desc': 64,\n",
       "   'conv_filters_title': 16}}}"
      ]
     },
     "execution_count": 3,
     "metadata": {},
     "output_type": "execute_result"
    }
   ],
   "source": [
    "conf"
   ]
  },
  {
   "cell_type": "code",
   "execution_count": 4,
   "metadata": {
    "pycharm": {
     "name": "#%%\n"
    }
   },
   "outputs": [],
   "source": [
    "#data locations\n",
    "data_path = os.path.abspath(conf[\"files\"][\"data_dir\"])\n",
    "image_source_path = os.path.abspath(conf[\"files\"][\"image_source_dir\"])\n",
    "image_source_list = conf[\"files\"][\"images_list\"]"
   ]
  },
  {
   "cell_type": "markdown",
   "metadata": {},
   "source": [
    "### Important- set seed"
   ]
  },
  {
   "cell_type": "code",
   "execution_count": 5,
   "metadata": {},
   "outputs": [],
   "source": [
    "SEED=42\n",
    "np.random.seed(SEED)\n",
    "tf.random.set_seed(SEED)"
   ]
  },
  {
   "cell_type": "markdown",
   "metadata": {},
   "source": [
    "### Important- If you already run the full EDA notebook-you can run only the following line (Or if running second time).\n",
    "### After running  skip to Models sections"
   ]
  },
  {
   "cell_type": "markdown",
   "metadata": {},
   "source": [
    "We create a GoodreadsDataset object that will contain an alreday prepared train, validation and tests datasets. We assumed it is already prepared."
   ]
  },
  {
   "cell_type": "code",
   "execution_count": 6,
   "metadata": {},
   "outputs": [
    {
     "name": "stdout",
     "output_type": "stream",
     "text": [
      "Loaded train dataset containing: 123399 samples\n",
      "Loaded validation dataset containing: 13712 samples\n",
      "Loaded test dataset containing: 15235 samples\n"
     ]
    }
   ],
   "source": [
    "goodr_dataset = gr.GoodreadsDataset.load_from_split(conf['preprocessed'], image_source_path, image_source_list, data_path)"
   ]
  },
  {
   "cell_type": "markdown",
   "metadata": {},
   "source": [
    "### Or -Start from fresh"
   ]
  },
  {
   "cell_type": "markdown",
   "metadata": {},
   "source": [
    "Loading the dataset. Running preporcessing tasks and splitting the datasets to train, valdation and test set.\n",
    "This can take a while since it prepares both data and images folders"
   ]
  },
  {
   "cell_type": "code",
   "execution_count": 7,
   "metadata": {},
   "outputs": [],
   "source": [
    "test_pct = conf[\"test_precentage\"]\n",
    "val_pct = conf[\"val_precentage\"]"
   ]
  },
  {
   "cell_type": "code",
   "execution_count": 8,
   "metadata": {},
   "outputs": [
    {
     "name": "stdout",
     "output_type": "stream",
     "text": [
      "Test precentage (From total dataset) : 0.1\n",
      "Validation precentage (From train dataset): 0.1\n"
     ]
    }
   ],
   "source": [
    "print(f\"Test precentage (From total dataset) : {test_pct}\")\n",
    "print(f\"Validation precentage (From train dataset): {val_pct}\")"
   ]
  },
  {
   "cell_type": "code",
   "execution_count": 9,
   "metadata": {},
   "outputs": [
    {
     "name": "stdout",
     "output_type": "stream",
     "text": [
      "Loaded train dataset containing: 123399 samples\n",
      "Loaded validation dataset containing: 13712 samples\n",
      "Loaded test dataset containing: 15235 samples\n",
      "dataset path  /home/neuralx/PycharmProjects/701project/data/images-train\n",
      "dataset path  /home/neuralx/PycharmProjects/701project/data/images-val\n",
      "dataset path  /home/neuralx/PycharmProjects/701project/data/images-test\n",
      "All images prepared in folders\n",
      "Dataset splits saved as pickle files\n"
     ]
    }
   ],
   "source": [
    "books_file = os.path.join(conf[\"files\"][\"data_dir\"], conf[\"files\"][\"books_file\"])\n",
    "books = pd.read_csv(books_file, na_values=['NA', ''])\n",
    "\n",
    "goodr_dataset=gr.GoodreadsDataset(conf['preprocessed'], image_source_path,image_source_list,data_path)\n",
    "goodr_dataset.preprocess(books)\n",
    "\n",
    "#This can take a while since it prepares images folders\n",
    "goodr_dataset.prepare_train_test_split(test_pct=test_pct, val_pct=val_pct, seed=SEED)"
   ]
  },
  {
   "cell_type": "markdown",
   "metadata": {},
   "source": [
    "# Models"
   ]
  },
  {
   "cell_type": "markdown",
   "metadata": {},
   "source": [
    "We will create a dictinary to collect all model results"
   ]
  },
  {
   "cell_type": "code",
   "execution_count": 7,
   "metadata": {},
   "outputs": [],
   "source": [
    "score_dictionary={'model':[], 'accuracy':[], 'F1-weighted':[] }\n",
    "full_generes=conf[\"preprocessed\"][\"full_genres_col\"]"
   ]
  },
  {
   "cell_type": "markdown",
   "metadata": {},
   "source": [
    "## Baseline model\n",
    "Our baseline model will be a simple model the determines a the book genre by simply looking for another book written by the same author and if found returns its genre.In case there is no former book it assign the genre as the mode genre."
   ]
  },
  {
   "cell_type": "code",
   "execution_count": 8,
   "metadata": {},
   "outputs": [],
   "source": [
    "baseline_learner=gr.Baseline(conf[\"preprocessed\"][\"preprocess_col_order\"])\n",
    "baseline_learner.fit(goodr_dataset.X_train, goodr_dataset.y_train)\n",
    "y_val_predicted=baseline_learner.predict(goodr_dataset.X_val)"
   ]
  },
  {
   "cell_type": "markdown",
   "metadata": {},
   "source": [
    "Evaluate the model"
   ]
  },
  {
   "cell_type": "code",
   "execution_count": 9,
   "metadata": {
    "pycharm": {
     "name": "#%%\n"
    }
   },
   "outputs": [
    {
     "name": "stdout",
     "output_type": "stream",
     "text": [
      "                                        precision    recall  f1-score   support\n",
      "\n",
      "                                poetry       0.68      0.33      0.44       457\n",
      "                              children       0.70      0.46      0.56       782\n",
      "                   fantasy, paranormal       0.32      0.82      0.46      2640\n",
      "history, historical fiction, biography       0.63      0.37      0.46      1920\n",
      "                       comics, graphic       0.92      0.75      0.83      1036\n",
      "                           non-fiction       0.65      0.25      0.36      1543\n",
      "              mystery, thriller, crime       0.75      0.54      0.63      1962\n",
      "                           young-adult       0.59      0.39      0.47       693\n",
      "                               romance       0.77      0.61      0.68      2014\n",
      "                               fiction       0.35      0.16      0.22       665\n",
      "\n",
      "                              accuracy                           0.52     13712\n",
      "                             macro avg       0.64      0.47      0.51     13712\n",
      "                          weighted avg       0.62      0.52      0.53     13712\n",
      "\n"
     ]
    }
   ],
   "source": [
    "accuracy=accuracy_score(goodr_dataset.y_val, y_val_predicted)\n",
    "f1_weighted=f1_score(goodr_dataset.y_val, y_val_predicted, average='weighted')\n",
    "\n",
    "score_dictionary['model'].append(\"Baseline\")\n",
    "score_dictionary['accuracy'].append(accuracy)\n",
    "score_dictionary['F1-weighted'].append(f1_weighted)\n",
    "\n",
    "print(classification_report(goodr_dataset.y_val, y_val_predicted, labels=conf[\"preprocessed\"][\"full_genres_col\"]))\n"
   ]
  },
  {
   "cell_type": "code",
   "execution_count": 10,
   "metadata": {},
   "outputs": [
    {
     "data": {
      "text/html": [
       "<div>\n",
       "<style scoped>\n",
       "    .dataframe tbody tr th:only-of-type {\n",
       "        vertical-align: middle;\n",
       "    }\n",
       "\n",
       "    .dataframe tbody tr th {\n",
       "        vertical-align: top;\n",
       "    }\n",
       "\n",
       "    .dataframe thead th {\n",
       "        text-align: right;\n",
       "    }\n",
       "</style>\n",
       "<table border=\"1\" class=\"dataframe\">\n",
       "  <thead>\n",
       "    <tr style=\"text-align: right;\">\n",
       "      <th></th>\n",
       "      <th>model</th>\n",
       "      <th>accuracy</th>\n",
       "      <th>F1-weighted</th>\n",
       "    </tr>\n",
       "  </thead>\n",
       "  <tbody>\n",
       "    <tr>\n",
       "      <th>0</th>\n",
       "      <td>Baseline</td>\n",
       "      <td>0.524796</td>\n",
       "      <td>0.528185</td>\n",
       "    </tr>\n",
       "  </tbody>\n",
       "</table>\n",
       "</div>"
      ],
      "text/plain": [
       "      model  accuracy  F1-weighted\n",
       "0  Baseline  0.524796     0.528185"
      ]
     },
     "execution_count": 10,
     "metadata": {},
     "output_type": "execute_result"
    }
   ],
   "source": [
    "df_scores= pd.DataFrame.from_dict(score_dictionary)\n",
    "df_scores.head()"
   ]
  },
  {
   "cell_type": "markdown",
   "metadata": {},
   "source": [
    "We can see that our baseline model has achieved: 0.53% accuracy and 0.53% weighted F1.\n",
    "We can see a high of 0.8 in recall of genre \"fantasy, paranormal\". This is expected since it was the genre mode and therefore the default prediction of the baseline model. The precision value is low. \n",
    "High values of f1 (and both precision and recall) are also seen in the \"comics\" genre.This might be becuase of repetition of same authors in this category."
   ]
  },
  {
   "cell_type": "markdown",
   "metadata": {},
   "source": [
    "### Preparing data for inference"
   ]
  },
  {
   "cell_type": "markdown",
   "metadata": {},
   "source": [
    "- Numerical features-publication year and ratings features were normalized by using min-max normalization since they have a definite range of values (1500-2020 and 1-5 respectively).Other numerical values were normalized using power transformer box-cox method. We have used this method instead of the popular standard scaler since our features contain strong outlier.Box-Cox is very suitable for features having outliers.It can be used  only for positive values (which is our case).The normalized data will have zero-mean and unit-variance.\n",
    "\n",
    "- Title and description text features have been transformed in two different methods(that will be used in different models). The first is creating bag of words counts.(we limited to 500 distinct words) and the second method is tfidf normalization."
   ]
  },
  {
   "cell_type": "code",
   "execution_count": 11,
   "metadata": {
    "pycharm": {
     "name": "#%%\n"
    }
   },
   "outputs": [
    {
     "name": "stdout",
     "output_type": "stream",
     "text": [
      "All datasets prepared for inference\n"
     ]
    }
   ],
   "source": [
    "goodr_dataset.prepare_data_for_inference(add_text_features=True, descr_maxwords=conf[\"hyperparams\"][\"desc_maxwords\"], title_maxwords=conf[\"hyperparams\"][\"title_maxwords\"], drop_ids=True, drop_author_id=True,target_hot_encoding=False)\n"
   ]
  },
  {
   "cell_type": "markdown",
   "metadata": {},
   "source": [
    "We will now take the prepared train,validation and test datasets"
   ]
  },
  {
   "cell_type": "code",
   "execution_count": 12,
   "metadata": {},
   "outputs": [],
   "source": [
    "X_train=goodr_dataset.X_train.values\n",
    "X_val=goodr_dataset.X_val.values\n",
    "X_test=goodr_dataset.X_test.values"
   ]
  },
  {
   "cell_type": "code",
   "execution_count": 13,
   "metadata": {},
   "outputs": [],
   "source": [
    "y_train=goodr_dataset.y_train\n",
    "y_val=goodr_dataset.y_val\n",
    "y_test=goodr_dataset.y_test"
   ]
  },
  {
   "cell_type": "code",
   "execution_count": 14,
   "metadata": {},
   "outputs": [],
   "source": [
    "column_names=list(goodr_dataset.inference_col_names)"
   ]
  },
  {
   "cell_type": "markdown",
   "metadata": {},
   "source": [
    "## Naive Bayes'"
   ]
  },
  {
   "cell_type": "markdown",
   "metadata": {},
   "source": [
    "Bag  of  words  representation  makes  the  assumption  that  simple  counts  of  number  of  words  in  adocument could represent the meaning of the document.  It assumes the order of words does notmatter.According to Bays rule if we know the probability of words in a document given the class(The likelihood) and we know the general probability of a the class(known as the prior) we cancompute the probability of the class given the words in the document.There are no hyperparameters to tune in this case."
   ]
  },
  {
   "cell_type": "markdown",
   "metadata": {},
   "source": [
    "Using only bag of words features"
   ]
  },
  {
   "cell_type": "code",
   "execution_count": 15,
   "metadata": {},
   "outputs": [],
   "source": [
    "bow_text_columns_index=[column_names.index(x) for x in column_names if (x.startswith('bow'))]"
   ]
  },
  {
   "cell_type": "code",
   "execution_count": 16,
   "metadata": {
    "pycharm": {
     "name": "#%%\n"
    }
   },
   "outputs": [],
   "source": [
    "full_generes=conf[\"preprocessed\"][\"full_genres_col\"]\n",
    "\n",
    "multi_nb = MultinomialNB()\n",
    "start_time = time.time()\n",
    "multi_nb.fit(X_train[:,bow_text_columns_index], y_train)\n",
    "end_time = time.time()\n",
    "y_val_predicted = multi_nb.predict(X_val[:,bow_text_columns_index])"
   ]
  },
  {
   "cell_type": "markdown",
   "metadata": {},
   "source": [
    "We can see results are only very slightly better than Baseline"
   ]
  },
  {
   "cell_type": "code",
   "execution_count": 17,
   "metadata": {},
   "outputs": [],
   "source": [
    "accuracy=accuracy_score(y_val, y_val_predicted)\n",
    "f1_weighted=f1_score(y_val, y_val_predicted, average='weighted')"
   ]
  },
  {
   "cell_type": "code",
   "execution_count": 18,
   "metadata": {},
   "outputs": [],
   "source": [
    "score_dictionary['model'].append(\"Naive bayes'\")\n",
    "score_dictionary['accuracy'].append(accuracy)\n",
    "score_dictionary['F1-weighted'].append(f1_weighted)"
   ]
  },
  {
   "cell_type": "code",
   "execution_count": 19,
   "metadata": {},
   "outputs": [
    {
     "data": {
      "text/html": [
       "<div>\n",
       "<style scoped>\n",
       "    .dataframe tbody tr th:only-of-type {\n",
       "        vertical-align: middle;\n",
       "    }\n",
       "\n",
       "    .dataframe tbody tr th {\n",
       "        vertical-align: top;\n",
       "    }\n",
       "\n",
       "    .dataframe thead th {\n",
       "        text-align: right;\n",
       "    }\n",
       "</style>\n",
       "<table border=\"1\" class=\"dataframe\">\n",
       "  <thead>\n",
       "    <tr style=\"text-align: right;\">\n",
       "      <th></th>\n",
       "      <th>model</th>\n",
       "      <th>accuracy</th>\n",
       "      <th>F1-weighted</th>\n",
       "    </tr>\n",
       "  </thead>\n",
       "  <tbody>\n",
       "    <tr>\n",
       "      <th>0</th>\n",
       "      <td>Baseline</td>\n",
       "      <td>0.524796</td>\n",
       "      <td>0.528185</td>\n",
       "    </tr>\n",
       "    <tr>\n",
       "      <th>1</th>\n",
       "      <td>Naive bayes'</td>\n",
       "      <td>0.554113</td>\n",
       "      <td>0.551830</td>\n",
       "    </tr>\n",
       "  </tbody>\n",
       "</table>\n",
       "</div>"
      ],
      "text/plain": [
       "          model  accuracy  F1-weighted\n",
       "0      Baseline  0.524796     0.528185\n",
       "1  Naive bayes'  0.554113     0.551830"
      ]
     },
     "execution_count": 19,
     "metadata": {},
     "output_type": "execute_result"
    }
   ],
   "source": [
    "df_scores= pd.DataFrame.from_dict(score_dictionary)\n",
    "df_scores.head()"
   ]
  },
  {
   "cell_type": "code",
   "execution_count": 20,
   "metadata": {},
   "outputs": [
    {
     "name": "stdout",
     "output_type": "stream",
     "text": [
      "                                        precision    recall  f1-score   support\n",
      "\n",
      "                                poetry       0.50      0.62      0.55       457\n",
      "                              children       0.47      0.48      0.47       782\n",
      "                   fantasy, paranormal       0.62      0.55      0.58      2640\n",
      "history, historical fiction, biography       0.52      0.51      0.51      1920\n",
      "                       comics, graphic       0.49      0.58      0.53      1036\n",
      "                           non-fiction       0.61      0.62      0.62      1543\n",
      "              mystery, thriller, crime       0.68      0.60      0.64      1962\n",
      "                           young-adult       0.35      0.41      0.37       693\n",
      "                               romance       0.60      0.69      0.64      2014\n",
      "                               fiction       0.22      0.15      0.18       665\n",
      "\n",
      "                              accuracy                           0.55     13712\n",
      "                             macro avg       0.51      0.52      0.51     13712\n",
      "                          weighted avg       0.55      0.55      0.55     13712\n",
      "\n"
     ]
    }
   ],
   "source": [
    "print(classification_report(goodr_dataset.y_val, y_val_predicted, labels=conf[\"preprocessed\"][\"full_genres_col\"]))\n"
   ]
  },
  {
   "cell_type": "markdown",
   "metadata": {},
   "source": [
    "## Logistic regression"
   ]
  },
  {
   "cell_type": "markdown",
   "metadata": {},
   "source": [
    "Logistic regression is a classification model which is based on the sigmoid of the linear combination of the features. For this model we will not use our bag of word features. For text features we will use tf-idf normlization."
   ]
  },
  {
   "cell_type": "code",
   "execution_count": 21,
   "metadata": {},
   "outputs": [],
   "source": [
    "#we will not use bow columns, we prefer to use tfidf normalization columns\n",
    "column_names_withoutbow=[x for x in column_names if not (x.startswith('bow'))]"
   ]
  },
  {
   "cell_type": "code",
   "execution_count": 22,
   "metadata": {},
   "outputs": [],
   "source": [
    "#we will stack train and validation dataset since instead we will use cross validation and grid search.\n",
    "X_train=goodr_dataset.X_train[column_names_withoutbow].values\n",
    "X_val = goodr_dataset.X_val[column_names_withoutbow].values"
   ]
  },
  {
   "cell_type": "markdown",
   "metadata": {},
   "source": [
    "We will search for the best regularization C hyperparameters. C is the inverse of the regularization strength(higher means less regularization).\n",
    "Since we have multiple classes we will use ‘multinomial’option which uses the cross enthropy loss as the loss function."
   ]
  },
  {
   "cell_type": "code",
   "execution_count": 23,
   "metadata": {},
   "outputs": [
    {
     "name": "stdout",
     "output_type": "stream",
     "text": [
      "Different C values we will check are: [0.1, 1.0, 10.0, 100.0]\n"
     ]
    }
   ],
   "source": [
    "C=conf[\"hyperparams\"][\"logistic_regre_params\"][\"C\"]\n",
    "\n",
    "print(f\"Different C values we will check are: {C}\")"
   ]
  },
  {
   "cell_type": "code",
   "execution_count": 24,
   "metadata": {},
   "outputs": [],
   "source": [
    "log_r_scores={'C':[], 'accuracy':[], 'f1-weighted':[]}"
   ]
  },
  {
   "cell_type": "code",
   "execution_count": 25,
   "metadata": {},
   "outputs": [],
   "source": [
    "import time\n",
    "best_f1_log_r=math.inf\n",
    "best_log_r_model=None\n",
    "#Look for the best params. C is the inverse of the regularization strength(higher mean less regularization)\n",
    "for c in C:\n",
    "    log_r=LogisticRegression(multi_class=\"multinomial\", C=c, solver=\"sag\" ,max_iter=500, n_jobs=-1,random_state=SEED)\n",
    "    log_r.fit(X_train, y_train)\n",
    "    y_val_predicted = log_r.predict(X_val)\n",
    "    accuracy=accuracy_score(y_val, y_val_predicted)\n",
    "    f1_weighted=f1_score(y_val, y_val_predicted, average='weighted')\n",
    "    log_r_scores['C'].append(c)\n",
    "    log_r_scores['accuracy'].append(accuracy)\n",
    "    log_r_scores['f1-weighted'].append(f1_weighted)\n",
    "    if f1_weighted<best_f1_log_r:\n",
    "            best_f1_log_r=f1_weighted\n",
    "            best_log_r_model=log_r"
   ]
  },
  {
   "cell_type": "code",
   "execution_count": 26,
   "metadata": {},
   "outputs": [
    {
     "data": {
      "text/html": [
       "<div>\n",
       "<style scoped>\n",
       "    .dataframe tbody tr th:only-of-type {\n",
       "        vertical-align: middle;\n",
       "    }\n",
       "\n",
       "    .dataframe tbody tr th {\n",
       "        vertical-align: top;\n",
       "    }\n",
       "\n",
       "    .dataframe thead th {\n",
       "        text-align: right;\n",
       "    }\n",
       "</style>\n",
       "<table border=\"1\" class=\"dataframe\">\n",
       "  <thead>\n",
       "    <tr style=\"text-align: right;\">\n",
       "      <th></th>\n",
       "      <th>C</th>\n",
       "      <th>accuracy</th>\n",
       "      <th>f1-weighted</th>\n",
       "    </tr>\n",
       "  </thead>\n",
       "  <tbody>\n",
       "    <tr>\n",
       "      <th>0</th>\n",
       "      <td>0.1</td>\n",
       "      <td>0.616759</td>\n",
       "      <td>0.607089</td>\n",
       "    </tr>\n",
       "    <tr>\n",
       "      <th>1</th>\n",
       "      <td>1.0</td>\n",
       "      <td>0.619384</td>\n",
       "      <td>0.613350</td>\n",
       "    </tr>\n",
       "    <tr>\n",
       "      <th>2</th>\n",
       "      <td>10.0</td>\n",
       "      <td>0.618363</td>\n",
       "      <td>0.612456</td>\n",
       "    </tr>\n",
       "    <tr>\n",
       "      <th>3</th>\n",
       "      <td>100.0</td>\n",
       "      <td>0.617561</td>\n",
       "      <td>0.611735</td>\n",
       "    </tr>\n",
       "  </tbody>\n",
       "</table>\n",
       "</div>"
      ],
      "text/plain": [
       "       C  accuracy  f1-weighted\n",
       "0    0.1  0.616759     0.607089\n",
       "1    1.0  0.619384     0.613350\n",
       "2   10.0  0.618363     0.612456\n",
       "3  100.0  0.617561     0.611735"
      ]
     },
     "execution_count": 26,
     "metadata": {},
     "output_type": "execute_result"
    }
   ],
   "source": [
    "df_log_r_scores= pd.DataFrame.from_dict(log_r_scores)\n",
    "df_log_r_scores.head()"
   ]
  },
  {
   "cell_type": "code",
   "execution_count": 27,
   "metadata": {},
   "outputs": [],
   "source": [
    "accuracy=df_log_r_scores.loc[df_log_r_scores[\"f1-weighted\"].idxmax(), [\"accuracy\"]].values[0]\n",
    "f1_weighted=df_log_r_scores.loc[df_log_r_scores[\"f1-weighted\"].idxmax(), [\"f1-weighted\"]].values[0]"
   ]
  },
  {
   "cell_type": "code",
   "execution_count": 28,
   "metadata": {},
   "outputs": [],
   "source": [
    "score_dictionary['model'].append(\"Logistic regression\")\n",
    "score_dictionary['accuracy'].append(accuracy)\n",
    "score_dictionary['F1-weighted'].append(f1_weighted)"
   ]
  },
  {
   "cell_type": "code",
   "execution_count": 29,
   "metadata": {},
   "outputs": [
    {
     "data": {
      "text/html": [
       "<div>\n",
       "<style scoped>\n",
       "    .dataframe tbody tr th:only-of-type {\n",
       "        vertical-align: middle;\n",
       "    }\n",
       "\n",
       "    .dataframe tbody tr th {\n",
       "        vertical-align: top;\n",
       "    }\n",
       "\n",
       "    .dataframe thead th {\n",
       "        text-align: right;\n",
       "    }\n",
       "</style>\n",
       "<table border=\"1\" class=\"dataframe\">\n",
       "  <thead>\n",
       "    <tr style=\"text-align: right;\">\n",
       "      <th></th>\n",
       "      <th>model</th>\n",
       "      <th>accuracy</th>\n",
       "      <th>F1-weighted</th>\n",
       "    </tr>\n",
       "  </thead>\n",
       "  <tbody>\n",
       "    <tr>\n",
       "      <th>0</th>\n",
       "      <td>Baseline</td>\n",
       "      <td>0.524796</td>\n",
       "      <td>0.528185</td>\n",
       "    </tr>\n",
       "    <tr>\n",
       "      <th>1</th>\n",
       "      <td>Naive bayes'</td>\n",
       "      <td>0.554113</td>\n",
       "      <td>0.551830</td>\n",
       "    </tr>\n",
       "    <tr>\n",
       "      <th>2</th>\n",
       "      <td>Logistic regression</td>\n",
       "      <td>0.619384</td>\n",
       "      <td>0.613350</td>\n",
       "    </tr>\n",
       "  </tbody>\n",
       "</table>\n",
       "</div>"
      ],
      "text/plain": [
       "                 model  accuracy  F1-weighted\n",
       "0             Baseline  0.524796     0.528185\n",
       "1         Naive bayes'  0.554113     0.551830\n",
       "2  Logistic regression  0.619384     0.613350"
      ]
     },
     "execution_count": 29,
     "metadata": {},
     "output_type": "execute_result"
    }
   ],
   "source": [
    "df_scores= pd.DataFrame.from_dict(score_dictionary)\n",
    "df_scores.head()"
   ]
  },
  {
   "cell_type": "code",
   "execution_count": 30,
   "metadata": {},
   "outputs": [
    {
     "name": "stdout",
     "output_type": "stream",
     "text": [
      "                                        precision    recall  f1-score   support\n",
      "\n",
      "                                poetry       0.83      0.58      0.69       457\n",
      "                              children       0.58      0.57      0.58       782\n",
      "                   fantasy, paranormal       0.63      0.70      0.66      2640\n",
      "history, historical fiction, biography       0.52      0.56      0.54      1920\n",
      "                       comics, graphic       0.77      0.69      0.73      1036\n",
      "                           non-fiction       0.60      0.71      0.65      1543\n",
      "              mystery, thriller, crime       0.68      0.66      0.67      1962\n",
      "                           young-adult       0.47      0.25      0.33       693\n",
      "                               romance       0.63      0.72      0.67      2014\n",
      "                               fiction       0.34      0.14      0.20       665\n",
      "\n",
      "                              accuracy                           0.62     13712\n",
      "                             macro avg       0.61      0.56      0.57     13712\n",
      "                          weighted avg       0.61      0.62      0.61     13712\n",
      "\n"
     ]
    }
   ],
   "source": [
    "y_val_predicted = best_log_r_model.predict(X_val)\n",
    "print(classification_report(y_val, y_val_predicted, labels=conf[\"preprocessed\"][\"full_genres_col\"]))\n"
   ]
  },
  {
   "cell_type": "code",
   "execution_count": null,
   "metadata": {},
   "outputs": [],
   "source": []
  },
  {
   "cell_type": "markdown",
   "metadata": {},
   "source": [
    "## Random Forest"
   ]
  },
  {
   "cell_type": "markdown",
   "metadata": {},
   "source": [
    "Random forest is an an ensemble of decision trees. A decision tree is a simple algorithm which systematically splits that data to different branches according to condition on its features.At each step a split decision is made so that to minimise the class entropy in the resulting branches. A random forest uses a bagging technique-the idea is that it produces multiple trees .Each tree is built using only a subset of the data and features(the sampling method is known as bootstrapping). After all trees are built, a prediction is made by averaging the result of all trees probabilities and the class with the highest probability is picked."
   ]
  },
  {
   "cell_type": "markdown",
   "metadata": {},
   "source": [
    "We will test different hyperparameters for number of trees (300, 500) and for the number of minimun samples per leaf(5,10).\n",
    "According to sickit learn documentation the number of featurs in each tree will be sqrt(n_features)."
   ]
  },
  {
   "cell_type": "code",
   "execution_count": 31,
   "metadata": {},
   "outputs": [
    {
     "name": "stdout",
     "output_type": "stream",
     "text": [
      "Different number of trees will be: [300, 500]\n",
      "Different min samples per leaf will be: [5, 10]\n"
     ]
    }
   ],
   "source": [
    "n_estimators=conf[\"hyperparams\"][\"random_forest_params\"][\"n_estimators\"]\n",
    "min_samples_leaf= conf[\"hyperparams\"][\"random_forest_params\"][\"min_samples_leaf\"]\n",
    "\n",
    "\n",
    "print(f\"Different number of trees will be: {n_estimators}\")\n",
    "print(f\"Different min samples per leaf will be: {min_samples_leaf}\")"
   ]
  },
  {
   "cell_type": "code",
   "execution_count": 32,
   "metadata": {},
   "outputs": [],
   "source": [
    "random_f_scores={'number estimators':[], 'min samples leaf':[], 'accuracy':[], 'f1-weighted':[]}"
   ]
  },
  {
   "cell_type": "code",
   "execution_count": 33,
   "metadata": {
    "pycharm": {
     "name": "#%%\n"
    },
    "scrolled": false
   },
   "outputs": [],
   "source": [
    "best_rfc_model=None\n",
    "best_f1_rfc=math.inf\n",
    "#Look for the best params. C is the inverse of the regularization strength(higher mean less regularization)\n",
    "for estimator in n_estimators:\n",
    "    for min_leaf in min_samples_leaf:\n",
    "        rfc= RandomForestClassifier(n_jobs=-1, n_estimators=estimator, min_samples_leaf=min_leaf, random_state=SEED)\n",
    "        rfc.fit(X_train, y_train)\n",
    "        y_val_predicted = rfc.predict(X_val)\n",
    "        accuracy=accuracy_score(y_val, y_val_predicted)\n",
    "        f1_weighted=f1_score(y_val, y_val_predicted, average='weighted')\n",
    "        random_f_scores['number estimators'].append(estimator)\n",
    "        random_f_scores['min samples leaf'].append(min_leaf)\n",
    "        random_f_scores['accuracy'].append(accuracy)\n",
    "        random_f_scores['f1-weighted'].append(f1_weighted)\n",
    "        if f1_weighted<best_f1_rfc:\n",
    "            best_f1_rfc=f1_weighted\n",
    "            best_rfc_model=rfc"
   ]
  },
  {
   "cell_type": "code",
   "execution_count": 34,
   "metadata": {},
   "outputs": [],
   "source": [
    "\n",
    "df_random_f_scores= pd.DataFrame.from_dict(random_f_scores)"
   ]
  },
  {
   "cell_type": "code",
   "execution_count": 35,
   "metadata": {},
   "outputs": [
    {
     "data": {
      "text/html": [
       "<div>\n",
       "<style scoped>\n",
       "    .dataframe tbody tr th:only-of-type {\n",
       "        vertical-align: middle;\n",
       "    }\n",
       "\n",
       "    .dataframe tbody tr th {\n",
       "        vertical-align: top;\n",
       "    }\n",
       "\n",
       "    .dataframe thead th {\n",
       "        text-align: right;\n",
       "    }\n",
       "</style>\n",
       "<table border=\"1\" class=\"dataframe\">\n",
       "  <thead>\n",
       "    <tr style=\"text-align: right;\">\n",
       "      <th></th>\n",
       "      <th>number estimators</th>\n",
       "      <th>min samples leaf</th>\n",
       "      <th>accuracy</th>\n",
       "      <th>f1-weighted</th>\n",
       "    </tr>\n",
       "  </thead>\n",
       "  <tbody>\n",
       "    <tr>\n",
       "      <th>0</th>\n",
       "      <td>300</td>\n",
       "      <td>5</td>\n",
       "      <td>0.596339</td>\n",
       "      <td>0.572950</td>\n",
       "    </tr>\n",
       "    <tr>\n",
       "      <th>1</th>\n",
       "      <td>300</td>\n",
       "      <td>10</td>\n",
       "      <td>0.581753</td>\n",
       "      <td>0.556274</td>\n",
       "    </tr>\n",
       "    <tr>\n",
       "      <th>2</th>\n",
       "      <td>500</td>\n",
       "      <td>5</td>\n",
       "      <td>0.595974</td>\n",
       "      <td>0.572555</td>\n",
       "    </tr>\n",
       "    <tr>\n",
       "      <th>3</th>\n",
       "      <td>500</td>\n",
       "      <td>10</td>\n",
       "      <td>0.581680</td>\n",
       "      <td>0.556169</td>\n",
       "    </tr>\n",
       "  </tbody>\n",
       "</table>\n",
       "</div>"
      ],
      "text/plain": [
       "   number estimators  min samples leaf  accuracy  f1-weighted\n",
       "0                300                 5  0.596339     0.572950\n",
       "1                300                10  0.581753     0.556274\n",
       "2                500                 5  0.595974     0.572555\n",
       "3                500                10  0.581680     0.556169"
      ]
     },
     "execution_count": 35,
     "metadata": {},
     "output_type": "execute_result"
    }
   ],
   "source": [
    "df_random_f_scores"
   ]
  },
  {
   "cell_type": "code",
   "execution_count": 36,
   "metadata": {},
   "outputs": [],
   "source": [
    "accuracy=df_random_f_scores.loc[df_random_f_scores[\"f1-weighted\"].idxmax(), [\"accuracy\"]].values[0]\n",
    "f1_weighted=df_random_f_scores.loc[df_random_f_scores[\"f1-weighted\"].idxmax(), [\"f1-weighted\"]].values[0]"
   ]
  },
  {
   "cell_type": "code",
   "execution_count": 37,
   "metadata": {},
   "outputs": [],
   "source": [
    "score_dictionary['model'].append(\"Random forest\")\n",
    "score_dictionary['accuracy'].append(accuracy)\n",
    "score_dictionary['F1-weighted'].append(f1_weighted)"
   ]
  },
  {
   "cell_type": "code",
   "execution_count": 38,
   "metadata": {},
   "outputs": [
    {
     "data": {
      "text/html": [
       "<div>\n",
       "<style scoped>\n",
       "    .dataframe tbody tr th:only-of-type {\n",
       "        vertical-align: middle;\n",
       "    }\n",
       "\n",
       "    .dataframe tbody tr th {\n",
       "        vertical-align: top;\n",
       "    }\n",
       "\n",
       "    .dataframe thead th {\n",
       "        text-align: right;\n",
       "    }\n",
       "</style>\n",
       "<table border=\"1\" class=\"dataframe\">\n",
       "  <thead>\n",
       "    <tr style=\"text-align: right;\">\n",
       "      <th></th>\n",
       "      <th>model</th>\n",
       "      <th>accuracy</th>\n",
       "      <th>F1-weighted</th>\n",
       "    </tr>\n",
       "  </thead>\n",
       "  <tbody>\n",
       "    <tr>\n",
       "      <th>0</th>\n",
       "      <td>Baseline</td>\n",
       "      <td>0.524796</td>\n",
       "      <td>0.528185</td>\n",
       "    </tr>\n",
       "    <tr>\n",
       "      <th>1</th>\n",
       "      <td>Naive bayes'</td>\n",
       "      <td>0.554113</td>\n",
       "      <td>0.551830</td>\n",
       "    </tr>\n",
       "    <tr>\n",
       "      <th>2</th>\n",
       "      <td>Logistic regression</td>\n",
       "      <td>0.619384</td>\n",
       "      <td>0.613350</td>\n",
       "    </tr>\n",
       "    <tr>\n",
       "      <th>3</th>\n",
       "      <td>Random forest</td>\n",
       "      <td>0.596339</td>\n",
       "      <td>0.572950</td>\n",
       "    </tr>\n",
       "  </tbody>\n",
       "</table>\n",
       "</div>"
      ],
      "text/plain": [
       "                 model  accuracy  F1-weighted\n",
       "0             Baseline  0.524796     0.528185\n",
       "1         Naive bayes'  0.554113     0.551830\n",
       "2  Logistic regression  0.619384     0.613350\n",
       "3        Random forest  0.596339     0.572950"
      ]
     },
     "execution_count": 38,
     "metadata": {},
     "output_type": "execute_result"
    }
   ],
   "source": [
    "df_scores= pd.DataFrame.from_dict(score_dictionary)\n",
    "df_scores.head()"
   ]
  },
  {
   "cell_type": "markdown",
   "metadata": {},
   "source": [
    "The best parameters for random forest were trees=300 and min leaf samples=5,With Random forest we can see that the best model was achieved with deeper trees(small leaf samples) and smaller number of trees.  Although usually deeper trees increase overfitting in this case it was the best validation result. Less number of trees increased accuracy (It might be that the less trees decreased overfitting and increased generalization), but overall Random forest result was poor.Logitic regression was superior than both Random forest and Naive bay’s.Since logistic regression can be seen as a small version of neural network, this was promising."
   ]
  },
  {
   "cell_type": "markdown",
   "metadata": {},
   "source": [
    "A great feature of decision trees is that they are easily explianable. The random forest estimator enables us to extract the learned feature importance . We will look at the 20 most important features"
   ]
  },
  {
   "cell_type": "code",
   "execution_count": 39,
   "metadata": {},
   "outputs": [],
   "source": [
    "most_important_20=pd.DataFrame({'features':column_names_withoutbow, 'importance':best_rfc_model.feature_importances_}\n",
    "                       ).sort_values('importance', ascending=False)[:20]"
   ]
  },
  {
   "cell_type": "code",
   "execution_count": 40,
   "metadata": {},
   "outputs": [
    {
     "data": {
      "text/html": [
       "<div>\n",
       "<style scoped>\n",
       "    .dataframe tbody tr th:only-of-type {\n",
       "        vertical-align: middle;\n",
       "    }\n",
       "\n",
       "    .dataframe tbody tr th {\n",
       "        vertical-align: top;\n",
       "    }\n",
       "\n",
       "    .dataframe thead th {\n",
       "        text-align: right;\n",
       "    }\n",
       "</style>\n",
       "<table border=\"1\" class=\"dataframe\">\n",
       "  <thead>\n",
       "    <tr style=\"text-align: right;\">\n",
       "      <th></th>\n",
       "      <th>features</th>\n",
       "      <th>importance</th>\n",
       "    </tr>\n",
       "  </thead>\n",
       "  <tbody>\n",
       "    <tr>\n",
       "      <th>0</th>\n",
       "      <td>num_pages</td>\n",
       "      <td>0.072118</td>\n",
       "    </tr>\n",
       "    <tr>\n",
       "      <th>3</th>\n",
       "      <td>series</td>\n",
       "      <td>0.049141</td>\n",
       "    </tr>\n",
       "    <tr>\n",
       "      <th>975</th>\n",
       "      <td>tfidf_title_vol</td>\n",
       "      <td>0.034484</td>\n",
       "    </tr>\n",
       "    <tr>\n",
       "      <th>10</th>\n",
       "      <td>authors_ratings_count</td>\n",
       "      <td>0.027870</td>\n",
       "    </tr>\n",
       "    <tr>\n",
       "      <th>287</th>\n",
       "      <td>tfidf_desc_love</td>\n",
       "      <td>0.025680</td>\n",
       "    </tr>\n",
       "    <tr>\n",
       "      <th>349</th>\n",
       "      <td>tfidf_desc_poems</td>\n",
       "      <td>0.022034</td>\n",
       "    </tr>\n",
       "    <tr>\n",
       "      <th>315</th>\n",
       "      <td>tfidf_desc_murder</td>\n",
       "      <td>0.021935</td>\n",
       "    </tr>\n",
       "    <tr>\n",
       "      <th>1</th>\n",
       "      <td>publication_year</td>\n",
       "      <td>0.018982</td>\n",
       "    </tr>\n",
       "    <tr>\n",
       "      <th>976</th>\n",
       "      <td>tfidf_title_volume</td>\n",
       "      <td>0.017430</td>\n",
       "    </tr>\n",
       "    <tr>\n",
       "      <th>350</th>\n",
       "      <td>tfidf_desc_poetry</td>\n",
       "      <td>0.016442</td>\n",
       "    </tr>\n",
       "    <tr>\n",
       "      <th>46</th>\n",
       "      <td>tfidf_desc_book</td>\n",
       "      <td>0.016424</td>\n",
       "    </tr>\n",
       "    <tr>\n",
       "      <th>244</th>\n",
       "      <td>tfidf_desc_killer</td>\n",
       "      <td>0.015763</td>\n",
       "    </tr>\n",
       "    <tr>\n",
       "      <th>290</th>\n",
       "      <td>tfidf_desc_magic</td>\n",
       "      <td>0.015000</td>\n",
       "    </tr>\n",
       "    <tr>\n",
       "      <th>485</th>\n",
       "      <td>tfidf_desc_war</td>\n",
       "      <td>0.014756</td>\n",
       "    </tr>\n",
       "    <tr>\n",
       "      <th>111</th>\n",
       "      <td>tfidf_desc_detective</td>\n",
       "      <td>0.014622</td>\n",
       "    </tr>\n",
       "    <tr>\n",
       "      <th>11</th>\n",
       "      <td>author_average_rating</td>\n",
       "      <td>0.014044</td>\n",
       "    </tr>\n",
       "    <tr>\n",
       "      <th>152</th>\n",
       "      <td>tfidf_desc_fantasy</td>\n",
       "      <td>0.011044</td>\n",
       "    </tr>\n",
       "    <tr>\n",
       "      <th>454</th>\n",
       "      <td>tfidf_desc_thriller</td>\n",
       "      <td>0.011024</td>\n",
       "    </tr>\n",
       "    <tr>\n",
       "      <th>4</th>\n",
       "      <td>read_count</td>\n",
       "      <td>0.010523</td>\n",
       "    </tr>\n",
       "    <tr>\n",
       "      <th>5</th>\n",
       "      <td>text_reviews_count</td>\n",
       "      <td>0.010371</td>\n",
       "    </tr>\n",
       "  </tbody>\n",
       "</table>\n",
       "</div>"
      ],
      "text/plain": [
       "                  features  importance\n",
       "0                num_pages    0.072118\n",
       "3                   series    0.049141\n",
       "975        tfidf_title_vol    0.034484\n",
       "10   authors_ratings_count    0.027870\n",
       "287        tfidf_desc_love    0.025680\n",
       "349       tfidf_desc_poems    0.022034\n",
       "315      tfidf_desc_murder    0.021935\n",
       "1         publication_year    0.018982\n",
       "976     tfidf_title_volume    0.017430\n",
       "350      tfidf_desc_poetry    0.016442\n",
       "46         tfidf_desc_book    0.016424\n",
       "244      tfidf_desc_killer    0.015763\n",
       "290       tfidf_desc_magic    0.015000\n",
       "485         tfidf_desc_war    0.014756\n",
       "111   tfidf_desc_detective    0.014622\n",
       "11   author_average_rating    0.014044\n",
       "152     tfidf_desc_fantasy    0.011044\n",
       "454    tfidf_desc_thriller    0.011024\n",
       "4               read_count    0.010523\n",
       "5       text_reviews_count    0.010371"
      ]
     },
     "execution_count": 40,
     "metadata": {},
     "output_type": "execute_result"
    }
   ],
   "source": [
    "most_important_20"
   ]
  },
  {
   "cell_type": "markdown",
   "metadata": {},
   "source": [
    "\n",
    "Surprisingly number of pages and series indicator are the most important. Other word features such as \"love\",\"murder\", \"poems\", \"killer\", \"fantasy\", \"history\" are very are easily explained and it is apparent they can predict the genre."
   ]
  },
  {
   "cell_type": "markdown",
   "metadata": {},
   "source": [
    "## Convolutinal neural network\n",
    "Based on images of book covers. \n",
    "\n",
    "We will use two kinds of convolutions neural network. \n",
    "The first will use a method of transfer learning by using the well known, \"state of the art\" resent50 network. The resent network was created by He et al.(2015) .Its main feature is that it uses \"skip\" connection.The skip connection enables the network to skip going through certain layers.We  will  use  pretrained  weights  from  the  imagenet  dataset. Using  pretrained  weights  is  known ”transfer learning”, which is a method where instead of starting from random weights, we are using the learned weights from the same network on a ”similar” dataset. \n",
    "\n",
    "We will also implement our own covolutinial network structure solution."
   ]
  },
  {
   "cell_type": "markdown",
   "metadata": {},
   "source": [
    "Creating object for training different types of Convolutinal neural networks"
   ]
  },
  {
   "cell_type": "code",
   "execution_count": 41,
   "metadata": {},
   "outputs": [],
   "source": [
    "tf.random.set_seed(SEED)"
   ]
  },
  {
   "cell_type": "code",
   "execution_count": 42,
   "metadata": {},
   "outputs": [],
   "source": [
    "conv_gr=gr.ConvGoodReads(data_path, batch_size=conf[\"hyperparams\"][\"conv_params\"][\"batch_size\"],num_classes=conf[\"num_classes\"], image_size=conf[\"hyperparams\"][\"conv_params\"][\"image_size\"])"
   ]
  },
  {
   "cell_type": "markdown",
   "metadata": {},
   "source": [
    "We will test different learning rates, each of the learning rates will be tested on :"
   ]
  },
  {
   "cell_type": "code",
   "execution_count": 43,
   "metadata": {},
   "outputs": [],
   "source": [
    "learning_rate=conf[\"hyperparams\"][\"conv_params\"][\"learning_rate\"]"
   ]
  },
  {
   "cell_type": "code",
   "execution_count": 44,
   "metadata": {},
   "outputs": [
    {
     "name": "stdout",
     "output_type": "stream",
     "text": [
      "Different learning rate values we will check are: [0.001, 0.003]\n"
     ]
    }
   ],
   "source": [
    "print(f\"Different learning rate values we will check are: {learning_rate}\")"
   ]
  },
  {
   "cell_type": "markdown",
   "metadata": {},
   "source": [
    "### Resent50-transfer learning model"
   ]
  },
  {
   "cell_type": "code",
   "execution_count": 45,
   "metadata": {},
   "outputs": [],
   "source": [
    "top_config=conf[\"hyperparams\"][\"conv_params\"][\"transfer_learning\"][\"top_config\"]\n",
    "patience=conf[\"hyperparams\"][\"conv_params\"][\"patience\"]\n",
    "epochs=conf[\"hyperparams\"][\"conv_params\"][\"epochs\"]"
   ]
  },
  {
   "cell_type": "code",
   "execution_count": 46,
   "metadata": {},
   "outputs": [
    {
     "name": "stdout",
     "output_type": "stream",
     "text": [
      "Top dense configuration(after transfer learning model) will be: [256, 64] units\n",
      "Patience will be: 3\n",
      "Limit on number of epochs will be: 20\n"
     ]
    }
   ],
   "source": [
    "print(f\"Top dense configuration(after transfer learning model) will be: {top_config} units\")\n",
    "print(f\"Patience will be: {patience}\")\n",
    "print(f\"Limit on number of epochs will be: {epochs}\")"
   ]
  },
  {
   "cell_type": "markdown",
   "metadata": {},
   "source": [
    "Building the model"
   ]
  },
  {
   "cell_type": "code",
   "execution_count": 47,
   "metadata": {},
   "outputs": [
    {
     "name": "stdout",
     "output_type": "stream",
     "text": [
      "Model: \"functional_1\"\n",
      "_________________________________________________________________\n",
      "Layer (type)                 Output Shape              Param #   \n",
      "=================================================================\n",
      "input_1 (InputLayer)         [(None, 224, 224, 3)]     0         \n",
      "_________________________________________________________________\n",
      "tf_op_layer_strided_slice (T [(None, 224, 224, 3)]     0         \n",
      "_________________________________________________________________\n",
      "tf_op_layer_BiasAdd (TensorF [(None, 224, 224, 3)]     0         \n",
      "_________________________________________________________________\n",
      "resnet50 (Functional)        (None, 2048)              23587712  \n",
      "_________________________________________________________________\n",
      "flatten (Flatten)            (None, 2048)              0         \n",
      "_________________________________________________________________\n",
      "dense (Dense)                (None, 256)               524544    \n",
      "_________________________________________________________________\n",
      "dropout (Dropout)            (None, 256)               0         \n",
      "_________________________________________________________________\n",
      "batch_normalization (BatchNo (None, 256)               1024      \n",
      "_________________________________________________________________\n",
      "dense_1 (Dense)              (None, 64)                16448     \n",
      "_________________________________________________________________\n",
      "dense_2 (Dense)              (None, 10)                650       \n",
      "=================================================================\n",
      "Total params: 24,130,378\n",
      "Trainable params: 24,076,746\n",
      "Non-trainable params: 53,632\n",
      "_________________________________________________________________\n",
      "None\n"
     ]
    }
   ],
   "source": [
    "conv_gr.build_transfer_learning_model(top_config=top_config)\n",
    "print(conv_gr.transfer_learning_model.summary())"
   ]
  },
  {
   "cell_type": "markdown",
   "metadata": {},
   "source": [
    "Training the network"
   ]
  },
  {
   "cell_type": "code",
   "execution_count": 48,
   "metadata": {},
   "outputs": [],
   "source": [
    "len_train=len(X_train)\n",
    "len_val=len(X_val)"
   ]
  },
  {
   "cell_type": "code",
   "execution_count": 49,
   "metadata": {},
   "outputs": [
    {
     "name": "stdout",
     "output_type": "stream",
     "text": [
      "INFO:tensorflow:Using MirroredStrategy with devices ('/job:localhost/replica:0/task:0/device:GPU:0', '/job:localhost/replica:0/task:0/device:GPU:1')\n",
      "Number of devices: 2\n",
      "INFO:tensorflow:Reduce to /job:localhost/replica:0/task:0/device:CPU:0 then broadcast to ('/job:localhost/replica:0/task:0/device:CPU:0',).\n",
      "INFO:tensorflow:Reduce to /job:localhost/replica:0/task:0/device:CPU:0 then broadcast to ('/job:localhost/replica:0/task:0/device:CPU:0',).\n",
      "INFO:tensorflow:Reduce to /job:localhost/replica:0/task:0/device:CPU:0 then broadcast to ('/job:localhost/replica:0/task:0/device:CPU:0',).\n",
      "INFO:tensorflow:Reduce to /job:localhost/replica:0/task:0/device:CPU:0 then broadcast to ('/job:localhost/replica:0/task:0/device:CPU:0',).\n",
      "INFO:tensorflow:Reduce to /job:localhost/replica:0/task:0/device:CPU:0 then broadcast to ('/job:localhost/replica:0/task:0/device:CPU:0',).\n",
      "INFO:tensorflow:Reduce to /job:localhost/replica:0/task:0/device:CPU:0 then broadcast to ('/job:localhost/replica:0/task:0/device:CPU:0',).\n",
      "INFO:tensorflow:Reduce to /job:localhost/replica:0/task:0/device:CPU:0 then broadcast to ('/job:localhost/replica:0/task:0/device:CPU:0',).\n",
      "INFO:tensorflow:Reduce to /job:localhost/replica:0/task:0/device:CPU:0 then broadcast to ('/job:localhost/replica:0/task:0/device:CPU:0',).\n",
      "INFO:tensorflow:Reduce to /job:localhost/replica:0/task:0/device:CPU:0 then broadcast to ('/job:localhost/replica:0/task:0/device:CPU:0',).\n",
      "INFO:tensorflow:Reduce to /job:localhost/replica:0/task:0/device:CPU:0 then broadcast to ('/job:localhost/replica:0/task:0/device:CPU:0',).\n",
      "\n",
      "\n",
      "Start training resnet model. Learning rate:0.001\n",
      "Found 123399 images belonging to 10 classes.\n",
      "Found 13712 images belonging to 10 classes.\n",
      "Epoch 1/20\n",
      "WARNING:tensorflow:From /home/neuralx/anaconda3/envs/701project/lib/python3.8/site-packages/tensorflow/python/data/ops/multi_device_iterator_ops.py:601: get_next_as_optional (from tensorflow.python.data.ops.iterator_ops) is deprecated and will be removed in a future version.\n",
      "Instructions for updating:\n",
      "Use `tf.data.Iterator.get_next_as_optional()` instead.\n",
      "INFO:tensorflow:batch_all_reduce: 220 all-reduces with algorithm = nccl, num_packs = 1\n",
      "INFO:tensorflow:batch_all_reduce: 220 all-reduces with algorithm = nccl, num_packs = 1\n",
      "1929/1929 [==============================] - 340s 176ms/step - loss: 1.8978 - f1_score: 0.3109 - accuracy: 0.3352 - val_loss: 1.8639 - val_f1_score: 0.3236 - val_accuracy: 0.3554\n",
      "Epoch 2/20\n",
      "1929/1929 [==============================] - 343s 178ms/step - loss: 1.7584 - f1_score: 0.3622 - accuracy: 0.3892 - val_loss: 2.1117 - val_f1_score: 0.2291 - val_accuracy: 0.2763\n",
      "Epoch 3/20\n",
      "1929/1929 [==============================] - 343s 178ms/step - loss: 1.6835 - f1_score: 0.3881 - accuracy: 0.4154 - val_loss: 1.7035 - val_f1_score: 0.3910 - val_accuracy: 0.4089\n",
      "Epoch 4/20\n",
      "1929/1929 [==============================] - 343s 178ms/step - loss: 1.6463 - f1_score: 0.4032 - accuracy: 0.4301 - val_loss: 1.9943 - val_f1_score: 0.3042 - val_accuracy: 0.3210\n",
      "Epoch 5/20\n",
      "1929/1929 [==============================] - 346s 179ms/step - loss: 1.6074 - f1_score: 0.4165 - accuracy: 0.4426 - val_loss: 1.6636 - val_f1_score: 0.3967 - val_accuracy: 0.4239\n",
      "Epoch 6/20\n",
      "1929/1929 [==============================] - 343s 178ms/step - loss: 1.5599 - f1_score: 0.4363 - accuracy: 0.4614 - val_loss: 1.6318 - val_f1_score: 0.4069 - val_accuracy: 0.4331\n",
      "Epoch 7/20\n",
      "1929/1929 [==============================] - 343s 178ms/step - loss: 1.5106 - f1_score: 0.4553 - accuracy: 0.4795 - val_loss: 1.6386 - val_f1_score: 0.4260 - val_accuracy: 0.4431\n",
      "Epoch 8/20\n",
      "1929/1929 [==============================] - 343s 178ms/step - loss: 1.4400 - f1_score: 0.4807 - accuracy: 0.5041 - val_loss: 1.6150 - val_f1_score: 0.4322 - val_accuracy: 0.4573\n",
      "Epoch 9/20\n",
      "1929/1929 [==============================] - 346s 180ms/step - loss: 1.3573 - f1_score: 0.5130 - accuracy: 0.5340 - val_loss: 1.6308 - val_f1_score: 0.4359 - val_accuracy: 0.4484\n",
      "Epoch 10/20\n",
      "1929/1929 [==============================] - 349s 181ms/step - loss: 1.2357 - f1_score: 0.5574 - accuracy: 0.5758 - val_loss: 1.7848 - val_f1_score: 0.3929 - val_accuracy: 0.4145\n",
      "Epoch 11/20\n",
      "1929/1929 [==============================] - 350s 181ms/step - loss: 1.0924 - f1_score: 0.6115 - accuracy: 0.6273 - val_loss: 1.7566 - val_f1_score: 0.4236 - val_accuracy: 0.4368\n",
      "Epoch 12/20\n",
      "1929/1929 [==============================] - 349s 181ms/step - loss: 0.9271 - f1_score: 0.6723 - accuracy: 0.6849 - val_loss: 1.8380 - val_f1_score: 0.4186 - val_accuracy: 0.4234\n",
      "Found 13712 images belonging to 10 classes.\n",
      "215/215 [==============================] - 16s 75ms/step - loss: 1.8380 - f1_score: 0.4188 - accuracy: 0.4235\n",
      "*********************************************************\n",
      "Finished training resnet model. Learning rate:0.001, Accuracy:0.423, F1-weighted:0.419\n",
      "*********************************************************\n",
      "\n",
      "\n",
      "Start training resnet model. Learning rate:0.003\n",
      "Found 123399 images belonging to 10 classes.\n",
      "Found 13712 images belonging to 10 classes.\n",
      "Epoch 1/20\n",
      "INFO:tensorflow:batch_all_reduce: 220 all-reduces with algorithm = nccl, num_packs = 1\n",
      "INFO:tensorflow:batch_all_reduce: 220 all-reduces with algorithm = nccl, num_packs = 1\n",
      "1929/1929 [==============================] - 350s 181ms/step - loss: 2.1474 - f1_score: 0.1472 - accuracy: 0.2080 - val_loss: 2.1377 - val_f1_score: 0.1095 - val_accuracy: 0.2114\n",
      "Epoch 2/20\n",
      "1929/1929 [==============================] - 349s 181ms/step - loss: 2.1190 - f1_score: 0.1556 - accuracy: 0.2174 - val_loss: 21.9467 - val_f1_score: 0.1620 - val_accuracy: 0.2038\n",
      "Epoch 3/20\n",
      "1929/1929 [==============================] - 344s 178ms/step - loss: 2.0708 - f1_score: 0.2114 - accuracy: 0.2443 - val_loss: 15.9931 - val_f1_score: 0.2151 - val_accuracy: 0.2523\n",
      "Epoch 4/20\n",
      "1929/1929 [==============================] - 345s 179ms/step - loss: 2.0323 - f1_score: 0.2425 - accuracy: 0.2683 - val_loss: 2.0512 - val_f1_score: 0.2192 - val_accuracy: 0.2561\n",
      "Epoch 5/20\n",
      "1929/1929 [==============================] - 348s 180ms/step - loss: 1.9828 - f1_score: 0.2683 - accuracy: 0.2918 - val_loss: 2.1314 - val_f1_score: 0.2318 - val_accuracy: 0.2630\n",
      "Epoch 6/20\n",
      "1929/1929 [==============================] - 349s 181ms/step - loss: 1.9549 - f1_score: 0.2789 - accuracy: 0.3050 - val_loss: 2.2158 - val_f1_score: 0.1276 - val_accuracy: 0.2159\n",
      "Epoch 7/20\n",
      "1929/1929 [==============================] - 348s 180ms/step - loss: 1.9485 - f1_score: 0.2819 - accuracy: 0.3083 - val_loss: 2.0135 - val_f1_score: 0.2427 - val_accuracy: 0.2907\n",
      "Epoch 8/20\n",
      "1929/1929 [==============================] - 348s 180ms/step - loss: 1.8888 - f1_score: 0.3063 - accuracy: 0.3326 - val_loss: 1.8676 - val_f1_score: 0.3218 - val_accuracy: 0.3439\n",
      "Epoch 9/20\n",
      "1929/1929 [==============================] - 353s 183ms/step - loss: 1.8588 - f1_score: 0.3211 - accuracy: 0.3469 - val_loss: 1.8947 - val_f1_score: 0.3075 - val_accuracy: 0.3314\n",
      "Epoch 10/20\n",
      "1929/1929 [==============================] - 348s 181ms/step - loss: 1.8261 - f1_score: 0.3335 - accuracy: 0.3596 - val_loss: 2.9374 - val_f1_score: 0.3346 - val_accuracy: 0.3698\n",
      "Epoch 11/20\n",
      "1929/1929 [==============================] - 348s 181ms/step - loss: 1.8078 - f1_score: 0.3426 - accuracy: 0.3684 - val_loss: 1.8800 - val_f1_score: 0.3145 - val_accuracy: 0.3428\n",
      "Epoch 12/20\n",
      "1929/1929 [==============================] - 348s 180ms/step - loss: 1.7792 - f1_score: 0.3514 - accuracy: 0.3772 - val_loss: 2.5701 - val_f1_score: 0.3244 - val_accuracy: 0.3559\n",
      "Found 13712 images belonging to 10 classes.\n",
      "215/215 [==============================] - 16s 75ms/step - loss: 2.6154 - f1_score: 0.3242 - accuracy: 0.3559\n",
      "*********************************************************\n",
      "Finished training resnet model. Learning rate:0.003, Accuracy:0.356, F1-weighted:0.324\n",
      "*********************************************************\n"
     ]
    }
   ],
   "source": [
    "conv_resnet_scores={'learning rate':[], 'accuracy':[], 'f1-weighted':[]}\n",
    "best_resnet_model_history=None\n",
    "best_f1_resnet=math.inf\n",
    "\n",
    "#Search for the best learning rates.Each run trains the network and eveluates of the validation set.\n",
    "#Results are loaded to a dictionary.\n",
    "strategy = tf.distribute.MirroredStrategy()\n",
    "print ('Number of devices: {}'.format(strategy.num_replicas_in_sync))\n",
    "with strategy.scope():\n",
    "    for lr in learning_rate:\n",
    "        conv_gr.build_transfer_learning_model(top_config=top_config)\n",
    "        print(\"\\n\")\n",
    "        print(f\"Start training resnet model. Learning rate:{lr}\")\n",
    "        history=conv_gr.fit_transfer_learning_model(num_epochs=epochs, train_len=len_train,val_len=len_val, learning_rate=lr,patience=4)\n",
    "        conv_resnet_history=history.history.copy()\n",
    "        ts_scores_dict=conv_gr.evaluate('transfer_learning', data_path,\"images-val\")\n",
    "        conv_resnet_scores['learning rate'].append(lr)\n",
    "        conv_resnet_scores['accuracy'].append(ts_scores_dict[\"accuracy\"])\n",
    "        conv_resnet_scores['f1-weighted'].append(ts_scores_dict[\"f1_score\"])\n",
    "        accuracy=ts_scores_dict[\"accuracy\"]\n",
    "        f1_weighted=ts_scores_dict[\"f1_score\"]\n",
    "        print(\"*********************************************************\")\n",
    "        print(f\"Finished training resnet model. Learning rate:{lr}, Accuracy:{accuracy:.3f}, F1-weighted:{f1_weighted:.3f}\")\n",
    "        print(\"*********************************************************\")\n",
    "        if ts_scores_dict[\"f1_score\"]<best_f1_resnet:\n",
    "            best_f1_resnet=ts_scores_dict[\"f1_score\"]\n",
    "            best_resnet_model_history=conv_resnet_history"
   ]
  },
  {
   "cell_type": "code",
   "execution_count": 50,
   "metadata": {},
   "outputs": [
    {
     "data": {
      "text/html": [
       "<div>\n",
       "<style scoped>\n",
       "    .dataframe tbody tr th:only-of-type {\n",
       "        vertical-align: middle;\n",
       "    }\n",
       "\n",
       "    .dataframe tbody tr th {\n",
       "        vertical-align: top;\n",
       "    }\n",
       "\n",
       "    .dataframe thead th {\n",
       "        text-align: right;\n",
       "    }\n",
       "</style>\n",
       "<table border=\"1\" class=\"dataframe\">\n",
       "  <thead>\n",
       "    <tr style=\"text-align: right;\">\n",
       "      <th></th>\n",
       "      <th>learning rate</th>\n",
       "      <th>accuracy</th>\n",
       "      <th>f1-weighted</th>\n",
       "    </tr>\n",
       "  </thead>\n",
       "  <tbody>\n",
       "    <tr>\n",
       "      <th>0</th>\n",
       "      <td>0.001</td>\n",
       "      <td>0.423498</td>\n",
       "      <td>0.418773</td>\n",
       "    </tr>\n",
       "    <tr>\n",
       "      <th>1</th>\n",
       "      <td>0.003</td>\n",
       "      <td>0.355893</td>\n",
       "      <td>0.324224</td>\n",
       "    </tr>\n",
       "  </tbody>\n",
       "</table>\n",
       "</div>"
      ],
      "text/plain": [
       "   learning rate  accuracy  f1-weighted\n",
       "0          0.001  0.423498     0.418773\n",
       "1          0.003  0.355893     0.324224"
      ]
     },
     "execution_count": 50,
     "metadata": {},
     "output_type": "execute_result"
    }
   ],
   "source": [
    "df_conv_resnet_scores= pd.DataFrame.from_dict(conv_resnet_scores)\n",
    "df_conv_resnet_scores.head()"
   ]
  },
  {
   "cell_type": "code",
   "execution_count": 51,
   "metadata": {},
   "outputs": [
    {
     "data": {
      "image/png": "[encoded data removed]",
      "text/plain": [
       "<Figure size 432x360 with 1 Axes>"
      ]
     },
     "metadata": {
      "needs_background": "light"
     },
     "output_type": "display_data"
    }
   ],
   "source": [
    "gr.plot_history(best_resnet_model_history, 'Run history best resnet model')"
   ]
  },
  {
   "cell_type": "code",
   "execution_count": 52,
   "metadata": {},
   "outputs": [],
   "source": [
    "accuracy=df_conv_resnet_scores.loc[df_conv_resnet_scores[\"f1-weighted\"].idxmax(), [\"accuracy\"]].values[0]\n",
    "f1_weighted=df_conv_resnet_scores.loc[df_conv_resnet_scores[\"f1-weighted\"].idxmax(), [\"f1-weighted\"]].values[0]"
   ]
  },
  {
   "cell_type": "code",
   "execution_count": 53,
   "metadata": {},
   "outputs": [],
   "source": [
    "score_dictionary['model'].append(\"Resnet based conv model\")\n",
    "score_dictionary['accuracy'].append(accuracy)\n",
    "score_dictionary['F1-weighted'].append(f1_weighted)"
   ]
  },
  {
   "cell_type": "code",
   "execution_count": 54,
   "metadata": {},
   "outputs": [
    {
     "data": {
      "text/html": [
       "<div>\n",
       "<style scoped>\n",
       "    .dataframe tbody tr th:only-of-type {\n",
       "        vertical-align: middle;\n",
       "    }\n",
       "\n",
       "    .dataframe tbody tr th {\n",
       "        vertical-align: top;\n",
       "    }\n",
       "\n",
       "    .dataframe thead th {\n",
       "        text-align: right;\n",
       "    }\n",
       "</style>\n",
       "<table border=\"1\" class=\"dataframe\">\n",
       "  <thead>\n",
       "    <tr style=\"text-align: right;\">\n",
       "      <th></th>\n",
       "      <th>model</th>\n",
       "      <th>accuracy</th>\n",
       "      <th>F1-weighted</th>\n",
       "    </tr>\n",
       "  </thead>\n",
       "  <tbody>\n",
       "    <tr>\n",
       "      <th>0</th>\n",
       "      <td>Baseline</td>\n",
       "      <td>0.524796</td>\n",
       "      <td>0.528185</td>\n",
       "    </tr>\n",
       "    <tr>\n",
       "      <th>1</th>\n",
       "      <td>Naive bayes'</td>\n",
       "      <td>0.554113</td>\n",
       "      <td>0.551830</td>\n",
       "    </tr>\n",
       "    <tr>\n",
       "      <th>2</th>\n",
       "      <td>Logistic regression</td>\n",
       "      <td>0.619384</td>\n",
       "      <td>0.613350</td>\n",
       "    </tr>\n",
       "    <tr>\n",
       "      <th>3</th>\n",
       "      <td>Random forest</td>\n",
       "      <td>0.596339</td>\n",
       "      <td>0.572950</td>\n",
       "    </tr>\n",
       "    <tr>\n",
       "      <th>4</th>\n",
       "      <td>Resnet based conv model</td>\n",
       "      <td>0.423498</td>\n",
       "      <td>0.418773</td>\n",
       "    </tr>\n",
       "  </tbody>\n",
       "</table>\n",
       "</div>"
      ],
      "text/plain": [
       "                     model  accuracy  F1-weighted\n",
       "0                 Baseline  0.524796     0.528185\n",
       "1             Naive bayes'  0.554113     0.551830\n",
       "2      Logistic regression  0.619384     0.613350\n",
       "3            Random forest  0.596339     0.572950\n",
       "4  Resnet based conv model  0.423498     0.418773"
      ]
     },
     "execution_count": 54,
     "metadata": {},
     "output_type": "execute_result"
    }
   ],
   "source": [
    "df_scores= pd.DataFrame.from_dict(score_dictionary)\n",
    "df_scores.head()"
   ]
  },
  {
   "cell_type": "markdown",
   "metadata": {},
   "source": [
    "### Simple Convolutinal network"
   ]
  },
  {
   "cell_type": "markdown",
   "metadata": {},
   "source": [
    "We will also implement a simpler convolutinal model. It includes three convolutional layers with a kernel of 5 with relu activation. The number of filters of convolutional layers are of size 32,128,64 respectively. Each convolutional layer is followed by a max-pooling layer with pool size 2 and a batch-normalization layer.  After the convolutional layers there are two dense layers with relu activation of size 128 and 64 units.  With a output layer of 10 units (For 10 genres) with softmax activation."
   ]
  },
  {
   "cell_type": "markdown",
   "metadata": {},
   "source": [
    "We will search for the best learning rate to apply"
   ]
  },
  {
   "cell_type": "code",
   "execution_count": 55,
   "metadata": {},
   "outputs": [
    {
     "name": "stdout",
     "output_type": "stream",
     "text": [
      "Different learning rate values we will check are: [0.001, 0.003]\n",
      "Patience will be: 3\n",
      "Total limit on number of epochs will be: 20\n"
     ]
    }
   ],
   "source": [
    "learning_rate=conf[\"hyperparams\"][\"conv_params\"][\"learning_rate\"]\n",
    "print(f\"Different learning rate values we will check are: {learning_rate}\")\n",
    "print(f\"Patience will be: {patience}\")\n",
    "print(f\"Total limit on number of epochs will be: {epochs}\")"
   ]
  },
  {
   "cell_type": "markdown",
   "metadata": {},
   "source": [
    "The network configuration are the following: "
   ]
  },
  {
   "cell_type": "code",
   "execution_count": 56,
   "metadata": {},
   "outputs": [],
   "source": [
    "conv2d_config=conf[\"hyperparams\"][\"conv_params\"][\"simple_conv\"][\"conv_config\"]\n",
    "kernel_size=conf[\"hyperparams\"][\"conv_params\"][\"simple_conv\"][\"kernel\"]\n",
    "dense_config=conf[\"hyperparams\"][\"conv_params\"][\"simple_conv\"][\"dense_config\"]\n",
    "pool_size=conf[\"hyperparams\"][\"conv_params\"][\"simple_conv\"][\"pool\"]"
   ]
  },
  {
   "cell_type": "code",
   "execution_count": 57,
   "metadata": {},
   "outputs": [
    {
     "name": "stdout",
     "output_type": "stream",
     "text": [
      "Convolutional number of units for each layer are: : [32, 128, 64] units\n",
      "Kernel size will be: 5\n",
      "Pool size of max-pooling layers will be: 2\n",
      "Dense layers at the end will be of units: : [128, 64]\n"
     ]
    }
   ],
   "source": [
    "print(f\"Convolutional number of units for each layer are: : {conv2d_config} units\")\n",
    "print(f\"Kernel size will be: {kernel_size}\")\n",
    "print(f\"Pool size of max-pooling layers will be: {pool_size}\")\n",
    "print(f\"Dense layers at the end will be of units: : {dense_config}\")"
   ]
  },
  {
   "cell_type": "code",
   "execution_count": 58,
   "metadata": {},
   "outputs": [
    {
     "name": "stdout",
     "output_type": "stream",
     "text": [
      "Model: \"sequential\"\n",
      "_________________________________________________________________\n",
      "Layer (type)                 Output Shape              Param #   \n",
      "=================================================================\n",
      "conv2d (Conv2D)              (None, 224, 224, 32)      2432      \n",
      "_________________________________________________________________\n",
      "max_pooling2d (MaxPooling2D) (None, 112, 112, 32)      0         \n",
      "_________________________________________________________________\n",
      "batch_normalization_3 (Batch (None, 112, 112, 32)      128       \n",
      "_________________________________________________________________\n",
      "conv2d_1 (Conv2D)            (None, 112, 112, 128)     102528    \n",
      "_________________________________________________________________\n",
      "max_pooling2d_1 (MaxPooling2 (None, 56, 56, 128)       0         \n",
      "_________________________________________________________________\n",
      "batch_normalization_4 (Batch (None, 56, 56, 128)       512       \n",
      "_________________________________________________________________\n",
      "conv2d_2 (Conv2D)            (None, 56, 56, 64)        204864    \n",
      "_________________________________________________________________\n",
      "max_pooling2d_2 (MaxPooling2 (None, 28, 28, 64)        0         \n",
      "_________________________________________________________________\n",
      "batch_normalization_5 (Batch (None, 28, 28, 64)        256       \n",
      "_________________________________________________________________\n",
      "flatten_3 (Flatten)          (None, 50176)             0         \n",
      "_________________________________________________________________\n",
      "dense_9 (Dense)              (None, 128)               6422656   \n",
      "_________________________________________________________________\n",
      "dense_10 (Dense)             (None, 64)                8256      \n",
      "_________________________________________________________________\n",
      "dense_11 (Dense)             (None, 10)                650       \n",
      "=================================================================\n",
      "Total params: 6,742,282\n",
      "Trainable params: 6,741,834\n",
      "Non-trainable params: 448\n",
      "_________________________________________________________________\n",
      "None\n"
     ]
    }
   ],
   "source": [
    "conv_gr.build_model(conv2d_config=conv2d_config, kernel_size=kernel_size, dense_config=dense_config, pool_size=pool_size)\n",
    "print(conv_gr.model.summary())"
   ]
  },
  {
   "cell_type": "code",
   "execution_count": 59,
   "metadata": {},
   "outputs": [],
   "source": [
    "#Dictinary to store results\n",
    "simple_conv_scores={'learning rate':[], 'accuracy':[], 'f1-weighted':[]}"
   ]
  },
  {
   "cell_type": "code",
   "execution_count": 65,
   "metadata": {},
   "outputs": [
    {
     "name": "stdout",
     "output_type": "stream",
     "text": [
      "INFO:tensorflow:Using MirroredStrategy with devices ('/job:localhost/replica:0/task:0/device:GPU:0', '/job:localhost/replica:0/task:0/device:GPU:1')\n",
      "Number of devices: 2\n",
      "\n",
      "\n",
      "Start training simple convolutinal model. Learning rate:0.001\n",
      "Found 123399 images belonging to 10 classes.\n",
      "Found 13712 images belonging to 10 classes.\n",
      "0.001\n",
      "Epoch 1/20\n",
      "1929/1929 [==============================] - 167s 87ms/step - loss: 2.1331 - f1_score: 0.1945 - accuracy: 0.2337 - val_loss: 1.9824 - val_f1_score: 0.2185 - val_accuracy: 0.2818\n",
      "Epoch 2/20\n",
      "1929/1929 [==============================] - 166s 86ms/step - loss: 1.9551 - f1_score: 0.2387 - accuracy: 0.2924 - val_loss: 1.9584 - val_f1_score: 0.2377 - val_accuracy: 0.2883\n",
      "Epoch 3/20\n",
      "1929/1929 [==============================] - 166s 86ms/step - loss: 1.8403 - f1_score: 0.3132 - accuracy: 0.3508 - val_loss: 1.8992 - val_f1_score: 0.2864 - val_accuracy: 0.3322\n",
      "Epoch 4/20\n",
      "1929/1929 [==============================] - 166s 86ms/step - loss: 1.7049 - f1_score: 0.3683 - accuracy: 0.4050 - val_loss: 1.8518 - val_f1_score: 0.3262 - val_accuracy: 0.3536\n",
      "Epoch 5/20\n",
      "1929/1929 [==============================] - 167s 86ms/step - loss: 1.4971 - f1_score: 0.4462 - accuracy: 0.4799 - val_loss: 1.9358 - val_f1_score: 0.3381 - val_accuracy: 0.3706\n",
      "Epoch 6/20\n",
      "1929/1929 [==============================] - 167s 86ms/step - loss: 1.2328 - f1_score: 0.5422 - accuracy: 0.5733 - val_loss: 2.1096 - val_f1_score: 0.3324 - val_accuracy: 0.3544\n",
      "Epoch 7/20\n",
      "1929/1929 [==============================] - 167s 87ms/step - loss: 1.0086 - f1_score: 0.6291 - accuracy: 0.6509 - val_loss: 2.5098 - val_f1_score: 0.3284 - val_accuracy: 0.3442\n",
      "Found 13712 images belonging to 10 classes.\n",
      "215/215 [==============================] - 16s 76ms/step - loss: 2.5095 - f1_score: 0.3281 - accuracy: 0.3438\n",
      "*********************************************************\n",
      "Finished training simple convolutinal model. Learning rate:0.001, Accuracy:0.344, F1-weighted:0.328\n",
      "*********************************************************\n",
      "\n",
      "\n",
      "Start training simple convolutinal model. Learning rate:0.003\n",
      "Found 123399 images belonging to 10 classes.\n",
      "Found 13712 images belonging to 10 classes.\n",
      "0.003\n",
      "Epoch 1/20\n",
      "1929/1929 [==============================] - 168s 87ms/step - loss: 2.5024 - f1_score: 0.0679 - accuracy: 0.1913 - val_loss: 2.1691 - val_f1_score: 0.0622 - val_accuracy: 0.1925\n",
      "Epoch 2/20\n",
      "1929/1929 [==============================] - 167s 86ms/step - loss: 2.1690 - f1_score: 0.0623 - accuracy: 0.1925 - val_loss: 2.1679 - val_f1_score: 0.0622 - val_accuracy: 0.1925\n",
      "Epoch 3/20\n",
      "1929/1929 [==============================] - 165s 86ms/step - loss: 2.1682 - f1_score: 0.0622 - accuracy: 0.1926 - val_loss: 2.1679 - val_f1_score: 0.0622 - val_accuracy: 0.1925\n",
      "Epoch 4/20\n",
      "1929/1929 [==============================] - 166s 86ms/step - loss: 2.1680 - f1_score: 0.0622 - accuracy: 0.1926 - val_loss: 2.1679 - val_f1_score: 0.0622 - val_accuracy: 0.1925\n",
      "Epoch 5/20\n",
      "1929/1929 [==============================] - 167s 87ms/step - loss: 2.1680 - f1_score: 0.0622 - accuracy: 0.1926 - val_loss: 2.1681 - val_f1_score: 0.0622 - val_accuracy: 0.1925\n",
      "Found 13712 images belonging to 10 classes.\n",
      "215/215 [==============================] - 16s 76ms/step - loss: 2.1681 - f1_score: 0.0622 - accuracy: 0.1925\n",
      "*********************************************************\n",
      "Finished training simple convolutinal model. Learning rate:0.003, Accuracy:0.193, F1-weighted:0.062\n",
      "*********************************************************\n"
     ]
    }
   ],
   "source": [
    "best_simple_conv_f1=math.inf\n",
    "best_f1_simple_conv_history=None\n",
    "\n",
    "\n",
    "#Search for the best learning rates.Each run trains the network and eveluates of the validation set.\n",
    "#Results are loaded to a dictionary.\n",
    "strategy = tf.distribute.MirroredStrategy()\n",
    "print ('Number of devices: {}'.format(strategy.num_replicas_in_sync))\n",
    "with strategy.scope():\n",
    "    for lr in learning_rate:\n",
    "        conv_gr.build_model(conv2d_config=conv2d_config, kernel_size=kernel_size, dense_config=dense_config,pool_size=pool_size)\n",
    "        print(\"\\n\")\n",
    "        print(f\"Start training simple convolutinal model. Learning rate:{lr}\")\n",
    "        history=conv_gr.fit_model(num_epochs=epochs, train_len=len_train, val_len=len_val, learning_rate=lr,patience=patience)\n",
    "        conv_simple_history=history.history.copy()\n",
    "        simple_conv_dict=conv_gr.evaluate('simple_conv', data_path,\"images-val\")\n",
    "        simple_conv_scores['learning rate'].append(lr)\n",
    "        simple_conv_scores['accuracy'].append(simple_conv_dict[\"accuracy\"])\n",
    "        simple_conv_scores['f1-weighted'].append(simple_conv_dict[\"f1_score\"])\n",
    "        accuracy=simple_conv_dict[\"accuracy\"]\n",
    "        f1_weighted=simple_conv_dict[\"f1_score\"]\n",
    "        print(\"*********************************************************\")\n",
    "        print(f\"Finished training simple convolutinal model. Learning rate:{lr}, Accuracy:{ accuracy:.3f}, F1-weighted:{ f1_weighted:.3f}\")\n",
    "        print(\"*********************************************************\")\n",
    "        if  f1_weighted<best_simple_conv_f1:\n",
    "            best_simple_conv_f1= f1_weighted\n",
    "            best_simple_conv_model_history=conv_simple_history"
   ]
  },
  {
   "cell_type": "code",
   "execution_count": 61,
   "metadata": {},
   "outputs": [
    {
     "data": {
      "text/html": [
       "<div>\n",
       "<style scoped>\n",
       "    .dataframe tbody tr th:only-of-type {\n",
       "        vertical-align: middle;\n",
       "    }\n",
       "\n",
       "    .dataframe tbody tr th {\n",
       "        vertical-align: top;\n",
       "    }\n",
       "\n",
       "    .dataframe thead th {\n",
       "        text-align: right;\n",
       "    }\n",
       "</style>\n",
       "<table border=\"1\" class=\"dataframe\">\n",
       "  <thead>\n",
       "    <tr style=\"text-align: right;\">\n",
       "      <th></th>\n",
       "      <th>learning rate</th>\n",
       "      <th>accuracy</th>\n",
       "      <th>f1-weighted</th>\n",
       "    </tr>\n",
       "  </thead>\n",
       "  <tbody>\n",
       "    <tr>\n",
       "      <th>0</th>\n",
       "      <td>0.001</td>\n",
       "      <td>0.361654</td>\n",
       "      <td>0.347550</td>\n",
       "    </tr>\n",
       "    <tr>\n",
       "      <th>1</th>\n",
       "      <td>0.003</td>\n",
       "      <td>0.192532</td>\n",
       "      <td>0.062168</td>\n",
       "    </tr>\n",
       "  </tbody>\n",
       "</table>\n",
       "</div>"
      ],
      "text/plain": [
       "   learning rate  accuracy  f1-weighted\n",
       "0          0.001  0.361654     0.347550\n",
       "1          0.003  0.192532     0.062168"
      ]
     },
     "execution_count": 61,
     "metadata": {},
     "output_type": "execute_result"
    }
   ],
   "source": [
    "df_simple_conv_scores= pd.DataFrame.from_dict(simple_conv_scores)\n",
    "df_simple_conv_scores.head()"
   ]
  },
  {
   "cell_type": "markdown",
   "metadata": {},
   "source": [
    "Let's look at the best model training history"
   ]
  },
  {
   "cell_type": "code",
   "execution_count": 62,
   "metadata": {},
   "outputs": [
    {
     "data": {
      "image/png": "[encoded data removed]",
      "text/plain": [
       "<Figure size 432x360 with 1 Axes>"
      ]
     },
     "metadata": {
      "needs_background": "light"
     },
     "output_type": "display_data"
    }
   ],
   "source": [
    "import goodreads as gr\n",
    "gr.plot_history(best_simple_conv_model_history,'Run history best convolutional simple model')"
   ]
  },
  {
   "cell_type": "markdown",
   "metadata": {},
   "source": [
    "We can see that the model didn't converge, validation loss keeps rising and val accuracy is low. Since also train results were not very high(0.65 accuracy), I do not believe it is overfitting but that the model is just not a good fit. (It was also difficult for human to know a book genre by cover..)"
   ]
  },
  {
   "cell_type": "code",
   "execution_count": 66,
   "metadata": {},
   "outputs": [],
   "source": [
    "accuracy=df_simple_conv_scores.loc[df_simple_conv_scores[\"f1-weighted\"].idxmax(), [\"accuracy\"]].values[0]\n",
    "f1_weighted=df_simple_conv_scores.loc[df_simple_conv_scores[\"f1-weighted\"].idxmax(), [\"f1-weighted\"]].values[0]"
   ]
  },
  {
   "cell_type": "code",
   "execution_count": 67,
   "metadata": {},
   "outputs": [],
   "source": [
    "score_dictionary['model'].append(\"Simple conv net\")\n",
    "score_dictionary['accuracy'].append(accuracy)\n",
    "score_dictionary['F1-weighted'].append(f1_weighted)"
   ]
  },
  {
   "cell_type": "code",
   "execution_count": 68,
   "metadata": {},
   "outputs": [
    {
     "data": {
      "text/html": [
       "<div>\n",
       "<style scoped>\n",
       "    .dataframe tbody tr th:only-of-type {\n",
       "        vertical-align: middle;\n",
       "    }\n",
       "\n",
       "    .dataframe tbody tr th {\n",
       "        vertical-align: top;\n",
       "    }\n",
       "\n",
       "    .dataframe thead th {\n",
       "        text-align: right;\n",
       "    }\n",
       "</style>\n",
       "<table border=\"1\" class=\"dataframe\">\n",
       "  <thead>\n",
       "    <tr style=\"text-align: right;\">\n",
       "      <th></th>\n",
       "      <th>model</th>\n",
       "      <th>accuracy</th>\n",
       "      <th>F1-weighted</th>\n",
       "    </tr>\n",
       "  </thead>\n",
       "  <tbody>\n",
       "    <tr>\n",
       "      <th>0</th>\n",
       "      <td>Baseline</td>\n",
       "      <td>0.524796</td>\n",
       "      <td>0.528185</td>\n",
       "    </tr>\n",
       "    <tr>\n",
       "      <th>1</th>\n",
       "      <td>Naive bayes'</td>\n",
       "      <td>0.554113</td>\n",
       "      <td>0.551830</td>\n",
       "    </tr>\n",
       "    <tr>\n",
       "      <th>2</th>\n",
       "      <td>Logistic regression</td>\n",
       "      <td>0.619384</td>\n",
       "      <td>0.613350</td>\n",
       "    </tr>\n",
       "    <tr>\n",
       "      <th>3</th>\n",
       "      <td>Random forest</td>\n",
       "      <td>0.596339</td>\n",
       "      <td>0.572950</td>\n",
       "    </tr>\n",
       "    <tr>\n",
       "      <th>4</th>\n",
       "      <td>Resnet based conv model</td>\n",
       "      <td>0.423498</td>\n",
       "      <td>0.418773</td>\n",
       "    </tr>\n",
       "    <tr>\n",
       "      <th>5</th>\n",
       "      <td>Simple conv net</td>\n",
       "      <td>0.361654</td>\n",
       "      <td>0.347550</td>\n",
       "    </tr>\n",
       "  </tbody>\n",
       "</table>\n",
       "</div>"
      ],
      "text/plain": [
       "                     model  accuracy  F1-weighted\n",
       "0                 Baseline  0.524796     0.528185\n",
       "1             Naive bayes'  0.554113     0.551830\n",
       "2      Logistic regression  0.619384     0.613350\n",
       "3            Random forest  0.596339     0.572950\n",
       "4  Resnet based conv model  0.423498     0.418773\n",
       "5          Simple conv net  0.361654     0.347550"
      ]
     },
     "execution_count": 68,
     "metadata": {},
     "output_type": "execute_result"
    }
   ],
   "source": [
    "df_scores= pd.DataFrame.from_dict(score_dictionary)\n",
    "df_scores.head(10)"
   ]
  },
  {
   "cell_type": "markdown",
   "metadata": {},
   "source": [
    "### Neural network based on embeddings\n",
    "\n",
    "Since our thinking is that the text features are potentially the best predictor of the genre we willuse another modeling approach.  (Mikolov et al. 2013) have showed that by using a skip-gram model (a model that when given a word, predicts the surrounding words) on a large corpus, wecan learn vector representations of words such that these representations will hold a ”meaning” ofthe word in the vector dimension. These vectors are known as an embedding. The spacy packageholds some versions of pre-trained embedding.   \n",
    "We will use these pretrained embeddings (Trained on English corpora suitable for blogs and news with embeddingdimension being 300) as well as creating our own word2vec embeddings using gensim package.  We will first tokenise description and title features(very similar to the BOW method) and these word tokens will be replaced by the learned word embedding. In order toaddress a full sentence consecutive words meaning and not just each word separately we addeda convolutions layer of dimension 1 after the emebdding layers. Convoluinal \n",
    "layers are often usedin NLP for sequence representation and often give better results than RNN layers.\n",
    "\n",
    "Another addition we have done is to use the embedding approach in order create a representation of an author.  Since our thinking is that an author is a very important feature in our model we willtransform each author to embeddings vector(initialized randomly with size of 10) and the networkwill learn the embedding representation of the author.A similar approach was used in collaborativefiltering applications by (He et al. 2017) to represent users and movies as embeddings. We will also add to the network the other numerical features we have.  \n",
    "In total the network will be constructed from 4 different inputs (title,description,author and numerical features) , title, description and author will be transformed to embedding, description and title embeddings will be followed by a CNN withnumber of filters 64,16 respectively.  CNN will be followed by max pooling and dropout layer and.Before concatenation of all features a global average pooling layer is used.  the concatenatedoutput is followed by 2 dense layers of sizes 128 and 64 and the output layer is a 10 units softmax\n"
   ]
  },
  {
   "cell_type": "code",
   "execution_count": 69,
   "metadata": {},
   "outputs": [],
   "source": [
    "tf.random.set_seed(SEED)"
   ]
  },
  {
   "cell_type": "code",
   "execution_count": 70,
   "metadata": {},
   "outputs": [],
   "source": [
    "patience = conf[\"hyperparams\"][\"embedding_params\"][\"patience\"]\n",
    "epochs = conf[\"hyperparams\"][\"embedding_params\"][\"epochs\"]\n",
    "batch_size= conf[\"hyperparams\"][\"embedding_params\"][\"batch_size\"]"
   ]
  },
  {
   "cell_type": "code",
   "execution_count": 71,
   "metadata": {},
   "outputs": [
    {
     "name": "stdout",
     "output_type": "stream",
     "text": [
      "Patience will be: 3\n",
      "Limit on number of epochs will be: 20\n",
      "Batch size will be: 32\n"
     ]
    }
   ],
   "source": [
    "\n",
    "print(f\"Patience will be: {patience}\")\n",
    "print(f\"Limit on number of epochs will be: {epochs}\")\n",
    "print(f\"Batch size will be: {batch_size}\")"
   ]
  },
  {
   "cell_type": "markdown",
   "metadata": {},
   "source": [
    "### Hyperparameters search:"
   ]
  },
  {
   "cell_type": "markdown",
   "metadata": {},
   "source": [
    "We will search for the following best hyperparameters:\n",
    "- Learning rate\n",
    "- Embedding type- Whether pretraind word embeddings on a large corpora from spacy model or our own trained word2vec embedding on our text features.\n",
    "- Window/Kernel size for description-How many surrounding words to consider. this is relevant for both word2vec windows and also the kernel size of the convolutional nn on description.\n",
    "- Window/Kernel size for titles-How many surrounding words to consider. this is relevant for both word2vec windows and also the kernel size of the convolutional nn on titles.\n",
    "\n",
    "Other configuration were fixed(They were seacrhed but not included here full search). Listed later."
   ]
  },
  {
   "cell_type": "code",
   "execution_count": 72,
   "metadata": {},
   "outputs": [
    {
     "name": "stdout",
     "output_type": "stream",
     "text": [
      "Different learning rate values we will check are: [0.003, 0.001]\n",
      "Different embedding types we will check are: ['spacy', 'word2vec']\n",
      "Kernel size for description we will check are: [5, 10]\n",
      "Kernel size for title we will check are: [3, 5]\n",
      "Different dropout rates we will check are: [0.2, 0.1]\n"
     ]
    }
   ],
   "source": [
    "learning_rate = conf[\"hyperparams\"][\"embedding_params\"][\"learning_rate\"]\n",
    "print(f\"Different learning rate values we will check are: {learning_rate}\")\n",
    "embedding_type = conf[\"hyperparams\"][\"embedding_params\"][\"embedding_type\"]\n",
    "print(f\"Different embedding types we will check are: {embedding_type}\")\n",
    "kernel_size_desc = conf[\"hyperparams\"][\"embedding_params\"][\"kernel_desc\"]\n",
    "print(f\"Kernel size for description we will check are: {kernel_size_desc}\")\n",
    "kernel_size_title = conf[\"hyperparams\"][\"embedding_params\"][\"kernel_title\"]\n",
    "print(f\"Kernel size for title we will check are: {kernel_size_title}\")\n",
    "dropout_rates = conf[\"hyperparams\"][\"embedding_params\"][\"dropout_rates\"]\n",
    "print(f\"Different dropout rates we will check are: {dropout_rates}\")\n"
   ]
  },
  {
   "cell_type": "code",
   "execution_count": 73,
   "metadata": {},
   "outputs": [],
   "source": [
    "#Dictinary to store results\n",
    "\n",
    "embedding_scores={'embedding type':[], 'learning rate':[], 'kernel_desc':[], 'kernel_title':[], 'dropout rate':[], 'accuracy':[], 'f1-weighted':[]}"
   ]
  },
  {
   "cell_type": "markdown",
   "metadata": {},
   "source": [
    "will prepare again the data for inference. We will not need to add text features since we are going to analyse title and description features differently.\n",
    "\n",
    "\n",
    "The train , val and test split is the same as before , it is just the further preparation that is different."
   ]
  },
  {
   "cell_type": "code",
   "execution_count": 74,
   "metadata": {},
   "outputs": [
    {
     "name": "stdout",
     "output_type": "stream",
     "text": [
      "Loaded train dataset containing: 123399 samples\n",
      "Loaded validation dataset containing: 13712 samples\n",
      "Loaded test dataset containing: 15235 samples\n",
      "All datasets prepared for inference\n"
     ]
    }
   ],
   "source": [
    "#We will prepare again the data for inference. We will not need to add text features since we are going to analyse title\n",
    "#and description features differently.\n",
    "\n",
    "#The train , val and test split is the same as before , it is just the further preparation that is different.\n",
    "goodr_dataset_embeddings = gr.GoodreadsDataset.load_from_split(conf['preprocessed'], image_source_path, image_source_list, data_path)\n",
    "goodr_dataset_embeddings.prepare_data_for_inference(add_text_features=False,drop_author_id=False,target_hot_encoding=True)\n",
    "X_train=goodr_dataset_embeddings.X_train\n",
    "y_train=goodr_dataset_embeddings.y_train\n",
    "X_val=goodr_dataset_embeddings.X_val\n",
    "y_val=goodr_dataset_embeddings.y_val"
   ]
  },
  {
   "cell_type": "markdown",
   "metadata": {},
   "source": [
    "Other than Title , Description and Author features we will also input the other numerical features to the network."
   ]
  },
  {
   "cell_type": "code",
   "execution_count": 75,
   "metadata": {},
   "outputs": [],
   "source": [
    "column_names = list(goodr_dataset_embeddings.inference_col_names)\n",
    "other_columns=[col for col in column_names if col not in [\"description\",\"title\", \"author_id\"]]"
   ]
  },
  {
   "cell_type": "code",
   "execution_count": 76,
   "metadata": {},
   "outputs": [
    {
     "data": {
      "text/plain": [
       "['num_pages',\n",
       " 'publication_year',\n",
       " 'is_ebook',\n",
       " 'series',\n",
       " 'read_count',\n",
       " 'text_reviews_count',\n",
       " 'ratings_count',\n",
       " 'average_rating',\n",
       " 'public_year_null',\n",
       " 'num_pages_null',\n",
       " 'authors_ratings_count',\n",
       " 'author_average_rating']"
      ]
     },
     "execution_count": 76,
     "metadata": {},
     "output_type": "execute_result"
    }
   ],
   "source": [
    "other_columns"
   ]
  },
  {
   "cell_type": "code",
   "execution_count": 77,
   "metadata": {},
   "outputs": [
    {
     "name": "stdout",
     "output_type": "stream",
     "text": [
      "Window size for description will be: 10\n",
      "Window size for title will be: 3\n",
      "Embedding dimension will be: 300\n",
      "Vocabulary length for title will be: 1000\n",
      "Vocabulary length for description will be: 5000\n",
      "Maximum length for decription will be: 10\n",
      "Maximum length for title will be: 350\n",
      "Number of filters for convolution on description will be: 64\n",
      "Number of filters for convolution on title will be: 16\n",
      "Configuration of final dense layers will be: [128, 64]\n"
     ]
    }
   ],
   "source": [
    "\n",
    "num_classes= conf[\"num_classes\"]\n",
    "embedding_dim=conf[\"hyperparams\"][\"embedding_params\"][\"embedding_dim\"]\n",
    "num_voc_title = conf[\"hyperparams\"][\"embedding_params\"][\"title_max_voc\"]\n",
    "num_voc_description = conf[\"hyperparams\"][\"embedding_params\"][\"desc_max_voc\"]\n",
    "max_len_title = conf[\"hyperparams\"][\"embedding_params\"][\"title_max_len\"]\n",
    "max_len_desc = conf[\"hyperparams\"][\"embedding_params\"][\"desc_max_len\"]\n",
    "dense_config = conf[\"hyperparams\"][\"embedding_params\"][\"dense_config\"]\n",
    "conv_filters_desc = conf[\"hyperparams\"][\"embedding_params\"][\"conv_filters_desc\"]\n",
    "conv_filters_title = conf[\"hyperparams\"][\"embedding_params\"][\"conv_filters_title\"]\n",
    "window_size_desc = conf[\"hyperparams\"][\"embedding_params\"][\"word2vecwindow_desc\"]\n",
    "window_size_title = conf[\"hyperparams\"][\"embedding_params\"][\"word2vecwindow_title\"]\n",
    "\n",
    "print(f\"Window size for description will be: {window_size_desc}\")\n",
    "print(f\"Window size for title will be: {window_size_title}\")\n",
    "print(f\"Embedding dimension will be: {embedding_dim}\")\n",
    "print(f\"Vocabulary length for title will be: {num_voc_title}\")\n",
    "print(f\"Vocabulary length for description will be: {num_voc_description}\")\n",
    "print(f\"Maximum length for decription will be: {max_len_title}\")\n",
    "print(f\"Maximum length for title will be: {max_len_desc}\")\n",
    "print(f\"Number of filters for convolution on description will be: {conv_filters_desc}\")\n",
    "print(f\"Number of filters for convolution on title will be: {conv_filters_title}\")\n",
    "print(f\"Configuration of final dense layers will be: {dense_config}\")"
   ]
  },
  {
   "cell_type": "code",
   "execution_count": 78,
   "metadata": {},
   "outputs": [],
   "source": [
    "emb_gr = gr.EmbeddingNNGoodreads(batch_size=batch_size,\n",
    "                                  num_classes=num_classes,\n",
    "                                  embedding_dim=embedding_dim)"
   ]
  },
  {
   "cell_type": "markdown",
   "metadata": {},
   "source": [
    "We first remove english stop words from title and description string"
   ]
  },
  {
   "cell_type": "code",
   "execution_count": 79,
   "metadata": {},
   "outputs": [],
   "source": [
    "cleaned_train_title=np.array(emb_gr.remove_stopword(X_train[\"title\"].values))\n",
    "cleaned_val_title = np.array(emb_gr.remove_stopword(X_val[\"title\"].values))\n",
    "cleaned_train_description = np.array(emb_gr.remove_stopword(X_train[\"description\"].values))\n",
    "cleaned_val_description = np.array(emb_gr.remove_stopword(X_val[\"description\"].values))"
   ]
  },
  {
   "cell_type": "code",
   "execution_count": 80,
   "metadata": {},
   "outputs": [],
   "source": [
    "emb_gr.prepare_preprocessing_voc_layers(cleaned_train_title, num_voc_title=num_voc_title,\n",
    "                                            description_array=cleaned_train_description,\n",
    "                                            num_voc_description=num_voc_description,\n",
    "                                            author_array=X_train[\"author_id\"].values, max_len_title=max_len_title,\n",
    "                                            max_len_desc=max_len_desc)"
   ]
  },
  {
   "cell_type": "markdown",
   "metadata": {},
   "source": [
    "The model structure is the following (For specific hyperparmeters):"
   ]
  },
  {
   "cell_type": "code",
   "execution_count": 81,
   "metadata": {},
   "outputs": [
    {
     "name": "stdout",
     "output_type": "stream",
     "text": [
      "Model: \"functional_7\"\n",
      "__________________________________________________________________________________________________\n",
      "Layer (type)                    Output Shape         Param #     Connected to                     \n",
      "==================================================================================================\n",
      "desc_input (InputLayer)         [(None, 1)]          0                                            \n",
      "__________________________________________________________________________________________________\n",
      "title_input (InputLayer)        [(None, 1)]          0                                            \n",
      "__________________________________________________________________________________________________\n",
      "Tokenizer_description (TextVect (None, 350)          0           desc_input[0][0]                 \n",
      "__________________________________________________________________________________________________\n",
      "Tokenizer_title (TextVectorizat (None, 10)           0           title_input[0][0]                \n",
      "__________________________________________________________________________________________________\n",
      "Embedding_description (Embeddin (None, 350, 300)     1500600     Tokenizer_description[0][0]      \n",
      "__________________________________________________________________________________________________\n",
      "Embedding_title (Embedding)     (None, 10, 300)      300600      Tokenizer_title[0][0]            \n",
      "__________________________________________________________________________________________________\n",
      "Convolution_description (Conv1D (None, 341, 64)      192064      Embedding_description[0][0]      \n",
      "__________________________________________________________________________________________________\n",
      "Convolution_title (Conv1D)      (None, 8, 16)        14416       Embedding_title[0][0]            \n",
      "__________________________________________________________________________________________________\n",
      "author_input (InputLayer)       [(None, 1)]          0                                            \n",
      "__________________________________________________________________________________________________\n",
      "Max_pooling_description (MaxPoo (None, 113, 64)      0           Convolution_description[0][0]    \n",
      "__________________________________________________________________________________________________\n",
      "Max_pooling_title (MaxPooling1D (None, 2, 16)        0           Convolution_title[0][0]          \n",
      "__________________________________________________________________________________________________\n",
      "Tokenizer_author (IntegerLookup (None, 1)            0           author_input[0][0]               \n",
      "__________________________________________________________________________________________________\n",
      "dropout_3 (Dropout)             (None, 113, 64)      0           Max_pooling_description[0][0]    \n",
      "__________________________________________________________________________________________________\n",
      "dropout_4 (Dropout)             (None, 2, 16)        0           Max_pooling_title[0][0]          \n",
      "__________________________________________________________________________________________________\n",
      "Embeddings_author (Embedding)   (None, 1, 10)        607990      Tokenizer_author[0][0]           \n",
      "__________________________________________________________________________________________________\n",
      "Global_avg_pooling_description  (None, 64)           0           dropout_3[0][0]                  \n",
      "__________________________________________________________________________________________________\n",
      "Global_avg_pooling_title (Globa (None, 16)           0           dropout_4[0][0]                  \n",
      "__________________________________________________________________________________________________\n",
      "Global_avg_pooling_author (Glob (None, 10)           0           Embeddings_author[0][0]          \n",
      "__________________________________________________________________________________________________\n",
      "other_input (InputLayer)        [(None, 12)]         0                                            \n",
      "__________________________________________________________________________________________________\n",
      "Concatenation_layer_all_inputs  (None, 102)          0           Global_avg_pooling_description[0]\n",
      "                                                                 Global_avg_pooling_title[0][0]   \n",
      "                                                                 Global_avg_pooling_author[0][0]  \n",
      "                                                                 other_input[0][0]                \n",
      "__________________________________________________________________________________________________\n",
      "batch_normalization_21 (BatchNo (None, 102)          408         Concatenation_layer_all_inputs[0]\n",
      "__________________________________________________________________________________________________\n",
      "dense_27 (Dense)                (None, 128)          13184       batch_normalization_21[0][0]     \n",
      "__________________________________________________________________________________________________\n",
      "dropout_5 (Dropout)             (None, 128)          0           dense_27[0][0]                   \n",
      "__________________________________________________________________________________________________\n",
      "dense_28 (Dense)                (None, 64)           8256        dropout_5[0][0]                  \n",
      "__________________________________________________________________________________________________\n",
      "dense_29 (Dense)                (None, 10)           650         dense_28[0][0]                   \n",
      "==================================================================================================\n",
      "Total params: 2,638,168\n",
      "Trainable params: 2,637,964\n",
      "Non-trainable params: 204\n",
      "__________________________________________________________________________________________________\n",
      "None\n"
     ]
    }
   ],
   "source": [
    "emb_gr.prepare_embedding_vectors(cleaned_train_description, cleaned_train_title,pretrained_emb='spacy',window_size_desc=window_size_desc,window_size_title=window_size_title)\n",
    "emb_gr.build_model(len(other_columns), dense_config, kernel_size_desc=10, kernel_size_title=3, dropout_rate=0.1, conv_filters_desc=conv_filters_desc, conv_filters_title=conv_filters_title)\n",
    "print(emb_gr.model.summary())"
   ]
  },
  {
   "cell_type": "markdown",
   "metadata": {},
   "source": [
    "Prepare tokenizer and embedding layers. We need to preprocess these layers in order to form a vocabulary in the training process. Embedding are either based on spacy pretrained emebddings vector or calculated word2vec embeddings on description and title features."
   ]
  },
  {
   "cell_type": "code",
   "execution_count": 82,
   "metadata": {
    "scrolled": false
   },
   "outputs": [
    {
     "name": "stdout",
     "output_type": "stream",
     "text": [
      "INFO:tensorflow:Using MirroredStrategy with devices ('/job:localhost/replica:0/task:0/device:GPU:0', '/job:localhost/replica:0/task:0/device:GPU:1')\n",
      "Number of devices: 2\n",
      "\n",
      "\n",
      "Start training model. Kernel description:5 ,Kernel title: 3, Dropout rate:0.2, Learning rate:0.003, embedding type: spacy\n",
      "Epoch 1/20\n",
      "3857/3857 [==============================] - 27s 7ms/step - loss: 1.0773 - f1_score: 0.6367 - accuracy: 0.6478 - val_loss: 0.8596 - val_f1_score: 0.7236 - val_accuracy: 0.7290\n",
      "Epoch 2/20\n",
      "3857/3857 [==============================] - 25s 7ms/step - loss: 0.6621 - f1_score: 0.7921 - accuracy: 0.7947 - val_loss: 0.8541 - val_f1_score: 0.7299 - val_accuracy: 0.7285\n",
      "Epoch 3/20\n",
      "3857/3857 [==============================] - 25s 7ms/step - loss: 0.4400 - f1_score: 0.8646 - accuracy: 0.8654 - val_loss: 0.9390 - val_f1_score: 0.7382 - val_accuracy: 0.7347\n",
      "Epoch 4/20\n",
      "3857/3857 [==============================] - 25s 7ms/step - loss: 0.3572 - f1_score: 0.8889 - accuracy: 0.8892 - val_loss: 0.9703 - val_f1_score: 0.7359 - val_accuracy: 0.7329\n",
      "Epoch 5/20\n",
      "3857/3857 [==============================] - 25s 7ms/step - loss: 0.3105 - f1_score: 0.9024 - accuracy: 0.9026 - val_loss: 1.0538 - val_f1_score: 0.7357 - val_accuracy: 0.7240\n",
      "429/429 [==============================] - 1s 3ms/step - loss: 1.0538 - f1_score: 0.7357 - accuracy: 0.7240\n",
      "*********************************************************\n",
      "Finished training. Kernel description:5 ,Kernel title: 3, Dropout rate:0.2, Learning rate:0.003, embedding type: spacy, Accuracy:0.724, F1-weighted:0.736\n",
      "*********************************************************\n",
      "\n",
      "\n",
      "Start training model. Kernel description:5 ,Kernel title: 3, Dropout rate:0.1, Learning rate:0.003, embedding type: spacy\n",
      "Epoch 1/20\n",
      "3857/3857 [==============================] - 27s 7ms/step - loss: 1.0460 - f1_score: 0.6471 - accuracy: 0.6574 - val_loss: 0.8756 - val_f1_score: 0.7128 - val_accuracy: 0.7189\n",
      "Epoch 2/20\n",
      "3857/3857 [==============================] - 25s 7ms/step - loss: 0.6326 - f1_score: 0.8008 - accuracy: 0.8024 - val_loss: 0.8626 - val_f1_score: 0.7280 - val_accuracy: 0.7305\n",
      "Epoch 3/20\n",
      "3857/3857 [==============================] - 25s 7ms/step - loss: 0.4110 - f1_score: 0.8745 - accuracy: 0.8749 - val_loss: 0.9574 - val_f1_score: 0.7289 - val_accuracy: 0.7256\n",
      "Epoch 4/20\n",
      "3857/3857 [==============================] - 25s 7ms/step - loss: 0.3246 - f1_score: 0.8987 - accuracy: 0.8989 - val_loss: 1.0276 - val_f1_score: 0.7326 - val_accuracy: 0.7351\n",
      "Epoch 5/20\n",
      "3857/3857 [==============================] - 26s 7ms/step - loss: 0.2744 - f1_score: 0.9129 - accuracy: 0.9131 - val_loss: 1.0380 - val_f1_score: 0.7324 - val_accuracy: 0.7272\n",
      "429/429 [==============================] - 1s 3ms/step - loss: 1.0380 - f1_score: 0.7324 - accuracy: 0.7272\n",
      "*********************************************************\n",
      "Finished training. Kernel description:5 ,Kernel title: 3, Dropout rate:0.1, Learning rate:0.003, embedding type: spacy, Accuracy:0.727, F1-weighted:0.732\n",
      "*********************************************************\n",
      "\n",
      "\n",
      "Start training model. Kernel description:5 ,Kernel title: 3, Dropout rate:0.2, Learning rate:0.001, embedding type: spacy\n",
      "Epoch 1/20\n",
      "3857/3857 [==============================] - 27s 7ms/step - loss: 1.0911 - f1_score: 0.6286 - accuracy: 0.6400 - val_loss: 0.8511 - val_f1_score: 0.7208 - val_accuracy: 0.7244\n",
      "Epoch 2/20\n",
      "3857/3857 [==============================] - 26s 7ms/step - loss: 0.6704 - f1_score: 0.7836 - accuracy: 0.7875 - val_loss: 0.8329 - val_f1_score: 0.7370 - val_accuracy: 0.7407\n",
      "Epoch 3/20\n",
      "3857/3857 [==============================] - 25s 7ms/step - loss: 0.4182 - f1_score: 0.8694 - accuracy: 0.8703 - val_loss: 0.9229 - val_f1_score: 0.7390 - val_accuracy: 0.7344\n",
      "Epoch 4/20\n",
      "3857/3857 [==============================] - 26s 7ms/step - loss: 0.3101 - f1_score: 0.9019 - accuracy: 0.9022 - val_loss: 1.0159 - val_f1_score: 0.7368 - val_accuracy: 0.7326\n",
      "Epoch 5/20\n",
      "3857/3857 [==============================] - 26s 7ms/step - loss: 0.2535 - f1_score: 0.9179 - accuracy: 0.9181 - val_loss: 1.1026 - val_f1_score: 0.7337 - val_accuracy: 0.7258\n",
      "429/429 [==============================] - 1s 3ms/step - loss: 1.1026 - f1_score: 0.7337 - accuracy: 0.7258\n",
      "*********************************************************\n",
      "Finished training. Kernel description:5 ,Kernel title: 3, Dropout rate:0.2, Learning rate:0.001, embedding type: spacy, Accuracy:0.726, F1-weighted:0.734\n",
      "*********************************************************\n",
      "\n",
      "\n",
      "Start training model. Kernel description:5 ,Kernel title: 3, Dropout rate:0.1, Learning rate:0.001, embedding type: spacy\n",
      "Epoch 1/20\n",
      "3857/3857 [==============================] - 28s 7ms/step - loss: 1.0511 - f1_score: 0.6420 - accuracy: 0.6521 - val_loss: 0.8345 - val_f1_score: 0.7300 - val_accuracy: 0.7319\n",
      "Epoch 2/20\n",
      "3857/3857 [==============================] - 26s 7ms/step - loss: 0.6281 - f1_score: 0.7975 - accuracy: 0.8000 - val_loss: 0.8321 - val_f1_score: 0.7367 - val_accuracy: 0.7375\n",
      "Epoch 3/20\n",
      "3857/3857 [==============================] - 26s 7ms/step - loss: 0.3770 - f1_score: 0.8811 - accuracy: 0.8817 - val_loss: 0.9352 - val_f1_score: 0.7388 - val_accuracy: 0.7343\n",
      "Epoch 4/20\n",
      "3857/3857 [==============================] - 26s 7ms/step - loss: 0.2763 - f1_score: 0.9108 - accuracy: 0.9111 - val_loss: 1.0647 - val_f1_score: 0.7402 - val_accuracy: 0.7386\n",
      "Epoch 5/20\n",
      "3857/3857 [==============================] - 26s 7ms/step - loss: 0.2238 - f1_score: 0.9253 - accuracy: 0.9254 - val_loss: 1.1307 - val_f1_score: 0.7354 - val_accuracy: 0.7306\n",
      "429/429 [==============================] - 1s 3ms/step - loss: 1.1307 - f1_score: 0.7354 - accuracy: 0.7306\n",
      "*********************************************************\n",
      "Finished training. Kernel description:5 ,Kernel title: 3, Dropout rate:0.1, Learning rate:0.001, embedding type: spacy, Accuracy:0.731, F1-weighted:0.735\n",
      "*********************************************************\n",
      "\n",
      "\n",
      "Start training model. Kernel description:5 ,Kernel title: 5, Dropout rate:0.2, Learning rate:0.003, embedding type: spacy\n",
      "Epoch 1/20\n",
      "3857/3857 [==============================] - 28s 7ms/step - loss: 1.0713 - f1_score: 0.6399 - accuracy: 0.6499 - val_loss: 0.8599 - val_f1_score: 0.7245 - val_accuracy: 0.7299\n",
      "Epoch 2/20\n",
      "3857/3857 [==============================] - 26s 7ms/step - loss: 0.6535 - f1_score: 0.7942 - accuracy: 0.7967 - val_loss: 0.8757 - val_f1_score: 0.7267 - val_accuracy: 0.7310\n",
      "Epoch 3/20\n",
      "3857/3857 [==============================] - 26s 7ms/step - loss: 0.4364 - f1_score: 0.8673 - accuracy: 0.8679 - val_loss: 0.9503 - val_f1_score: 0.7295 - val_accuracy: 0.7315\n",
      "Epoch 4/20\n",
      "3857/3857 [==============================] - 26s 7ms/step - loss: 0.3539 - f1_score: 0.8903 - accuracy: 0.8906 - val_loss: 0.9568 - val_f1_score: 0.7371 - val_accuracy: 0.7404\n",
      "429/429 [==============================] - 1s 3ms/step - loss: 0.9568 - f1_score: 0.7371 - accuracy: 0.7404\n",
      "*********************************************************\n",
      "Finished training. Kernel description:5 ,Kernel title: 5, Dropout rate:0.2, Learning rate:0.003, embedding type: spacy, Accuracy:0.740, F1-weighted:0.737\n",
      "*********************************************************\n",
      "\n",
      "\n",
      "Start training model. Kernel description:5 ,Kernel title: 5, Dropout rate:0.1, Learning rate:0.003, embedding type: spacy\n",
      "Epoch 1/20\n",
      "3857/3857 [==============================] - 27s 7ms/step - loss: 1.0389 - f1_score: 0.6507 - accuracy: 0.6599 - val_loss: 0.9364 - val_f1_score: 0.6911 - val_accuracy: 0.6973\n",
      "Epoch 2/20\n",
      "3857/3857 [==============================] - 25s 7ms/step - loss: 0.6200 - f1_score: 0.8050 - accuracy: 0.8070 - val_loss: 0.8557 - val_f1_score: 0.7347 - val_accuracy: 0.7350\n",
      "Epoch 3/20\n",
      "3857/3857 [==============================] - 26s 7ms/step - loss: 0.4033 - f1_score: 0.8756 - accuracy: 0.8761 - val_loss: 0.9201 - val_f1_score: 0.7355 - val_accuracy: 0.7332\n",
      "Epoch 4/20\n",
      "3857/3857 [==============================] - 26s 7ms/step - loss: 0.3249 - f1_score: 0.8972 - accuracy: 0.8974 - val_loss: 0.9788 - val_f1_score: 0.7336 - val_accuracy: 0.7367\n",
      "Epoch 5/20\n",
      "3857/3857 [==============================] - 26s 7ms/step - loss: 0.2776 - f1_score: 0.9107 - accuracy: 0.9108 - val_loss: 1.0392 - val_f1_score: 0.7377 - val_accuracy: 0.7337\n"
     ]
    },
    {
     "name": "stdout",
     "output_type": "stream",
     "text": [
      "429/429 [==============================] - 1s 3ms/step - loss: 1.0392 - f1_score: 0.7377 - accuracy: 0.7337\n",
      "*********************************************************\n",
      "Finished training. Kernel description:5 ,Kernel title: 5, Dropout rate:0.1, Learning rate:0.003, embedding type: spacy, Accuracy:0.734, F1-weighted:0.738\n",
      "*********************************************************\n",
      "\n",
      "\n",
      "Start training model. Kernel description:5 ,Kernel title: 5, Dropout rate:0.2, Learning rate:0.001, embedding type: spacy\n",
      "Epoch 1/20\n",
      "3857/3857 [==============================] - 27s 7ms/step - loss: 1.0907 - f1_score: 0.6268 - accuracy: 0.6378 - val_loss: 0.8737 - val_f1_score: 0.7073 - val_accuracy: 0.7124\n",
      "Epoch 2/20\n",
      "3857/3857 [==============================] - 25s 6ms/step - loss: 0.6754 - f1_score: 0.7779 - accuracy: 0.7824 - val_loss: 0.8752 - val_f1_score: 0.7187 - val_accuracy: 0.7266\n",
      "Epoch 3/20\n",
      "3857/3857 [==============================] - 25s 6ms/step - loss: 0.4228 - f1_score: 0.8663 - accuracy: 0.8675 - val_loss: 0.9430 - val_f1_score: 0.7220 - val_accuracy: 0.7261\n",
      "Epoch 4/20\n",
      "3857/3857 [==============================] - 25s 6ms/step - loss: 0.3144 - f1_score: 0.8992 - accuracy: 0.8996 - val_loss: 1.0783 - val_f1_score: 0.7231 - val_accuracy: 0.7290\n",
      "429/429 [==============================] - 1s 3ms/step - loss: 1.0783 - f1_score: 0.7231 - accuracy: 0.7290\n",
      "*********************************************************\n",
      "Finished training. Kernel description:5 ,Kernel title: 5, Dropout rate:0.2, Learning rate:0.001, embedding type: spacy, Accuracy:0.729, F1-weighted:0.723\n",
      "*********************************************************\n",
      "\n",
      "\n",
      "Start training model. Kernel description:5 ,Kernel title: 5, Dropout rate:0.1, Learning rate:0.001, embedding type: spacy\n",
      "Epoch 1/20\n",
      "3857/3857 [==============================] - 27s 7ms/step - loss: 1.0560 - f1_score: 0.6392 - accuracy: 0.6486 - val_loss: 0.8485 - val_f1_score: 0.7181 - val_accuracy: 0.7235\n",
      "Epoch 2/20\n",
      "3857/3857 [==============================] - 25s 7ms/step - loss: 0.6479 - f1_score: 0.7893 - accuracy: 0.7920 - val_loss: 0.8576 - val_f1_score: 0.7252 - val_accuracy: 0.7303\n",
      "Epoch 3/20\n",
      "3857/3857 [==============================] - 25s 7ms/step - loss: 0.3928 - f1_score: 0.8773 - accuracy: 0.8779 - val_loss: 0.9633 - val_f1_score: 0.7234 - val_accuracy: 0.7288\n",
      "Epoch 4/20\n",
      "3857/3857 [==============================] - 25s 7ms/step - loss: 0.2791 - f1_score: 0.9101 - accuracy: 0.9103 - val_loss: 1.0643 - val_f1_score: 0.7326 - val_accuracy: 0.7396\n",
      "429/429 [==============================] - 1s 3ms/step - loss: 1.0643 - f1_score: 0.7326 - accuracy: 0.7396\n",
      "*********************************************************\n",
      "Finished training. Kernel description:5 ,Kernel title: 5, Dropout rate:0.1, Learning rate:0.001, embedding type: spacy, Accuracy:0.740, F1-weighted:0.733\n",
      "*********************************************************\n",
      "\n",
      "\n",
      "Start training model. Kernel description:10 ,Kernel title: 3, Dropout rate:0.2, Learning rate:0.003, embedding type: spacy\n",
      "Epoch 1/20\n",
      "3857/3857 [==============================] - 27s 7ms/step - loss: 1.0751 - f1_score: 0.6388 - accuracy: 0.6499 - val_loss: 0.8792 - val_f1_score: 0.7167 - val_accuracy: 0.7210\n",
      "Epoch 2/20\n",
      "3857/3857 [==============================] - 25s 6ms/step - loss: 0.6545 - f1_score: 0.7933 - accuracy: 0.7955 - val_loss: 0.8924 - val_f1_score: 0.7245 - val_accuracy: 0.7248\n",
      "Epoch 3/20\n",
      "3857/3857 [==============================] - 25s 6ms/step - loss: 0.4331 - f1_score: 0.8672 - accuracy: 0.8677 - val_loss: 0.9533 - val_f1_score: 0.7283 - val_accuracy: 0.7254\n",
      "Epoch 4/20\n",
      "3857/3857 [==============================] - 25s 6ms/step - loss: 0.3519 - f1_score: 0.8909 - accuracy: 0.8912 - val_loss: 1.0415 - val_f1_score: 0.7160 - val_accuracy: 0.7234\n",
      "429/429 [==============================] - 1s 3ms/step - loss: 1.0415 - f1_score: 0.7160 - accuracy: 0.7234\n",
      "*********************************************************\n",
      "Finished training. Kernel description:10 ,Kernel title: 3, Dropout rate:0.2, Learning rate:0.003, embedding type: spacy, Accuracy:0.723, F1-weighted:0.716\n",
      "*********************************************************\n",
      "\n",
      "\n",
      "Start training model. Kernel description:10 ,Kernel title: 3, Dropout rate:0.1, Learning rate:0.003, embedding type: spacy\n",
      "Epoch 1/20\n",
      "3857/3857 [==============================] - 26s 7ms/step - loss: 1.0449 - f1_score: 0.6462 - accuracy: 0.6566 - val_loss: 0.8909 - val_f1_score: 0.7068 - val_accuracy: 0.7151\n",
      "Epoch 2/20\n",
      "3857/3857 [==============================] - 25s 6ms/step - loss: 0.6132 - f1_score: 0.8057 - accuracy: 0.8074 - val_loss: 0.8775 - val_f1_score: 0.7234 - val_accuracy: 0.7308\n",
      "Epoch 3/20\n",
      "3857/3857 [==============================] - 25s 6ms/step - loss: 0.3989 - f1_score: 0.8761 - accuracy: 0.8764 - val_loss: 0.9979 - val_f1_score: 0.7203 - val_accuracy: 0.7240\n",
      "Epoch 4/20\n",
      "3857/3857 [==============================] - 25s 6ms/step - loss: 0.3203 - f1_score: 0.8989 - accuracy: 0.8991 - val_loss: 1.0320 - val_f1_score: 0.7240 - val_accuracy: 0.7311\n",
      "Epoch 5/20\n",
      "3857/3857 [==============================] - 28s 7ms/step - loss: 0.2688 - f1_score: 0.9134 - accuracy: 0.9135 - val_loss: 1.0601 - val_f1_score: 0.7288 - val_accuracy: 0.7327\n",
      "429/429 [==============================] - 1s 3ms/step - loss: 1.0601 - f1_score: 0.7288 - accuracy: 0.7327\n",
      "*********************************************************\n",
      "Finished training. Kernel description:10 ,Kernel title: 3, Dropout rate:0.1, Learning rate:0.003, embedding type: spacy, Accuracy:0.733, F1-weighted:0.729\n",
      "*********************************************************\n",
      "\n",
      "\n",
      "Start training model. Kernel description:10 ,Kernel title: 3, Dropout rate:0.2, Learning rate:0.001, embedding type: spacy\n",
      "Epoch 1/20\n",
      "3857/3857 [==============================] - 29s 7ms/step - loss: 1.0886 - f1_score: 0.6288 - accuracy: 0.6393 - val_loss: 0.8421 - val_f1_score: 0.7246 - val_accuracy: 0.7271\n",
      "Epoch 2/20\n",
      "3857/3857 [==============================] - 27s 7ms/step - loss: 0.6598 - f1_score: 0.7850 - accuracy: 0.7887 - val_loss: 0.8227 - val_f1_score: 0.7345 - val_accuracy: 0.7394\n",
      "Epoch 3/20\n",
      "3857/3857 [==============================] - 27s 7ms/step - loss: 0.4058 - f1_score: 0.8718 - accuracy: 0.8727 - val_loss: 0.9183 - val_f1_score: 0.7292 - val_accuracy: 0.7295\n",
      "Epoch 4/20\n",
      "3857/3857 [==============================] - 27s 7ms/step - loss: 0.2992 - f1_score: 0.9050 - accuracy: 0.9053 - val_loss: 1.0432 - val_f1_score: 0.7270 - val_accuracy: 0.7286\n",
      "Epoch 5/20\n",
      "3857/3857 [==============================] - 27s 7ms/step - loss: 0.2405 - f1_score: 0.9205 - accuracy: 0.9206 - val_loss: 1.1518 - val_f1_score: 0.7282 - val_accuracy: 0.7225\n",
      "429/429 [==============================] - 1s 3ms/step - loss: 1.1518 - f1_score: 0.7282 - accuracy: 0.7225\n",
      "*********************************************************\n",
      "Finished training. Kernel description:10 ,Kernel title: 3, Dropout rate:0.2, Learning rate:0.001, embedding type: spacy, Accuracy:0.723, F1-weighted:0.728\n",
      "*********************************************************\n",
      "\n",
      "\n",
      "Start training model. Kernel description:10 ,Kernel title: 3, Dropout rate:0.1, Learning rate:0.001, embedding type: spacy\n",
      "Epoch 1/20\n",
      "3857/3857 [==============================] - 29s 7ms/step - loss: 1.0586 - f1_score: 0.6386 - accuracy: 0.6490 - val_loss: 0.8484 - val_f1_score: 0.7170 - val_accuracy: 0.7251\n",
      "Epoch 2/20\n",
      "3857/3857 [==============================] - 27s 7ms/step - loss: 0.6326 - f1_score: 0.7932 - accuracy: 0.7964 - val_loss: 0.9049 - val_f1_score: 0.7176 - val_accuracy: 0.7218\n",
      "Epoch 3/20\n",
      "3857/3857 [==============================] - 27s 7ms/step - loss: 0.3797 - f1_score: 0.8795 - accuracy: 0.8804 - val_loss: 0.9986 - val_f1_score: 0.7232 - val_accuracy: 0.7222\n",
      "Epoch 4/20\n",
      "3857/3857 [==============================] - 27s 7ms/step - loss: 0.2721 - f1_score: 0.9124 - accuracy: 0.9127 - val_loss: 1.0886 - val_f1_score: 0.7261 - val_accuracy: 0.7272\n",
      "429/429 [==============================] - 1s 3ms/step - loss: 1.0886 - f1_score: 0.7261 - accuracy: 0.7272\n",
      "*********************************************************\n",
      "Finished training. Kernel description:10 ,Kernel title: 3, Dropout rate:0.1, Learning rate:0.001, embedding type: spacy, Accuracy:0.727, F1-weighted:0.726\n",
      "*********************************************************\n"
     ]
    },
    {
     "name": "stdout",
     "output_type": "stream",
     "text": [
      "\n",
      "\n",
      "Start training model. Kernel description:10 ,Kernel title: 5, Dropout rate:0.2, Learning rate:0.003, embedding type: spacy\n",
      "Epoch 1/20\n",
      "3857/3857 [==============================] - 29s 8ms/step - loss: 1.0752 - f1_score: 0.6372 - accuracy: 0.6488 - val_loss: 0.8844 - val_f1_score: 0.7129 - val_accuracy: 0.7195\n",
      "Epoch 2/20\n",
      "3857/3857 [==============================] - 27s 7ms/step - loss: 0.6581 - f1_score: 0.7939 - accuracy: 0.7965 - val_loss: 0.8640 - val_f1_score: 0.7285 - val_accuracy: 0.7270\n",
      "Epoch 3/20\n",
      "3857/3857 [==============================] - 27s 7ms/step - loss: 0.4383 - f1_score: 0.8676 - accuracy: 0.8682 - val_loss: 0.9590 - val_f1_score: 0.7319 - val_accuracy: 0.7241\n",
      "Epoch 4/20\n",
      "3857/3857 [==============================] - 27s 7ms/step - loss: 0.3507 - f1_score: 0.8917 - accuracy: 0.8920 - val_loss: 1.0218 - val_f1_score: 0.7337 - val_accuracy: 0.7300\n",
      "Epoch 5/20\n",
      "3857/3857 [==============================] - 27s 7ms/step - loss: 0.3001 - f1_score: 0.9054 - accuracy: 0.9056 - val_loss: 1.0592 - val_f1_score: 0.7308 - val_accuracy: 0.7218\n",
      "429/429 [==============================] - 1s 3ms/step - loss: 1.0592 - f1_score: 0.7308 - accuracy: 0.7218\n",
      "*********************************************************\n",
      "Finished training. Kernel description:10 ,Kernel title: 5, Dropout rate:0.2, Learning rate:0.003, embedding type: spacy, Accuracy:0.722, F1-weighted:0.731\n",
      "*********************************************************\n",
      "\n",
      "\n",
      "Start training model. Kernel description:10 ,Kernel title: 5, Dropout rate:0.1, Learning rate:0.003, embedding type: spacy\n",
      "Epoch 1/20\n",
      "3857/3857 [==============================] - 29s 7ms/step - loss: 1.0453 - f1_score: 0.6484 - accuracy: 0.6581 - val_loss: 0.8847 - val_f1_score: 0.7147 - val_accuracy: 0.7205\n",
      "Epoch 2/20\n",
      "3857/3857 [==============================] - 27s 7ms/step - loss: 0.6251 - f1_score: 0.8040 - accuracy: 0.8057 - val_loss: 0.8595 - val_f1_score: 0.7314 - val_accuracy: 0.7365\n",
      "Epoch 3/20\n",
      "3857/3857 [==============================] - 27s 7ms/step - loss: 0.4031 - f1_score: 0.8765 - accuracy: 0.8769 - val_loss: 1.0153 - val_f1_score: 0.7160 - val_accuracy: 0.7183\n",
      "Epoch 4/20\n",
      "3857/3857 [==============================] - 27s 7ms/step - loss: 0.3214 - f1_score: 0.8999 - accuracy: 0.9001 - val_loss: 1.0119 - val_f1_score: 0.7296 - val_accuracy: 0.7321\n",
      "Epoch 5/20\n",
      "3857/3857 [==============================] - 27s 7ms/step - loss: 0.2669 - f1_score: 0.9150 - accuracy: 0.9152 - val_loss: 1.0979 - val_f1_score: 0.7257 - val_accuracy: 0.7253\n",
      "429/429 [==============================] - 1s 3ms/step - loss: 1.0979 - f1_score: 0.7257 - accuracy: 0.7253\n",
      "*********************************************************\n",
      "Finished training. Kernel description:10 ,Kernel title: 5, Dropout rate:0.1, Learning rate:0.003, embedding type: spacy, Accuracy:0.725, F1-weighted:0.726\n",
      "*********************************************************\n",
      "\n",
      "\n",
      "Start training model. Kernel description:10 ,Kernel title: 5, Dropout rate:0.2, Learning rate:0.001, embedding type: spacy\n",
      "Epoch 1/20\n",
      "3857/3857 [==============================] - 29s 7ms/step - loss: 1.0937 - f1_score: 0.6267 - accuracy: 0.6382 - val_loss: 0.8473 - val_f1_score: 0.7190 - val_accuracy: 0.7255\n",
      "Epoch 2/20\n",
      "3857/3857 [==============================] - 27s 7ms/step - loss: 0.6667 - f1_score: 0.7840 - accuracy: 0.7874 - val_loss: 0.8233 - val_f1_score: 0.7365 - val_accuracy: 0.7385\n",
      "Epoch 3/20\n",
      "3857/3857 [==============================] - 27s 7ms/step - loss: 0.4142 - f1_score: 0.8703 - accuracy: 0.8712 - val_loss: 0.9325 - val_f1_score: 0.7335 - val_accuracy: 0.7298\n",
      "Epoch 4/20\n",
      "3857/3857 [==============================] - 27s 7ms/step - loss: 0.3060 - f1_score: 0.9024 - accuracy: 0.9028 - val_loss: 1.0074 - val_f1_score: 0.7379 - val_accuracy: 0.7348\n",
      "Epoch 5/20\n",
      "3857/3857 [==============================] - 27s 7ms/step - loss: 0.2487 - f1_score: 0.9190 - accuracy: 0.9191 - val_loss: 1.1334 - val_f1_score: 0.7313 - val_accuracy: 0.7287\n",
      "429/429 [==============================] - 1s 3ms/step - loss: 1.1334 - f1_score: 0.7313 - accuracy: 0.7287\n",
      "*********************************************************\n",
      "Finished training. Kernel description:10 ,Kernel title: 5, Dropout rate:0.2, Learning rate:0.001, embedding type: spacy, Accuracy:0.729, F1-weighted:0.731\n",
      "*********************************************************\n",
      "\n",
      "\n",
      "Start training model. Kernel description:10 ,Kernel title: 5, Dropout rate:0.1, Learning rate:0.001, embedding type: spacy\n",
      "Epoch 1/20\n",
      "3857/3857 [==============================] - 29s 7ms/step - loss: 1.0583 - f1_score: 0.6394 - accuracy: 0.6496 - val_loss: 0.9538 - val_f1_score: 0.6903 - val_accuracy: 0.6839\n",
      "Epoch 2/20\n",
      "3857/3857 [==============================] - 27s 7ms/step - loss: 0.6343 - f1_score: 0.7936 - accuracy: 0.7964 - val_loss: 0.8406 - val_f1_score: 0.7318 - val_accuracy: 0.7356\n",
      "Epoch 3/20\n",
      "3857/3857 [==============================] - 27s 7ms/step - loss: 0.3841 - f1_score: 0.8791 - accuracy: 0.8797 - val_loss: 0.9815 - val_f1_score: 0.7285 - val_accuracy: 0.7228\n",
      "Epoch 4/20\n",
      "3857/3857 [==============================] - 27s 7ms/step - loss: 0.2732 - f1_score: 0.9120 - accuracy: 0.9122 - val_loss: 1.0343 - val_f1_score: 0.7353 - val_accuracy: 0.7302\n",
      "Epoch 5/20\n",
      "3857/3857 [==============================] - 27s 7ms/step - loss: 0.2159 - f1_score: 0.9287 - accuracy: 0.9288 - val_loss: 1.1589 - val_f1_score: 0.7335 - val_accuracy: 0.7243\n",
      "429/429 [==============================] - 1s 3ms/step - loss: 1.1589 - f1_score: 0.7335 - accuracy: 0.7243\n",
      "*********************************************************\n",
      "Finished training. Kernel description:10 ,Kernel title: 5, Dropout rate:0.1, Learning rate:0.001, embedding type: spacy, Accuracy:0.724, F1-weighted:0.733\n",
      "*********************************************************\n",
      "\n",
      "\n",
      "Start training model. Kernel description:5 ,Kernel title: 3, Dropout rate:0.2, Learning rate:0.003, embedding type: word2vec\n",
      "Epoch 1/20\n",
      "3857/3857 [==============================] - 26s 7ms/step - loss: 1.0703 - f1_score: 0.6392 - accuracy: 0.6501 - val_loss: 0.8895 - val_f1_score: 0.7090 - val_accuracy: 0.7146\n",
      "Epoch 2/20\n",
      "3857/3857 [==============================] - 25s 6ms/step - loss: 0.6553 - f1_score: 0.7937 - accuracy: 0.7974 - val_loss: 0.8687 - val_f1_score: 0.7234 - val_accuracy: 0.7273\n",
      "Epoch 3/20\n",
      "3857/3857 [==============================] - 25s 6ms/step - loss: 0.4392 - f1_score: 0.8658 - accuracy: 0.8668 - val_loss: 0.8970 - val_f1_score: 0.7352 - val_accuracy: 0.7325\n",
      "Epoch 4/20\n",
      "3857/3857 [==============================] - 25s 6ms/step - loss: 0.3555 - f1_score: 0.8897 - accuracy: 0.8901 - val_loss: 1.0074 - val_f1_score: 0.7376 - val_accuracy: 0.7310\n",
      "Epoch 5/20\n",
      "3857/3857 [==============================] - 25s 7ms/step - loss: 0.3105 - f1_score: 0.9022 - accuracy: 0.9024 - val_loss: 1.0126 - val_f1_score: 0.7343 - val_accuracy: 0.7272\n",
      "429/429 [==============================] - 1s 3ms/step - loss: 1.0126 - f1_score: 0.7343 - accuracy: 0.7272\n",
      "*********************************************************\n",
      "Finished training. Kernel description:5 ,Kernel title: 3, Dropout rate:0.2, Learning rate:0.003, embedding type: word2vec, Accuracy:0.727, F1-weighted:0.734\n",
      "*********************************************************\n",
      "\n",
      "\n",
      "Start training model. Kernel description:5 ,Kernel title: 3, Dropout rate:0.1, Learning rate:0.003, embedding type: word2vec\n",
      "Epoch 1/20\n",
      "3857/3857 [==============================] - 28s 7ms/step - loss: 1.0414 - f1_score: 0.6492 - accuracy: 0.6591 - val_loss: 0.8535 - val_f1_score: 0.7234 - val_accuracy: 0.7251\n",
      "Epoch 2/20\n",
      "3857/3857 [==============================] - 26s 7ms/step - loss: 0.6235 - f1_score: 0.8056 - accuracy: 0.8075 - val_loss: 0.8525 - val_f1_score: 0.7332 - val_accuracy: 0.7355\n",
      "Epoch 3/20\n",
      "3857/3857 [==============================] - 25s 6ms/step - loss: 0.4094 - f1_score: 0.8751 - accuracy: 0.8755 - val_loss: 0.8854 - val_f1_score: 0.7368 - val_accuracy: 0.7403\n",
      "Epoch 4/20\n",
      "3857/3857 [==============================] - 25s 6ms/step - loss: 0.3313 - f1_score: 0.8970 - accuracy: 0.8972 - val_loss: 0.9586 - val_f1_score: 0.7397 - val_accuracy: 0.7438\n",
      "Epoch 5/20\n",
      "3857/3857 [==============================] - 25s 6ms/step - loss: 0.2916 - f1_score: 0.9072 - accuracy: 0.9073 - val_loss: 1.0374 - val_f1_score: 0.7322 - val_accuracy: 0.7304\n"
     ]
    },
    {
     "name": "stdout",
     "output_type": "stream",
     "text": [
      "429/429 [==============================] - 1s 3ms/step - loss: 1.0374 - f1_score: 0.7322 - accuracy: 0.7304\n",
      "*********************************************************\n",
      "Finished training. Kernel description:5 ,Kernel title: 3, Dropout rate:0.1, Learning rate:0.003, embedding type: word2vec, Accuracy:0.730, F1-weighted:0.732\n",
      "*********************************************************\n",
      "\n",
      "\n",
      "Start training model. Kernel description:5 ,Kernel title: 3, Dropout rate:0.2, Learning rate:0.001, embedding type: word2vec\n",
      "Epoch 1/20\n",
      "3857/3857 [==============================] - 27s 7ms/step - loss: 1.0976 - f1_score: 0.6255 - accuracy: 0.6362 - val_loss: 0.8598 - val_f1_score: 0.7194 - val_accuracy: 0.7222\n",
      "Epoch 2/20\n",
      "3857/3857 [==============================] - 25s 6ms/step - loss: 0.6937 - f1_score: 0.7748 - accuracy: 0.7787 - val_loss: 0.8554 - val_f1_score: 0.7289 - val_accuracy: 0.7256\n",
      "Epoch 3/20\n",
      "3857/3857 [==============================] - 25s 6ms/step - loss: 0.4444 - f1_score: 0.8602 - accuracy: 0.8612 - val_loss: 0.9507 - val_f1_score: 0.7254 - val_accuracy: 0.7161\n",
      "Epoch 4/20\n",
      "3857/3857 [==============================] - 25s 6ms/step - loss: 0.3400 - f1_score: 0.8916 - accuracy: 0.8919 - val_loss: 1.0027 - val_f1_score: 0.7311 - val_accuracy: 0.7270\n",
      "Epoch 5/20\n",
      "3857/3857 [==============================] - 25s 6ms/step - loss: 0.2901 - f1_score: 0.9046 - accuracy: 0.9048 - val_loss: 1.0846 - val_f1_score: 0.7331 - val_accuracy: 0.7190\n",
      "429/429 [==============================] - 1s 3ms/step - loss: 1.0846 - f1_score: 0.7331 - accuracy: 0.7190\n",
      "*********************************************************\n",
      "Finished training. Kernel description:5 ,Kernel title: 3, Dropout rate:0.2, Learning rate:0.001, embedding type: word2vec, Accuracy:0.719, F1-weighted:0.733\n",
      "*********************************************************\n",
      "\n",
      "\n",
      "Start training model. Kernel description:5 ,Kernel title: 3, Dropout rate:0.1, Learning rate:0.001, embedding type: word2vec\n",
      "Epoch 1/20\n",
      "3857/3857 [==============================] - 26s 7ms/step - loss: 1.0628 - f1_score: 0.6356 - accuracy: 0.6456 - val_loss: 0.8568 - val_f1_score: 0.7150 - val_accuracy: 0.7210\n",
      "Epoch 2/20\n",
      "3857/3857 [==============================] - 25s 6ms/step - loss: 0.6610 - f1_score: 0.7865 - accuracy: 0.7893 - val_loss: 0.8545 - val_f1_score: 0.7263 - val_accuracy: 0.7334\n",
      "Epoch 3/20\n",
      "3857/3857 [==============================] - 25s 6ms/step - loss: 0.4185 - f1_score: 0.8687 - accuracy: 0.8693 - val_loss: 0.9386 - val_f1_score: 0.7272 - val_accuracy: 0.7324\n",
      "Epoch 4/20\n",
      "3857/3857 [==============================] - 25s 6ms/step - loss: 0.3179 - f1_score: 0.8985 - accuracy: 0.8987 - val_loss: 1.0354 - val_f1_score: 0.7257 - val_accuracy: 0.7339\n",
      "Epoch 5/20\n",
      "3857/3857 [==============================] - 25s 6ms/step - loss: 0.2702 - f1_score: 0.9113 - accuracy: 0.9114 - val_loss: 1.1369 - val_f1_score: 0.7145 - val_accuracy: 0.7201\n",
      "429/429 [==============================] - 1s 3ms/step - loss: 1.1369 - f1_score: 0.7145 - accuracy: 0.7201\n",
      "*********************************************************\n",
      "Finished training. Kernel description:5 ,Kernel title: 3, Dropout rate:0.1, Learning rate:0.001, embedding type: word2vec, Accuracy:0.720, F1-weighted:0.714\n",
      "*********************************************************\n",
      "\n",
      "\n",
      "Start training model. Kernel description:5 ,Kernel title: 5, Dropout rate:0.2, Learning rate:0.003, embedding type: word2vec\n",
      "Epoch 1/20\n",
      "3857/3857 [==============================] - 26s 7ms/step - loss: 1.0704 - f1_score: 0.6383 - accuracy: 0.6493 - val_loss: 0.8475 - val_f1_score: 0.7236 - val_accuracy: 0.7270\n",
      "Epoch 2/20\n",
      "3857/3857 [==============================] - 24s 6ms/step - loss: 0.6509 - f1_score: 0.7954 - accuracy: 0.7983 - val_loss: 0.8470 - val_f1_score: 0.7328 - val_accuracy: 0.7353\n",
      "Epoch 3/20\n",
      "3857/3857 [==============================] - 24s 6ms/step - loss: 0.4415 - f1_score: 0.8664 - accuracy: 0.8670 - val_loss: 0.9050 - val_f1_score: 0.7322 - val_accuracy: 0.7340\n",
      "Epoch 4/20\n",
      "3857/3857 [==============================] - 24s 6ms/step - loss: 0.3606 - f1_score: 0.8887 - accuracy: 0.8890 - val_loss: 0.9628 - val_f1_score: 0.7318 - val_accuracy: 0.7368\n",
      "Epoch 5/20\n",
      "3857/3857 [==============================] - 23s 6ms/step - loss: 0.3149 - f1_score: 0.9013 - accuracy: 0.9015 - val_loss: 1.0323 - val_f1_score: 0.7317 - val_accuracy: 0.7299\n",
      "429/429 [==============================] - 1s 3ms/step - loss: 1.0323 - f1_score: 0.7317 - accuracy: 0.7299\n",
      "*********************************************************\n",
      "Finished training. Kernel description:5 ,Kernel title: 5, Dropout rate:0.2, Learning rate:0.003, embedding type: word2vec, Accuracy:0.730, F1-weighted:0.732\n",
      "*********************************************************\n",
      "\n",
      "\n",
      "Start training model. Kernel description:5 ,Kernel title: 5, Dropout rate:0.1, Learning rate:0.003, embedding type: word2vec\n",
      "Epoch 1/20\n",
      "3857/3857 [==============================] - 25s 7ms/step - loss: 1.0429 - f1_score: 0.6480 - accuracy: 0.6575 - val_loss: 0.8599 - val_f1_score: 0.7160 - val_accuracy: 0.7259\n",
      "Epoch 2/20\n",
      "3857/3857 [==============================] - 23s 6ms/step - loss: 0.6222 - f1_score: 0.8052 - accuracy: 0.8069 - val_loss: 0.8528 - val_f1_score: 0.7360 - val_accuracy: 0.7369\n",
      "Epoch 3/20\n",
      "3857/3857 [==============================] - 23s 6ms/step - loss: 0.4050 - f1_score: 0.8758 - accuracy: 0.8762 - val_loss: 0.9293 - val_f1_score: 0.7335 - val_accuracy: 0.7315\n",
      "Epoch 4/20\n",
      "3857/3857 [==============================] - 23s 6ms/step - loss: 0.3332 - f1_score: 0.8960 - accuracy: 0.8963 - val_loss: 0.9649 - val_f1_score: 0.7359 - val_accuracy: 0.7392\n",
      "Epoch 5/20\n",
      "3857/3857 [==============================] - 23s 6ms/step - loss: 0.2887 - f1_score: 0.9079 - accuracy: 0.9080 - val_loss: 0.9714 - val_f1_score: 0.7410 - val_accuracy: 0.7384\n",
      "429/429 [==============================] - 1s 3ms/step - loss: 0.9714 - f1_score: 0.7410 - accuracy: 0.7384\n",
      "*********************************************************\n",
      "Finished training. Kernel description:5 ,Kernel title: 5, Dropout rate:0.1, Learning rate:0.003, embedding type: word2vec, Accuracy:0.738, F1-weighted:0.741\n",
      "*********************************************************\n",
      "\n",
      "\n",
      "Start training model. Kernel description:5 ,Kernel title: 5, Dropout rate:0.2, Learning rate:0.001, embedding type: word2vec\n",
      "Epoch 1/20\n",
      "3857/3857 [==============================] - 26s 7ms/step - loss: 1.0925 - f1_score: 0.6273 - accuracy: 0.6375 - val_loss: 0.8429 - val_f1_score: 0.7202 - val_accuracy: 0.7271\n",
      "Epoch 2/20\n",
      "3857/3857 [==============================] - 24s 6ms/step - loss: 0.6920 - f1_score: 0.7769 - accuracy: 0.7808 - val_loss: 0.8387 - val_f1_score: 0.7271 - val_accuracy: 0.7284\n",
      "Epoch 3/20\n",
      "3857/3857 [==============================] - 24s 6ms/step - loss: 0.4416 - f1_score: 0.8630 - accuracy: 0.8639 - val_loss: 0.9330 - val_f1_score: 0.7167 - val_accuracy: 0.7166\n",
      "Epoch 4/20\n",
      "3857/3857 [==============================] - 24s 6ms/step - loss: 0.3416 - f1_score: 0.8914 - accuracy: 0.8917 - val_loss: 0.9760 - val_f1_score: 0.7195 - val_accuracy: 0.7222\n",
      "Epoch 5/20\n",
      "3857/3857 [==============================] - 24s 6ms/step - loss: 0.2935 - f1_score: 0.9047 - accuracy: 0.9050 - val_loss: 1.1486 - val_f1_score: 0.6960 - val_accuracy: 0.6938\n",
      "429/429 [==============================] - 1s 3ms/step - loss: 1.1486 - f1_score: 0.6960 - accuracy: 0.6938\n",
      "*********************************************************\n",
      "Finished training. Kernel description:5 ,Kernel title: 5, Dropout rate:0.2, Learning rate:0.001, embedding type: word2vec, Accuracy:0.694, F1-weighted:0.696\n",
      "*********************************************************\n",
      "\n",
      "\n",
      "Start training model. Kernel description:5 ,Kernel title: 5, Dropout rate:0.1, Learning rate:0.001, embedding type: word2vec\n",
      "Epoch 1/20\n",
      "3857/3857 [==============================] - 25s 7ms/step - loss: 1.0652 - f1_score: 0.6361 - accuracy: 0.6453 - val_loss: 0.9012 - val_f1_score: 0.6979 - val_accuracy: 0.7017\n",
      "Epoch 2/20\n",
      "3857/3857 [==============================] - 24s 6ms/step - loss: 0.6607 - f1_score: 0.7862 - accuracy: 0.7887 - val_loss: 0.8373 - val_f1_score: 0.7329 - val_accuracy: 0.7347\n",
      "Epoch 3/20\n"
     ]
    },
    {
     "name": "stdout",
     "output_type": "stream",
     "text": [
      "3857/3857 [==============================] - 24s 6ms/step - loss: 0.4157 - f1_score: 0.8698 - accuracy: 0.8704 - val_loss: 0.9321 - val_f1_score: 0.7328 - val_accuracy: 0.7321\n",
      "Epoch 4/20\n",
      "3857/3857 [==============================] - 24s 6ms/step - loss: 0.3185 - f1_score: 0.8982 - accuracy: 0.8984 - val_loss: 1.0080 - val_f1_score: 0.7347 - val_accuracy: 0.7329\n",
      "Epoch 5/20\n",
      "3857/3857 [==============================] - 24s 6ms/step - loss: 0.2703 - f1_score: 0.9108 - accuracy: 0.9110 - val_loss: 1.1495 - val_f1_score: 0.7271 - val_accuracy: 0.7251\n",
      "429/429 [==============================] - 1s 3ms/step - loss: 1.1495 - f1_score: 0.7271 - accuracy: 0.7251\n",
      "*********************************************************\n",
      "Finished training. Kernel description:5 ,Kernel title: 5, Dropout rate:0.1, Learning rate:0.001, embedding type: word2vec, Accuracy:0.725, F1-weighted:0.727\n",
      "*********************************************************\n",
      "\n",
      "\n",
      "Start training model. Kernel description:10 ,Kernel title: 3, Dropout rate:0.2, Learning rate:0.003, embedding type: word2vec\n",
      "Epoch 1/20\n",
      "3857/3857 [==============================] - 27s 7ms/step - loss: 1.0660 - f1_score: 0.6406 - accuracy: 0.6511 - val_loss: 0.8981 - val_f1_score: 0.7092 - val_accuracy: 0.7119\n",
      "Epoch 2/20\n",
      "3857/3857 [==============================] - 25s 6ms/step - loss: 0.6512 - f1_score: 0.7946 - accuracy: 0.7973 - val_loss: 0.8826 - val_f1_score: 0.7219 - val_accuracy: 0.7263\n",
      "Epoch 3/20\n",
      "3857/3857 [==============================] - 25s 6ms/step - loss: 0.4337 - f1_score: 0.8676 - accuracy: 0.8684 - val_loss: 0.9260 - val_f1_score: 0.7350 - val_accuracy: 0.7351\n",
      "Epoch 4/20\n",
      "3857/3857 [==============================] - 26s 7ms/step - loss: 0.3519 - f1_score: 0.8899 - accuracy: 0.8902 - val_loss: 0.9690 - val_f1_score: 0.7360 - val_accuracy: 0.7383\n",
      "Epoch 5/20\n",
      "3857/3857 [==============================] - 26s 7ms/step - loss: 0.3072 - f1_score: 0.9028 - accuracy: 0.9031 - val_loss: 1.0034 - val_f1_score: 0.7366 - val_accuracy: 0.7361\n",
      "429/429 [==============================] - 1s 3ms/step - loss: 1.0034 - f1_score: 0.7366 - accuracy: 0.7361\n",
      "*********************************************************\n",
      "Finished training. Kernel description:10 ,Kernel title: 3, Dropout rate:0.2, Learning rate:0.003, embedding type: word2vec, Accuracy:0.736, F1-weighted:0.737\n",
      "*********************************************************\n",
      "\n",
      "\n",
      "Start training model. Kernel description:10 ,Kernel title: 3, Dropout rate:0.1, Learning rate:0.003, embedding type: word2vec\n",
      "Epoch 1/20\n",
      "3857/3857 [==============================] - 28s 7ms/step - loss: 1.0432 - f1_score: 0.6478 - accuracy: 0.6577 - val_loss: 1.2604 - val_f1_score: 0.5981 - val_accuracy: 0.6065\n",
      "Epoch 2/20\n",
      "3857/3857 [==============================] - 27s 7ms/step - loss: 0.6251 - f1_score: 0.8040 - accuracy: 0.8061 - val_loss: 0.8507 - val_f1_score: 0.7327 - val_accuracy: 0.7319\n",
      "Epoch 3/20\n",
      "3857/3857 [==============================] - 27s 7ms/step - loss: 0.4040 - f1_score: 0.8751 - accuracy: 0.8755 - val_loss: 0.9240 - val_f1_score: 0.7364 - val_accuracy: 0.7353\n",
      "Epoch 4/20\n",
      "3857/3857 [==============================] - 26s 7ms/step - loss: 0.3247 - f1_score: 0.8987 - accuracy: 0.8989 - val_loss: 0.9893 - val_f1_score: 0.7362 - val_accuracy: 0.7413\n",
      "Epoch 5/20\n",
      "3857/3857 [==============================] - 27s 7ms/step - loss: 0.2793 - f1_score: 0.9103 - accuracy: 0.9105 - val_loss: 1.0359 - val_f1_score: 0.7371 - val_accuracy: 0.7346\n",
      "429/429 [==============================] - 1s 3ms/step - loss: 1.0359 - f1_score: 0.7371 - accuracy: 0.7346\n",
      "*********************************************************\n",
      "Finished training. Kernel description:10 ,Kernel title: 3, Dropout rate:0.1, Learning rate:0.003, embedding type: word2vec, Accuracy:0.735, F1-weighted:0.737\n",
      "*********************************************************\n",
      "\n",
      "\n",
      "Start training model. Kernel description:10 ,Kernel title: 3, Dropout rate:0.2, Learning rate:0.001, embedding type: word2vec\n",
      "Epoch 1/20\n",
      "3857/3857 [==============================] - 29s 7ms/step - loss: 1.0961 - f1_score: 0.6254 - accuracy: 0.6361 - val_loss: 0.8481 - val_f1_score: 0.7203 - val_accuracy: 0.7255\n",
      "Epoch 2/20\n",
      "3857/3857 [==============================] - 25s 7ms/step - loss: 0.6835 - f1_score: 0.7780 - accuracy: 0.7819 - val_loss: 0.8407 - val_f1_score: 0.7236 - val_accuracy: 0.7297\n",
      "Epoch 3/20\n",
      "3857/3857 [==============================] - 25s 6ms/step - loss: 0.4320 - f1_score: 0.8642 - accuracy: 0.8650 - val_loss: 0.9865 - val_f1_score: 0.7075 - val_accuracy: 0.7143\n",
      "Epoch 4/20\n",
      "3857/3857 [==============================] - 25s 6ms/step - loss: 0.3331 - f1_score: 0.8938 - accuracy: 0.8941 - val_loss: 1.2223 - val_f1_score: 0.6868 - val_accuracy: 0.6837\n",
      "Epoch 5/20\n",
      "3857/3857 [==============================] - 25s 6ms/step - loss: 0.2832 - f1_score: 0.9077 - accuracy: 0.9079 - val_loss: 0.9805 - val_f1_score: 0.7343 - val_accuracy: 0.7374\n",
      "429/429 [==============================] - 1s 3ms/step - loss: 0.9805 - f1_score: 0.7343 - accuracy: 0.7374\n",
      "*********************************************************\n",
      "Finished training. Kernel description:10 ,Kernel title: 3, Dropout rate:0.2, Learning rate:0.001, embedding type: word2vec, Accuracy:0.737, F1-weighted:0.734\n",
      "*********************************************************\n",
      "\n",
      "\n",
      "Start training model. Kernel description:10 ,Kernel title: 3, Dropout rate:0.1, Learning rate:0.001, embedding type: word2vec\n",
      "Epoch 1/20\n",
      "3857/3857 [==============================] - 29s 7ms/step - loss: 1.0607 - f1_score: 0.6378 - accuracy: 0.6477 - val_loss: 1.1191 - val_f1_score: 0.6327 - val_accuracy: 0.6426\n",
      "Epoch 2/20\n",
      "3857/3857 [==============================] - 25s 7ms/step - loss: 0.6463 - f1_score: 0.7903 - accuracy: 0.7937 - val_loss: 0.8292 - val_f1_score: 0.7356 - val_accuracy: 0.7391\n",
      "Epoch 3/20\n",
      "3857/3857 [==============================] - 26s 7ms/step - loss: 0.4062 - f1_score: 0.8715 - accuracy: 0.8723 - val_loss: 0.8854 - val_f1_score: 0.7381 - val_accuracy: 0.7395\n",
      "Epoch 4/20\n",
      "3857/3857 [==============================] - 26s 7ms/step - loss: 0.3076 - f1_score: 0.9019 - accuracy: 0.9021 - val_loss: 0.9789 - val_f1_score: 0.7292 - val_accuracy: 0.7317\n",
      "Epoch 5/20\n",
      "3857/3857 [==============================] - 26s 7ms/step - loss: 0.2586 - f1_score: 0.9150 - accuracy: 0.9152 - val_loss: 1.0253 - val_f1_score: 0.7340 - val_accuracy: 0.7336\n",
      "429/429 [==============================] - 1s 3ms/step - loss: 1.0253 - f1_score: 0.7340 - accuracy: 0.7336\n",
      "*********************************************************\n",
      "Finished training. Kernel description:10 ,Kernel title: 3, Dropout rate:0.1, Learning rate:0.001, embedding type: word2vec, Accuracy:0.734, F1-weighted:0.734\n",
      "*********************************************************\n",
      "\n",
      "\n",
      "Start training model. Kernel description:10 ,Kernel title: 5, Dropout rate:0.2, Learning rate:0.003, embedding type: word2vec\n",
      "Epoch 1/20\n",
      "3857/3857 [==============================] - 27s 7ms/step - loss: 1.0715 - f1_score: 0.6392 - accuracy: 0.6499 - val_loss: 0.9197 - val_f1_score: 0.7005 - val_accuracy: 0.7069\n",
      "Epoch 2/20\n",
      "3857/3857 [==============================] - 27s 7ms/step - loss: 0.6515 - f1_score: 0.7949 - accuracy: 0.7975 - val_loss: 0.8803 - val_f1_score: 0.7261 - val_accuracy: 0.7278\n",
      "Epoch 3/20\n",
      "3857/3857 [==============================] - 26s 7ms/step - loss: 0.4323 - f1_score: 0.8666 - accuracy: 0.8672 - val_loss: 0.9164 - val_f1_score: 0.7307 - val_accuracy: 0.7292\n",
      "Epoch 4/20\n",
      "3857/3857 [==============================] - 27s 7ms/step - loss: 0.3500 - f1_score: 0.8906 - accuracy: 0.8909 - val_loss: 1.0008 - val_f1_score: 0.7299 - val_accuracy: 0.7267\n",
      "Epoch 5/20\n",
      "3857/3857 [==============================] - 26s 7ms/step - loss: 0.3051 - f1_score: 0.9023 - accuracy: 0.9025 - val_loss: 1.0590 - val_f1_score: 0.7288 - val_accuracy: 0.7224\n",
      "429/429 [==============================] - 1s 3ms/step - loss: 1.0590 - f1_score: 0.7288 - accuracy: 0.7224\n",
      "*********************************************************\n",
      "Finished training. Kernel description:10 ,Kernel title: 5, Dropout rate:0.2, Learning rate:0.003, embedding type: word2vec, Accuracy:0.722, F1-weighted:0.729\n",
      "*********************************************************\n",
      "\n",
      "\n",
      "Start training model. Kernel description:10 ,Kernel title: 5, Dropout rate:0.1, Learning rate:0.003, embedding type: word2vec\n"
     ]
    },
    {
     "name": "stdout",
     "output_type": "stream",
     "text": [
      "Epoch 1/20\n",
      "3857/3857 [==============================] - 28s 7ms/step - loss: 1.0497 - f1_score: 0.6449 - accuracy: 0.6548 - val_loss: 0.9052 - val_f1_score: 0.7101 - val_accuracy: 0.7100\n",
      "Epoch 2/20\n",
      "3857/3857 [==============================] - 26s 7ms/step - loss: 0.6282 - f1_score: 0.8033 - accuracy: 0.8054 - val_loss: 0.8596 - val_f1_score: 0.7319 - val_accuracy: 0.7292\n",
      "Epoch 3/20\n",
      "3857/3857 [==============================] - 26s 7ms/step - loss: 0.4076 - f1_score: 0.8746 - accuracy: 0.8750 - val_loss: 0.9466 - val_f1_score: 0.7315 - val_accuracy: 0.7254\n",
      "Epoch 4/20\n",
      "3857/3857 [==============================] - 26s 7ms/step - loss: 0.3289 - f1_score: 0.8961 - accuracy: 0.8964 - val_loss: 1.0028 - val_f1_score: 0.7349 - val_accuracy: 0.7275\n",
      "Epoch 5/20\n",
      "3857/3857 [==============================] - 26s 7ms/step - loss: 0.2832 - f1_score: 0.9101 - accuracy: 0.9102 - val_loss: 0.9787 - val_f1_score: 0.7418 - val_accuracy: 0.7353\n",
      "429/429 [==============================] - 1s 3ms/step - loss: 0.9787 - f1_score: 0.7418 - accuracy: 0.7353\n",
      "*********************************************************\n",
      "Finished training. Kernel description:10 ,Kernel title: 5, Dropout rate:0.1, Learning rate:0.003, embedding type: word2vec, Accuracy:0.735, F1-weighted:0.742\n",
      "*********************************************************\n",
      "\n",
      "\n",
      "Start training model. Kernel description:10 ,Kernel title: 5, Dropout rate:0.2, Learning rate:0.001, embedding type: word2vec\n",
      "Epoch 1/20\n",
      "3857/3857 [==============================] - 28s 7ms/step - loss: 1.1030 - f1_score: 0.6237 - accuracy: 0.6345 - val_loss: 0.8845 - val_f1_score: 0.7075 - val_accuracy: 0.7078\n",
      "Epoch 2/20\n",
      "3857/3857 [==============================] - 26s 7ms/step - loss: 0.6925 - f1_score: 0.7765 - accuracy: 0.7801 - val_loss: 0.8545 - val_f1_score: 0.7279 - val_accuracy: 0.7253\n",
      "Epoch 3/20\n",
      "3857/3857 [==============================] - 26s 7ms/step - loss: 0.4415 - f1_score: 0.8621 - accuracy: 0.8630 - val_loss: 0.9731 - val_f1_score: 0.7208 - val_accuracy: 0.7144\n",
      "Epoch 4/20\n",
      "3857/3857 [==============================] - 26s 7ms/step - loss: 0.3422 - f1_score: 0.8921 - accuracy: 0.8924 - val_loss: 1.0578 - val_f1_score: 0.7203 - val_accuracy: 0.7115\n",
      "Epoch 5/20\n",
      "3857/3857 [==============================] - 26s 7ms/step - loss: 0.2893 - f1_score: 0.9060 - accuracy: 0.9062 - val_loss: 1.0835 - val_f1_score: 0.7239 - val_accuracy: 0.7150\n",
      "429/429 [==============================] - 1s 3ms/step - loss: 1.0835 - f1_score: 0.7239 - accuracy: 0.7150\n",
      "*********************************************************\n",
      "Finished training. Kernel description:10 ,Kernel title: 5, Dropout rate:0.2, Learning rate:0.001, embedding type: word2vec, Accuracy:0.715, F1-weighted:0.724\n",
      "*********************************************************\n",
      "\n",
      "\n",
      "Start training model. Kernel description:10 ,Kernel title: 5, Dropout rate:0.1, Learning rate:0.001, embedding type: word2vec\n",
      "Epoch 1/20\n",
      "3857/3857 [==============================] - 28s 7ms/step - loss: 1.0691 - f1_score: 0.6350 - accuracy: 0.6450 - val_loss: 0.8690 - val_f1_score: 0.7099 - val_accuracy: 0.7144\n",
      "Epoch 2/20\n",
      "3857/3857 [==============================] - 26s 7ms/step - loss: 0.6591 - f1_score: 0.7874 - accuracy: 0.7900 - val_loss: 0.8315 - val_f1_score: 0.7270 - val_accuracy: 0.7319\n",
      "Epoch 3/20\n",
      "3857/3857 [==============================] - 25s 7ms/step - loss: 0.4104 - f1_score: 0.8721 - accuracy: 0.8726 - val_loss: 0.9417 - val_f1_score: 0.7230 - val_accuracy: 0.7245\n",
      "Epoch 4/20\n",
      "3857/3857 [==============================] - 25s 7ms/step - loss: 0.3132 - f1_score: 0.9009 - accuracy: 0.9011 - val_loss: 0.9712 - val_f1_score: 0.7252 - val_accuracy: 0.7277\n",
      "Epoch 5/20\n",
      "3857/3857 [==============================] - 25s 6ms/step - loss: 0.2622 - f1_score: 0.9141 - accuracy: 0.9143 - val_loss: 1.0302 - val_f1_score: 0.7301 - val_accuracy: 0.7325\n",
      "429/429 [==============================] - 1s 3ms/step - loss: 1.0302 - f1_score: 0.7301 - accuracy: 0.7325\n",
      "*********************************************************\n",
      "Finished training. Kernel description:10 ,Kernel title: 5, Dropout rate:0.1, Learning rate:0.001, embedding type: word2vec, Accuracy:0.732, F1-weighted:0.730\n",
      "*********************************************************\n"
     ]
    }
   ],
   "source": [
    "best_embedding_model_history=None\n",
    "best_f1_embedding=math.inf\n",
    "\n",
    "\n",
    "#Search for the best hyperparameters. Exhausted search(Cartesian product).Each run trains the network and eveluates of the validation set.\n",
    "#Results are loaded to a dictionary.\n",
    "strategy = tf.distribute.MirroredStrategy()\n",
    "print ('Number of devices: {}'.format(strategy.num_replicas_in_sync))\n",
    "with strategy.scope():\n",
    "    emb_gr.prepare_preprocessing_voc_layers(cleaned_train_title, num_voc_title=num_voc_title,\n",
    "                                            description_array=cleaned_train_description,\n",
    "                                            num_voc_description=num_voc_description,\n",
    "                                            author_array=X_train[\"author_id\"].values, max_len_title=max_len_title,\n",
    "                                            max_len_desc=max_len_desc)\n",
    "    for emb_type in embedding_type:\n",
    "        emb_gr.prepare_embedding_vectors(cleaned_train_description, cleaned_train_title,pretrained_emb=emb_type,window_size_desc=window_size_desc,window_size_title=window_size_title)               \n",
    "        for kernel_desc in kernel_size_desc:\n",
    "            for kernel_title in kernel_size_title:                \n",
    "                for lr in learning_rate:\n",
    "                    for dropout_rate in dropout_rates:\n",
    "                        emb_gr.build_model(len(other_columns), dense_config, kernel_size_desc=kernel_desc, kernel_size_title=kernel_title, dropout_rate=dropout_rate, conv_filters_desc=conv_filters_desc, conv_filters_title=conv_filters_title)\n",
    "                        print(\"\\n\")\n",
    "                        print(f\"Start training model. Kernel description:{kernel_desc} ,Kernel title: {kernel_title}, Dropout rate:{dropout_rate}, Learning rate:{lr}, embedding type: {emb_type}\")\n",
    "                        \n",
    "                        history=emb_gr.fit(X_train[other_columns].values, X_val[other_columns].values,  cleaned_train_description, \n",
    "                                           cleaned_val_description, cleaned_train_title, cleaned_val_title, \n",
    "                                           X_train[\"author_id\"].values, X_val[\"author_id\"].values, y_train, y_val, epochs,patience=patience, learning_rate = lr)\n",
    "                        embedding_history=history.history.copy()\n",
    "                        scores_dict=emb_gr.evaluate(X_val[other_columns].values, cleaned_val_description, cleaned_val_title, \n",
    "                                                    X_val[\"author_id\"].values,y_val)\n",
    "                        embedding_scores['embedding type'].append(emb_type)\n",
    "                        embedding_scores['learning rate'].append(lr)\n",
    "                        embedding_scores['kernel_desc'].append(kernel_desc)\n",
    "                        embedding_scores['kernel_title'].append(kernel_title)\n",
    "                        embedding_scores['dropout rate'].append(dropout_rate)\n",
    "                        embedding_scores['accuracy'].append(scores_dict[\"accuracy\"])\n",
    "                        embedding_scores['f1-weighted'].append(scores_dict[\"f1_score\"])\n",
    "                        accuracy=scores_dict[\"accuracy\"]\n",
    "                        f1_weighted=scores_dict[\"f1_score\"]\n",
    "                        print(\"*********************************************************\")\n",
    "                        print(f\"Finished training. Kernel description:{kernel_desc} ,Kernel title: {kernel_title}, Dropout rate:{dropout_rate}, Learning rate:{lr}, embedding type: {emb_type}, Accuracy:{accuracy:.3f}, F1-weighted:{f1_weighted:.3f}\")\n",
    "                        print(\"*********************************************************\")\n",
    "                        if  scores_dict[\"f1_score\"]<best_f1_embedding:\n",
    "                            best_f1_embedding= scores_dict[\"f1_score\"]\n",
    "                            best_embedding_model_history=embedding_history"
   ]
  },
  {
   "cell_type": "code",
   "execution_count": 83,
   "metadata": {},
   "outputs": [
    {
     "data": {
      "text/html": [
       "<div>\n",
       "<style scoped>\n",
       "    .dataframe tbody tr th:only-of-type {\n",
       "        vertical-align: middle;\n",
       "    }\n",
       "\n",
       "    .dataframe tbody tr th {\n",
       "        vertical-align: top;\n",
       "    }\n",
       "\n",
       "    .dataframe thead th {\n",
       "        text-align: right;\n",
       "    }\n",
       "</style>\n",
       "<table border=\"1\" class=\"dataframe\">\n",
       "  <thead>\n",
       "    <tr style=\"text-align: right;\">\n",
       "      <th></th>\n",
       "      <th>embedding type</th>\n",
       "      <th>learning rate</th>\n",
       "      <th>kernel_desc</th>\n",
       "      <th>kernel_title</th>\n",
       "      <th>dropout rate</th>\n",
       "      <th>accuracy</th>\n",
       "      <th>f1-weighted</th>\n",
       "    </tr>\n",
       "  </thead>\n",
       "  <tbody>\n",
       "    <tr>\n",
       "      <th>0</th>\n",
       "      <td>spacy</td>\n",
       "      <td>0.003</td>\n",
       "      <td>5</td>\n",
       "      <td>3</td>\n",
       "      <td>0.2</td>\n",
       "      <td>0.723964</td>\n",
       "      <td>0.735680</td>\n",
       "    </tr>\n",
       "    <tr>\n",
       "      <th>1</th>\n",
       "      <td>spacy</td>\n",
       "      <td>0.003</td>\n",
       "      <td>5</td>\n",
       "      <td>3</td>\n",
       "      <td>0.1</td>\n",
       "      <td>0.727173</td>\n",
       "      <td>0.732391</td>\n",
       "    </tr>\n",
       "    <tr>\n",
       "      <th>2</th>\n",
       "      <td>spacy</td>\n",
       "      <td>0.001</td>\n",
       "      <td>5</td>\n",
       "      <td>3</td>\n",
       "      <td>0.2</td>\n",
       "      <td>0.725788</td>\n",
       "      <td>0.733741</td>\n",
       "    </tr>\n",
       "    <tr>\n",
       "      <th>3</th>\n",
       "      <td>spacy</td>\n",
       "      <td>0.001</td>\n",
       "      <td>5</td>\n",
       "      <td>3</td>\n",
       "      <td>0.1</td>\n",
       "      <td>0.730601</td>\n",
       "      <td>0.735412</td>\n",
       "    </tr>\n",
       "    <tr>\n",
       "      <th>4</th>\n",
       "      <td>spacy</td>\n",
       "      <td>0.003</td>\n",
       "      <td>5</td>\n",
       "      <td>5</td>\n",
       "      <td>0.2</td>\n",
       "      <td>0.740446</td>\n",
       "      <td>0.737112</td>\n",
       "    </tr>\n",
       "    <tr>\n",
       "      <th>5</th>\n",
       "      <td>spacy</td>\n",
       "      <td>0.003</td>\n",
       "      <td>5</td>\n",
       "      <td>5</td>\n",
       "      <td>0.1</td>\n",
       "      <td>0.733737</td>\n",
       "      <td>0.737657</td>\n",
       "    </tr>\n",
       "    <tr>\n",
       "      <th>6</th>\n",
       "      <td>spacy</td>\n",
       "      <td>0.001</td>\n",
       "      <td>5</td>\n",
       "      <td>5</td>\n",
       "      <td>0.2</td>\n",
       "      <td>0.728997</td>\n",
       "      <td>0.723071</td>\n",
       "    </tr>\n",
       "    <tr>\n",
       "      <th>7</th>\n",
       "      <td>spacy</td>\n",
       "      <td>0.001</td>\n",
       "      <td>5</td>\n",
       "      <td>5</td>\n",
       "      <td>0.1</td>\n",
       "      <td>0.739571</td>\n",
       "      <td>0.732602</td>\n",
       "    </tr>\n",
       "    <tr>\n",
       "      <th>8</th>\n",
       "      <td>spacy</td>\n",
       "      <td>0.003</td>\n",
       "      <td>10</td>\n",
       "      <td>3</td>\n",
       "      <td>0.2</td>\n",
       "      <td>0.723381</td>\n",
       "      <td>0.716037</td>\n",
       "    </tr>\n",
       "    <tr>\n",
       "      <th>9</th>\n",
       "      <td>spacy</td>\n",
       "      <td>0.003</td>\n",
       "      <td>10</td>\n",
       "      <td>3</td>\n",
       "      <td>0.1</td>\n",
       "      <td>0.732716</td>\n",
       "      <td>0.728849</td>\n",
       "    </tr>\n",
       "    <tr>\n",
       "      <th>10</th>\n",
       "      <td>spacy</td>\n",
       "      <td>0.001</td>\n",
       "      <td>10</td>\n",
       "      <td>3</td>\n",
       "      <td>0.2</td>\n",
       "      <td>0.722506</td>\n",
       "      <td>0.728189</td>\n",
       "    </tr>\n",
       "    <tr>\n",
       "      <th>11</th>\n",
       "      <td>spacy</td>\n",
       "      <td>0.001</td>\n",
       "      <td>10</td>\n",
       "      <td>3</td>\n",
       "      <td>0.1</td>\n",
       "      <td>0.727173</td>\n",
       "      <td>0.726148</td>\n",
       "    </tr>\n",
       "    <tr>\n",
       "      <th>12</th>\n",
       "      <td>spacy</td>\n",
       "      <td>0.003</td>\n",
       "      <td>10</td>\n",
       "      <td>5</td>\n",
       "      <td>0.2</td>\n",
       "      <td>0.721777</td>\n",
       "      <td>0.730766</td>\n",
       "    </tr>\n",
       "    <tr>\n",
       "      <th>13</th>\n",
       "      <td>spacy</td>\n",
       "      <td>0.003</td>\n",
       "      <td>10</td>\n",
       "      <td>5</td>\n",
       "      <td>0.1</td>\n",
       "      <td>0.725277</td>\n",
       "      <td>0.725720</td>\n",
       "    </tr>\n",
       "    <tr>\n",
       "      <th>14</th>\n",
       "      <td>spacy</td>\n",
       "      <td>0.001</td>\n",
       "      <td>10</td>\n",
       "      <td>5</td>\n",
       "      <td>0.2</td>\n",
       "      <td>0.728705</td>\n",
       "      <td>0.731334</td>\n",
       "    </tr>\n",
       "    <tr>\n",
       "      <th>15</th>\n",
       "      <td>spacy</td>\n",
       "      <td>0.001</td>\n",
       "      <td>10</td>\n",
       "      <td>5</td>\n",
       "      <td>0.1</td>\n",
       "      <td>0.724256</td>\n",
       "      <td>0.733494</td>\n",
       "    </tr>\n",
       "    <tr>\n",
       "      <th>16</th>\n",
       "      <td>word2vec</td>\n",
       "      <td>0.003</td>\n",
       "      <td>5</td>\n",
       "      <td>3</td>\n",
       "      <td>0.2</td>\n",
       "      <td>0.727246</td>\n",
       "      <td>0.734308</td>\n",
       "    </tr>\n",
       "    <tr>\n",
       "      <th>17</th>\n",
       "      <td>word2vec</td>\n",
       "      <td>0.003</td>\n",
       "      <td>5</td>\n",
       "      <td>3</td>\n",
       "      <td>0.1</td>\n",
       "      <td>0.730382</td>\n",
       "      <td>0.732224</td>\n",
       "    </tr>\n",
       "    <tr>\n",
       "      <th>18</th>\n",
       "      <td>word2vec</td>\n",
       "      <td>0.001</td>\n",
       "      <td>5</td>\n",
       "      <td>3</td>\n",
       "      <td>0.2</td>\n",
       "      <td>0.719005</td>\n",
       "      <td>0.733083</td>\n",
       "    </tr>\n",
       "    <tr>\n",
       "      <th>19</th>\n",
       "      <td>word2vec</td>\n",
       "      <td>0.001</td>\n",
       "      <td>5</td>\n",
       "      <td>3</td>\n",
       "      <td>0.1</td>\n",
       "      <td>0.720099</td>\n",
       "      <td>0.714492</td>\n",
       "    </tr>\n",
       "    <tr>\n",
       "      <th>20</th>\n",
       "      <td>word2vec</td>\n",
       "      <td>0.003</td>\n",
       "      <td>5</td>\n",
       "      <td>5</td>\n",
       "      <td>0.2</td>\n",
       "      <td>0.729945</td>\n",
       "      <td>0.731705</td>\n",
       "    </tr>\n",
       "    <tr>\n",
       "      <th>21</th>\n",
       "      <td>word2vec</td>\n",
       "      <td>0.003</td>\n",
       "      <td>5</td>\n",
       "      <td>5</td>\n",
       "      <td>0.1</td>\n",
       "      <td>0.738404</td>\n",
       "      <td>0.740951</td>\n",
       "    </tr>\n",
       "    <tr>\n",
       "      <th>22</th>\n",
       "      <td>word2vec</td>\n",
       "      <td>0.001</td>\n",
       "      <td>5</td>\n",
       "      <td>5</td>\n",
       "      <td>0.2</td>\n",
       "      <td>0.693772</td>\n",
       "      <td>0.696033</td>\n",
       "    </tr>\n",
       "    <tr>\n",
       "      <th>23</th>\n",
       "      <td>word2vec</td>\n",
       "      <td>0.001</td>\n",
       "      <td>5</td>\n",
       "      <td>5</td>\n",
       "      <td>0.1</td>\n",
       "      <td>0.725058</td>\n",
       "      <td>0.727150</td>\n",
       "    </tr>\n",
       "    <tr>\n",
       "      <th>24</th>\n",
       "      <td>word2vec</td>\n",
       "      <td>0.003</td>\n",
       "      <td>10</td>\n",
       "      <td>3</td>\n",
       "      <td>0.2</td>\n",
       "      <td>0.736071</td>\n",
       "      <td>0.736633</td>\n",
       "    </tr>\n",
       "    <tr>\n",
       "      <th>25</th>\n",
       "      <td>word2vec</td>\n",
       "      <td>0.003</td>\n",
       "      <td>10</td>\n",
       "      <td>3</td>\n",
       "      <td>0.1</td>\n",
       "      <td>0.734612</td>\n",
       "      <td>0.737132</td>\n",
       "    </tr>\n",
       "    <tr>\n",
       "      <th>26</th>\n",
       "      <td>word2vec</td>\n",
       "      <td>0.001</td>\n",
       "      <td>10</td>\n",
       "      <td>3</td>\n",
       "      <td>0.2</td>\n",
       "      <td>0.737383</td>\n",
       "      <td>0.734348</td>\n",
       "    </tr>\n",
       "    <tr>\n",
       "      <th>27</th>\n",
       "      <td>word2vec</td>\n",
       "      <td>0.001</td>\n",
       "      <td>10</td>\n",
       "      <td>3</td>\n",
       "      <td>0.1</td>\n",
       "      <td>0.733591</td>\n",
       "      <td>0.734035</td>\n",
       "    </tr>\n",
       "    <tr>\n",
       "      <th>28</th>\n",
       "      <td>word2vec</td>\n",
       "      <td>0.003</td>\n",
       "      <td>10</td>\n",
       "      <td>5</td>\n",
       "      <td>0.2</td>\n",
       "      <td>0.722433</td>\n",
       "      <td>0.728846</td>\n",
       "    </tr>\n",
       "    <tr>\n",
       "      <th>29</th>\n",
       "      <td>word2vec</td>\n",
       "      <td>0.003</td>\n",
       "      <td>10</td>\n",
       "      <td>5</td>\n",
       "      <td>0.1</td>\n",
       "      <td>0.735268</td>\n",
       "      <td>0.741778</td>\n",
       "    </tr>\n",
       "    <tr>\n",
       "      <th>30</th>\n",
       "      <td>word2vec</td>\n",
       "      <td>0.001</td>\n",
       "      <td>10</td>\n",
       "      <td>5</td>\n",
       "      <td>0.2</td>\n",
       "      <td>0.714994</td>\n",
       "      <td>0.723862</td>\n",
       "    </tr>\n",
       "    <tr>\n",
       "      <th>31</th>\n",
       "      <td>word2vec</td>\n",
       "      <td>0.001</td>\n",
       "      <td>10</td>\n",
       "      <td>5</td>\n",
       "      <td>0.1</td>\n",
       "      <td>0.732497</td>\n",
       "      <td>0.730072</td>\n",
       "    </tr>\n",
       "  </tbody>\n",
       "</table>\n",
       "</div>"
      ],
      "text/plain": [
       "   embedding type  learning rate  kernel_desc  kernel_title  dropout rate  \\\n",
       "0           spacy          0.003            5             3           0.2   \n",
       "1           spacy          0.003            5             3           0.1   \n",
       "2           spacy          0.001            5             3           0.2   \n",
       "3           spacy          0.001            5             3           0.1   \n",
       "4           spacy          0.003            5             5           0.2   \n",
       "5           spacy          0.003            5             5           0.1   \n",
       "6           spacy          0.001            5             5           0.2   \n",
       "7           spacy          0.001            5             5           0.1   \n",
       "8           spacy          0.003           10             3           0.2   \n",
       "9           spacy          0.003           10             3           0.1   \n",
       "10          spacy          0.001           10             3           0.2   \n",
       "11          spacy          0.001           10             3           0.1   \n",
       "12          spacy          0.003           10             5           0.2   \n",
       "13          spacy          0.003           10             5           0.1   \n",
       "14          spacy          0.001           10             5           0.2   \n",
       "15          spacy          0.001           10             5           0.1   \n",
       "16       word2vec          0.003            5             3           0.2   \n",
       "17       word2vec          0.003            5             3           0.1   \n",
       "18       word2vec          0.001            5             3           0.2   \n",
       "19       word2vec          0.001            5             3           0.1   \n",
       "20       word2vec          0.003            5             5           0.2   \n",
       "21       word2vec          0.003            5             5           0.1   \n",
       "22       word2vec          0.001            5             5           0.2   \n",
       "23       word2vec          0.001            5             5           0.1   \n",
       "24       word2vec          0.003           10             3           0.2   \n",
       "25       word2vec          0.003           10             3           0.1   \n",
       "26       word2vec          0.001           10             3           0.2   \n",
       "27       word2vec          0.001           10             3           0.1   \n",
       "28       word2vec          0.003           10             5           0.2   \n",
       "29       word2vec          0.003           10             5           0.1   \n",
       "30       word2vec          0.001           10             5           0.2   \n",
       "31       word2vec          0.001           10             5           0.1   \n",
       "\n",
       "    accuracy  f1-weighted  \n",
       "0   0.723964     0.735680  \n",
       "1   0.727173     0.732391  \n",
       "2   0.725788     0.733741  \n",
       "3   0.730601     0.735412  \n",
       "4   0.740446     0.737112  \n",
       "5   0.733737     0.737657  \n",
       "6   0.728997     0.723071  \n",
       "7   0.739571     0.732602  \n",
       "8   0.723381     0.716037  \n",
       "9   0.732716     0.728849  \n",
       "10  0.722506     0.728189  \n",
       "11  0.727173     0.726148  \n",
       "12  0.721777     0.730766  \n",
       "13  0.725277     0.725720  \n",
       "14  0.728705     0.731334  \n",
       "15  0.724256     0.733494  \n",
       "16  0.727246     0.734308  \n",
       "17  0.730382     0.732224  \n",
       "18  0.719005     0.733083  \n",
       "19  0.720099     0.714492  \n",
       "20  0.729945     0.731705  \n",
       "21  0.738404     0.740951  \n",
       "22  0.693772     0.696033  \n",
       "23  0.725058     0.727150  \n",
       "24  0.736071     0.736633  \n",
       "25  0.734612     0.737132  \n",
       "26  0.737383     0.734348  \n",
       "27  0.733591     0.734035  \n",
       "28  0.722433     0.728846  \n",
       "29  0.735268     0.741778  \n",
       "30  0.714994     0.723862  \n",
       "31  0.732497     0.730072  "
      ]
     },
     "execution_count": 83,
     "metadata": {},
     "output_type": "execute_result"
    }
   ],
   "source": [
    "df_embedding_scores= pd.DataFrame.from_dict(embedding_scores)\n",
    "df_embedding_scores.head(40)"
   ]
  },
  {
   "cell_type": "markdown",
   "metadata": {},
   "source": [
    "We can see that the best model was based on word2vec our own trained embeddings with dropout 0.1 and learning rate of 0.003 and Description kernel of 10 and title kernel of 5"
   ]
  },
  {
   "cell_type": "code",
   "execution_count": 84,
   "metadata": {},
   "outputs": [],
   "source": [
    "accuracy=df_embedding_scores.loc[df_embedding_scores[\"f1-weighted\"].idxmax(), [\"accuracy\"]].values[0]\n",
    "f1_weighted=df_embedding_scores.loc[df_embedding_scores[\"f1-weighted\"].idxmax(), [\"f1-weighted\"]].values[0]"
   ]
  },
  {
   "cell_type": "code",
   "execution_count": 85,
   "metadata": {},
   "outputs": [],
   "source": [
    "score_dictionary['model'].append(\"Embedding model\")\n",
    "score_dictionary['accuracy'].append(accuracy)\n",
    "score_dictionary['F1-weighted'].append(f1_weighted)"
   ]
  },
  {
   "cell_type": "markdown",
   "metadata": {},
   "source": [
    "### All models best validation results"
   ]
  },
  {
   "cell_type": "code",
   "execution_count": 86,
   "metadata": {},
   "outputs": [
    {
     "data": {
      "text/html": [
       "<div>\n",
       "<style scoped>\n",
       "    .dataframe tbody tr th:only-of-type {\n",
       "        vertical-align: middle;\n",
       "    }\n",
       "\n",
       "    .dataframe tbody tr th {\n",
       "        vertical-align: top;\n",
       "    }\n",
       "\n",
       "    .dataframe thead th {\n",
       "        text-align: right;\n",
       "    }\n",
       "</style>\n",
       "<table border=\"1\" class=\"dataframe\">\n",
       "  <thead>\n",
       "    <tr style=\"text-align: right;\">\n",
       "      <th></th>\n",
       "      <th>model</th>\n",
       "      <th>accuracy</th>\n",
       "      <th>F1-weighted</th>\n",
       "    </tr>\n",
       "  </thead>\n",
       "  <tbody>\n",
       "    <tr>\n",
       "      <th>0</th>\n",
       "      <td>Baseline</td>\n",
       "      <td>0.524796</td>\n",
       "      <td>0.528185</td>\n",
       "    </tr>\n",
       "    <tr>\n",
       "      <th>1</th>\n",
       "      <td>Naive bayes'</td>\n",
       "      <td>0.554113</td>\n",
       "      <td>0.551830</td>\n",
       "    </tr>\n",
       "    <tr>\n",
       "      <th>2</th>\n",
       "      <td>Logistic regression</td>\n",
       "      <td>0.619384</td>\n",
       "      <td>0.613350</td>\n",
       "    </tr>\n",
       "    <tr>\n",
       "      <th>3</th>\n",
       "      <td>Random forest</td>\n",
       "      <td>0.596339</td>\n",
       "      <td>0.572950</td>\n",
       "    </tr>\n",
       "    <tr>\n",
       "      <th>4</th>\n",
       "      <td>Resnet based conv model</td>\n",
       "      <td>0.423498</td>\n",
       "      <td>0.418773</td>\n",
       "    </tr>\n",
       "    <tr>\n",
       "      <th>5</th>\n",
       "      <td>Simple conv net</td>\n",
       "      <td>0.361654</td>\n",
       "      <td>0.347550</td>\n",
       "    </tr>\n",
       "    <tr>\n",
       "      <th>6</th>\n",
       "      <td>Embedding model</td>\n",
       "      <td>0.735268</td>\n",
       "      <td>0.741778</td>\n",
       "    </tr>\n",
       "  </tbody>\n",
       "</table>\n",
       "</div>"
      ],
      "text/plain": [
       "                     model  accuracy  F1-weighted\n",
       "0                 Baseline  0.524796     0.528185\n",
       "1             Naive bayes'  0.554113     0.551830\n",
       "2      Logistic regression  0.619384     0.613350\n",
       "3            Random forest  0.596339     0.572950\n",
       "4  Resnet based conv model  0.423498     0.418773\n",
       "5          Simple conv net  0.361654     0.347550\n",
       "6          Embedding model  0.735268     0.741778"
      ]
     },
     "execution_count": 86,
     "metadata": {},
     "output_type": "execute_result"
    }
   ],
   "source": [
    "df_scores= pd.DataFrame.from_dict(score_dictionary)\n",
    "df_scores.head(10)"
   ]
  },
  {
   "cell_type": "code",
   "execution_count": 87,
   "metadata": {},
   "outputs": [],
   "source": [
    "df_scores=df_scores.set_index('model')"
   ]
  },
  {
   "cell_type": "code",
   "execution_count": 88,
   "metadata": {},
   "outputs": [
    {
     "data": {
      "text/plain": [
       "Text(0.5, 0, 'Rate %')"
      ]
     },
     "execution_count": 88,
     "metadata": {},
     "output_type": "execute_result"
    },
    {
     "data": {
      "image/png": "[encoded data removed]",
      "text/plain": [
       "<Figure size 576x432 with 1 Axes>"
      ]
     },
     "metadata": {
      "needs_background": "light"
     },
     "output_type": "display_data"
    }
   ],
   "source": [
    "figure, axes = plt.subplots(figsize=(8, 6))\n",
    "df_scores[[\"accuracy\",\"F1-weighted\"]].sort_values([\"F1-weighted\"], ascending=False).plot(kind='barh',ax=axes)\n",
    "axes.set_title('All models best results')\n",
    "axes.set_xlabel(\"Rate %\")"
   ]
  },
  {
   "cell_type": "markdown",
   "metadata": {},
   "source": [
    " The embedding model was by far the best model and achieved 0.75% accuracy score.Our own data trained word2vec embedding were better than loaded embedding which is not surprising because it is fitted to our data. A large kernel size of 10 for description data was best-probably because catching a more surrounding words injects more \"meaning\", title kernel also was large with best result of 5 kernel size.Dropout rate was best at 0.1 and learning rate with 0.003."
   ]
  },
  {
   "cell_type": "markdown",
   "metadata": {},
   "source": [
    "## Final Results"
   ]
  },
  {
   "cell_type": "markdown",
   "metadata": {},
   "source": [
    "We will compare our best model on test data against baseline on test data"
   ]
  },
  {
   "cell_type": "code",
   "execution_count": 93,
   "metadata": {},
   "outputs": [],
   "source": [
    "test_scores={'Model':[], 'accuracy':[], 'f1-weighted':[]}"
   ]
  },
  {
   "cell_type": "markdown",
   "metadata": {},
   "source": [
    "### Baseline test"
   ]
  },
  {
   "cell_type": "code",
   "execution_count": 94,
   "metadata": {},
   "outputs": [
    {
     "name": "stdout",
     "output_type": "stream",
     "text": [
      "Loaded train dataset containing: 123399 samples\n",
      "Loaded validation dataset containing: 13712 samples\n",
      "Loaded test dataset containing: 15235 samples\n"
     ]
    }
   ],
   "source": [
    "base_dataset = gr.GoodreadsDataset.load_from_split(conf['preprocessed'], image_source_path, image_source_list, data_path)"
   ]
  },
  {
   "cell_type": "code",
   "execution_count": 95,
   "metadata": {},
   "outputs": [
    {
     "name": "stdout",
     "output_type": "stream",
     "text": [
      "Baseline classifer\n",
      "Accuracy: 0.527\n",
      "                                        precision    recall  f1-score   support\n",
      "\n",
      "                                poetry       0.67      0.29      0.40       507\n",
      "                              children       0.73      0.47      0.57       869\n",
      "                   fantasy, paranormal       0.32      0.80      0.46      2934\n",
      "history, historical fiction, biography       0.62      0.39      0.48      2133\n",
      "                       comics, graphic       0.90      0.76      0.82      1151\n",
      "                           non-fiction       0.63      0.25      0.36      1714\n",
      "              mystery, thriller, crime       0.76      0.56      0.65      2180\n",
      "                           young-adult       0.58      0.39      0.46       770\n",
      "                               romance       0.78      0.60      0.68      2237\n",
      "                               fiction       0.35      0.16      0.22       740\n",
      "\n",
      "                              accuracy                           0.53     15235\n",
      "                             macro avg       0.63      0.47      0.51     15235\n",
      "                          weighted avg       0.62      0.53      0.53     15235\n",
      "\n",
      "Confusion matrix:\n",
      "[[ 147    5  292   24    1   15    6    2    4   11]\n",
      " [   5  412  334   29    4   14   24   39    3    5]\n",
      " [  11   43 2341   92   53   36   98   71  130   59]\n",
      " [  17   32  898  829    7  101   82   25   92   50]\n",
      " [   3    7  237   10  873    5    9    2    5    0]\n",
      " [  10   16 1078   97    2  437   26    4   23   21]\n",
      " [   4   13  692   78    8   35 1227   31   64   28]\n",
      " [   1   27  341   17    1    8   37  299   29   10]\n",
      " [   2    6  621  105    8   14   67   35 1344   35]\n",
      " [  20    4  428   61   10   27   35    9   28  118]]\n"
     ]
    },
    {
     "data": {
      "image/png": "[encoded data removed]",
      "text/plain": [
       "<Figure size 720x720 with 2 Axes>"
      ]
     },
     "metadata": {
      "needs_background": "light"
     },
     "output_type": "display_data"
    }
   ],
   "source": [
    "#There is no need for validation dataset(becuase there is no real training..) \n",
    "#so we will unite the train and validation dataset in order the have a larger dataset.\n",
    "full_generes=conf[\"preprocessed\"][\"full_genres_col\"]\n",
    "X_train_val=np.vstack((base_dataset.X_train,base_dataset.X_val))\n",
    "y_train_val = np.vstack((base_dataset.y_train, base_dataset.y_val))\n",
    "\n",
    "X_test=base_dataset.X_test\n",
    "y_test=base_dataset.y_test\n",
    "\n",
    "#create the baseline model and predict test genres\n",
    "baseline_learner=gr.Baseline(conf[\"preprocessed\"][\"preprocess_col_order\"])\n",
    "baseline_learner.fit(X_train_val,y_train_val)\n",
    "y_test_predicted=baseline_learner.predict(base_dataset.X_test)\n",
    "\n",
    "#calculate score on test data\n",
    "accuracy=accuracy_score(y_test, y_test_predicted)\n",
    "f1_weighted=f1_score(y_test, y_test_predicted, average='weighted')\n",
    "test_scores['Model'].append(\"Baseline model\")\n",
    "test_scores['accuracy'].append(accuracy)\n",
    "test_scores['f1-weighted'].append(f1_weighted)\n",
    "\n",
    "gr.report_result(y_test_predicted,y_test,'Baseline',full_generes,'Baseline test results-confusion matrix')"
   ]
  },
  {
   "cell_type": "markdown",
   "metadata": {},
   "source": [
    "###  Best model- test results"
   ]
  },
  {
   "cell_type": "markdown",
   "metadata": {},
   "source": [
    "Assumes you have run the embedding model and the dataset is prepared."
   ]
  },
  {
   "cell_type": "code",
   "execution_count": 96,
   "metadata": {},
   "outputs": [
    {
     "name": "stdout",
     "output_type": "stream",
     "text": [
      "(137111,)\n",
      "(137111, 15)\n",
      "\n",
      "\n",
      "Start training.Kernel description:10 ,Kernel title: 5, Dropout rate:0.1, Learning rate:0.003, embedding type: word2vec\n",
      "Epoch 1/20\n",
      "4285/4285 [==============================] - 58s 13ms/step - loss: 1.0948 - f1_score: 0.6303 - accuracy: 0.6419 - val_loss: 0.8997 - val_f1_score: 0.7008 - val_accuracy: 0.7104\n",
      "Epoch 2/20\n",
      "4285/4285 [==============================] - 57s 13ms/step - loss: 0.5896 - f1_score: 0.8159 - accuracy: 0.8183 - val_loss: 0.8741 - val_f1_score: 0.7275 - val_accuracy: 0.7286\n",
      "Epoch 3/20\n",
      "4285/4285 [==============================] - 56s 13ms/step - loss: 0.3717 - f1_score: 0.8846 - accuracy: 0.8849 - val_loss: 0.9315 - val_f1_score: 0.7299 - val_accuracy: 0.7285\n",
      "Epoch 4/20\n",
      "4285/4285 [==============================] - 57s 13ms/step - loss: 0.2878 - f1_score: 0.9086 - accuracy: 0.9088 - val_loss: 1.0149 - val_f1_score: 0.7285 - val_accuracy: 0.7252\n",
      "Epoch 5/20\n",
      "4285/4285 [==============================] - 57s 13ms/step - loss: 0.2405 - f1_score: 0.9220 - accuracy: 0.9221 - val_loss: 1.0600 - val_f1_score: 0.7264 - val_accuracy: 0.7277\n",
      "477/477 [==============================] - 2s 4ms/step - loss: 1.0600 - f1_score: 0.7264 - accuracy: 0.7277\n"
     ]
    }
   ],
   "source": [
    "#Best hyperparameters of the embedding model\n",
    "kernel_desc=10\n",
    "kernel_title=5\n",
    "lr=0.003\n",
    "dropout_rate=0.1\n",
    "emb_type='word2vec'\n",
    "\n",
    "#conctenate train and validation datasets\n",
    "cleaned_X_train_val_title=np.vstack((cleaned_train_title[:, np.newaxis],cleaned_val_title[:, np.newaxis]))\n",
    "cleaned_X_train_val_description=np.vstack((cleaned_train_description[:, np.newaxis],cleaned_val_description[:, np.newaxis]))\n",
    "\n",
    "cleaned_X_train_val_title=np.squeeze(cleaned_X_train_val_title)\n",
    "cleaned_X_train_val_description=np.squeeze(cleaned_X_train_val_description)\n",
    "\n",
    "print(cleaned_X_train_val_title.shape)\n",
    "y_train_val=np.vstack((goodr_dataset_embeddings.y_train,goodr_dataset_embeddings.y_val))\n",
    "X_train_val=pd.concat([goodr_dataset_embeddings.X_train,goodr_dataset_embeddings.X_val])\n",
    "\n",
    "#prepare test\n",
    "print(X_train_val.shape)\n",
    "y_test=goodr_dataset_embeddings.y_test\n",
    "X_test=goodr_dataset_embeddings.X_test\n",
    "cleaned_test_title = np.array(emb_gr.remove_stopword(X_test[\"title\"].values))\n",
    "cleaned_test_description = np.array(emb_gr.remove_stopword(X_test[\"description\"].values))\n",
    "\n",
    "\n",
    "\n",
    "#prepare voc-now based on train+validation data\n",
    "emb_gr.prepare_preprocessing_voc_layers(cleaned_X_train_val_title, num_voc_title=num_voc_title,\n",
    "                                            description_array=cleaned_X_train_val_description,\n",
    "                                            num_voc_description=num_voc_description,\n",
    "                                            author_array=X_train_val[\"author_id\"].values, max_len_title=max_len_title,\n",
    "                                            max_len_desc=max_len_desc)\n",
    "emb_gr.build_model(len(other_columns), dense_config, kernel_size_desc=kernel_desc, kernel_size_title=kernel_title, dropout_rate=dropout_rate, conv_filters_desc=conv_filters_desc, conv_filters_title=conv_filters_title)\n",
    "print(\"\\n\")\n",
    "print(f\"Start training.Kernel description:{kernel_desc} ,Kernel title: {kernel_title}, Dropout rate:{dropout_rate}, Learning rate:{lr}, embedding type: {emb_type}\")\n",
    "\n",
    "#trainign of the model\n",
    "history=emb_gr.fit(X_train_val[other_columns].values, X_test[other_columns].values,  cleaned_X_train_val_description, \n",
    "                                           cleaned_test_description, cleaned_X_train_val_title, cleaned_test_title, \n",
    "                                           X_train_val[\"author_id\"].values, X_test[\"author_id\"].values, y_train_val, y_test, epochs,patience=patience, learning_rate = lr)\n",
    "embedding_history=history.history.copy()\n",
    "\n",
    "#Evaluate test results\n",
    "scores_dict=emb_gr.evaluate(X_test[other_columns].values, cleaned_test_description, cleaned_test_title, \n",
    "                                                    X_test[\"author_id\"].values,y_test)\n",
    "\n",
    "\n"
   ]
  },
  {
   "cell_type": "code",
   "execution_count": 97,
   "metadata": {},
   "outputs": [],
   "source": [
    "y_test_predicted=emb_gr.predict(X_test[other_columns].values, cleaned_test_description, cleaned_test_title, \n",
    "                                                    X_test[\"author_id\"].values)\n"
   ]
  },
  {
   "cell_type": "code",
   "execution_count": 98,
   "metadata": {},
   "outputs": [],
   "source": [
    "labels=goodr_dataset_embeddings.label_classes\n",
    "predicted=[labels[ind] for ind in tf.argmax(y_test_predicted,1).numpy()]\n",
    "true=[labels[ind] for ind in tf.argmax(y_test,1).numpy()]"
   ]
  },
  {
   "cell_type": "code",
   "execution_count": 99,
   "metadata": {},
   "outputs": [
    {
     "name": "stdout",
     "output_type": "stream",
     "text": [
      "Embedding model classifer\n",
      "Accuracy: 0.728\n",
      "                                        precision    recall  f1-score   support\n",
      "\n",
      "                              children       0.68      0.78      0.73       869\n",
      "                       comics, graphic       0.89      0.86      0.87      1151\n",
      "                   fantasy, paranormal       0.75      0.80      0.77      2934\n",
      "                               fiction       0.34      0.30      0.32       740\n",
      "history, historical fiction, biography       0.73      0.61      0.66      2133\n",
      "              mystery, thriller, crime       0.80      0.76      0.78      2180\n",
      "                           non-fiction       0.64      0.82      0.72      1714\n",
      "                                poetry       0.79      0.75      0.77       507\n",
      "                               romance       0.82      0.75      0.79      2237\n",
      "                           young-adult       0.58      0.57      0.57       770\n",
      "\n",
      "                              accuracy                           0.73     15235\n",
      "                             macro avg       0.70      0.70      0.70     15235\n",
      "                          weighted avg       0.73      0.73      0.73     15235\n",
      "\n",
      "Confusion matrix:\n",
      "[[ 675   14   49   14   15   20   45    5    8   24]\n",
      " [  22  988   50    7   12    7   47    9    1    8]\n",
      " [  52   42 2358   78   63  103   80    8   50  100]\n",
      " [  30   13  124  223   84   52  113   20   49   32]\n",
      " [  48   13  100   97 1291   84  308   28  127   37]\n",
      " [  34    2  163   82   50 1654   74   12   59   50]\n",
      " [  42    9   20   31  146   26 1397   16   21    6]\n",
      " [  24    4    7   20   12    3   50  378    6    3]\n",
      " [  14   21  152   84   89   86   46    3 1685   57]\n",
      " [  47    2  131   27    7   43   27    1   48  437]]\n"
     ]
    },
    {
     "data": {
      "image/png": "[encoded data removed]",
      "text/plain": [
       "<Figure size 720x720 with 2 Axes>"
      ]
     },
     "metadata": {
      "needs_background": "light"
     },
     "output_type": "display_data"
    }
   ],
   "source": [
    "\n",
    "accuracy=accuracy_score(true, predicted)\n",
    "f1_weighted=f1_score(true, predicted, average='weighted')\n",
    "test_scores['Model'].append(\"Embedding model\")\n",
    "test_scores['accuracy'].append(accuracy)\n",
    "test_scores['f1-weighted'].append(f1_weighted)\n",
    "\n",
    "\n",
    "\n",
    "gr.report_result(predicted,true,'Embedding model',labels=labels,title='Best model test results-confusion matrix')"
   ]
  },
  {
   "cell_type": "code",
   "execution_count": 107,
   "metadata": {},
   "outputs": [],
   "source": [
    "#emb_gr.save_model(conf[\"files\"][\"data_dir\"],'best_model_embeddings')"
   ]
  },
  {
   "cell_type": "markdown",
   "metadata": {},
   "source": [
    "### Comparison of test results"
   ]
  },
  {
   "cell_type": "code",
   "execution_count": 101,
   "metadata": {},
   "outputs": [
    {
     "data": {
      "text/html": [
       "<div>\n",
       "<style scoped>\n",
       "    .dataframe tbody tr th:only-of-type {\n",
       "        vertical-align: middle;\n",
       "    }\n",
       "\n",
       "    .dataframe tbody tr th {\n",
       "        vertical-align: top;\n",
       "    }\n",
       "\n",
       "    .dataframe thead th {\n",
       "        text-align: right;\n",
       "    }\n",
       "</style>\n",
       "<table border=\"1\" class=\"dataframe\">\n",
       "  <thead>\n",
       "    <tr style=\"text-align: right;\">\n",
       "      <th></th>\n",
       "      <th>Model</th>\n",
       "      <th>accuracy</th>\n",
       "      <th>f1-weighted</th>\n",
       "    </tr>\n",
       "  </thead>\n",
       "  <tbody>\n",
       "    <tr>\n",
       "      <th>0</th>\n",
       "      <td>Baseline model</td>\n",
       "      <td>0.526879</td>\n",
       "      <td>0.531064</td>\n",
       "    </tr>\n",
       "    <tr>\n",
       "      <th>1</th>\n",
       "      <td>Embedding model</td>\n",
       "      <td>0.727667</td>\n",
       "      <td>0.726356</td>\n",
       "    </tr>\n",
       "  </tbody>\n",
       "</table>\n",
       "</div>"
      ],
      "text/plain": [
       "             Model  accuracy  f1-weighted\n",
       "0   Baseline model  0.526879     0.531064\n",
       "1  Embedding model  0.727667     0.726356"
      ]
     },
     "execution_count": 101,
     "metadata": {},
     "output_type": "execute_result"
    }
   ],
   "source": [
    "df_test_scores= pd.DataFrame.from_dict(test_scores)\n",
    "df_test_scores.head(10)"
   ]
  },
  {
   "cell_type": "code",
   "execution_count": 102,
   "metadata": {},
   "outputs": [
    {
     "data": {
      "text/plain": [
       "Text(0.5, 0, 'Rate %')"
      ]
     },
     "execution_count": 102,
     "metadata": {},
     "output_type": "execute_result"
    },
    {
     "data": {
      "image/png": "[encoded data removed]",
      "text/plain": [
       "<Figure size 576x288 with 1 Axes>"
      ]
     },
     "metadata": {
      "needs_background": "light"
     },
     "output_type": "display_data"
    }
   ],
   "source": [
    "#df_test_scores=df_test_scores.set_index('Model')\n",
    "figure, axes = plt.subplots(figsize=(8, 4))\n",
    "df_test_scores[[\"accuracy\",\"f1-weighted\"]].sort_values([\"f1-weighted\"], ascending=False).plot(kind='barh',ax=axes)\n",
    "axes.set_title('Test results')\n",
    "axes.set_xlabel(\"Rate %\")"
   ]
  },
  {
   "cell_type": "markdown",
   "metadata": {},
   "source": [
    "We can see that test results were very similar to validation results. From the confusion matrix we can see the the best results were achieved in \"fantasy, paranormal\" category followed by mystery and romance categories. This is easy to understand since these categories have very distinctive text features. To conclude we can see that the best results were achieved by using the text features as embedding with a neural network, this is easy to understand result since also humans can categorise a text to genre easier than doing it by looking at the book covers.\n",
    "Should we had more time I would have explored other network configuration with embedding and also trained further the word2vec embeddings themselves. I would also try to collect more data in order to achieve better generalization."
   ]
  },
  {
   "cell_type": "markdown",
   "metadata": {},
   "source": [
    "We can see some similarities of words in our vocabulary"
   ]
  },
  {
   "cell_type": "code",
   "execution_count": 104,
   "metadata": {},
   "outputs": [
    {
     "data": {
      "text/plain": [
       "[('mysteries', 0.7404965162277222),\n",
       " ('puzzle', 0.5181804895401001),\n",
       " ('riddle', 0.5103638172149658),\n",
       " ('conspiracy', 0.39919593930244446),\n",
       " ('clues', 0.39266592264175415),\n",
       " ('plot', 0.37901729345321655),\n",
       " ('case', 0.37475165724754333),\n",
       " ('intrigue', 0.3703572154045105),\n",
       " ('puzzles', 0.36437758803367615),\n",
       " ('riddles', 0.3559808135032654)]"
      ]
     },
     "execution_count": 104,
     "metadata": {},
     "output_type": "execute_result"
    }
   ],
   "source": [
    "emb_gr.description_word2vec_model.wv.most_similar(positive=[\"mystery\"])"
   ]
  },
  {
   "cell_type": "code",
   "execution_count": 105,
   "metadata": {},
   "outputs": [
    {
     "data": {
      "text/plain": [
       "[('magical', 0.6456886529922485),\n",
       " ('magick', 0.5331777930259705),\n",
       " ('witches', 0.48658937215805054),\n",
       " ('witch', 0.47864097356796265),\n",
       " ('powers', 0.47777286171913147),\n",
       " ('dragons', 0.4648091793060303),\n",
       " ('sorceress', 0.44352540373802185),\n",
       " ('sorcery', 0.43915215134620667),\n",
       " ('sorcerer', 0.4367944002151489),\n",
       " ('wizard', 0.43458840250968933)]"
      ]
     },
     "execution_count": 105,
     "metadata": {},
     "output_type": "execute_result"
    }
   ],
   "source": [
    "emb_gr.description_word2vec_model.wv.most_similar(positive=[\"magic\"])"
   ]
  },
  {
   "cell_type": "code",
   "execution_count": 106,
   "metadata": {},
   "outputs": [
    {
     "data": {
      "text/plain": [
       "[('friendship', 0.5420276522636414),\n",
       " ('passion', 0.5278884172439575),\n",
       " ('desire', 0.4990245997905731),\n",
       " ('happiness', 0.46971020102500916),\n",
       " ('forgiveness', 0.46797144412994385),\n",
       " ('romance', 0.4674749970436096),\n",
       " ('heartbreak', 0.4531122148036957),\n",
       " ('heartache', 0.45131760835647583),\n",
       " ('loves', 0.4244123697280884),\n",
       " ('relationship', 0.41323718428611755)]"
      ]
     },
     "execution_count": 106,
     "metadata": {},
     "output_type": "execute_result"
    }
   ],
   "source": [
    "emb_gr.description_word2vec_model.wv.most_similar(positive=[\"love\"])"
   ]
  },
  {
   "cell_type": "code",
   "execution_count": null,
   "metadata": {},
   "outputs": [],
   "source": []
  },
  {
   "cell_type": "code",
   "execution_count": null,
   "metadata": {},
   "outputs": [],
   "source": []
  }
 ],
 "metadata": {
  "kernelspec": {
   "display_name": "Python 3",
   "language": "python",
   "name": "python3"
  },
  "language_info": {
   "codemirror_mode": {
    "name": "ipython",
    "version": 3
   },
   "file_extension": ".py",
   "mimetype": "text/x-python",
   "name": "python",
   "nbconvert_exporter": "python",
   "pygments_lexer": "ipython3",
   "version": "3.8.5"
  }
 },
 "nbformat": 4,
 "nbformat_minor": 1
}