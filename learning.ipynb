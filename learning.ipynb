{
 "cells": [
  {
   "cell_type": "markdown",
   "metadata": {
    "pycharm": {
     "name": "#%%\n"
    }
   },
   "source": [
    "# Recognising Goodreads ratings - Artificial Intelligence project\n",
    "Daniela Stern-Gabsi\n",
    "# Inference- Goodreads Genres"
   ]
  },
  {
   "cell_type": "markdown",
   "metadata": {},
   "source": [
    "We will try to recognise the books genres using different types of models:\n",
    "\n",
    "    1. Baseline model- simple rule based model. Based on the author former book genre.\n",
    "    2. Logistic regression\n",
    "    3. Random forest\n",
    "    4. Support vector machine\n",
    "    5. Convolutional neural network- based on images of book covers\n",
    "    6. Neural network based on embeddings"
   ]
  },
  {
   "cell_type": "markdown",
   "metadata": {},
   "source": [
    "Our metrics will be : Accuracy and F1 weighted average. \n",
    "Accuracy is a simple metric calculating the precentages of values predicted correctly.\n",
    "\n",
    "The F1 score takes into  account  both  precision  and  recall  values. "
   ]
  },
  {
   "cell_type": "markdown",
   "metadata": {},
   "source": [
    "$$ accuracy = \\frac{TP+TN}{TP+FP+TN+FN} $$\n",
    "\n",
    "\n",
    "$$ precision = \\frac{TP}{TP+FP}$$\n",
    "$$ recall = \\frac{TP}{TP+FN}$$\n",
    "$$ F1 = \\frac{2 * (precision * recall)}{(precision + recall)}$$"
   ]
  },
  {
   "cell_type": "code",
   "execution_count": 112,
   "metadata": {
    "pycharm": {
     "is_executing": true
    }
   },
   "outputs": [],
   "source": [
    "#Import necessary packages\n",
    "import pandas as pd\n",
    "import os\n",
    "import yaml\n",
    "import matplotlib.pyplot as plt\n",
    "import seaborn as sns\n",
    "import math\n",
    "import warnings\n",
    "warnings.filterwarnings('ignore')\n",
    "#plt.style.use('ggplot')\n",
    "import goodreads as gr\n",
    "import numpy as np\n",
    "\n",
    "from sklearn.preprocessing import OneHotEncoder\n",
    "from sklearn.model_selection import train_test_split\n",
    "from sklearn.metrics import confusion_matrix\n",
    "from sklearn.metrics import ConfusionMatrixDisplay\n",
    "from sklearn import preprocessing\n",
    "from sklearn.preprocessing import OneHotEncoder, MinMaxScaler, RobustScaler, StandardScaler,PowerTransformer\n",
    "from sklearn.feature_extraction.text import TfidfVectorizer, TfidfTransformer\n",
    "from sklearn.pipeline import make_pipeline\n",
    "from sklearn.metrics import classification_report\n",
    "from sklearn.model_selection import GridSearchCV\n",
    "from sklearn.linear_model import LogisticRegression\n",
    "from sklearn.ensemble import RandomForestClassifier\n",
    "from sklearn.svm import SVC\n",
    "from sklearn.naive_bayes import MultinomialNB\n",
    "from sklearn.neighbors import KNeighborsClassifier\n",
    "from sklearn.metrics import accuracy_score, f1_score\n",
    "import time\n",
    "import numpy as np\n",
    "from sklearn.naive_bayes import GaussianNB\n",
    "from sklearn.svm import LinearSVC\n",
    "import spacy\n",
    "import gensim\n",
    "from gensim.models.word2vec import Word2Vec\n",
    "import tensorflow as tf\n",
    "\n",
    "\n",
    "from sklearn.metrics import accuracy_score\n",
    "from sklearn.feature_extraction.text import CountVectorizer"
   ]
  },
  {
   "cell_type": "markdown",
   "metadata": {},
   "source": [
    "First we will load the configuration file contaning all needed hyperparameters"
   ]
  },
  {
   "cell_type": "code",
   "execution_count": 113,
   "metadata": {
    "pycharm": {
     "is_executing": true,
     "name": "#%%\n"
    }
   },
   "outputs": [],
   "source": [
    "#load configuration file\n",
    "try:\n",
    "    with open('configuration.yml', 'r') as file:\n",
    "        conf = yaml.load(file, Loader=yaml.FullLoader)\n",
    "except Exception as e:\n",
    "    print('Error reading the config file')"
   ]
  },
  {
   "cell_type": "code",
   "execution_count": 114,
   "metadata": {
    "pycharm": {
     "is_executing": true
    }
   },
   "outputs": [
    {
     "data": {
      "text/plain": [
       "{'files': {'data_dir': 'data',\n",
       "  'ratings_file': 'goodreads_rating_p.csv',\n",
       "  'books_authors_file': 'goodreads_authors_np.csv',\n",
       "  'books_works_file': 'goodreads_works.csv',\n",
       "  'books_genres_file': 'goodreads_genres_p.csv',\n",
       "  'books_file': 'goodreads_books_eng-final.csv',\n",
       "  'image_source_dir': 'data/images-source',\n",
       "  'images_list': 'books_images_names.csv'},\n",
       " 'preprocessed': {'preprocess_col_order': ['book_id',\n",
       "   'work_id',\n",
       "   'title',\n",
       "   'num_pages',\n",
       "   'publication_year',\n",
       "   'description',\n",
       "   'is_ebook',\n",
       "   'series',\n",
       "   'image_url',\n",
       "   'read_count',\n",
       "   'text_reviews_count',\n",
       "   'ratings_count',\n",
       "   'average_rating',\n",
       "   'author_id',\n",
       "   'name',\n",
       "   'public_year_null',\n",
       "   'num_pages_null',\n",
       "   'authors_ratings_count',\n",
       "   'author_average_rating',\n",
       "   'genre'],\n",
       "  'genres_col': ['poetry',\n",
       "   'children',\n",
       "   'fantasy, paranormal',\n",
       "   'history, historical fiction, biography',\n",
       "   'comics, graphic',\n",
       "   'non-fiction',\n",
       "   'mystery, thriller, crime',\n",
       "   'young-adult',\n",
       "   'romance'],\n",
       "  'full_genres_col': ['poetry',\n",
       "   'children',\n",
       "   'fantasy, paranormal',\n",
       "   'history, historical fiction, biography',\n",
       "   'comics, graphic',\n",
       "   'non-fiction',\n",
       "   'mystery, thriller, crime',\n",
       "   'young-adult',\n",
       "   'romance',\n",
       "   'fiction']},\n",
       " 'num_classes': 10,\n",
       " 'test_precentage': 0.1,\n",
       " 'val_precentage': 0.1,\n",
       " 'hyperparams': {'desc_maxwords': 500,\n",
       "  'title_maxwords': 500,\n",
       "  'logistic_regre_params': {'C': [0.1, 1.0, 10.0, 100.0]},\n",
       "  'random_forest_params': {'n_estimators': [300, 500],\n",
       "   'min_samples_leaf': [5, 10]},\n",
       "  'conv_params': {'transfer_learning': {'top_config': [256, 64]},\n",
       "   'custom_conv': {'conv_config': [32, 128, 64],\n",
       "    'dense_config': [128, 64],\n",
       "    'kernel': 5,\n",
       "    'pool': 2},\n",
       "   'batch_size': 64,\n",
       "   'epochs': 20,\n",
       "   'patience': 3,\n",
       "   'image_size': 224,\n",
       "   'learning_rate': [0.001, 0.003]},\n",
       "  'embedding_params': {'desc_max_voc': 5000,\n",
       "   'title_max_voc': 1000,\n",
       "   'desc_max_len': 350,\n",
       "   'title_max_len': 10,\n",
       "   'batch_size': 32,\n",
       "   'epochs': 20,\n",
       "   'embedding_type': ['spacy', 'word2vec'],\n",
       "   'embedding_dim': 300,\n",
       "   'patience': 3,\n",
       "   'dense_config': [128, 64],\n",
       "   'learning_rate': [0.003, 0.001],\n",
       "   'kernel_desc': [5, 10],\n",
       "   'kernel_title': [3, 5],\n",
       "   'word2vecwindow_desc': 10,\n",
       "   'word2vecwindow_title': 3,\n",
       "   'dropout_rates': [0.2, 0.1],\n",
       "   'conv_filters_desc': 64,\n",
       "   'conv_filters_title': 16}}}"
      ]
     },
     "execution_count": 114,
     "metadata": {},
     "output_type": "execute_result"
    }
   ],
   "source": [
    "conf"
   ]
  },
  {
   "cell_type": "code",
   "execution_count": 115,
   "metadata": {
    "pycharm": {
     "is_executing": true,
     "name": "#%%\n"
    }
   },
   "outputs": [],
   "source": [
    "#data locations\n",
    "data_path = os.path.abspath(conf[\"files\"][\"data_dir\"])\n",
    "image_source_path = os.path.abspath(conf[\"files\"][\"image_source_dir\"])\n",
    "image_source_list = conf[\"files\"][\"images_list\"]"
   ]
  },
  {
   "cell_type": "code",
   "execution_count": 116,
   "metadata": {},
   "outputs": [],
   "source": [
    "SEED=42\n",
    "np.random.seed(SEED)\n",
    "tf.random.set_seed(SEED)"
   ]
  },
  {
   "cell_type": "markdown",
   "metadata": {},
   "source": [
    "### Important- If you already run the full EDA notebook-you can run only the following line (Or if running second time).\n",
    "### After running  skip to Models sections"
   ]
  },
  {
   "cell_type": "markdown",
   "metadata": {},
   "source": [
    "We create a GoodreadsDataset object that will contain an alreday prepared train, validation and tests datasets. We assumed it is already prepared."
   ]
  },
  {
   "cell_type": "code",
   "execution_count": 117,
   "metadata": {},
   "outputs": [
    {
     "name": "stdout",
     "output_type": "stream",
     "text": [
      "Loaded train dataset containing: 123399 samples\n",
      "Loaded validation dataset containing: 13712 samples\n",
      "Loaded test dataset containing: 15235 samples\n"
     ]
    }
   ],
   "source": [
    "goodr_dataset = gr.GoodreadsDataset.load_from_split(conf['preprocessed'], image_source_path, image_source_list, data_path)"
   ]
  },
  {
   "cell_type": "markdown",
   "metadata": {},
   "source": [
    "### Or -Start from fresh"
   ]
  },
  {
   "cell_type": "markdown",
   "metadata": {},
   "source": [
    "Loading the dataset. Running preporcessing tasks and splitting the datasets to train, valdation and test set.\n",
    "This can take a while since it prepares both data and images folders"
   ]
  },
  {
   "cell_type": "code",
   "execution_count": 7,
   "metadata": {},
   "outputs": [],
   "source": [
    "test_pct = conf[\"test_precentage\"]\n",
    "val_pct = conf[\"val_precentage\"]"
   ]
  },
  {
   "cell_type": "code",
   "execution_count": 8,
   "metadata": {},
   "outputs": [
    {
     "name": "stdout",
     "output_type": "stream",
     "text": [
      "Test precentage (From total dataset) : 0.1\n",
      "Validation precentage (From train dataset): 0.1\n"
     ]
    }
   ],
   "source": [
    "print(f\"Test precentage (From total dataset) : {test_pct}\")\n",
    "print(f\"Validation precentage (From train dataset): {val_pct}\")"
   ]
  },
  {
   "cell_type": "code",
   "execution_count": 9,
   "metadata": {},
   "outputs": [
    {
     "name": "stdout",
     "output_type": "stream",
     "text": [
      "Loaded train dataset containing: 123399 samples\n",
      "Loaded validation dataset containing: 13712 samples\n",
      "Loaded test dataset containing: 15235 samples\n",
      "dataset path  /home/neuralx/PycharmProjects/701project/data/images-train\n",
      "dataset path  /home/neuralx/PycharmProjects/701project/data/images-val\n",
      "dataset path  /home/neuralx/PycharmProjects/701project/data/images-test\n",
      "All images prepared in folders\n",
      "Dataset splits saved as pickle files\n"
     ]
    },
    {
     "data": {
      "text/plain": [
       "(array([[17902696, 14512257, 'Bring Up the Bodies (Thomas Cromwell, #2)',\n",
       "         ..., 0, 11695, 3.7908507909362976],\n",
       "        [13582378, 7211726,\n",
       "         'The Difficulty of Being Good: On The Subtle Art Of Dharma', ...,\n",
       "         0, 49, 4.285714285714286],\n",
       "        [18663228, 26484597, 'The Best Medicine (Bell Harbor, #2)', ...,\n",
       "         0, 479, 3.878914405010439],\n",
       "        ...,\n",
       "        [22888859, 42458870, 'Anluwagi', ..., 0, 4, 2.75],\n",
       "        [22295193, 40165918, 'Unexpected Gaines (Scott Wolfe, #2)', ...,\n",
       "         0, 16, 4.4375],\n",
       "        [15844677, 21362860,\n",
       "         'Beyond the Will of God: A Jill Simpson Mystery', ..., 0, 2, 5.0]],\n",
       "       dtype=object),\n",
       " array([['history, historical fiction, biography'],\n",
       "        ['non-fiction'],\n",
       "        ['romance'],\n",
       "        ...,\n",
       "        ['children'],\n",
       "        ['mystery, thriller, crime'],\n",
       "        ['mystery, thriller, crime']], dtype=object),\n",
       " array([[511362, 499358, 'The Yom Kippur Murder (Christine Bennett, #2)',\n",
       "         ..., 0, 167, 3.8682634730538923],\n",
       "        [18234245, 21805165, 'Dreams of Ivory (Holiday, Montana, #5)',\n",
       "         ..., 0, 1625, 4.049846153846154],\n",
       "        [18104725, 25423323,\n",
       "         'The Almost Nearly Perfect People: Behind the Myth of the Scandinavian Utopia',\n",
       "         ..., 0, 463, 3.876889848812095],\n",
       "        ...,\n",
       "        [24974804, 2289471, \"Saint's Temptation (The Heiresses #4)\", ...,\n",
       "         0, 15, 4.066666666666666],\n",
       "        [21854550, 41126730,\n",
       "         \"The Savvy Woman's Secrets to Outwit a Cheating Man\", ..., 0, 1,\n",
       "         5.0],\n",
       "        [18072461, 42474516, 'The Realmsic Conquest: The Hero of Legend',\n",
       "         ..., 0, 12, 4.5]], dtype=object),\n",
       " array([['mystery, thriller, crime'],\n",
       "        ['fantasy, paranormal'],\n",
       "        ['non-fiction'],\n",
       "        ...,\n",
       "        ['romance'],\n",
       "        ['non-fiction'],\n",
       "        ['fantasy, paranormal']], dtype=object),\n",
       " array([[6437714, 6627363, 'Mystery Man', ..., 0, 81, 3.654320987654321],\n",
       "        [18579939, 26314990, 'The Only Blue Door', ..., 0, 11,\n",
       "         4.545454545454546],\n",
       "        [22332208, 3407603, 'Pocket History Of Scotland', ..., 0, 1, 3.0],\n",
       "        ...,\n",
       "        [14760299, 20410487,\n",
       "         'The Prince and the Program (The Mordred Saga, #1)', ..., 0, 24,\n",
       "         3.875],\n",
       "        [33370543, 54112112, 'Forever Stay', ..., 1, 2, 3.0],\n",
       "        [32997737, 53637658, 'Foy: On the Road to Lost', ..., 0, 8, 4.125]],\n",
       "       dtype=object),\n",
       " array([['mystery, thriller, crime'],\n",
       "        ['history, historical fiction, biography'],\n",
       "        ['history, historical fiction, biography'],\n",
       "        ...,\n",
       "        ['fantasy, paranormal'],\n",
       "        ['mystery, thriller, crime'],\n",
       "        ['fiction']], dtype=object))"
      ]
     },
     "execution_count": 9,
     "metadata": {},
     "output_type": "execute_result"
    }
   ],
   "source": [
    "books_file = os.path.join(conf[\"files\"][\"data_dir\"], conf[\"files\"][\"books_file\"])\n",
    "books = pd.read_csv(books_file, na_values=['NA', ''])\n",
    "\n",
    "goodr_dataset=gr.GoodreadsDataset(conf['preprocessed'], image_source_path,image_source_list,data_path)\n",
    "goodr_dataset.preprocess(books)\n",
    "\n",
    "#This can take a while since it prepares images folders\n",
    "goodr_dataset.prepare_train_test_split(test_pct=test_pct, val_pct=val_pct)"
   ]
  },
  {
   "cell_type": "markdown",
   "metadata": {},
   "source": [
    "# Models"
   ]
  },
  {
   "cell_type": "markdown",
   "metadata": {},
   "source": [
    "We will create a dictinary to collect all model results"
   ]
  },
  {
   "cell_type": "code",
   "execution_count": 118,
   "metadata": {},
   "outputs": [],
   "source": [
    "score_dictionary={'model':[], 'accuracy':[], 'F1-weighted':[] }\n",
    "full_generes=conf[\"preprocessed\"][\"full_genres_col\"]"
   ]
  },
  {
   "cell_type": "markdown",
   "metadata": {},
   "source": [
    "## Baseline model\n",
    "Our baseline model will be a simple model the determines a the book genre by simply looking for another book written by the same author and if found returns its genre.In case there is no former book it assign the genre as the mode genre."
   ]
  },
  {
   "cell_type": "code",
   "execution_count": 8,
   "metadata": {},
   "outputs": [],
   "source": [
    "baseline_learner=gr.Baseline(conf[\"preprocessed\"][\"preprocess_col_order\"])\n",
    "baseline_learner.fit(goodr_dataset.X_train, goodr_dataset.y_train)\n",
    "y_val_predicted=baseline_learner.predict(goodr_dataset.X_val)"
   ]
  },
  {
   "cell_type": "markdown",
   "metadata": {},
   "source": [
    "Evaluate the model"
   ]
  },
  {
   "cell_type": "code",
   "execution_count": 9,
   "metadata": {
    "pycharm": {
     "is_executing": true,
     "name": "#%%\n"
    }
   },
   "outputs": [
    {
     "name": "stdout",
     "output_type": "stream",
     "text": [
      "                                        precision    recall  f1-score   support\n",
      "\n",
      "                                poetry       0.69      0.29      0.40       457\n",
      "                              children       0.70      0.47      0.56       782\n",
      "                   fantasy, paranormal       0.32      0.80      0.46      2640\n",
      "history, historical fiction, biography       0.63      0.37      0.47      1920\n",
      "                       comics, graphic       0.93      0.75      0.83      1036\n",
      "                           non-fiction       0.65      0.25      0.36      1543\n",
      "              mystery, thriller, crime       0.75      0.55      0.63      1962\n",
      "                           young-adult       0.54      0.42      0.47       693\n",
      "                               romance       0.80      0.63      0.71      2014\n",
      "                               fiction       0.28      0.14      0.18       665\n",
      "\n",
      "                              accuracy                           0.53     13712\n",
      "                             macro avg       0.63      0.47      0.51     13712\n",
      "                          weighted avg       0.62      0.53      0.53     13712\n",
      "\n"
     ]
    }
   ],
   "source": [
    "accuracy=accuracy_score(goodr_dataset.y_val, y_val_predicted)\n",
    "f1_weighted=f1_score(goodr_dataset.y_val, y_val_predicted, average='weighted')\n",
    "\n",
    "score_dictionary['model'].append(\"Baseline\")\n",
    "score_dictionary['accuracy'].append(accuracy)\n",
    "score_dictionary['F1-weighted'].append(f1_weighted)\n",
    "\n",
    "print(classification_report(goodr_dataset.y_val, y_val_predicted, labels=conf[\"preprocessed\"][\"full_genres_col\"]))\n"
   ]
  },
  {
   "cell_type": "code",
   "execution_count": 10,
   "metadata": {},
   "outputs": [
    {
     "data": {
      "text/html": [
       "<div>\n",
       "<style scoped>\n",
       "    .dataframe tbody tr th:only-of-type {\n",
       "        vertical-align: middle;\n",
       "    }\n",
       "\n",
       "    .dataframe tbody tr th {\n",
       "        vertical-align: top;\n",
       "    }\n",
       "\n",
       "    .dataframe thead th {\n",
       "        text-align: right;\n",
       "    }\n",
       "</style>\n",
       "<table border=\"1\" class=\"dataframe\">\n",
       "  <thead>\n",
       "    <tr style=\"text-align: right;\">\n",
       "      <th></th>\n",
       "      <th>model</th>\n",
       "      <th>accuracy</th>\n",
       "      <th>F1-weighted</th>\n",
       "    </tr>\n",
       "  </thead>\n",
       "  <tbody>\n",
       "    <tr>\n",
       "      <th>0</th>\n",
       "      <td>Baseline</td>\n",
       "      <td>0.525963</td>\n",
       "      <td>0.529492</td>\n",
       "    </tr>\n",
       "  </tbody>\n",
       "</table>\n",
       "</div>"
      ],
      "text/plain": [
       "      model  accuracy  F1-weighted\n",
       "0  Baseline  0.525963     0.529492"
      ]
     },
     "execution_count": 10,
     "metadata": {},
     "output_type": "execute_result"
    }
   ],
   "source": [
    "df_scores= pd.DataFrame.from_dict(score_dictionary)\n",
    "df_scores.head()"
   ]
  },
  {
   "cell_type": "markdown",
   "metadata": {},
   "source": [
    "We can see that our baseline model has achieved: 0.53% accuracy and 0.53% weighted F1.\n",
    "We can see a high of 0.8 in recall of genre \"fantasy, paranormal\". This is expected since it was the genre mode and therefore the default prediction of the baseline model. The precision value is low. \n",
    "High values of f1 (and both precision and recall) are also seen in the \"comics\" genre.This might be becuase of repetition of same authors in this category."
   ]
  },
  {
   "cell_type": "markdown",
   "metadata": {},
   "source": [
    "### Preparing data for inference"
   ]
  },
  {
   "cell_type": "markdown",
   "metadata": {},
   "source": [
    "- Numerical features-publication year and ratings features were normalized by using min-max normalization since they have a definite range of values (1500-2020 and 1-5 respectively).Other numerical values were normalized using power transformer box-cox method. We have used this method instead of the popular standard scaler since our features contain strong outlier.Box-Cox is very suitable for features having outliers.It can be used  only for positive values (which is our case).The normalized data will have zero-mean and unit-variance.\n",
    "\n",
    "- Title and description text features have been transformed in two different methods(that will be used in different models). The first is creating bag of words counts.(we limited to 500 distinct words) and the second method is tfidf normalization."
   ]
  },
  {
   "cell_type": "code",
   "execution_count": 119,
   "metadata": {
    "pycharm": {
     "is_executing": true,
     "name": "#%%\n"
    }
   },
   "outputs": [
    {
     "name": "stdout",
     "output_type": "stream",
     "text": [
      "All datasets prepared for inference\n"
     ]
    }
   ],
   "source": [
    "goodr_dataset.prepare_data_for_inference(add_text_features=True, descr_maxwords=conf[\"hyperparams\"][\"desc_maxwords\"], title_maxwords=conf[\"hyperparams\"][\"title_maxwords\"], drop_ids=True, drop_author_id=True,target_hot_encoding=False)\n"
   ]
  },
  {
   "cell_type": "markdown",
   "metadata": {},
   "source": [
    "We will now take the prepared train,validation and test datasets"
   ]
  },
  {
   "cell_type": "code",
   "execution_count": 120,
   "metadata": {
    "pycharm": {
     "is_executing": true
    }
   },
   "outputs": [],
   "source": [
    "X_train=goodr_dataset.X_train.values\n",
    "X_val=goodr_dataset.X_val.values\n",
    "X_test=goodr_dataset.X_test.values"
   ]
  },
  {
   "cell_type": "code",
   "execution_count": 121,
   "metadata": {
    "pycharm": {
     "is_executing": true
    }
   },
   "outputs": [],
   "source": [
    "y_train=goodr_dataset.y_train\n",
    "y_val=goodr_dataset.y_val\n",
    "y_test=goodr_dataset.y_test"
   ]
  },
  {
   "cell_type": "code",
   "execution_count": 122,
   "metadata": {
    "pycharm": {
     "is_executing": true
    }
   },
   "outputs": [],
   "source": [
    "column_names=list(goodr_dataset.inference_col_names)"
   ]
  },
  {
   "cell_type": "code",
   "execution_count": 123,
   "metadata": {},
   "outputs": [
    {
     "data": {
      "text/plain": [
       "['num_pages',\n",
       " 'publication_year',\n",
       " 'is_ebook',\n",
       " 'series',\n",
       " 'read_count',\n",
       " 'text_reviews_count',\n",
       " 'ratings_count',\n",
       " 'average_rating',\n",
       " 'public_year_null',\n",
       " 'num_pages_null',\n",
       " 'authors_ratings_count',\n",
       " 'author_average_rating',\n",
       " 'tfidf_desc_able',\n",
       " 'tfidf_desc_action',\n",
       " 'tfidf_desc_adventure',\n",
       " 'tfidf_desc_adventures',\n",
       " 'tfidf_desc_age',\n",
       " 'tfidf_desc_ago',\n",
       " 'tfidf_desc_alive',\n",
       " 'tfidf_desc_america',\n",
       " 'tfidf_desc_american',\n",
       " 'tfidf_desc_ancient',\n",
       " 'tfidf_desc_answers',\n",
       " 'tfidf_desc_apart',\n",
       " 'tfidf_desc_army',\n",
       " 'tfidf_desc_art',\n",
       " 'tfidf_desc_author',\n",
       " 'tfidf_desc_award',\n",
       " 'tfidf_desc_away',\n",
       " 'tfidf_desc_bad',\n",
       " 'tfidf_desc_based',\n",
       " 'tfidf_desc_battle',\n",
       " 'tfidf_desc_beautiful',\n",
       " 'tfidf_desc_beauty',\n",
       " 'tfidf_desc_begin',\n",
       " 'tfidf_desc_beginning',\n",
       " 'tfidf_desc_begins',\n",
       " 'tfidf_desc_believe',\n",
       " 'tfidf_desc_beloved',\n",
       " 'tfidf_desc_best',\n",
       " 'tfidf_desc_bestselling',\n",
       " 'tfidf_desc_better',\n",
       " 'tfidf_desc_big',\n",
       " 'tfidf_desc_black',\n",
       " 'tfidf_desc_blood',\n",
       " 'tfidf_desc_body',\n",
       " 'tfidf_desc_book',\n",
       " 'tfidf_desc_books',\n",
       " 'tfidf_desc_born',\n",
       " 'tfidf_desc_boy',\n",
       " 'tfidf_desc_boyfriend',\n",
       " 'tfidf_desc_break',\n",
       " 'tfidf_desc_brilliant',\n",
       " 'tfidf_desc_bring',\n",
       " 'tfidf_desc_brings',\n",
       " 'tfidf_desc_broken',\n",
       " 'tfidf_desc_brother',\n",
       " 'tfidf_desc_brought',\n",
       " 'tfidf_desc_business',\n",
       " 'tfidf_desc_called',\n",
       " 'tfidf_desc_came',\n",
       " 'tfidf_desc_care',\n",
       " 'tfidf_desc_career',\n",
       " 'tfidf_desc_case',\n",
       " 'tfidf_desc_caught',\n",
       " 'tfidf_desc_century',\n",
       " 'tfidf_desc_chance',\n",
       " 'tfidf_desc_change',\n",
       " 'tfidf_desc_changed',\n",
       " 'tfidf_desc_changes',\n",
       " 'tfidf_desc_characters',\n",
       " 'tfidf_desc_child',\n",
       " 'tfidf_desc_childhood',\n",
       " 'tfidf_desc_children',\n",
       " 'tfidf_desc_choice',\n",
       " 'tfidf_desc_city',\n",
       " 'tfidf_desc_class',\n",
       " 'tfidf_desc_classic',\n",
       " 'tfidf_desc_clear',\n",
       " 'tfidf_desc_close',\n",
       " 'tfidf_desc_collection',\n",
       " 'tfidf_desc_college',\n",
       " 'tfidf_desc_come',\n",
       " 'tfidf_desc_comes',\n",
       " 'tfidf_desc_coming',\n",
       " 'tfidf_desc_community',\n",
       " 'tfidf_desc_complete',\n",
       " 'tfidf_desc_contemporary',\n",
       " 'tfidf_desc_control',\n",
       " 'tfidf_desc_country',\n",
       " 'tfidf_desc_course',\n",
       " 'tfidf_desc_cover',\n",
       " 'tfidf_desc_crime',\n",
       " 'tfidf_desc_culture',\n",
       " 'tfidf_desc_danger',\n",
       " 'tfidf_desc_dangerous',\n",
       " 'tfidf_desc_dark',\n",
       " 'tfidf_desc_darkness',\n",
       " 'tfidf_desc_daughter',\n",
       " 'tfidf_desc_david',\n",
       " 'tfidf_desc_day',\n",
       " 'tfidf_desc_days',\n",
       " 'tfidf_desc_dead',\n",
       " 'tfidf_desc_deadly',\n",
       " 'tfidf_desc_death',\n",
       " 'tfidf_desc_debut',\n",
       " 'tfidf_desc_deep',\n",
       " 'tfidf_desc_desire',\n",
       " 'tfidf_desc_desperate',\n",
       " 'tfidf_desc_despite',\n",
       " 'tfidf_desc_destroy',\n",
       " 'tfidf_desc_detective',\n",
       " 'tfidf_desc_determined',\n",
       " 'tfidf_desc_did',\n",
       " 'tfidf_desc_didn',\n",
       " 'tfidf_desc_die',\n",
       " 'tfidf_desc_different',\n",
       " 'tfidf_desc_discover',\n",
       " 'tfidf_desc_discovers',\n",
       " 'tfidf_desc_does',\n",
       " 'tfidf_desc_doesn',\n",
       " 'tfidf_desc_don',\n",
       " 'tfidf_desc_dr',\n",
       " 'tfidf_desc_drawn',\n",
       " 'tfidf_desc_dream',\n",
       " 'tfidf_desc_dreams',\n",
       " 'tfidf_desc_early',\n",
       " 'tfidf_desc_earth',\n",
       " 'tfidf_desc_easy',\n",
       " 'tfidf_desc_edition',\n",
       " 'tfidf_desc_end',\n",
       " 'tfidf_desc_enemy',\n",
       " 'tfidf_desc_england',\n",
       " 'tfidf_desc_english',\n",
       " 'tfidf_desc_entire',\n",
       " 'tfidf_desc_epic',\n",
       " 'tfidf_desc_escape',\n",
       " 'tfidf_desc_especially',\n",
       " 'tfidf_desc_events',\n",
       " 'tfidf_desc_evil',\n",
       " 'tfidf_desc_ex',\n",
       " 'tfidf_desc_experience',\n",
       " 'tfidf_desc_extraordinary',\n",
       " 'tfidf_desc_eyes',\n",
       " 'tfidf_desc_face',\n",
       " 'tfidf_desc_fact',\n",
       " 'tfidf_desc_faith',\n",
       " 'tfidf_desc_fall',\n",
       " 'tfidf_desc_falls',\n",
       " 'tfidf_desc_family',\n",
       " 'tfidf_desc_famous',\n",
       " 'tfidf_desc_fans',\n",
       " 'tfidf_desc_fantasy',\n",
       " 'tfidf_desc_far',\n",
       " 'tfidf_desc_fast',\n",
       " 'tfidf_desc_fate',\n",
       " 'tfidf_desc_father',\n",
       " 'tfidf_desc_fear',\n",
       " 'tfidf_desc_feel',\n",
       " 'tfidf_desc_feelings',\n",
       " 'tfidf_desc_feels',\n",
       " 'tfidf_desc_fiction',\n",
       " 'tfidf_desc_fight',\n",
       " 'tfidf_desc_filled',\n",
       " 'tfidf_desc_final',\n",
       " 'tfidf_desc_finally',\n",
       " 'tfidf_desc_finding',\n",
       " 'tfidf_desc_finds',\n",
       " 'tfidf_desc_follow',\n",
       " 'tfidf_desc_following',\n",
       " 'tfidf_desc_force',\n",
       " 'tfidf_desc_forced',\n",
       " 'tfidf_desc_forces',\n",
       " 'tfidf_desc_forever',\n",
       " 'tfidf_desc_form',\n",
       " 'tfidf_desc_free',\n",
       " 'tfidf_desc_freedom',\n",
       " 'tfidf_desc_friend',\n",
       " 'tfidf_desc_friends',\n",
       " 'tfidf_desc_friendship',\n",
       " 'tfidf_desc_fun',\n",
       " 'tfidf_desc_funny',\n",
       " 'tfidf_desc_future',\n",
       " 'tfidf_desc_game',\n",
       " 'tfidf_desc_gets',\n",
       " 'tfidf_desc_getting',\n",
       " 'tfidf_desc_girl',\n",
       " 'tfidf_desc_girls',\n",
       " 'tfidf_desc_god',\n",
       " 'tfidf_desc_goes',\n",
       " 'tfidf_desc_going',\n",
       " 'tfidf_desc_gone',\n",
       " 'tfidf_desc_good',\n",
       " 'tfidf_desc_got',\n",
       " 'tfidf_desc_government',\n",
       " 'tfidf_desc_great',\n",
       " 'tfidf_desc_greatest',\n",
       " 'tfidf_desc_group',\n",
       " 'tfidf_desc_growing',\n",
       " 'tfidf_desc_guide',\n",
       " 'tfidf_desc_half',\n",
       " 'tfidf_desc_hand',\n",
       " 'tfidf_desc_hands',\n",
       " 'tfidf_desc_handsome',\n",
       " 'tfidf_desc_happens',\n",
       " 'tfidf_desc_happy',\n",
       " 'tfidf_desc_hard',\n",
       " 'tfidf_desc_having',\n",
       " 'tfidf_desc_head',\n",
       " 'tfidf_desc_heart',\n",
       " 'tfidf_desc_hell',\n",
       " 'tfidf_desc_help',\n",
       " 'tfidf_desc_hero',\n",
       " 'tfidf_desc_hidden',\n",
       " 'tfidf_desc_high',\n",
       " 'tfidf_desc_historical',\n",
       " 'tfidf_desc_history',\n",
       " 'tfidf_desc_hold',\n",
       " 'tfidf_desc_home',\n",
       " 'tfidf_desc_hope',\n",
       " 'tfidf_desc_horror',\n",
       " 'tfidf_desc_hot',\n",
       " 'tfidf_desc_house',\n",
       " 'tfidf_desc_human',\n",
       " 'tfidf_desc_humanity',\n",
       " 'tfidf_desc_husband',\n",
       " 'tfidf_desc_identity',\n",
       " 'tfidf_desc_important',\n",
       " 'tfidf_desc_includes',\n",
       " 'tfidf_desc_including',\n",
       " 'tfidf_desc_inside',\n",
       " 'tfidf_desc_instead',\n",
       " 'tfidf_desc_island',\n",
       " 'tfidf_desc_isn',\n",
       " 'tfidf_desc_jack',\n",
       " 'tfidf_desc_james',\n",
       " 'tfidf_desc_job',\n",
       " 'tfidf_desc_john',\n",
       " 'tfidf_desc_join',\n",
       " 'tfidf_desc_journey',\n",
       " 'tfidf_desc_just',\n",
       " 'tfidf_desc_key',\n",
       " 'tfidf_desc_kill',\n",
       " 'tfidf_desc_killed',\n",
       " 'tfidf_desc_killer',\n",
       " 'tfidf_desc_kind',\n",
       " 'tfidf_desc_king',\n",
       " 'tfidf_desc_knew',\n",
       " 'tfidf_desc_know',\n",
       " 'tfidf_desc_known',\n",
       " 'tfidf_desc_knows',\n",
       " 'tfidf_desc_lady',\n",
       " 'tfidf_desc_land',\n",
       " 'tfidf_desc_language',\n",
       " 'tfidf_desc_late',\n",
       " 'tfidf_desc_later',\n",
       " 'tfidf_desc_law',\n",
       " 'tfidf_desc_lead',\n",
       " 'tfidf_desc_leads',\n",
       " 'tfidf_desc_learn',\n",
       " 'tfidf_desc_learns',\n",
       " 'tfidf_desc_leave',\n",
       " 'tfidf_desc_leaves',\n",
       " 'tfidf_desc_leaving',\n",
       " 'tfidf_desc_left',\n",
       " 'tfidf_desc_let',\n",
       " 'tfidf_desc_lies',\n",
       " 'tfidf_desc_life',\n",
       " 'tfidf_desc_light',\n",
       " 'tfidf_desc_like',\n",
       " 'tfidf_desc_line',\n",
       " 'tfidf_desc_literary',\n",
       " 'tfidf_desc_literature',\n",
       " 'tfidf_desc_little',\n",
       " 'tfidf_desc_live',\n",
       " 'tfidf_desc_lived',\n",
       " 'tfidf_desc_lives',\n",
       " 'tfidf_desc_living',\n",
       " 'tfidf_desc_ll',\n",
       " 'tfidf_desc_local',\n",
       " 'tfidf_desc_london',\n",
       " 'tfidf_desc_long',\n",
       " 'tfidf_desc_look',\n",
       " 'tfidf_desc_looking',\n",
       " 'tfidf_desc_lord',\n",
       " 'tfidf_desc_loss',\n",
       " 'tfidf_desc_lost',\n",
       " 'tfidf_desc_love',\n",
       " 'tfidf_desc_loved',\n",
       " 'tfidf_desc_loves',\n",
       " 'tfidf_desc_magic',\n",
       " 'tfidf_desc_magical',\n",
       " 'tfidf_desc_make',\n",
       " 'tfidf_desc_makes',\n",
       " 'tfidf_desc_making',\n",
       " 'tfidf_desc_man',\n",
       " 'tfidf_desc_marriage',\n",
       " 'tfidf_desc_master',\n",
       " 'tfidf_desc_matter',\n",
       " 'tfidf_desc_means',\n",
       " 'tfidf_desc_meet',\n",
       " 'tfidf_desc_meets',\n",
       " 'tfidf_desc_memories',\n",
       " 'tfidf_desc_men',\n",
       " 'tfidf_desc_met',\n",
       " 'tfidf_desc_michael',\n",
       " 'tfidf_desc_middle',\n",
       " 'tfidf_desc_mind',\n",
       " 'tfidf_desc_missing',\n",
       " 'tfidf_desc_mission',\n",
       " 'tfidf_desc_modern',\n",
       " 'tfidf_desc_moment',\n",
       " 'tfidf_desc_money',\n",
       " 'tfidf_desc_mother',\n",
       " 'tfidf_desc_moving',\n",
       " 'tfidf_desc_murder',\n",
       " 'tfidf_desc_music',\n",
       " 'tfidf_desc_mysterious',\n",
       " 'tfidf_desc_mystery',\n",
       " 'tfidf_desc_named',\n",
       " 'tfidf_desc_nan',\n",
       " 'tfidf_desc_nature',\n",
       " 'tfidf_desc_need',\n",
       " 'tfidf_desc_needs',\n",
       " 'tfidf_desc_new',\n",
       " 'tfidf_desc_night',\n",
       " 'tfidf_desc_north',\n",
       " 'tfidf_desc_novel',\n",
       " 'tfidf_desc_novels',\n",
       " 'tfidf_desc_offers',\n",
       " 'tfidf_desc_old',\n",
       " 'tfidf_desc_open',\n",
       " 'tfidf_desc_order',\n",
       " 'tfidf_desc_original',\n",
       " 'tfidf_desc_page',\n",
       " 'tfidf_desc_parents',\n",
       " 'tfidf_desc_passion',\n",
       " 'tfidf_desc_past',\n",
       " 'tfidf_desc_path',\n",
       " 'tfidf_desc_peace',\n",
       " 'tfidf_desc_people',\n",
       " 'tfidf_desc_perfect',\n",
       " 'tfidf_desc_person',\n",
       " 'tfidf_desc_personal',\n",
       " 'tfidf_desc_place',\n",
       " 'tfidf_desc_plan',\n",
       " 'tfidf_desc_planet',\n",
       " 'tfidf_desc_plans',\n",
       " 'tfidf_desc_play',\n",
       " 'tfidf_desc_poems',\n",
       " 'tfidf_desc_poetry',\n",
       " 'tfidf_desc_police',\n",
       " 'tfidf_desc_political',\n",
       " 'tfidf_desc_popular',\n",
       " 'tfidf_desc_power',\n",
       " 'tfidf_desc_powerful',\n",
       " 'tfidf_desc_powers',\n",
       " 'tfidf_desc_present',\n",
       " 'tfidf_desc_protect',\n",
       " 'tfidf_desc_published',\n",
       " 'tfidf_desc_queen',\n",
       " 'tfidf_desc_quest',\n",
       " 'tfidf_desc_question',\n",
       " 'tfidf_desc_questions',\n",
       " 'tfidf_desc_quickly',\n",
       " 'tfidf_desc_race',\n",
       " 'tfidf_desc_read',\n",
       " 'tfidf_desc_reader',\n",
       " 'tfidf_desc_readers',\n",
       " 'tfidf_desc_reading',\n",
       " 'tfidf_desc_ready',\n",
       " 'tfidf_desc_real',\n",
       " 'tfidf_desc_reality',\n",
       " 'tfidf_desc_realizes',\n",
       " 'tfidf_desc_really',\n",
       " 'tfidf_desc_red',\n",
       " 'tfidf_desc_relationship',\n",
       " 'tfidf_desc_return',\n",
       " 'tfidf_desc_returns',\n",
       " 'tfidf_desc_revenge',\n",
       " 'tfidf_desc_rich',\n",
       " 'tfidf_desc_right',\n",
       " 'tfidf_desc_risk',\n",
       " 'tfidf_desc_road',\n",
       " 'tfidf_desc_romance',\n",
       " 'tfidf_desc_run',\n",
       " 'tfidf_desc_running',\n",
       " 'tfidf_desc_safe',\n",
       " 'tfidf_desc_save',\n",
       " 'tfidf_desc_say',\n",
       " 'tfidf_desc_school',\n",
       " 'tfidf_desc_science',\n",
       " 'tfidf_desc_sea',\n",
       " 'tfidf_desc_search',\n",
       " 'tfidf_desc_second',\n",
       " 'tfidf_desc_secret',\n",
       " 'tfidf_desc_secrets',\n",
       " 'tfidf_desc_seen',\n",
       " 'tfidf_desc_self',\n",
       " 'tfidf_desc_sense',\n",
       " 'tfidf_desc_series',\n",
       " 'tfidf_desc_set',\n",
       " 'tfidf_desc_sets',\n",
       " 'tfidf_desc_seven',\n",
       " 'tfidf_desc_sex',\n",
       " 'tfidf_desc_sexy',\n",
       " 'tfidf_desc_short',\n",
       " 'tfidf_desc_shows',\n",
       " 'tfidf_desc_simple',\n",
       " 'tfidf_desc_single',\n",
       " 'tfidf_desc_sister',\n",
       " 'tfidf_desc_small',\n",
       " 'tfidf_desc_social',\n",
       " 'tfidf_desc_society',\n",
       " 'tfidf_desc_son',\n",
       " 'tfidf_desc_soon',\n",
       " 'tfidf_desc_soul',\n",
       " 'tfidf_desc_south',\n",
       " 'tfidf_desc_space',\n",
       " 'tfidf_desc_special',\n",
       " 'tfidf_desc_spirit',\n",
       " 'tfidf_desc_stand',\n",
       " 'tfidf_desc_star',\n",
       " 'tfidf_desc_start',\n",
       " 'tfidf_desc_starts',\n",
       " 'tfidf_desc_state',\n",
       " 'tfidf_desc_stay',\n",
       " 'tfidf_desc_step',\n",
       " 'tfidf_desc_stop',\n",
       " 'tfidf_desc_stories',\n",
       " 'tfidf_desc_story',\n",
       " 'tfidf_desc_strange',\n",
       " 'tfidf_desc_stranger',\n",
       " 'tfidf_desc_strong',\n",
       " 'tfidf_desc_struggle',\n",
       " 'tfidf_desc_struggles',\n",
       " 'tfidf_desc_suddenly',\n",
       " 'tfidf_desc_summer',\n",
       " 'tfidf_desc_sure',\n",
       " 'tfidf_desc_survive',\n",
       " 'tfidf_desc_taken',\n",
       " 'tfidf_desc_takes',\n",
       " 'tfidf_desc_taking',\n",
       " 'tfidf_desc_tale',\n",
       " 'tfidf_desc_tales',\n",
       " 'tfidf_desc_team',\n",
       " 'tfidf_desc_tell',\n",
       " 'tfidf_desc_tells',\n",
       " 'tfidf_desc_terrible',\n",
       " 'tfidf_desc_thing',\n",
       " 'tfidf_desc_things',\n",
       " 'tfidf_desc_think',\n",
       " 'tfidf_desc_thinks',\n",
       " 'tfidf_desc_thought',\n",
       " 'tfidf_desc_thriller',\n",
       " 'tfidf_desc_time',\n",
       " 'tfidf_desc_times',\n",
       " 'tfidf_desc_today',\n",
       " 'tfidf_desc_told',\n",
       " 'tfidf_desc_town',\n",
       " 'tfidf_desc_tragedy',\n",
       " 'tfidf_desc_travel',\n",
       " 'tfidf_desc_trouble',\n",
       " 'tfidf_desc_true',\n",
       " 'tfidf_desc_truly',\n",
       " 'tfidf_desc_trust',\n",
       " 'tfidf_desc_truth',\n",
       " 'tfidf_desc_trying',\n",
       " 'tfidf_desc_turn',\n",
       " 'tfidf_desc_turned',\n",
       " 'tfidf_desc_turns',\n",
       " 'tfidf_desc_understand',\n",
       " 'tfidf_desc_unexpected',\n",
       " 'tfidf_desc_unique',\n",
       " 'tfidf_desc_use',\n",
       " 'tfidf_desc_used',\n",
       " 'tfidf_desc_vampire',\n",
       " 'tfidf_desc_ve',\n",
       " 'tfidf_desc_village',\n",
       " 'tfidf_desc_violence',\n",
       " 'tfidf_desc_voice',\n",
       " 'tfidf_desc_volume',\n",
       " 'tfidf_desc_want',\n",
       " 'tfidf_desc_wanted',\n",
       " 'tfidf_desc_wants',\n",
       " 'tfidf_desc_war',\n",
       " 'tfidf_desc_way',\n",
       " 'tfidf_desc_ways',\n",
       " 'tfidf_desc_west',\n",
       " 'tfidf_desc_white',\n",
       " 'tfidf_desc_wife',\n",
       " 'tfidf_desc_wild',\n",
       " 'tfidf_desc_winning',\n",
       " 'tfidf_desc_woman',\n",
       " 'tfidf_desc_women',\n",
       " 'tfidf_desc_won',\n",
       " 'tfidf_desc_words',\n",
       " 'tfidf_desc_work',\n",
       " 'tfidf_desc_working',\n",
       " 'tfidf_desc_works',\n",
       " 'tfidf_desc_world',\n",
       " 'tfidf_desc_worlds',\n",
       " 'tfidf_desc_worse',\n",
       " 'tfidf_desc_writer',\n",
       " 'tfidf_desc_writers',\n",
       " 'tfidf_desc_writing',\n",
       " 'tfidf_desc_written',\n",
       " 'tfidf_desc_wrong',\n",
       " 'tfidf_desc_year',\n",
       " 'tfidf_desc_years',\n",
       " 'tfidf_desc_york',\n",
       " 'tfidf_desc_young',\n",
       " 'bow_desc_able',\n",
       " 'bow_desc_action',\n",
       " 'bow_desc_adventure',\n",
       " 'bow_desc_adventures',\n",
       " 'bow_desc_age',\n",
       " 'bow_desc_ago',\n",
       " 'bow_desc_alive',\n",
       " 'bow_desc_america',\n",
       " 'bow_desc_american',\n",
       " 'bow_desc_ancient',\n",
       " 'bow_desc_answers',\n",
       " 'bow_desc_apart',\n",
       " 'bow_desc_army',\n",
       " 'bow_desc_art',\n",
       " 'bow_desc_author',\n",
       " 'bow_desc_award',\n",
       " 'bow_desc_away',\n",
       " 'bow_desc_bad',\n",
       " 'bow_desc_based',\n",
       " 'bow_desc_battle',\n",
       " 'bow_desc_beautiful',\n",
       " 'bow_desc_beauty',\n",
       " 'bow_desc_begin',\n",
       " 'bow_desc_beginning',\n",
       " 'bow_desc_begins',\n",
       " 'bow_desc_believe',\n",
       " 'bow_desc_beloved',\n",
       " 'bow_desc_best',\n",
       " 'bow_desc_bestselling',\n",
       " 'bow_desc_better',\n",
       " 'bow_desc_big',\n",
       " 'bow_desc_black',\n",
       " 'bow_desc_blood',\n",
       " 'bow_desc_body',\n",
       " 'bow_desc_book',\n",
       " 'bow_desc_books',\n",
       " 'bow_desc_born',\n",
       " 'bow_desc_boy',\n",
       " 'bow_desc_boyfriend',\n",
       " 'bow_desc_break',\n",
       " 'bow_desc_brilliant',\n",
       " 'bow_desc_bring',\n",
       " 'bow_desc_brings',\n",
       " 'bow_desc_broken',\n",
       " 'bow_desc_brother',\n",
       " 'bow_desc_brought',\n",
       " 'bow_desc_business',\n",
       " 'bow_desc_called',\n",
       " 'bow_desc_came',\n",
       " 'bow_desc_care',\n",
       " 'bow_desc_career',\n",
       " 'bow_desc_case',\n",
       " 'bow_desc_caught',\n",
       " 'bow_desc_century',\n",
       " 'bow_desc_chance',\n",
       " 'bow_desc_change',\n",
       " 'bow_desc_changed',\n",
       " 'bow_desc_changes',\n",
       " 'bow_desc_characters',\n",
       " 'bow_desc_child',\n",
       " 'bow_desc_childhood',\n",
       " 'bow_desc_children',\n",
       " 'bow_desc_choice',\n",
       " 'bow_desc_city',\n",
       " 'bow_desc_class',\n",
       " 'bow_desc_classic',\n",
       " 'bow_desc_clear',\n",
       " 'bow_desc_close',\n",
       " 'bow_desc_collection',\n",
       " 'bow_desc_college',\n",
       " 'bow_desc_come',\n",
       " 'bow_desc_comes',\n",
       " 'bow_desc_coming',\n",
       " 'bow_desc_community',\n",
       " 'bow_desc_complete',\n",
       " 'bow_desc_contemporary',\n",
       " 'bow_desc_control',\n",
       " 'bow_desc_country',\n",
       " 'bow_desc_course',\n",
       " 'bow_desc_cover',\n",
       " 'bow_desc_crime',\n",
       " 'bow_desc_culture',\n",
       " 'bow_desc_danger',\n",
       " 'bow_desc_dangerous',\n",
       " 'bow_desc_dark',\n",
       " 'bow_desc_darkness',\n",
       " 'bow_desc_daughter',\n",
       " 'bow_desc_david',\n",
       " 'bow_desc_day',\n",
       " 'bow_desc_days',\n",
       " 'bow_desc_dead',\n",
       " 'bow_desc_deadly',\n",
       " 'bow_desc_death',\n",
       " 'bow_desc_debut',\n",
       " 'bow_desc_deep',\n",
       " 'bow_desc_desire',\n",
       " 'bow_desc_desperate',\n",
       " 'bow_desc_despite',\n",
       " 'bow_desc_destroy',\n",
       " 'bow_desc_detective',\n",
       " 'bow_desc_determined',\n",
       " 'bow_desc_did',\n",
       " 'bow_desc_didn',\n",
       " 'bow_desc_die',\n",
       " 'bow_desc_different',\n",
       " 'bow_desc_discover',\n",
       " 'bow_desc_discovers',\n",
       " 'bow_desc_does',\n",
       " 'bow_desc_doesn',\n",
       " 'bow_desc_don',\n",
       " 'bow_desc_dr',\n",
       " 'bow_desc_drawn',\n",
       " 'bow_desc_dream',\n",
       " 'bow_desc_dreams',\n",
       " 'bow_desc_early',\n",
       " 'bow_desc_earth',\n",
       " 'bow_desc_easy',\n",
       " 'bow_desc_edition',\n",
       " 'bow_desc_end',\n",
       " 'bow_desc_enemy',\n",
       " 'bow_desc_england',\n",
       " 'bow_desc_english',\n",
       " 'bow_desc_entire',\n",
       " 'bow_desc_epic',\n",
       " 'bow_desc_escape',\n",
       " 'bow_desc_especially',\n",
       " 'bow_desc_events',\n",
       " 'bow_desc_evil',\n",
       " 'bow_desc_ex',\n",
       " 'bow_desc_experience',\n",
       " 'bow_desc_extraordinary',\n",
       " 'bow_desc_eyes',\n",
       " 'bow_desc_face',\n",
       " 'bow_desc_fact',\n",
       " 'bow_desc_faith',\n",
       " 'bow_desc_fall',\n",
       " 'bow_desc_falls',\n",
       " 'bow_desc_family',\n",
       " 'bow_desc_famous',\n",
       " 'bow_desc_fans',\n",
       " 'bow_desc_fantasy',\n",
       " 'bow_desc_far',\n",
       " 'bow_desc_fast',\n",
       " 'bow_desc_fate',\n",
       " 'bow_desc_father',\n",
       " 'bow_desc_fear',\n",
       " 'bow_desc_feel',\n",
       " 'bow_desc_feelings',\n",
       " 'bow_desc_feels',\n",
       " 'bow_desc_fiction',\n",
       " 'bow_desc_fight',\n",
       " 'bow_desc_filled',\n",
       " 'bow_desc_final',\n",
       " 'bow_desc_finally',\n",
       " 'bow_desc_finding',\n",
       " 'bow_desc_finds',\n",
       " 'bow_desc_follow',\n",
       " 'bow_desc_following',\n",
       " 'bow_desc_force',\n",
       " 'bow_desc_forced',\n",
       " 'bow_desc_forces',\n",
       " 'bow_desc_forever',\n",
       " 'bow_desc_form',\n",
       " 'bow_desc_free',\n",
       " 'bow_desc_freedom',\n",
       " 'bow_desc_friend',\n",
       " 'bow_desc_friends',\n",
       " 'bow_desc_friendship',\n",
       " 'bow_desc_fun',\n",
       " 'bow_desc_funny',\n",
       " 'bow_desc_future',\n",
       " 'bow_desc_game',\n",
       " 'bow_desc_gets',\n",
       " 'bow_desc_getting',\n",
       " 'bow_desc_girl',\n",
       " 'bow_desc_girls',\n",
       " 'bow_desc_god',\n",
       " 'bow_desc_goes',\n",
       " 'bow_desc_going',\n",
       " 'bow_desc_gone',\n",
       " 'bow_desc_good',\n",
       " 'bow_desc_got',\n",
       " 'bow_desc_government',\n",
       " 'bow_desc_great',\n",
       " 'bow_desc_greatest',\n",
       " 'bow_desc_group',\n",
       " 'bow_desc_growing',\n",
       " 'bow_desc_guide',\n",
       " 'bow_desc_half',\n",
       " 'bow_desc_hand',\n",
       " 'bow_desc_hands',\n",
       " 'bow_desc_handsome',\n",
       " 'bow_desc_happens',\n",
       " 'bow_desc_happy',\n",
       " 'bow_desc_hard',\n",
       " 'bow_desc_having',\n",
       " 'bow_desc_head',\n",
       " 'bow_desc_heart',\n",
       " 'bow_desc_hell',\n",
       " 'bow_desc_help',\n",
       " 'bow_desc_hero',\n",
       " 'bow_desc_hidden',\n",
       " 'bow_desc_high',\n",
       " 'bow_desc_historical',\n",
       " 'bow_desc_history',\n",
       " 'bow_desc_hold',\n",
       " 'bow_desc_home',\n",
       " 'bow_desc_hope',\n",
       " 'bow_desc_horror',\n",
       " 'bow_desc_hot',\n",
       " 'bow_desc_house',\n",
       " 'bow_desc_human',\n",
       " 'bow_desc_humanity',\n",
       " 'bow_desc_husband',\n",
       " 'bow_desc_identity',\n",
       " 'bow_desc_important',\n",
       " 'bow_desc_includes',\n",
       " 'bow_desc_including',\n",
       " 'bow_desc_inside',\n",
       " 'bow_desc_instead',\n",
       " 'bow_desc_island',\n",
       " 'bow_desc_isn',\n",
       " 'bow_desc_jack',\n",
       " 'bow_desc_james',\n",
       " 'bow_desc_job',\n",
       " 'bow_desc_john',\n",
       " 'bow_desc_join',\n",
       " 'bow_desc_journey',\n",
       " 'bow_desc_just',\n",
       " 'bow_desc_key',\n",
       " 'bow_desc_kill',\n",
       " 'bow_desc_killed',\n",
       " 'bow_desc_killer',\n",
       " 'bow_desc_kind',\n",
       " 'bow_desc_king',\n",
       " 'bow_desc_knew',\n",
       " 'bow_desc_know',\n",
       " 'bow_desc_known',\n",
       " 'bow_desc_knows',\n",
       " 'bow_desc_lady',\n",
       " 'bow_desc_land',\n",
       " 'bow_desc_language',\n",
       " 'bow_desc_late',\n",
       " 'bow_desc_later',\n",
       " 'bow_desc_law',\n",
       " 'bow_desc_lead',\n",
       " 'bow_desc_leads',\n",
       " 'bow_desc_learn',\n",
       " 'bow_desc_learns',\n",
       " 'bow_desc_leave',\n",
       " 'bow_desc_leaves',\n",
       " 'bow_desc_leaving',\n",
       " 'bow_desc_left',\n",
       " 'bow_desc_let',\n",
       " 'bow_desc_lies',\n",
       " 'bow_desc_life',\n",
       " 'bow_desc_light',\n",
       " 'bow_desc_like',\n",
       " 'bow_desc_line',\n",
       " 'bow_desc_literary',\n",
       " 'bow_desc_literature',\n",
       " 'bow_desc_little',\n",
       " 'bow_desc_live',\n",
       " 'bow_desc_lived',\n",
       " 'bow_desc_lives',\n",
       " 'bow_desc_living',\n",
       " 'bow_desc_ll',\n",
       " 'bow_desc_local',\n",
       " 'bow_desc_london',\n",
       " 'bow_desc_long',\n",
       " 'bow_desc_look',\n",
       " 'bow_desc_looking',\n",
       " 'bow_desc_lord',\n",
       " 'bow_desc_loss',\n",
       " 'bow_desc_lost',\n",
       " 'bow_desc_love',\n",
       " 'bow_desc_loved',\n",
       " 'bow_desc_loves',\n",
       " 'bow_desc_magic',\n",
       " 'bow_desc_magical',\n",
       " 'bow_desc_make',\n",
       " 'bow_desc_makes',\n",
       " 'bow_desc_making',\n",
       " 'bow_desc_man',\n",
       " 'bow_desc_marriage',\n",
       " 'bow_desc_master',\n",
       " 'bow_desc_matter',\n",
       " 'bow_desc_means',\n",
       " 'bow_desc_meet',\n",
       " 'bow_desc_meets',\n",
       " 'bow_desc_memories',\n",
       " 'bow_desc_men',\n",
       " 'bow_desc_met',\n",
       " 'bow_desc_michael',\n",
       " 'bow_desc_middle',\n",
       " 'bow_desc_mind',\n",
       " 'bow_desc_missing',\n",
       " 'bow_desc_mission',\n",
       " 'bow_desc_modern',\n",
       " 'bow_desc_moment',\n",
       " 'bow_desc_money',\n",
       " 'bow_desc_mother',\n",
       " 'bow_desc_moving',\n",
       " 'bow_desc_murder',\n",
       " 'bow_desc_music',\n",
       " 'bow_desc_mysterious',\n",
       " 'bow_desc_mystery',\n",
       " 'bow_desc_named',\n",
       " 'bow_desc_nan',\n",
       " 'bow_desc_nature',\n",
       " 'bow_desc_need',\n",
       " 'bow_desc_needs',\n",
       " 'bow_desc_new',\n",
       " 'bow_desc_night',\n",
       " 'bow_desc_north',\n",
       " 'bow_desc_novel',\n",
       " 'bow_desc_novels',\n",
       " 'bow_desc_offers',\n",
       " 'bow_desc_old',\n",
       " 'bow_desc_open',\n",
       " 'bow_desc_order',\n",
       " 'bow_desc_original',\n",
       " 'bow_desc_page',\n",
       " 'bow_desc_parents',\n",
       " 'bow_desc_passion',\n",
       " 'bow_desc_past',\n",
       " 'bow_desc_path',\n",
       " 'bow_desc_peace',\n",
       " 'bow_desc_people',\n",
       " 'bow_desc_perfect',\n",
       " 'bow_desc_person',\n",
       " 'bow_desc_personal',\n",
       " 'bow_desc_place',\n",
       " 'bow_desc_plan',\n",
       " 'bow_desc_planet',\n",
       " 'bow_desc_plans',\n",
       " 'bow_desc_play',\n",
       " 'bow_desc_poems',\n",
       " 'bow_desc_poetry',\n",
       " 'bow_desc_police',\n",
       " 'bow_desc_political',\n",
       " 'bow_desc_popular',\n",
       " 'bow_desc_power',\n",
       " 'bow_desc_powerful',\n",
       " 'bow_desc_powers',\n",
       " 'bow_desc_present',\n",
       " 'bow_desc_protect',\n",
       " 'bow_desc_published',\n",
       " 'bow_desc_queen',\n",
       " 'bow_desc_quest',\n",
       " 'bow_desc_question',\n",
       " 'bow_desc_questions',\n",
       " 'bow_desc_quickly',\n",
       " 'bow_desc_race',\n",
       " 'bow_desc_read',\n",
       " 'bow_desc_reader',\n",
       " 'bow_desc_readers',\n",
       " 'bow_desc_reading',\n",
       " 'bow_desc_ready',\n",
       " 'bow_desc_real',\n",
       " 'bow_desc_reality',\n",
       " 'bow_desc_realizes',\n",
       " 'bow_desc_really',\n",
       " 'bow_desc_red',\n",
       " 'bow_desc_relationship',\n",
       " 'bow_desc_return',\n",
       " 'bow_desc_returns',\n",
       " 'bow_desc_revenge',\n",
       " 'bow_desc_rich',\n",
       " 'bow_desc_right',\n",
       " 'bow_desc_risk',\n",
       " 'bow_desc_road',\n",
       " 'bow_desc_romance',\n",
       " 'bow_desc_run',\n",
       " 'bow_desc_running',\n",
       " 'bow_desc_safe',\n",
       " 'bow_desc_save',\n",
       " 'bow_desc_say',\n",
       " 'bow_desc_school',\n",
       " 'bow_desc_science',\n",
       " 'bow_desc_sea',\n",
       " 'bow_desc_search',\n",
       " 'bow_desc_second',\n",
       " 'bow_desc_secret',\n",
       " 'bow_desc_secrets',\n",
       " 'bow_desc_seen',\n",
       " 'bow_desc_self',\n",
       " 'bow_desc_sense',\n",
       " 'bow_desc_series',\n",
       " 'bow_desc_set',\n",
       " 'bow_desc_sets',\n",
       " 'bow_desc_seven',\n",
       " 'bow_desc_sex',\n",
       " 'bow_desc_sexy',\n",
       " 'bow_desc_short',\n",
       " 'bow_desc_shows',\n",
       " 'bow_desc_simple',\n",
       " 'bow_desc_single',\n",
       " 'bow_desc_sister',\n",
       " 'bow_desc_small',\n",
       " 'bow_desc_social',\n",
       " 'bow_desc_society',\n",
       " 'bow_desc_son',\n",
       " 'bow_desc_soon',\n",
       " 'bow_desc_soul',\n",
       " 'bow_desc_south',\n",
       " 'bow_desc_space',\n",
       " 'bow_desc_special',\n",
       " 'bow_desc_spirit',\n",
       " 'bow_desc_stand',\n",
       " 'bow_desc_star',\n",
       " 'bow_desc_start',\n",
       " 'bow_desc_starts',\n",
       " 'bow_desc_state',\n",
       " 'bow_desc_stay',\n",
       " 'bow_desc_step',\n",
       " 'bow_desc_stop',\n",
       " 'bow_desc_stories',\n",
       " 'bow_desc_story',\n",
       " 'bow_desc_strange',\n",
       " 'bow_desc_stranger',\n",
       " 'bow_desc_strong',\n",
       " 'bow_desc_struggle',\n",
       " 'bow_desc_struggles',\n",
       " 'bow_desc_suddenly',\n",
       " 'bow_desc_summer',\n",
       " 'bow_desc_sure',\n",
       " 'bow_desc_survive',\n",
       " 'bow_desc_taken',\n",
       " 'bow_desc_takes',\n",
       " 'bow_desc_taking',\n",
       " 'bow_desc_tale',\n",
       " 'bow_desc_tales',\n",
       " 'bow_desc_team',\n",
       " 'bow_desc_tell',\n",
       " 'bow_desc_tells',\n",
       " 'bow_desc_terrible',\n",
       " 'bow_desc_thing',\n",
       " 'bow_desc_things',\n",
       " 'bow_desc_think',\n",
       " 'bow_desc_thinks',\n",
       " 'bow_desc_thought',\n",
       " 'bow_desc_thriller',\n",
       " 'bow_desc_time',\n",
       " 'bow_desc_times',\n",
       " 'bow_desc_today',\n",
       " 'bow_desc_told',\n",
       " 'bow_desc_town',\n",
       " 'bow_desc_tragedy',\n",
       " 'bow_desc_travel',\n",
       " 'bow_desc_trouble',\n",
       " 'bow_desc_true',\n",
       " 'bow_desc_truly',\n",
       " 'bow_desc_trust',\n",
       " 'bow_desc_truth',\n",
       " 'bow_desc_trying',\n",
       " 'bow_desc_turn',\n",
       " 'bow_desc_turned',\n",
       " 'bow_desc_turns',\n",
       " 'bow_desc_understand',\n",
       " 'bow_desc_unexpected',\n",
       " 'bow_desc_unique',\n",
       " 'bow_desc_use',\n",
       " 'bow_desc_used',\n",
       " 'bow_desc_vampire',\n",
       " 'bow_desc_ve',\n",
       " 'bow_desc_village',\n",
       " 'bow_desc_violence',\n",
       " 'bow_desc_voice',\n",
       " 'bow_desc_volume',\n",
       " 'bow_desc_want',\n",
       " 'bow_desc_wanted',\n",
       " 'bow_desc_wants',\n",
       " 'bow_desc_war',\n",
       " 'bow_desc_way',\n",
       " 'bow_desc_ways',\n",
       " 'bow_desc_west',\n",
       " 'bow_desc_white',\n",
       " 'bow_desc_wife',\n",
       " 'bow_desc_wild',\n",
       " 'bow_desc_winning',\n",
       " 'bow_desc_woman',\n",
       " 'bow_desc_women',\n",
       " 'bow_desc_won',\n",
       " 'bow_desc_words',\n",
       " 'bow_desc_work',\n",
       " 'bow_desc_working',\n",
       " 'bow_desc_works',\n",
       " ...]"
      ]
     },
     "execution_count": 123,
     "metadata": {},
     "output_type": "execute_result"
    }
   ],
   "source": [
    "column_names"
   ]
  },
  {
   "cell_type": "markdown",
   "metadata": {},
   "source": [
    "## Naive Bayes'"
   ]
  },
  {
   "cell_type": "markdown",
   "metadata": {},
   "source": [
    "Bag  of  words  representation  makes  the  assumption  that  simple  counts  of  number  of  words  in  adocument could represent the meaning of the document.  It assumes the order of words does notmatter.According to Bays rule if we know the probability of words in a document given the class(The likelihood) and we know the general probability of a the class(known as the prior) we cancompute the probability of the class given the words in the document.There are no hyperparameters to tune in this case."
   ]
  },
  {
   "cell_type": "markdown",
   "metadata": {},
   "source": [
    "Using only bag of words features"
   ]
  },
  {
   "cell_type": "code",
   "execution_count": 15,
   "metadata": {
    "pycharm": {
     "is_executing": true
    }
   },
   "outputs": [],
   "source": [
    "bow_text_columns_index=[column_names.index(x) for x in column_names if (x.startswith('bow'))]"
   ]
  },
  {
   "cell_type": "code",
   "execution_count": 16,
   "metadata": {
    "pycharm": {
     "is_executing": true,
     "name": "#%%\n"
    }
   },
   "outputs": [],
   "source": [
    "full_generes=conf[\"preprocessed\"][\"full_genres_col\"]\n",
    "\n",
    "multi_nb = MultinomialNB()\n",
    "start_time = time.time()\n",
    "multi_nb.fit(X_train[:,bow_text_columns_index], y_train)\n",
    "end_time = time.time()\n",
    "y_val_predicted = multi_nb.predict(X_val[:,bow_text_columns_index])"
   ]
  },
  {
   "cell_type": "markdown",
   "metadata": {},
   "source": [
    "We can see results are only very slightly better than Baseline"
   ]
  },
  {
   "cell_type": "code",
   "execution_count": 17,
   "metadata": {},
   "outputs": [],
   "source": [
    "accuracy=accuracy_score(y_val, y_val_predicted)\n",
    "f1_weighted=f1_score(y_val, y_val_predicted, average='weighted')"
   ]
  },
  {
   "cell_type": "code",
   "execution_count": 18,
   "metadata": {},
   "outputs": [],
   "source": [
    "score_dictionary['model'].append(\"Naive bayes'\")\n",
    "score_dictionary['accuracy'].append(accuracy)\n",
    "score_dictionary['F1-weighted'].append(f1_weighted)"
   ]
  },
  {
   "cell_type": "code",
   "execution_count": 19,
   "metadata": {},
   "outputs": [
    {
     "data": {
      "text/html": [
       "<div>\n",
       "<style scoped>\n",
       "    .dataframe tbody tr th:only-of-type {\n",
       "        vertical-align: middle;\n",
       "    }\n",
       "\n",
       "    .dataframe tbody tr th {\n",
       "        vertical-align: top;\n",
       "    }\n",
       "\n",
       "    .dataframe thead th {\n",
       "        text-align: right;\n",
       "    }\n",
       "</style>\n",
       "<table border=\"1\" class=\"dataframe\">\n",
       "  <thead>\n",
       "    <tr style=\"text-align: right;\">\n",
       "      <th></th>\n",
       "      <th>model</th>\n",
       "      <th>accuracy</th>\n",
       "      <th>F1-weighted</th>\n",
       "    </tr>\n",
       "  </thead>\n",
       "  <tbody>\n",
       "    <tr>\n",
       "      <th>0</th>\n",
       "      <td>Baseline</td>\n",
       "      <td>0.525963</td>\n",
       "      <td>0.529492</td>\n",
       "    </tr>\n",
       "    <tr>\n",
       "      <th>1</th>\n",
       "      <td>Naive bayes'</td>\n",
       "      <td>0.551488</td>\n",
       "      <td>0.548509</td>\n",
       "    </tr>\n",
       "  </tbody>\n",
       "</table>\n",
       "</div>"
      ],
      "text/plain": [
       "          model  accuracy  F1-weighted\n",
       "0      Baseline  0.525963     0.529492\n",
       "1  Naive bayes'  0.551488     0.548509"
      ]
     },
     "execution_count": 19,
     "metadata": {},
     "output_type": "execute_result"
    }
   ],
   "source": [
    "df_scores= pd.DataFrame.from_dict(score_dictionary)\n",
    "df_scores.head()"
   ]
  },
  {
   "cell_type": "code",
   "execution_count": 20,
   "metadata": {},
   "outputs": [
    {
     "name": "stdout",
     "output_type": "stream",
     "text": [
      "                                        precision    recall  f1-score   support\n",
      "\n",
      "                                poetry       0.55      0.68      0.61       457\n",
      "                              children       0.47      0.48      0.48       782\n",
      "                   fantasy, paranormal       0.60      0.54      0.57      2640\n",
      "history, historical fiction, biography       0.51      0.51      0.51      1920\n",
      "                       comics, graphic       0.47      0.57      0.52      1036\n",
      "                           non-fiction       0.59      0.61      0.60      1543\n",
      "              mystery, thriller, crime       0.68      0.61      0.64      1962\n",
      "                           young-adult       0.34      0.38      0.36       693\n",
      "                               romance       0.61      0.69      0.65      2014\n",
      "                               fiction       0.23      0.15      0.18       665\n",
      "\n",
      "                              accuracy                           0.55     13712\n",
      "                             macro avg       0.51      0.52      0.51     13712\n",
      "                          weighted avg       0.55      0.55      0.55     13712\n",
      "\n"
     ]
    }
   ],
   "source": [
    "print(classification_report(goodr_dataset.y_val, y_val_predicted, labels=conf[\"preprocessed\"][\"full_genres_col\"]))\n"
   ]
  },
  {
   "cell_type": "markdown",
   "metadata": {},
   "source": [
    "## Logistic regression"
   ]
  },
  {
   "cell_type": "markdown",
   "metadata": {},
   "source": [
    "Logistic regression is a classification model which is based on the sigmoid of the linear combination of the features. For this model we will not use our bag of word features. For text features we will use tf-idf normlization."
   ]
  },
  {
   "cell_type": "code",
   "execution_count": 21,
   "metadata": {
    "pycharm": {
     "is_executing": true
    }
   },
   "outputs": [],
   "source": [
    "#we will not use bow columns, we prefer to use tfidf normalization columns\n",
    "column_names_withoutbow=[x for x in column_names if not (x.startswith('bow'))]"
   ]
  },
  {
   "cell_type": "code",
   "execution_count": 22,
   "metadata": {
    "pycharm": {
     "is_executing": true
    }
   },
   "outputs": [],
   "source": [
    "#we will stack train and validation dataset since instead we will use cross validation and grid search.\n",
    "X_train=goodr_dataset.X_train[column_names_withoutbow].values\n",
    "X_val = goodr_dataset.X_val[column_names_withoutbow].values"
   ]
  },
  {
   "cell_type": "markdown",
   "metadata": {},
   "source": [
    "We will search for the best regularization C hyperparameters. C is the inverse of the regularization strength(higher means less regularization).\n",
    "Since we have multiple classes we will use ‘multinomial’option which uses the cross enthropy loss as the loss function."
   ]
  },
  {
   "cell_type": "code",
   "execution_count": 23,
   "metadata": {},
   "outputs": [
    {
     "name": "stdout",
     "output_type": "stream",
     "text": [
      "Different C values we will check are: [0.1, 1.0, 10.0, 100.0]\n"
     ]
    }
   ],
   "source": [
    "C=conf[\"hyperparams\"][\"logistic_regre_params\"][\"C\"]\n",
    "\n",
    "print(f\"Different C values we will check are: {C}\")"
   ]
  },
  {
   "cell_type": "code",
   "execution_count": 24,
   "metadata": {},
   "outputs": [],
   "source": [
    "log_r_scores={'C':[], 'accuracy':[], 'f1-weighted':[]}"
   ]
  },
  {
   "cell_type": "code",
   "execution_count": 25,
   "metadata": {
    "pycharm": {
     "is_executing": true
    }
   },
   "outputs": [],
   "source": [
    "import time\n",
    "best_f1_log_r=math.inf\n",
    "best_log_r_model=None\n",
    "#Look for the best params. C is the inverse of the regularization strength(higher mean less regularization)\n",
    "for c in C:\n",
    "    log_r=LogisticRegression(multi_class=\"multinomial\", C=c, solver=\"sag\" ,max_iter=500, n_jobs=-1,random_state=SEED)\n",
    "    log_r.fit(X_train, y_train)\n",
    "    y_val_predicted = log_r.predict(X_val)\n",
    "    accuracy=accuracy_score(y_val, y_val_predicted)\n",
    "    f1_weighted=f1_score(y_val, y_val_predicted, average='weighted')\n",
    "    log_r_scores['C'].append(c)\n",
    "    log_r_scores['accuracy'].append(accuracy)\n",
    "    log_r_scores['f1-weighted'].append(f1_weighted)\n",
    "    if f1_weighted<best_f1_log_r:\n",
    "            best_f1_log_r=f1_weighted\n",
    "            best_log_r_model=log_r"
   ]
  },
  {
   "cell_type": "code",
   "execution_count": 26,
   "metadata": {},
   "outputs": [
    {
     "data": {
      "text/html": [
       "<div>\n",
       "<style scoped>\n",
       "    .dataframe tbody tr th:only-of-type {\n",
       "        vertical-align: middle;\n",
       "    }\n",
       "\n",
       "    .dataframe tbody tr th {\n",
       "        vertical-align: top;\n",
       "    }\n",
       "\n",
       "    .dataframe thead th {\n",
       "        text-align: right;\n",
       "    }\n",
       "</style>\n",
       "<table border=\"1\" class=\"dataframe\">\n",
       "  <thead>\n",
       "    <tr style=\"text-align: right;\">\n",
       "      <th></th>\n",
       "      <th>C</th>\n",
       "      <th>accuracy</th>\n",
       "      <th>f1-weighted</th>\n",
       "    </tr>\n",
       "  </thead>\n",
       "  <tbody>\n",
       "    <tr>\n",
       "      <th>0</th>\n",
       "      <td>0.1</td>\n",
       "      <td>0.615738</td>\n",
       "      <td>0.604993</td>\n",
       "    </tr>\n",
       "    <tr>\n",
       "      <th>1</th>\n",
       "      <td>1.0</td>\n",
       "      <td>0.620624</td>\n",
       "      <td>0.613384</td>\n",
       "    </tr>\n",
       "    <tr>\n",
       "      <th>2</th>\n",
       "      <td>10.0</td>\n",
       "      <td>0.618874</td>\n",
       "      <td>0.611988</td>\n",
       "    </tr>\n",
       "    <tr>\n",
       "      <th>3</th>\n",
       "      <td>100.0</td>\n",
       "      <td>0.618436</td>\n",
       "      <td>0.611524</td>\n",
       "    </tr>\n",
       "  </tbody>\n",
       "</table>\n",
       "</div>"
      ],
      "text/plain": [
       "       C  accuracy  f1-weighted\n",
       "0    0.1  0.615738     0.604993\n",
       "1    1.0  0.620624     0.613384\n",
       "2   10.0  0.618874     0.611988\n",
       "3  100.0  0.618436     0.611524"
      ]
     },
     "execution_count": 26,
     "metadata": {},
     "output_type": "execute_result"
    }
   ],
   "source": [
    "df_log_r_scores= pd.DataFrame.from_dict(log_r_scores)\n",
    "df_log_r_scores.head()"
   ]
  },
  {
   "cell_type": "code",
   "execution_count": 27,
   "metadata": {},
   "outputs": [],
   "source": [
    "accuracy=df_log_r_scores.loc[df_log_r_scores[\"f1-weighted\"].idxmax(), [\"accuracy\"]].values[0]\n",
    "f1_weighted=df_log_r_scores.loc[df_log_r_scores[\"f1-weighted\"].idxmax(), [\"f1-weighted\"]].values[0]"
   ]
  },
  {
   "cell_type": "code",
   "execution_count": 28,
   "metadata": {},
   "outputs": [],
   "source": [
    "score_dictionary['model'].append(\"Logistic regression\")\n",
    "score_dictionary['accuracy'].append(accuracy)\n",
    "score_dictionary['F1-weighted'].append(f1_weighted)"
   ]
  },
  {
   "cell_type": "code",
   "execution_count": 29,
   "metadata": {},
   "outputs": [
    {
     "data": {
      "text/html": [
       "<div>\n",
       "<style scoped>\n",
       "    .dataframe tbody tr th:only-of-type {\n",
       "        vertical-align: middle;\n",
       "    }\n",
       "\n",
       "    .dataframe tbody tr th {\n",
       "        vertical-align: top;\n",
       "    }\n",
       "\n",
       "    .dataframe thead th {\n",
       "        text-align: right;\n",
       "    }\n",
       "</style>\n",
       "<table border=\"1\" class=\"dataframe\">\n",
       "  <thead>\n",
       "    <tr style=\"text-align: right;\">\n",
       "      <th></th>\n",
       "      <th>model</th>\n",
       "      <th>accuracy</th>\n",
       "      <th>F1-weighted</th>\n",
       "    </tr>\n",
       "  </thead>\n",
       "  <tbody>\n",
       "    <tr>\n",
       "      <th>0</th>\n",
       "      <td>Baseline</td>\n",
       "      <td>0.525963</td>\n",
       "      <td>0.529492</td>\n",
       "    </tr>\n",
       "    <tr>\n",
       "      <th>1</th>\n",
       "      <td>Naive bayes'</td>\n",
       "      <td>0.551488</td>\n",
       "      <td>0.548509</td>\n",
       "    </tr>\n",
       "    <tr>\n",
       "      <th>2</th>\n",
       "      <td>Logistic regression</td>\n",
       "      <td>0.620624</td>\n",
       "      <td>0.613384</td>\n",
       "    </tr>\n",
       "  </tbody>\n",
       "</table>\n",
       "</div>"
      ],
      "text/plain": [
       "                 model  accuracy  F1-weighted\n",
       "0             Baseline  0.525963     0.529492\n",
       "1         Naive bayes'  0.551488     0.548509\n",
       "2  Logistic regression  0.620624     0.613384"
      ]
     },
     "execution_count": 29,
     "metadata": {},
     "output_type": "execute_result"
    }
   ],
   "source": [
    "df_scores= pd.DataFrame.from_dict(score_dictionary)\n",
    "df_scores.head()"
   ]
  },
  {
   "cell_type": "code",
   "execution_count": 30,
   "metadata": {
    "pycharm": {
     "is_executing": true
    }
   },
   "outputs": [
    {
     "name": "stdout",
     "output_type": "stream",
     "text": [
      "                                        precision    recall  f1-score   support\n",
      "\n",
      "                                poetry       0.84      0.62      0.72       457\n",
      "                              children       0.59      0.59      0.59       782\n",
      "                   fantasy, paranormal       0.61      0.71      0.66      2640\n",
      "history, historical fiction, biography       0.52      0.56      0.54      1920\n",
      "                       comics, graphic       0.77      0.69      0.73      1036\n",
      "                           non-fiction       0.60      0.70      0.65      1543\n",
      "              mystery, thriller, crime       0.66      0.66      0.66      1962\n",
      "                           young-adult       0.48      0.22      0.30       693\n",
      "                               romance       0.65      0.71      0.68      2014\n",
      "                               fiction       0.31      0.12      0.18       665\n",
      "\n",
      "                              accuracy                           0.62     13712\n",
      "                             macro avg       0.60      0.56      0.57     13712\n",
      "                          weighted avg       0.61      0.62      0.60     13712\n",
      "\n"
     ]
    }
   ],
   "source": [
    "y_val_predicted = best_log_r_model.predict(X_val)\n",
    "print(classification_report(y_val, y_val_predicted, labels=conf[\"preprocessed\"][\"full_genres_col\"]))\n"
   ]
  },
  {
   "cell_type": "markdown",
   "metadata": {},
   "source": [
    "## Random Forest"
   ]
  },
  {
   "cell_type": "markdown",
   "metadata": {},
   "source": [
    "Random forest is an an ensemble of decision trees. A decision tree is a simple algorithm which systematically splits that data to different branches according to condition on its features.At each step a split decision is made so that to minimise the class entropy in the resulting branches. A random forest uses a bagging technique-the idea is that it produces multiple trees .Each tree is built using only a subset of the data and features(the sampling method is known as bootstrapping). After all trees are built, a prediction is made by averaging the result of all trees probabilities and the class with the highest probability is picked."
   ]
  },
  {
   "cell_type": "markdown",
   "metadata": {},
   "source": [
    "We will test different hyperparameters for number of trees (300, 500) and for the number of minimun samples per leaf(5,10).\n",
    "According to sickit learn documentation the number of featurs in each tree will be sqrt(n_features)."
   ]
  },
  {
   "cell_type": "code",
   "execution_count": 31,
   "metadata": {},
   "outputs": [
    {
     "name": "stdout",
     "output_type": "stream",
     "text": [
      "Different number of trees will be: [300, 500]\n",
      "Different min samples per leaf will be: [5, 10]\n"
     ]
    }
   ],
   "source": [
    "n_estimators=conf[\"hyperparams\"][\"random_forest_params\"][\"n_estimators\"]\n",
    "min_samples_leaf= conf[\"hyperparams\"][\"random_forest_params\"][\"min_samples_leaf\"]\n",
    "\n",
    "\n",
    "print(f\"Different number of trees will be: {n_estimators}\")\n",
    "print(f\"Different min samples per leaf will be: {min_samples_leaf}\")"
   ]
  },
  {
   "cell_type": "code",
   "execution_count": 32,
   "metadata": {},
   "outputs": [],
   "source": [
    "random_f_scores={'number estimators':[], 'min samples leaf':[], 'accuracy':[], 'f1-weighted':[]}"
   ]
  },
  {
   "cell_type": "code",
   "execution_count": 33,
   "metadata": {
    "pycharm": {
     "is_executing": true,
     "name": "#%%\n"
    },
    "scrolled": false
   },
   "outputs": [],
   "source": [
    "best_rfc_model=None\n",
    "best_f1_rfc=math.inf\n",
    "#Look for the best params. C is the inverse of the regularization strength(higher mean less regularization)\n",
    "for estimator in n_estimators:\n",
    "    for min_leaf in min_samples_leaf:\n",
    "        rfc= RandomForestClassifier(n_jobs=-1, n_estimators=estimator, min_samples_leaf=min_leaf, random_state=SEED)\n",
    "        rfc.fit(X_train, y_train)\n",
    "        y_val_predicted = rfc.predict(X_val)\n",
    "        accuracy=accuracy_score(y_val, y_val_predicted)\n",
    "        f1_weighted=f1_score(y_val, y_val_predicted, average='weighted')\n",
    "        random_f_scores['number estimators'].append(estimator)\n",
    "        random_f_scores['min samples leaf'].append(min_leaf)\n",
    "        random_f_scores['accuracy'].append(accuracy)\n",
    "        random_f_scores['f1-weighted'].append(f1_weighted)\n",
    "        if f1_weighted<best_f1_rfc:\n",
    "            best_f1_rfc=f1_weighted\n",
    "            best_rfc_model=rfc"
   ]
  },
  {
   "cell_type": "code",
   "execution_count": 34,
   "metadata": {},
   "outputs": [],
   "source": [
    "df_random_f_scores= pd.DataFrame.from_dict(random_f_scores)"
   ]
  },
  {
   "cell_type": "code",
   "execution_count": 37,
   "metadata": {},
   "outputs": [
    {
     "data": {
      "text/html": [
       "<div>\n",
       "<style scoped>\n",
       "    .dataframe tbody tr th:only-of-type {\n",
       "        vertical-align: middle;\n",
       "    }\n",
       "\n",
       "    .dataframe tbody tr th {\n",
       "        vertical-align: top;\n",
       "    }\n",
       "\n",
       "    .dataframe thead th {\n",
       "        text-align: right;\n",
       "    }\n",
       "</style>\n",
       "<table border=\"1\" class=\"dataframe\">\n",
       "  <thead>\n",
       "    <tr style=\"text-align: right;\">\n",
       "      <th></th>\n",
       "      <th>number estimators</th>\n",
       "      <th>min samples leaf</th>\n",
       "      <th>accuracy</th>\n",
       "      <th>f1-weighted</th>\n",
       "    </tr>\n",
       "  </thead>\n",
       "  <tbody>\n",
       "    <tr>\n",
       "      <th>0</th>\n",
       "      <td>300</td>\n",
       "      <td>5</td>\n",
       "      <td>0.591817</td>\n",
       "      <td>0.569528</td>\n",
       "    </tr>\n",
       "    <tr>\n",
       "      <th>1</th>\n",
       "      <td>300</td>\n",
       "      <td>10</td>\n",
       "      <td>0.577523</td>\n",
       "      <td>0.553013</td>\n",
       "    </tr>\n",
       "    <tr>\n",
       "      <th>2</th>\n",
       "      <td>500</td>\n",
       "      <td>5</td>\n",
       "      <td>0.592255</td>\n",
       "      <td>0.569466</td>\n",
       "    </tr>\n",
       "    <tr>\n",
       "      <th>3</th>\n",
       "      <td>500</td>\n",
       "      <td>10</td>\n",
       "      <td>0.577888</td>\n",
       "      <td>0.553207</td>\n",
       "    </tr>\n",
       "  </tbody>\n",
       "</table>\n",
       "</div>"
      ],
      "text/plain": [
       "   number estimators  min samples leaf  accuracy  f1-weighted\n",
       "0                300                 5  0.591817     0.569528\n",
       "1                300                10  0.577523     0.553013\n",
       "2                500                 5  0.592255     0.569466\n",
       "3                500                10  0.577888     0.553207"
      ]
     },
     "execution_count": 37,
     "metadata": {},
     "output_type": "execute_result"
    }
   ],
   "source": [
    "df_random_f_scores"
   ]
  },
  {
   "cell_type": "code",
   "execution_count": 38,
   "metadata": {},
   "outputs": [],
   "source": [
    "accuracy=df_random_f_scores.loc[df_random_f_scores[\"f1-weighted\"].idxmax(), [\"accuracy\"]].values[0]\n",
    "f1_weighted=df_random_f_scores.loc[df_random_f_scores[\"f1-weighted\"].idxmax(), [\"f1-weighted\"]].values[0]"
   ]
  },
  {
   "cell_type": "code",
   "execution_count": 39,
   "metadata": {},
   "outputs": [],
   "source": [
    "score_dictionary['model'].append(\"Random forest\")\n",
    "score_dictionary['accuracy'].append(accuracy)\n",
    "score_dictionary['F1-weighted'].append(f1_weighted)"
   ]
  },
  {
   "cell_type": "code",
   "execution_count": 40,
   "metadata": {},
   "outputs": [
    {
     "data": {
      "text/html": [
       "<div>\n",
       "<style scoped>\n",
       "    .dataframe tbody tr th:only-of-type {\n",
       "        vertical-align: middle;\n",
       "    }\n",
       "\n",
       "    .dataframe tbody tr th {\n",
       "        vertical-align: top;\n",
       "    }\n",
       "\n",
       "    .dataframe thead th {\n",
       "        text-align: right;\n",
       "    }\n",
       "</style>\n",
       "<table border=\"1\" class=\"dataframe\">\n",
       "  <thead>\n",
       "    <tr style=\"text-align: right;\">\n",
       "      <th></th>\n",
       "      <th>model</th>\n",
       "      <th>accuracy</th>\n",
       "      <th>F1-weighted</th>\n",
       "    </tr>\n",
       "  </thead>\n",
       "  <tbody>\n",
       "    <tr>\n",
       "      <th>0</th>\n",
       "      <td>Baseline</td>\n",
       "      <td>0.525963</td>\n",
       "      <td>0.529492</td>\n",
       "    </tr>\n",
       "    <tr>\n",
       "      <th>1</th>\n",
       "      <td>Naive bayes'</td>\n",
       "      <td>0.551488</td>\n",
       "      <td>0.548509</td>\n",
       "    </tr>\n",
       "    <tr>\n",
       "      <th>2</th>\n",
       "      <td>Logistic regression</td>\n",
       "      <td>0.620624</td>\n",
       "      <td>0.613384</td>\n",
       "    </tr>\n",
       "    <tr>\n",
       "      <th>3</th>\n",
       "      <td>Random forest</td>\n",
       "      <td>0.591817</td>\n",
       "      <td>0.569528</td>\n",
       "    </tr>\n",
       "  </tbody>\n",
       "</table>\n",
       "</div>"
      ],
      "text/plain": [
       "                 model  accuracy  F1-weighted\n",
       "0             Baseline  0.525963     0.529492\n",
       "1         Naive bayes'  0.551488     0.548509\n",
       "2  Logistic regression  0.620624     0.613384\n",
       "3        Random forest  0.591817     0.569528"
      ]
     },
     "execution_count": 40,
     "metadata": {},
     "output_type": "execute_result"
    }
   ],
   "source": [
    "df_scores= pd.DataFrame.from_dict(score_dictionary)\n",
    "df_scores.head()"
   ]
  },
  {
   "cell_type": "markdown",
   "metadata": {},
   "source": [
    "A great feature of decision trees is that they are easily explianable. The random forest estimator enables us to extract the learned feature importance . We will look at the 20 most important features"
   ]
  },
  {
   "cell_type": "code",
   "execution_count": 41,
   "metadata": {
    "pycharm": {
     "is_executing": true
    }
   },
   "outputs": [],
   "source": [
    "most_important_20=pd.DataFrame({'features':column_names_withoutbow, 'importance':best_rfc_model.feature_importances_}\n",
    "                       ).sort_values('importance', ascending=False)[:20]"
   ]
  },
  {
   "cell_type": "code",
   "execution_count": 42,
   "metadata": {
    "pycharm": {
     "is_executing": true
    }
   },
   "outputs": [
    {
     "data": {
      "text/html": [
       "<div>\n",
       "<style scoped>\n",
       "    .dataframe tbody tr th:only-of-type {\n",
       "        vertical-align: middle;\n",
       "    }\n",
       "\n",
       "    .dataframe tbody tr th {\n",
       "        vertical-align: top;\n",
       "    }\n",
       "\n",
       "    .dataframe thead th {\n",
       "        text-align: right;\n",
       "    }\n",
       "</style>\n",
       "<table border=\"1\" class=\"dataframe\">\n",
       "  <thead>\n",
       "    <tr style=\"text-align: right;\">\n",
       "      <th></th>\n",
       "      <th>features</th>\n",
       "      <th>importance</th>\n",
       "    </tr>\n",
       "  </thead>\n",
       "  <tbody>\n",
       "    <tr>\n",
       "      <th>0</th>\n",
       "      <td>num_pages</td>\n",
       "      <td>0.074663</td>\n",
       "    </tr>\n",
       "    <tr>\n",
       "      <th>3</th>\n",
       "      <td>series</td>\n",
       "      <td>0.049332</td>\n",
       "    </tr>\n",
       "    <tr>\n",
       "      <th>975</th>\n",
       "      <td>tfidf_title_vol</td>\n",
       "      <td>0.032845</td>\n",
       "    </tr>\n",
       "    <tr>\n",
       "      <th>10</th>\n",
       "      <td>authors_ratings_count</td>\n",
       "      <td>0.027908</td>\n",
       "    </tr>\n",
       "    <tr>\n",
       "      <th>287</th>\n",
       "      <td>tfidf_desc_love</td>\n",
       "      <td>0.026485</td>\n",
       "    </tr>\n",
       "    <tr>\n",
       "      <th>315</th>\n",
       "      <td>tfidf_desc_murder</td>\n",
       "      <td>0.022995</td>\n",
       "    </tr>\n",
       "    <tr>\n",
       "      <th>349</th>\n",
       "      <td>tfidf_desc_poems</td>\n",
       "      <td>0.021837</td>\n",
       "    </tr>\n",
       "    <tr>\n",
       "      <th>1</th>\n",
       "      <td>publication_year</td>\n",
       "      <td>0.019034</td>\n",
       "    </tr>\n",
       "    <tr>\n",
       "      <th>976</th>\n",
       "      <td>tfidf_title_volume</td>\n",
       "      <td>0.017295</td>\n",
       "    </tr>\n",
       "    <tr>\n",
       "      <th>46</th>\n",
       "      <td>tfidf_desc_book</td>\n",
       "      <td>0.016224</td>\n",
       "    </tr>\n",
       "    <tr>\n",
       "      <th>350</th>\n",
       "      <td>tfidf_desc_poetry</td>\n",
       "      <td>0.016051</td>\n",
       "    </tr>\n",
       "    <tr>\n",
       "      <th>244</th>\n",
       "      <td>tfidf_desc_killer</td>\n",
       "      <td>0.015536</td>\n",
       "    </tr>\n",
       "    <tr>\n",
       "      <th>290</th>\n",
       "      <td>tfidf_desc_magic</td>\n",
       "      <td>0.015037</td>\n",
       "    </tr>\n",
       "    <tr>\n",
       "      <th>485</th>\n",
       "      <td>tfidf_desc_war</td>\n",
       "      <td>0.014894</td>\n",
       "    </tr>\n",
       "    <tr>\n",
       "      <th>111</th>\n",
       "      <td>tfidf_desc_detective</td>\n",
       "      <td>0.014629</td>\n",
       "    </tr>\n",
       "    <tr>\n",
       "      <th>11</th>\n",
       "      <td>author_average_rating</td>\n",
       "      <td>0.014226</td>\n",
       "    </tr>\n",
       "    <tr>\n",
       "      <th>454</th>\n",
       "      <td>tfidf_desc_thriller</td>\n",
       "      <td>0.011421</td>\n",
       "    </tr>\n",
       "    <tr>\n",
       "      <th>152</th>\n",
       "      <td>tfidf_desc_fantasy</td>\n",
       "      <td>0.010982</td>\n",
       "    </tr>\n",
       "    <tr>\n",
       "      <th>6</th>\n",
       "      <td>ratings_count</td>\n",
       "      <td>0.010285</td>\n",
       "    </tr>\n",
       "    <tr>\n",
       "      <th>5</th>\n",
       "      <td>text_reviews_count</td>\n",
       "      <td>0.010210</td>\n",
       "    </tr>\n",
       "  </tbody>\n",
       "</table>\n",
       "</div>"
      ],
      "text/plain": [
       "                  features  importance\n",
       "0                num_pages    0.074663\n",
       "3                   series    0.049332\n",
       "975        tfidf_title_vol    0.032845\n",
       "10   authors_ratings_count    0.027908\n",
       "287        tfidf_desc_love    0.026485\n",
       "315      tfidf_desc_murder    0.022995\n",
       "349       tfidf_desc_poems    0.021837\n",
       "1         publication_year    0.019034\n",
       "976     tfidf_title_volume    0.017295\n",
       "46         tfidf_desc_book    0.016224\n",
       "350      tfidf_desc_poetry    0.016051\n",
       "244      tfidf_desc_killer    0.015536\n",
       "290       tfidf_desc_magic    0.015037\n",
       "485         tfidf_desc_war    0.014894\n",
       "111   tfidf_desc_detective    0.014629\n",
       "11   author_average_rating    0.014226\n",
       "454    tfidf_desc_thriller    0.011421\n",
       "152     tfidf_desc_fantasy    0.010982\n",
       "6            ratings_count    0.010285\n",
       "5       text_reviews_count    0.010210"
      ]
     },
     "execution_count": 42,
     "metadata": {},
     "output_type": "execute_result"
    }
   ],
   "source": [
    "most_important_20"
   ]
  },
  {
   "cell_type": "markdown",
   "metadata": {},
   "source": [
    "\n",
    "Surprisingly number of pages and series indicator are the most important. Other word features such as \"love\",\"murder\", \"poems\", \"killer\", \"fantasy\", \"history\" are very are easily explained and it is apparent they can predict the genre."
   ]
  },
  {
   "cell_type": "markdown",
   "metadata": {},
   "source": [
    "## Convolutinal neural network\n",
    "Based on images of book covers. \n",
    "\n",
    "We will use two kinds of convolutions neural network. \n",
    "The first will use a method of transfer learning by using the well known, \"state of the art\" resent50 network. The resent network was created by He et al.(2015) .Its main feature is that it uses \"skip\" connection.The skip connection enables the network to skip going through certain layers.We  will  use  pretrained  weights  from  the  imagenet  dataset. Using  pretrained  weights  is  known ”transfer learning”, which is a method where instead of starting from random weights, we are using the learned weights from the same network on a ”similar” dataset. \n",
    "\n",
    "We will also implement our own covolutinial network structure solution."
   ]
  },
  {
   "cell_type": "markdown",
   "metadata": {},
   "source": [
    "Creating object for training different types of Convolutinal neural networks"
   ]
  },
  {
   "cell_type": "code",
   "execution_count": 43,
   "metadata": {},
   "outputs": [],
   "source": [
    "tf.random.set_seed(SEED)"
   ]
  },
  {
   "cell_type": "code",
   "execution_count": 44,
   "metadata": {
    "pycharm": {
     "is_executing": true
    }
   },
   "outputs": [],
   "source": [
    "conv_gr=gr.ConvGoodReads(data_path, batch_size=conf[\"hyperparams\"][\"conv_params\"][\"batch_size\"],num_classes=conf[\"num_classes\"], image_size=conf[\"hyperparams\"][\"conv_params\"][\"image_size\"])"
   ]
  },
  {
   "cell_type": "markdown",
   "metadata": {},
   "source": [
    "We will test different learning rates, each of the learning rates will be tested on :"
   ]
  },
  {
   "cell_type": "code",
   "execution_count": 45,
   "metadata": {},
   "outputs": [],
   "source": [
    "learning_rate=conf[\"hyperparams\"][\"conv_params\"][\"learning_rate\"]"
   ]
  },
  {
   "cell_type": "code",
   "execution_count": 46,
   "metadata": {},
   "outputs": [
    {
     "name": "stdout",
     "output_type": "stream",
     "text": [
      "Different learning rate values we will check are: [0.001, 0.003]\n"
     ]
    }
   ],
   "source": [
    "print(f\"Different learning rate values we will check are: {learning_rate}\")"
   ]
  },
  {
   "cell_type": "markdown",
   "metadata": {},
   "source": [
    "### Resent50-transfer learning model"
   ]
  },
  {
   "cell_type": "code",
   "execution_count": 47,
   "metadata": {
    "pycharm": {
     "is_executing": true
    }
   },
   "outputs": [],
   "source": [
    "top_config=conf[\"hyperparams\"][\"conv_params\"][\"transfer_learning\"][\"top_config\"]\n",
    "patience=conf[\"hyperparams\"][\"conv_params\"][\"patience\"]\n",
    "epochs=conf[\"hyperparams\"][\"conv_params\"][\"epochs\"]"
   ]
  },
  {
   "cell_type": "code",
   "execution_count": 48,
   "metadata": {},
   "outputs": [
    {
     "name": "stdout",
     "output_type": "stream",
     "text": [
      "Top dense configuration(after transfer learning model) will be: [256, 64] units\n",
      "Patience will be: 3\n",
      "Limit on number of epochs will be: 20\n"
     ]
    }
   ],
   "source": [
    "print(f\"Top dense configuration(after transfer learning model) will be: {top_config} units\")\n",
    "print(f\"Patience will be: {patience}\")\n",
    "print(f\"Limit on number of epochs will be: {epochs}\")"
   ]
  },
  {
   "cell_type": "markdown",
   "metadata": {},
   "source": [
    "Building the model"
   ]
  },
  {
   "cell_type": "code",
   "execution_count": 49,
   "metadata": {
    "pycharm": {
     "is_executing": true
    }
   },
   "outputs": [
    {
     "name": "stdout",
     "output_type": "stream",
     "text": [
      "Model: \"functional_1\"\n",
      "_________________________________________________________________\n",
      "Layer (type)                 Output Shape              Param #   \n",
      "=================================================================\n",
      "input_1 (InputLayer)         [(None, 224, 224, 3)]     0         \n",
      "_________________________________________________________________\n",
      "tf_op_layer_strided_slice (T [(None, 224, 224, 3)]     0         \n",
      "_________________________________________________________________\n",
      "tf_op_layer_BiasAdd (TensorF [(None, 224, 224, 3)]     0         \n",
      "_________________________________________________________________\n",
      "resnet50 (Functional)        (None, 2048)              23587712  \n",
      "_________________________________________________________________\n",
      "flatten (Flatten)            (None, 2048)              0         \n",
      "_________________________________________________________________\n",
      "dense (Dense)                (None, 256)               524544    \n",
      "_________________________________________________________________\n",
      "dropout (Dropout)            (None, 256)               0         \n",
      "_________________________________________________________________\n",
      "batch_normalization (BatchNo (None, 256)               1024      \n",
      "_________________________________________________________________\n",
      "dense_1 (Dense)              (None, 64)                16448     \n",
      "_________________________________________________________________\n",
      "dense_2 (Dense)              (None, 10)                650       \n",
      "=================================================================\n",
      "Total params: 24,130,378\n",
      "Trainable params: 24,076,746\n",
      "Non-trainable params: 53,632\n",
      "_________________________________________________________________\n",
      "None\n"
     ]
    }
   ],
   "source": [
    "conv_gr.build_transfer_learning_model(top_config=top_config)\n",
    "print(conv_gr.transfer_learning_model.summary())"
   ]
  },
  {
   "cell_type": "markdown",
   "metadata": {},
   "source": [
    "Training the network"
   ]
  },
  {
   "cell_type": "code",
   "execution_count": 50,
   "metadata": {},
   "outputs": [],
   "source": [
    "len_train=len(X_train)\n",
    "len_val=len(X_val)"
   ]
  },
  {
   "cell_type": "code",
   "execution_count": 52,
   "metadata": {
    "pycharm": {
     "is_executing": true
    }
   },
   "outputs": [
    {
     "name": "stdout",
     "output_type": "stream",
     "text": [
      "INFO:tensorflow:Using MirroredStrategy with devices ('/job:localhost/replica:0/task:0/device:GPU:0', '/job:localhost/replica:0/task:0/device:GPU:1')\n",
      "Number of devices: 2\n",
      "\n",
      "\n",
      "Start training resnet model. Learning rate:0.001\n",
      "Found 123399 images belonging to 10 classes.\n",
      "Found 13712 images belonging to 10 classes.\n",
      "Epoch 1/20\n",
      "WARNING:tensorflow:From /home/neuralx/anaconda3/envs/701project/lib/python3.8/site-packages/tensorflow/python/data/ops/multi_device_iterator_ops.py:601: get_next_as_optional (from tensorflow.python.data.ops.iterator_ops) is deprecated and will be removed in a future version.\n",
      "Instructions for updating:\n",
      "Use `tf.data.Iterator.get_next_as_optional()` instead.\n",
      "INFO:tensorflow:batch_all_reduce: 220 all-reduces with algorithm = nccl, num_packs = 1\n",
      "INFO:tensorflow:batch_all_reduce: 220 all-reduces with algorithm = nccl, num_packs = 1\n",
      "1929/1929 [==============================] - 343s 178ms/step - loss: 2.1662 - f1_score: 0.1554 - accuracy: 0.2034 - val_loss: 2.1263 - val_f1_score: 0.1334 - val_accuracy: 0.2188\n",
      "Epoch 2/20\n",
      "1929/1929 [==============================] - 349s 181ms/step - loss: 2.1281 - f1_score: 0.1471 - accuracy: 0.2165 - val_loss: 2.5834 - val_f1_score: 0.1405 - val_accuracy: 0.2017\n",
      "Epoch 3/20\n",
      "1929/1929 [==============================] - 348s 180ms/step - loss: 2.0978 - f1_score: 0.1724 - accuracy: 0.2265 - val_loss: 2.0892 - val_f1_score: 0.1779 - val_accuracy: 0.2316\n",
      "Epoch 4/20\n",
      "1929/1929 [==============================] - 349s 181ms/step - loss: 2.0682 - f1_score: 0.2063 - accuracy: 0.2420 - val_loss: 2.0813 - val_f1_score: 0.2036 - val_accuracy: 0.2349\n",
      "Epoch 5/20\n",
      "1929/1929 [==============================] - 352s 182ms/step - loss: 2.0302 - f1_score: 0.2384 - accuracy: 0.2668 - val_loss: 2.8017 - val_f1_score: 0.2551 - val_accuracy: 0.2866\n",
      "Epoch 6/20\n",
      "1929/1929 [==============================] - 349s 181ms/step - loss: 1.9708 - f1_score: 0.2682 - accuracy: 0.2939 - val_loss: 84.4813 - val_f1_score: 0.2713 - val_accuracy: 0.3020\n",
      "Epoch 7/20\n",
      "1929/1929 [==============================] - 346s 179ms/step - loss: 1.8991 - f1_score: 0.3016 - accuracy: 0.3282 - val_loss: 1.9023 - val_f1_score: 0.2872 - val_accuracy: 0.3233\n",
      "Epoch 8/20\n",
      "1929/1929 [==============================] - 344s 178ms/step - loss: 1.8614 - f1_score: 0.3191 - accuracy: 0.3451 - val_loss: 1.8262 - val_f1_score: 0.3365 - val_accuracy: 0.3644\n",
      "Epoch 9/20\n",
      "1929/1929 [==============================] - 344s 178ms/step - loss: 1.8187 - f1_score: 0.3345 - accuracy: 0.3608 - val_loss: 2.0947 - val_f1_score: 0.2380 - val_accuracy: 0.2634\n",
      "Epoch 10/20\n",
      "1929/1929 [==============================] - 344s 178ms/step - loss: 1.7974 - f1_score: 0.3422 - accuracy: 0.3688 - val_loss: 1.8911 - val_f1_score: 0.3038 - val_accuracy: 0.3280\n",
      "Epoch 11/20\n",
      "1929/1929 [==============================] - 345s 179ms/step - loss: 1.8078 - f1_score: 0.3364 - accuracy: 0.3626 - val_loss: 1.8409 - val_f1_score: 0.3216 - val_accuracy: 0.3567\n",
      "Epoch 12/20\n",
      "1929/1929 [==============================] - 356s 185ms/step - loss: 1.7667 - f1_score: 0.3550 - accuracy: 0.3812 - val_loss: 1.8957 - val_f1_score: 0.3130 - val_accuracy: 0.3380\n",
      "Found 13712 images belonging to 10 classes.\n",
      "215/215 [==============================] - 17s 77ms/step - loss: 1.8954 - f1_score: 0.3126 - accuracy: 0.3377\n",
      "*********************************************************\n",
      "Finished training resnet model. Learning rate:0.001, Accuracy:0.338, F1-weighted:0.313\n",
      "*********************************************************\n",
      "\n",
      "\n",
      "Start training resnet model. Learning rate:0.003\n",
      "Found 123399 images belonging to 10 classes.\n",
      "Found 13712 images belonging to 10 classes.\n",
      "Epoch 1/20\n",
      "INFO:tensorflow:batch_all_reduce: 220 all-reduces with algorithm = nccl, num_packs = 1\n",
      "INFO:tensorflow:batch_all_reduce: 220 all-reduces with algorithm = nccl, num_packs = 1\n",
      "1929/1929 [==============================] - 354s 184ms/step - loss: 2.1436 - f1_score: 0.1580 - accuracy: 0.2105 - val_loss: 2.4994 - val_f1_score: 0.0914 - val_accuracy: 0.1561\n",
      "Epoch 2/20\n",
      "1929/1929 [==============================] - 345s 179ms/step - loss: 2.0949 - f1_score: 0.1824 - accuracy: 0.2287 - val_loss: 2.6384 - val_f1_score: 0.1149 - val_accuracy: 0.1871\n",
      "Epoch 3/20\n",
      "1929/1929 [==============================] - 345s 179ms/step - loss: 2.0595 - f1_score: 0.2210 - accuracy: 0.2545 - val_loss: 2.0327 - val_f1_score: 0.2081 - val_accuracy: 0.2638\n",
      "Epoch 4/20\n",
      "1929/1929 [==============================] - 345s 179ms/step - loss: 2.0047 - f1_score: 0.2538 - accuracy: 0.2801 - val_loss: 2.0005 - val_f1_score: 0.2522 - val_accuracy: 0.2827\n",
      "Epoch 5/20\n",
      "1929/1929 [==============================] - 345s 179ms/step - loss: 1.9519 - f1_score: 0.2804 - accuracy: 0.3068 - val_loss: 3.0731 - val_f1_score: 0.2992 - val_accuracy: 0.3209\n",
      "Epoch 6/20\n",
      "1929/1929 [==============================] - 345s 179ms/step - loss: 1.9038 - f1_score: 0.3013 - accuracy: 0.3269 - val_loss: 1.9844 - val_f1_score: 0.2733 - val_accuracy: 0.3094\n",
      "Epoch 7/20\n",
      "1929/1929 [==============================] - 345s 179ms/step - loss: 1.8536 - f1_score: 0.3230 - accuracy: 0.3486 - val_loss: 1.8323 - val_f1_score: 0.3450 - val_accuracy: 0.3676\n",
      "Epoch 8/20\n",
      "1929/1929 [==============================] - 345s 179ms/step - loss: 1.8076 - f1_score: 0.3409 - accuracy: 0.3675 - val_loss: 1.8174 - val_f1_score: 0.3425 - val_accuracy: 0.3630\n",
      "Epoch 9/20\n",
      "1929/1929 [==============================] - 345s 179ms/step - loss: 1.7645 - f1_score: 0.3596 - accuracy: 0.3859 - val_loss: 1.7742 - val_f1_score: 0.3551 - val_accuracy: 0.3798\n",
      "Epoch 10/20\n",
      "1929/1929 [==============================] - 345s 179ms/step - loss: 1.7423 - f1_score: 0.3660 - accuracy: 0.3924 - val_loss: 1.7333 - val_f1_score: 0.3669 - val_accuracy: 0.4012\n",
      "Epoch 11/20\n",
      "1929/1929 [==============================] - 345s 179ms/step - loss: 1.6936 - f1_score: 0.3855 - accuracy: 0.4122 - val_loss: 1.7326 - val_f1_score: 0.3771 - val_accuracy: 0.3982\n",
      "Epoch 12/20\n",
      "1929/1929 [==============================] - 345s 179ms/step - loss: 1.6547 - f1_score: 0.3997 - accuracy: 0.4263 - val_loss: 1.7312 - val_f1_score: 0.3596 - val_accuracy: 0.3953\n",
      "Epoch 13/20\n",
      "1929/1929 [==============================] - 345s 179ms/step - loss: 1.6223 - f1_score: 0.4126 - accuracy: 0.4385 - val_loss: 1.7234 - val_f1_score: 0.3761 - val_accuracy: 0.4050\n",
      "Epoch 14/20\n",
      "1929/1929 [==============================] - 345s 179ms/step - loss: 1.5563 - f1_score: 0.4362 - accuracy: 0.4621 - val_loss: 1.7435 - val_f1_score: 0.3790 - val_accuracy: 0.3980\n",
      "Epoch 15/20\n",
      "1929/1929 [==============================] - 345s 179ms/step - loss: 1.4764 - f1_score: 0.4680 - accuracy: 0.4918 - val_loss: 1.7500 - val_f1_score: 0.3768 - val_accuracy: 0.3984\n",
      "Epoch 16/20\n",
      "1929/1929 [==============================] - 344s 178ms/step - loss: 1.3769 - f1_score: 0.5050 - accuracy: 0.5281 - val_loss: 1.8517 - val_f1_score: 0.3716 - val_accuracy: 0.3878\n",
      "Epoch 17/20\n",
      "1929/1929 [==============================] - 344s 178ms/step - loss: 1.2802 - f1_score: 0.5403 - accuracy: 0.5615 - val_loss: 1.9188 - val_f1_score: 0.3607 - val_accuracy: 0.3698\n",
      "Found 13712 images belonging to 10 classes.\n",
      "215/215 [==============================] - 16s 77ms/step - loss: 1.9190 - f1_score: 0.3619 - accuracy: 0.3711\n",
      "*********************************************************\n",
      "Finished training resnet model. Learning rate:0.003, Accuracy:0.371, F1-weighted:0.362\n",
      "*********************************************************\n"
     ]
    }
   ],
   "source": [
    "conv_resnet_scores={'learning rate':[], 'accuracy':[], 'f1-weighted':[]}\n",
    "best_resnet_model_history=None\n",
    "best_f1_resnet=math.inf\n",
    "\n",
    "#Search for the best learning rates.Each run trains the network and eveluates of the validation set.\n",
    "#Results are loaded to a dictionary.\n",
    "strategy = tf.distribute.MirroredStrategy()\n",
    "print ('Number of devices: {}'.format(strategy.num_replicas_in_sync))\n",
    "with strategy.scope():\n",
    "    for lr in learning_rate:\n",
    "        conv_gr.build_transfer_learning_model(top_config=top_config)\n",
    "        print(\"\\n\")\n",
    "        print(f\"Start training resnet model. Learning rate:{lr}\")\n",
    "        history=conv_gr.fit_transfer_learning_model(num_epochs=epochs, train_len=len_train,val_len=len_val, learning_rate=lr,patience=4)\n",
    "        conv_resnet_history=history.history.copy()\n",
    "        ts_scores_dict=conv_gr.evaluate('transfer_learning', data_path,\"images-val\")\n",
    "        conv_resnet_scores['learning rate'].append(lr)\n",
    "        conv_resnet_scores['accuracy'].append(ts_scores_dict[\"accuracy\"])\n",
    "        conv_resnet_scores['f1-weighted'].append(ts_scores_dict[\"f1_score\"])\n",
    "        accuracy=ts_scores_dict[\"accuracy\"]\n",
    "        f1_weighted=ts_scores_dict[\"f1_score\"]\n",
    "        print(\"*********************************************************\")\n",
    "        print(f\"Finished training resnet model. Learning rate:{lr}, Accuracy:{accuracy:.3f}, F1-weighted:{f1_weighted:.3f}\")\n",
    "        print(\"*********************************************************\")\n",
    "        if ts_scores_dict[\"f1_score\"]<best_f1_resnet:\n",
    "            best_f1_resnet=ts_scores_dict[\"f1_score\"]\n",
    "            best_resnet_model_history=conv_resnet_history"
   ]
  },
  {
   "cell_type": "code",
   "execution_count": 53,
   "metadata": {},
   "outputs": [
    {
     "data": {
      "text/html": [
       "<div>\n",
       "<style scoped>\n",
       "    .dataframe tbody tr th:only-of-type {\n",
       "        vertical-align: middle;\n",
       "    }\n",
       "\n",
       "    .dataframe tbody tr th {\n",
       "        vertical-align: top;\n",
       "    }\n",
       "\n",
       "    .dataframe thead th {\n",
       "        text-align: right;\n",
       "    }\n",
       "</style>\n",
       "<table border=\"1\" class=\"dataframe\">\n",
       "  <thead>\n",
       "    <tr style=\"text-align: right;\">\n",
       "      <th></th>\n",
       "      <th>learning rate</th>\n",
       "      <th>accuracy</th>\n",
       "      <th>f1-weighted</th>\n",
       "    </tr>\n",
       "  </thead>\n",
       "  <tbody>\n",
       "    <tr>\n",
       "      <th>0</th>\n",
       "      <td>0.001</td>\n",
       "      <td>0.337660</td>\n",
       "      <td>0.312595</td>\n",
       "    </tr>\n",
       "    <tr>\n",
       "      <th>1</th>\n",
       "      <td>0.003</td>\n",
       "      <td>0.371135</td>\n",
       "      <td>0.361919</td>\n",
       "    </tr>\n",
       "  </tbody>\n",
       "</table>\n",
       "</div>"
      ],
      "text/plain": [
       "   learning rate  accuracy  f1-weighted\n",
       "0          0.001  0.337660     0.312595\n",
       "1          0.003  0.371135     0.361919"
      ]
     },
     "execution_count": 53,
     "metadata": {},
     "output_type": "execute_result"
    }
   ],
   "source": [
    "df_conv_resnet_scores= pd.DataFrame.from_dict(conv_resnet_scores)\n",
    "df_conv_resnet_scores.head()"
   ]
  },
  {
   "cell_type": "code",
   "execution_count": 54,
   "metadata": {},
   "outputs": [
    {
     "data": {
      "image/png": "[encoded data removed]",
      "text/plain": [
       "<Figure size 432x360 with 1 Axes>"
      ]
     },
     "metadata": {
      "needs_background": "light"
     },
     "output_type": "display_data"
    }
   ],
   "source": [
    "gr.plot_history(best_resnet_model_history, 'Run history best resnet model')"
   ]
  },
  {
   "cell_type": "code",
   "execution_count": 55,
   "metadata": {},
   "outputs": [],
   "source": [
    "accuracy=df_conv_resnet_scores.loc[df_conv_resnet_scores[\"f1-weighted\"].idxmax(), [\"accuracy\"]].values[0]\n",
    "f1_weighted=df_conv_resnet_scores.loc[df_conv_resnet_scores[\"f1-weighted\"].idxmax(), [\"f1-weighted\"]].values[0]"
   ]
  },
  {
   "cell_type": "code",
   "execution_count": 56,
   "metadata": {},
   "outputs": [],
   "source": [
    "score_dictionary['model'].append(\"Resnet based conv model\")\n",
    "score_dictionary['accuracy'].append(accuracy)\n",
    "score_dictionary['F1-weighted'].append(f1_weighted)"
   ]
  },
  {
   "cell_type": "code",
   "execution_count": 57,
   "metadata": {},
   "outputs": [
    {
     "data": {
      "text/html": [
       "<div>\n",
       "<style scoped>\n",
       "    .dataframe tbody tr th:only-of-type {\n",
       "        vertical-align: middle;\n",
       "    }\n",
       "\n",
       "    .dataframe tbody tr th {\n",
       "        vertical-align: top;\n",
       "    }\n",
       "\n",
       "    .dataframe thead th {\n",
       "        text-align: right;\n",
       "    }\n",
       "</style>\n",
       "<table border=\"1\" class=\"dataframe\">\n",
       "  <thead>\n",
       "    <tr style=\"text-align: right;\">\n",
       "      <th></th>\n",
       "      <th>model</th>\n",
       "      <th>accuracy</th>\n",
       "      <th>F1-weighted</th>\n",
       "    </tr>\n",
       "  </thead>\n",
       "  <tbody>\n",
       "    <tr>\n",
       "      <th>0</th>\n",
       "      <td>Baseline</td>\n",
       "      <td>0.525963</td>\n",
       "      <td>0.529492</td>\n",
       "    </tr>\n",
       "    <tr>\n",
       "      <th>1</th>\n",
       "      <td>Naive bayes'</td>\n",
       "      <td>0.551488</td>\n",
       "      <td>0.548509</td>\n",
       "    </tr>\n",
       "    <tr>\n",
       "      <th>2</th>\n",
       "      <td>Logistic regression</td>\n",
       "      <td>0.620624</td>\n",
       "      <td>0.613384</td>\n",
       "    </tr>\n",
       "    <tr>\n",
       "      <th>3</th>\n",
       "      <td>Random forest</td>\n",
       "      <td>0.591817</td>\n",
       "      <td>0.569528</td>\n",
       "    </tr>\n",
       "    <tr>\n",
       "      <th>4</th>\n",
       "      <td>Resnet based conv model</td>\n",
       "      <td>0.371135</td>\n",
       "      <td>0.361919</td>\n",
       "    </tr>\n",
       "  </tbody>\n",
       "</table>\n",
       "</div>"
      ],
      "text/plain": [
       "                     model  accuracy  F1-weighted\n",
       "0                 Baseline  0.525963     0.529492\n",
       "1             Naive bayes'  0.551488     0.548509\n",
       "2      Logistic regression  0.620624     0.613384\n",
       "3            Random forest  0.591817     0.569528\n",
       "4  Resnet based conv model  0.371135     0.361919"
      ]
     },
     "execution_count": 57,
     "metadata": {},
     "output_type": "execute_result"
    }
   ],
   "source": [
    "df_scores= pd.DataFrame.from_dict(score_dictionary)\n",
    "df_scores.head()"
   ]
  },
  {
   "cell_type": "markdown",
   "metadata": {},
   "source": [
    "### Simple Convolutinal network"
   ]
  },
  {
   "cell_type": "markdown",
   "metadata": {},
   "source": [
    "We will also implement a simpler convolutinal model. It includes three convolutional layers with a kernel of 5 with relu activation. The number of filters of convolutional layers are of size 32,128,64 respectively. Each convolutional layer is followed by a max-pooling layer with pool size 2 and a batch-normalization layer.  After the convolutional layers there are two dense layers with relu activation of size 128 and 64 units.  With a output layer of 10 units (For 10 genres) with softmax activation."
   ]
  },
  {
   "cell_type": "markdown",
   "metadata": {},
   "source": [
    "We will search for the best learning rate to apply"
   ]
  },
  {
   "cell_type": "code",
   "execution_count": 58,
   "metadata": {},
   "outputs": [
    {
     "name": "stdout",
     "output_type": "stream",
     "text": [
      "Different learning rate values we will check are: [0.001, 0.003]\n",
      "Patience will be: 3\n",
      "Total limit on number of epochs will be: 20\n"
     ]
    }
   ],
   "source": [
    "learning_rate=conf[\"hyperparams\"][\"conv_params\"][\"learning_rate\"]\n",
    "print(f\"Different learning rate values we will check are: {learning_rate}\")\n",
    "print(f\"Patience will be: {patience}\")\n",
    "print(f\"Total limit on number of epochs will be: {epochs}\")"
   ]
  },
  {
   "cell_type": "markdown",
   "metadata": {},
   "source": [
    "The network configuration are the following: "
   ]
  },
  {
   "cell_type": "code",
   "execution_count": 59,
   "metadata": {
    "pycharm": {
     "is_executing": true
    }
   },
   "outputs": [],
   "source": [
    "conv2d_config=conf[\"hyperparams\"][\"conv_params\"][\"custom_conv\"][\"conv_config\"]\n",
    "kernel_size=conf[\"hyperparams\"][\"conv_params\"][\"custom_conv\"][\"kernel\"]\n",
    "dense_config=conf[\"hyperparams\"][\"conv_params\"][\"custom_conv\"][\"dense_config\"]\n",
    "pool_size=conf[\"hyperparams\"][\"conv_params\"][\"custom_conv\"][\"pool\"]"
   ]
  },
  {
   "cell_type": "code",
   "execution_count": 60,
   "metadata": {},
   "outputs": [
    {
     "name": "stdout",
     "output_type": "stream",
     "text": [
      "Convolutional number of units for each layer are: : [32, 128, 64] units\n",
      "Kernel size will be: 5\n",
      "Pool size of max-pooling layers will be: 2\n",
      "Dense layers at the end will be of units: : [128, 64]\n"
     ]
    }
   ],
   "source": [
    "print(f\"Convolutional number of units for each layer are: : {conv2d_config} units\")\n",
    "print(f\"Kernel size will be: {kernel_size}\")\n",
    "print(f\"Pool size of max-pooling layers will be: {pool_size}\")\n",
    "print(f\"Dense layers at the end will be of units: : {dense_config}\")"
   ]
  },
  {
   "cell_type": "code",
   "execution_count": 61,
   "metadata": {
    "pycharm": {
     "is_executing": true
    }
   },
   "outputs": [
    {
     "name": "stdout",
     "output_type": "stream",
     "text": [
      "Model: \"sequential\"\n",
      "_________________________________________________________________\n",
      "Layer (type)                 Output Shape              Param #   \n",
      "=================================================================\n",
      "conv2d (Conv2D)              (None, 224, 224, 32)      2432      \n",
      "_________________________________________________________________\n",
      "max_pooling2d (MaxPooling2D) (None, 112, 112, 32)      0         \n",
      "_________________________________________________________________\n",
      "batch_normalization_4 (Batch (None, 112, 112, 32)      128       \n",
      "_________________________________________________________________\n",
      "conv2d_1 (Conv2D)            (None, 112, 112, 128)     102528    \n",
      "_________________________________________________________________\n",
      "max_pooling2d_1 (MaxPooling2 (None, 56, 56, 128)       0         \n",
      "_________________________________________________________________\n",
      "batch_normalization_5 (Batch (None, 56, 56, 128)       512       \n",
      "_________________________________________________________________\n",
      "conv2d_2 (Conv2D)            (None, 56, 56, 64)        204864    \n",
      "_________________________________________________________________\n",
      "max_pooling2d_2 (MaxPooling2 (None, 28, 28, 64)        0         \n",
      "_________________________________________________________________\n",
      "batch_normalization_6 (Batch (None, 28, 28, 64)        256       \n",
      "_________________________________________________________________\n",
      "flatten_4 (Flatten)          (None, 50176)             0         \n",
      "_________________________________________________________________\n",
      "dense_12 (Dense)             (None, 128)               6422656   \n",
      "_________________________________________________________________\n",
      "dense_13 (Dense)             (None, 64)                8256      \n",
      "_________________________________________________________________\n",
      "dense_14 (Dense)             (None, 10)                650       \n",
      "=================================================================\n",
      "Total params: 6,742,282\n",
      "Trainable params: 6,741,834\n",
      "Non-trainable params: 448\n",
      "_________________________________________________________________\n",
      "None\n"
     ]
    }
   ],
   "source": [
    "conv_gr.build_model(conv2d_config=conv2d_config, kernel_size=kernel_size, dense_config=dense_config, pool_size=pool_size)\n",
    "print(conv_gr.model.summary())"
   ]
  },
  {
   "cell_type": "code",
   "execution_count": 62,
   "metadata": {},
   "outputs": [],
   "source": [
    "#Dictinary to store results\n",
    "simple_conv_scores={'learning rate':[], 'accuracy':[], 'f1-weighted':[]}"
   ]
  },
  {
   "cell_type": "code",
   "execution_count": 63,
   "metadata": {},
   "outputs": [
    {
     "name": "stdout",
     "output_type": "stream",
     "text": [
      "INFO:tensorflow:Using MirroredStrategy with devices ('/job:localhost/replica:0/task:0/device:GPU:0', '/job:localhost/replica:0/task:0/device:GPU:1')\n",
      "Number of devices: 2\n",
      "\n",
      "\n",
      "Start training simple convolutinal model. Learning rate:0.001\n",
      "Found 123399 images belonging to 10 classes.\n",
      "Found 13712 images belonging to 10 classes.\n",
      "0.001\n",
      "Epoch 1/20\n",
      "INFO:tensorflow:batch_all_reduce: 18 all-reduces with algorithm = nccl, num_packs = 1\n",
      "INFO:tensorflow:batch_all_reduce: 18 all-reduces with algorithm = nccl, num_packs = 1\n",
      "1929/1929 [==============================] - 171s 89ms/step - loss: 2.1250 - f1_score: 0.1812 - accuracy: 0.2330 - val_loss: 2.4860 - val_f1_score: 0.1436 - val_accuracy: 0.1911\n",
      "Epoch 2/20\n",
      "1929/1929 [==============================] - 170s 88ms/step - loss: 1.9486 - f1_score: 0.2327 - accuracy: 0.2947 - val_loss: 2.1314 - val_f1_score: 0.1655 - val_accuracy: 0.2509\n",
      "Epoch 3/20\n",
      "1929/1929 [==============================] - 169s 88ms/step - loss: 1.8725 - f1_score: 0.2677 - accuracy: 0.3248 - val_loss: 1.9168 - val_f1_score: 0.2406 - val_accuracy: 0.3003\n",
      "Epoch 4/20\n",
      "1929/1929 [==============================] - 169s 88ms/step - loss: 1.7396 - f1_score: 0.3502 - accuracy: 0.3862 - val_loss: 1.8545 - val_f1_score: 0.3261 - val_accuracy: 0.3479\n",
      "Epoch 5/20\n",
      "1929/1929 [==============================] - 170s 88ms/step - loss: 1.5211 - f1_score: 0.4334 - accuracy: 0.4704 - val_loss: 1.8923 - val_f1_score: 0.3365 - val_accuracy: 0.3636\n",
      "Epoch 6/20\n",
      "1929/1929 [==============================] - 170s 88ms/step - loss: 1.2640 - f1_score: 0.5282 - accuracy: 0.5661 - val_loss: 2.0485 - val_f1_score: 0.3431 - val_accuracy: 0.3633\n",
      "Epoch 7/20\n",
      "1929/1929 [==============================] - 169s 88ms/step - loss: 1.0309 - f1_score: 0.6110 - accuracy: 0.6468 - val_loss: 2.5049 - val_f1_score: 0.3290 - val_accuracy: 0.3486\n",
      "Found 13712 images belonging to 10 classes.\n",
      "215/215 [==============================] - 17s 78ms/step - loss: 2.5055 - f1_score: 0.3290 - accuracy: 0.3485\n",
      "*********************************************************\n",
      "Finished training simple convolutinal model. Learning rate:0.001, Accuracy:0.349, F1-weighted:0.329\n",
      "*********************************************************\n",
      "\n",
      "\n",
      "Start training simple convolutinal model. Learning rate:0.003\n",
      "Found 123399 images belonging to 10 classes.\n",
      "Found 13712 images belonging to 10 classes.\n",
      "0.003\n",
      "Epoch 1/20\n",
      "INFO:tensorflow:batch_all_reduce: 18 all-reduces with algorithm = nccl, num_packs = 1\n",
      "INFO:tensorflow:batch_all_reduce: 18 all-reduces with algorithm = nccl, num_packs = 1\n",
      "1929/1929 [==============================] - 170s 88ms/step - loss: 2.4069 - f1_score: 0.0665 - accuracy: 0.1909 - val_loss: 2.1679 - val_f1_score: 0.0622 - val_accuracy: 0.1925\n",
      "Epoch 2/20\n",
      "1929/1929 [==============================] - 169s 88ms/step - loss: 2.1690 - f1_score: 0.0622 - accuracy: 0.1926 - val_loss: 2.1681 - val_f1_score: 0.0622 - val_accuracy: 0.1925\n",
      "Epoch 3/20\n",
      "1929/1929 [==============================] - 169s 88ms/step - loss: 2.1680 - f1_score: 0.0622 - accuracy: 0.1925 - val_loss: 2.1680 - val_f1_score: 0.0622 - val_accuracy: 0.1925\n",
      "Epoch 4/20\n",
      "1929/1929 [==============================] - 169s 88ms/step - loss: 2.1680 - f1_score: 0.0622 - accuracy: 0.1926 - val_loss: 2.1679 - val_f1_score: 0.0622 - val_accuracy: 0.1925\n",
      "Found 13712 images belonging to 10 classes.\n",
      "215/215 [==============================] - 17s 78ms/step - loss: 2.1679 - f1_score: 0.0622 - accuracy: 0.1925\n",
      "*********************************************************\n",
      "Finished training simple convolutinal model. Learning rate:0.003, Accuracy:0.193, F1-weighted:0.062\n",
      "*********************************************************\n"
     ]
    }
   ],
   "source": [
    "best_simple_conv_f1=math.inf\n",
    "best_f1_simple_conv_history=None\n",
    "\n",
    "\n",
    "#Search for the best learning rates.Each run trains the network and eveluates of the validation set.\n",
    "#Results are loaded to a dictionary.\n",
    "strategy = tf.distribute.MirroredStrategy()\n",
    "print ('Number of devices: {}'.format(strategy.num_replicas_in_sync))\n",
    "with strategy.scope():\n",
    "    for lr in learning_rate:\n",
    "        conv_gr.build_model(conv2d_config=conv2d_config, kernel_size=kernel_size, dense_config=dense_config,pool_size=pool_size)\n",
    "        print(\"\\n\")\n",
    "        print(f\"Start training simple convolutinal model. Learning rate:{lr}\")\n",
    "        history=conv_gr.fit_model(num_epochs=epochs, train_len=len_train, val_len=len_val, learning_rate=lr,patience=patience)\n",
    "        conv_simple_history=history.history.copy()\n",
    "        simple_conv_dict=conv_gr.evaluate('simple_conv', data_path,\"images-val\")\n",
    "        simple_conv_scores['learning rate'].append(lr)\n",
    "        simple_conv_scores['accuracy'].append(simple_conv_dict[\"accuracy\"])\n",
    "        simple_conv_scores['f1-weighted'].append(simple_conv_dict[\"f1_score\"])\n",
    "        accuracy=simple_conv_dict[\"accuracy\"]\n",
    "        f1_weighted=simple_conv_dict[\"f1_score\"]\n",
    "        print(\"*********************************************************\")\n",
    "        print(f\"Finished training simple convolutinal model. Learning rate:{lr}, Accuracy:{ accuracy:.3f}, F1-weighted:{ f1_weighted:.3f}\")\n",
    "        print(\"*********************************************************\")\n",
    "        if  f1_weighted<best_simple_conv_f1:\n",
    "            best_simple_conv_f1= f1_weighted\n",
    "            best_simple_conv_model_history=conv_simple_history"
   ]
  },
  {
   "cell_type": "code",
   "execution_count": 64,
   "metadata": {},
   "outputs": [
    {
     "data": {
      "text/html": [
       "<div>\n",
       "<style scoped>\n",
       "    .dataframe tbody tr th:only-of-type {\n",
       "        vertical-align: middle;\n",
       "    }\n",
       "\n",
       "    .dataframe tbody tr th {\n",
       "        vertical-align: top;\n",
       "    }\n",
       "\n",
       "    .dataframe thead th {\n",
       "        text-align: right;\n",
       "    }\n",
       "</style>\n",
       "<table border=\"1\" class=\"dataframe\">\n",
       "  <thead>\n",
       "    <tr style=\"text-align: right;\">\n",
       "      <th></th>\n",
       "      <th>learning rate</th>\n",
       "      <th>accuracy</th>\n",
       "      <th>f1-weighted</th>\n",
       "    </tr>\n",
       "  </thead>\n",
       "  <tbody>\n",
       "    <tr>\n",
       "      <th>0</th>\n",
       "      <td>0.001</td>\n",
       "      <td>0.348527</td>\n",
       "      <td>0.329049</td>\n",
       "    </tr>\n",
       "    <tr>\n",
       "      <th>1</th>\n",
       "      <td>0.003</td>\n",
       "      <td>0.192532</td>\n",
       "      <td>0.062168</td>\n",
       "    </tr>\n",
       "  </tbody>\n",
       "</table>\n",
       "</div>"
      ],
      "text/plain": [
       "   learning rate  accuracy  f1-weighted\n",
       "0          0.001  0.348527     0.329049\n",
       "1          0.003  0.192532     0.062168"
      ]
     },
     "execution_count": 64,
     "metadata": {},
     "output_type": "execute_result"
    }
   ],
   "source": [
    "df_simple_conv_scores= pd.DataFrame.from_dict(simple_conv_scores)\n",
    "df_simple_conv_scores.head()"
   ]
  },
  {
   "cell_type": "code",
   "execution_count": 107,
   "metadata": {},
   "outputs": [
    {
     "data": {
      "text/plain": [
       "{'loss': [2.406888008117676,\n",
       "  2.169010639190674,\n",
       "  2.1680498123168945,\n",
       "  2.1679883003234863],\n",
       " 'f1_score': [0.06648615002632141,\n",
       "  0.06223800778388977,\n",
       "  0.062184084206819534,\n",
       "  0.062190666794776917],\n",
       " 'accuracy': [0.19094158709049225,\n",
       "  0.19255423545837402,\n",
       "  0.19254612922668457,\n",
       "  0.19257044792175293],\n",
       " 'val_loss': [2.1678590774536133,\n",
       "  2.168102979660034,\n",
       "  2.1679766178131104,\n",
       "  2.1679153442382812],\n",
       " 'val_f1_score': [0.062167901545763016,\n",
       "  0.06218310445547104,\n",
       "  0.062167901545763016,\n",
       "  0.062167901545763016],\n",
       " 'val_accuracy': [0.19253209233283997,\n",
       "  0.19253209233283997,\n",
       "  0.19253209233283997,\n",
       "  0.19253209233283997]}"
      ]
     },
     "execution_count": 107,
     "metadata": {},
     "output_type": "execute_result"
    }
   ],
   "source": [
    "best_simple_conv_model_history"
   ]
  },
  {
   "cell_type": "markdown",
   "metadata": {},
   "source": [
    "Let's look at the best model training history"
   ]
  },
  {
   "cell_type": "code",
   "execution_count": 65,
   "metadata": {},
   "outputs": [
    {
     "data": {
      "image/png": "[encoded data removed]",
      "text/plain": [
       "<Figure size 432x360 with 1 Axes>"
      ]
     },
     "metadata": {
      "needs_background": "light"
     },
     "output_type": "display_data"
    }
   ],
   "source": [
    "gr.plot_history(best_simple_conv_model_history,'Run history best convolutional simple model')"
   ]
  },
  {
   "cell_type": "code",
   "execution_count": 99,
   "metadata": {},
   "outputs": [],
   "source": [
    "history=best_simple_conv_model_history"
   ]
  },
  {
   "cell_type": "code",
   "execution_count": 106,
   "metadata": {},
   "outputs": [
    {
     "data": {
      "image/png": "[encoded data removed]",
      "text/plain": [
       "<Figure size 432x360 with 1 Axes>"
      ]
     },
     "metadata": {
      "needs_background": "light"
     },
     "output_type": "display_data"
    }
   ],
   "source": [
    "plt.figure(figsize=(6,5))\n",
    "plt.plot(history[\"loss\"])\n",
    "plt.plot(history[\"val_loss\"])\n",
    "plt.xticks(np.arange(0,4,step=1))\n",
    "plt.xlabel(\"epochs\")\n",
    "plt.ylabel(\"loss\")\n",
    "plt.title('title')\n",
    "plt.legend(['train', 'val'], loc='upper right')\n",
    "plt.show()\n"
   ]
  },
  {
   "cell_type": "markdown",
   "metadata": {},
   "source": [
    "We can see that the model didnt converge, validation loss keeps rising. Since also train results were poor(0.47 accuracy), I do not believe it is overfitting but that the model is just not a good fit. (It was also difficult for human to know a book genre by cover..)"
   ]
  },
  {
   "cell_type": "code",
   "execution_count": 66,
   "metadata": {},
   "outputs": [],
   "source": [
    "accuracy=df_simple_conv_scores.loc[df_simple_conv_scores[\"f1-weighted\"].idxmax(), [\"accuracy\"]].values[0]\n",
    "f1_weighted=df_simple_conv_scores.loc[df_simple_conv_scores[\"f1-weighted\"].idxmax(), [\"f1-weighted\"]].values[0]"
   ]
  },
  {
   "cell_type": "code",
   "execution_count": 67,
   "metadata": {},
   "outputs": [],
   "source": [
    "score_dictionary['model'].append(\"Simple conv net\")\n",
    "score_dictionary['accuracy'].append(accuracy)\n",
    "score_dictionary['F1-weighted'].append(f1_weighted)"
   ]
  },
  {
   "cell_type": "code",
   "execution_count": 68,
   "metadata": {},
   "outputs": [
    {
     "data": {
      "text/html": [
       "<div>\n",
       "<style scoped>\n",
       "    .dataframe tbody tr th:only-of-type {\n",
       "        vertical-align: middle;\n",
       "    }\n",
       "\n",
       "    .dataframe tbody tr th {\n",
       "        vertical-align: top;\n",
       "    }\n",
       "\n",
       "    .dataframe thead th {\n",
       "        text-align: right;\n",
       "    }\n",
       "</style>\n",
       "<table border=\"1\" class=\"dataframe\">\n",
       "  <thead>\n",
       "    <tr style=\"text-align: right;\">\n",
       "      <th></th>\n",
       "      <th>model</th>\n",
       "      <th>accuracy</th>\n",
       "      <th>F1-weighted</th>\n",
       "    </tr>\n",
       "  </thead>\n",
       "  <tbody>\n",
       "    <tr>\n",
       "      <th>0</th>\n",
       "      <td>Baseline</td>\n",
       "      <td>0.525963</td>\n",
       "      <td>0.529492</td>\n",
       "    </tr>\n",
       "    <tr>\n",
       "      <th>1</th>\n",
       "      <td>Naive bayes'</td>\n",
       "      <td>0.551488</td>\n",
       "      <td>0.548509</td>\n",
       "    </tr>\n",
       "    <tr>\n",
       "      <th>2</th>\n",
       "      <td>Logistic regression</td>\n",
       "      <td>0.620624</td>\n",
       "      <td>0.613384</td>\n",
       "    </tr>\n",
       "    <tr>\n",
       "      <th>3</th>\n",
       "      <td>Random forest</td>\n",
       "      <td>0.591817</td>\n",
       "      <td>0.569528</td>\n",
       "    </tr>\n",
       "    <tr>\n",
       "      <th>4</th>\n",
       "      <td>Resnet based conv model</td>\n",
       "      <td>0.371135</td>\n",
       "      <td>0.361919</td>\n",
       "    </tr>\n",
       "    <tr>\n",
       "      <th>5</th>\n",
       "      <td>Simple conv net</td>\n",
       "      <td>0.348527</td>\n",
       "      <td>0.329049</td>\n",
       "    </tr>\n",
       "  </tbody>\n",
       "</table>\n",
       "</div>"
      ],
      "text/plain": [
       "                     model  accuracy  F1-weighted\n",
       "0                 Baseline  0.525963     0.529492\n",
       "1             Naive bayes'  0.551488     0.548509\n",
       "2      Logistic regression  0.620624     0.613384\n",
       "3            Random forest  0.591817     0.569528\n",
       "4  Resnet based conv model  0.371135     0.361919\n",
       "5          Simple conv net  0.348527     0.329049"
      ]
     },
     "execution_count": 68,
     "metadata": {},
     "output_type": "execute_result"
    }
   ],
   "source": [
    "df_scores= pd.DataFrame.from_dict(score_dictionary)\n",
    "df_scores.head(10)"
   ]
  },
  {
   "cell_type": "markdown",
   "metadata": {},
   "source": [
    "### Neural network based on embeddings\n",
    "\n",
    "Since our thinking is that the text features are potentially the best predictor of the genre we will use  another  modeling  approach.Mikolov et  al.(2013) have showed that by using a skip-gram model (a model that when given a word, predicts the surrounding words) on a large corpus, we can learn vector representations of words such that these representing hold a ”meaning” of the wordin the vector dimension.  These vector are known as an embedding.  \n",
    "\n",
    "The spacy package holds some versions of pre-trained embedding.  We will use these pretrained embeddings as well as creating our own word2vec embeddings using gensim package .  We will first tokenise description and title features(very similar to the BOW method) and these word tokens will be replaced by the learned word embeddings.\n",
    "\n",
    "Another addition we have done is to use the embedding approach in order create a representation of an author. Since our thinking is that an author is a very important feature in our model we will transform each author to embeddings vector(initialized randomly) and the network will learnthe embedding representation of the author.A similar approach was used in collaborative filteringapplications by He et al. (2017) to represent users and movies as embeddings. \n",
    "\n",
    "We will also add the other numerical features we have as another input to the network. At the end it will be a 4 different input netowrk where each input is followed by independent layers and at the end all are concatenated and go through another two dense layer and final output layer with softmax of 10 outputs(genres).\n",
    "For the text features -The description is folled by a convolutinal layer of dim1 and a kernet of 5.this is aimed to address the conecction between sorrunding words in the description. It will be folowed by a pooling and a dense layer. Title will be folowed .Author will be folowed by\n"
   ]
  },
  {
   "cell_type": "code",
   "execution_count": 124,
   "metadata": {},
   "outputs": [],
   "source": [
    "tf.random.set_seed(SEED)"
   ]
  },
  {
   "cell_type": "code",
   "execution_count": 125,
   "metadata": {},
   "outputs": [],
   "source": [
    "patience = conf[\"hyperparams\"][\"embedding_params\"][\"patience\"]\n",
    "epochs = conf[\"hyperparams\"][\"embedding_params\"][\"epochs\"]\n",
    "batch_size= conf[\"hyperparams\"][\"embedding_params\"][\"batch_size\"]"
   ]
  },
  {
   "cell_type": "code",
   "execution_count": 126,
   "metadata": {},
   "outputs": [
    {
     "name": "stdout",
     "output_type": "stream",
     "text": [
      "Patience will be: 3\n",
      "Limit on number of epochs will be: 20\n",
      "Batch size will be: 32\n"
     ]
    }
   ],
   "source": [
    "\n",
    "print(f\"Patience will be: {patience}\")\n",
    "print(f\"Limit on number of epochs will be: {epochs}\")\n",
    "print(f\"Batch size will be: {batch_size}\")"
   ]
  },
  {
   "cell_type": "markdown",
   "metadata": {},
   "source": [
    "### Hyperparameters search:"
   ]
  },
  {
   "cell_type": "markdown",
   "metadata": {},
   "source": [
    "We will search for the following best hyperparameters:\n",
    "- Learning rate\n",
    "- Embedding type- Whether pretraind word embeddings on a large corpora from spacy model or our own trained word2vec embedding on our text features.\n",
    "- Window/Kernel size for description-How many surrounding words to consider. this is relevant for both word2vec windows and also the kernel size of the convolutional nn on description.\n",
    "- Window/Kernel size for titles-How many surrounding words to consider. this is relevant for both word2vec windows and also the kernel size of the convolutional nn on titles.\n",
    "\n",
    "Other configuration were fixed(They were seacrhed but not included here full search). Listed later."
   ]
  },
  {
   "cell_type": "code",
   "execution_count": 127,
   "metadata": {},
   "outputs": [
    {
     "name": "stdout",
     "output_type": "stream",
     "text": [
      "Different learning rate values we will check are: [0.003, 0.001]\n",
      "Different embedding types we will check are: ['spacy', 'word2vec']\n",
      "Kernel size for description we will check are: [5, 10]\n",
      "Kernel size for title we will check are: [3, 5]\n",
      "Different dropout rates we will check are: [0.2, 0.1]\n"
     ]
    }
   ],
   "source": [
    "learning_rate = conf[\"hyperparams\"][\"embedding_params\"][\"learning_rate\"]\n",
    "print(f\"Different learning rate values we will check are: {learning_rate}\")\n",
    "embedding_type = conf[\"hyperparams\"][\"embedding_params\"][\"embedding_type\"]\n",
    "print(f\"Different embedding types we will check are: {embedding_type}\")\n",
    "kernel_size_desc = conf[\"hyperparams\"][\"embedding_params\"][\"kernel_desc\"]\n",
    "print(f\"Kernel size for description we will check are: {kernel_size_desc}\")\n",
    "kernel_size_title = conf[\"hyperparams\"][\"embedding_params\"][\"kernel_title\"]\n",
    "print(f\"Kernel size for title we will check are: {kernel_size_title}\")\n",
    "dropout_rates = conf[\"hyperparams\"][\"embedding_params\"][\"dropout_rates\"]\n",
    "print(f\"Different dropout rates we will check are: {dropout_rates}\")\n"
   ]
  },
  {
   "cell_type": "code",
   "execution_count": 128,
   "metadata": {},
   "outputs": [],
   "source": [
    "#Dictinary to store results\n",
    "\n",
    "embedding_scores={'embedding type':[], 'learning rate':[], 'kernel_desc':[], 'kernel_title':[], 'dropout rate':[], 'accuracy':[], 'f1-weighted':[]}"
   ]
  },
  {
   "cell_type": "markdown",
   "metadata": {},
   "source": [
    "will prepare again the data for inference. We will not need to add text features since we are going to analyse title and description features differently.\n",
    "\n",
    "\n",
    "The train , val and test split is the same as before , it is just the further preparation that is different."
   ]
  },
  {
   "cell_type": "code",
   "execution_count": 129,
   "metadata": {
    "pycharm": {
     "is_executing": true
    }
   },
   "outputs": [
    {
     "name": "stdout",
     "output_type": "stream",
     "text": [
      "Loaded train dataset containing: 123399 samples\n",
      "Loaded validation dataset containing: 13712 samples\n",
      "Loaded test dataset containing: 15235 samples\n",
      "All datasets prepared for inference\n"
     ]
    }
   ],
   "source": [
    "#We will prepare again the data for inference. We will not need to add text features since we are going to analyse title\n",
    "#and description features differently.\n",
    "\n",
    "#The train , val and test split is the same as before , it is just the further preparation that is different.\n",
    "goodr_dataset_embeddings = gr.GoodreadsDataset.load_from_split(conf['preprocessed'], image_source_path, image_source_list, data_path)\n",
    "goodr_dataset_embeddings.prepare_data_for_inference(add_text_features=False,drop_author_id=False,target_hot_encoding=True)\n",
    "X_train=goodr_dataset_embeddings.X_train\n",
    "y_train=goodr_dataset_embeddings.y_train\n",
    "X_val=goodr_dataset_embeddings.X_val\n",
    "y_val=goodr_dataset_embeddings.y_val"
   ]
  },
  {
   "cell_type": "markdown",
   "metadata": {},
   "source": [
    "Other than Title , Description and Author features we will also input the other numerical features to the network."
   ]
  },
  {
   "cell_type": "code",
   "execution_count": 130,
   "metadata": {},
   "outputs": [],
   "source": [
    "column_names = list(goodr_dataset_embeddings.inference_col_names)\n",
    "other_columns=[col for col in column_names if col not in [\"description\",\"title\", \"author_id\"]]"
   ]
  },
  {
   "cell_type": "code",
   "execution_count": 131,
   "metadata": {},
   "outputs": [
    {
     "data": {
      "text/plain": [
       "['num_pages',\n",
       " 'publication_year',\n",
       " 'is_ebook',\n",
       " 'series',\n",
       " 'read_count',\n",
       " 'text_reviews_count',\n",
       " 'ratings_count',\n",
       " 'average_rating',\n",
       " 'public_year_null',\n",
       " 'num_pages_null',\n",
       " 'authors_ratings_count',\n",
       " 'author_average_rating']"
      ]
     },
     "execution_count": 131,
     "metadata": {},
     "output_type": "execute_result"
    }
   ],
   "source": [
    "other_columns"
   ]
  },
  {
   "cell_type": "code",
   "execution_count": 76,
   "metadata": {
    "pycharm": {
     "is_executing": true
    }
   },
   "outputs": [
    {
     "name": "stdout",
     "output_type": "stream",
     "text": [
      "Window size for description will be: 10\n",
      "Window size for title will be: 3\n",
      "Embedding dimension will be: 300\n",
      "Vocabulary length for title will be: 1000\n",
      "Vocabulary length for description will be: 5000\n",
      "Maximum length for decription will be: 10\n",
      "Maximum length for title will be: 350\n",
      "Number of filters for convolution on description will be: 64\n",
      "Number of filters for convolution on title will be: 16\n",
      "Configuration of final dense layers will be: [128, 64]\n"
     ]
    }
   ],
   "source": [
    "\n",
    "num_classes= conf[\"num_classes\"]\n",
    "embedding_dim=conf[\"hyperparams\"][\"embedding_params\"][\"embedding_dim\"]\n",
    "num_voc_title = conf[\"hyperparams\"][\"embedding_params\"][\"title_max_voc\"]\n",
    "num_voc_description = conf[\"hyperparams\"][\"embedding_params\"][\"desc_max_voc\"]\n",
    "max_len_title = conf[\"hyperparams\"][\"embedding_params\"][\"title_max_len\"]\n",
    "max_len_desc = conf[\"hyperparams\"][\"embedding_params\"][\"desc_max_len\"]\n",
    "dense_config = conf[\"hyperparams\"][\"embedding_params\"][\"dense_config\"]\n",
    "conv_filters_desc = conf[\"hyperparams\"][\"embedding_params\"][\"conv_filters_desc\"]\n",
    "conv_filters_title = conf[\"hyperparams\"][\"embedding_params\"][\"conv_filters_title\"]\n",
    "window_size_desc = conf[\"hyperparams\"][\"embedding_params\"][\"word2vecwindow_desc\"]\n",
    "window_size_title = conf[\"hyperparams\"][\"embedding_params\"][\"word2vecwindow_title\"]\n",
    "\n",
    "print(f\"Window size for description will be: {window_size_desc}\")\n",
    "print(f\"Window size for title will be: {window_size_title}\")\n",
    "print(f\"Embedding dimension will be: {embedding_dim}\")\n",
    "print(f\"Vocabulary length for title will be: {num_voc_title}\")\n",
    "print(f\"Vocabulary length for description will be: {num_voc_description}\")\n",
    "print(f\"Maximum length for decription will be: {max_len_title}\")\n",
    "print(f\"Maximum length for title will be: {max_len_desc}\")\n",
    "print(f\"Number of filters for convolution on description will be: {conv_filters_desc}\")\n",
    "print(f\"Number of filters for convolution on title will be: {conv_filters_title}\")\n",
    "print(f\"Configuration of final dense layers will be: {dense_config}\")"
   ]
  },
  {
   "cell_type": "code",
   "execution_count": 77,
   "metadata": {},
   "outputs": [],
   "source": [
    "emb_gr = gr.EmbeddingNNGoodreads(batch_size=batch_size,\n",
    "                                  num_classes=num_classes,\n",
    "                                  embedding_dim=embedding_dim)"
   ]
  },
  {
   "cell_type": "markdown",
   "metadata": {},
   "source": [
    "We first remove english stop words from title and description string"
   ]
  },
  {
   "cell_type": "code",
   "execution_count": 78,
   "metadata": {},
   "outputs": [],
   "source": [
    "cleaned_train_title=np.array(emb_gr.remove_stopword(X_train[\"title\"].values))\n",
    "cleaned_val_title = np.array(emb_gr.remove_stopword(X_val[\"title\"].values))\n",
    "cleaned_train_description = np.array(emb_gr.remove_stopword(X_train[\"description\"].values))\n",
    "cleaned_val_description = np.array(emb_gr.remove_stopword(X_val[\"description\"].values))"
   ]
  },
  {
   "cell_type": "code",
   "execution_count": 79,
   "metadata": {},
   "outputs": [],
   "source": [
    "emb_gr.prepare_preprocessing_voc_layers(cleaned_train_title, num_voc_title=num_voc_title,\n",
    "                                            description_array=cleaned_train_description,\n",
    "                                            num_voc_description=num_voc_description,\n",
    "                                            author_array=X_train[\"author_id\"].values, max_len_title=max_len_title,\n",
    "                                            max_len_desc=max_len_desc)"
   ]
  },
  {
   "cell_type": "markdown",
   "metadata": {},
   "source": [
    "The model structure is the following (For specific hyperparmeters):"
   ]
  },
  {
   "cell_type": "code",
   "execution_count": 80,
   "metadata": {},
   "outputs": [
    {
     "name": "stdout",
     "output_type": "stream",
     "text": [
      "Model: \"functional_9\"\n",
      "__________________________________________________________________________________________________\n",
      "Layer (type)                    Output Shape         Param #     Connected to                     \n",
      "==================================================================================================\n",
      "desc_input (InputLayer)         [(None, 1)]          0                                            \n",
      "__________________________________________________________________________________________________\n",
      "title_input (InputLayer)        [(None, 1)]          0                                            \n",
      "__________________________________________________________________________________________________\n",
      "Tokenizer_description (TextVect (None, 350)          0           desc_input[0][0]                 \n",
      "__________________________________________________________________________________________________\n",
      "Tokenizer_title (TextVectorizat (None, 10)           0           title_input[0][0]                \n",
      "__________________________________________________________________________________________________\n",
      "Embedding_description (Embeddin (None, 350, 300)     1500600     Tokenizer_description[0][0]      \n",
      "__________________________________________________________________________________________________\n",
      "Embedding_title (Embedding)     (None, 10, 300)      300600      Tokenizer_title[0][0]            \n",
      "__________________________________________________________________________________________________\n",
      "Convolution_description (Conv1D (None, 341, 64)      192064      Embedding_description[0][0]      \n",
      "__________________________________________________________________________________________________\n",
      "Convolution_title (Conv1D)      (None, 8, 16)        14416       Embedding_title[0][0]            \n",
      "__________________________________________________________________________________________________\n",
      "author_input (InputLayer)       [(None, 1)]          0                                            \n",
      "__________________________________________________________________________________________________\n",
      "Max_pooling_description (MaxPoo (None, 113, 64)      0           Convolution_description[0][0]    \n",
      "__________________________________________________________________________________________________\n",
      "Max_pooling_title (MaxPooling1D (None, 2, 16)        0           Convolution_title[0][0]          \n",
      "__________________________________________________________________________________________________\n",
      "Tokenizer_author (IntegerLookup (None, 1)            0           author_input[0][0]               \n",
      "__________________________________________________________________________________________________\n",
      "dropout_4 (Dropout)             (None, 113, 64)      0           Max_pooling_description[0][0]    \n",
      "__________________________________________________________________________________________________\n",
      "dropout_5 (Dropout)             (None, 2, 16)        0           Max_pooling_title[0][0]          \n",
      "__________________________________________________________________________________________________\n",
      "Embeddings_author (Embedding)   (None, 1, 10)        608000      Tokenizer_author[0][0]           \n",
      "__________________________________________________________________________________________________\n",
      "Global_avg_pooling_description  (None, 64)           0           dropout_4[0][0]                  \n",
      "__________________________________________________________________________________________________\n",
      "Global_avg_pooling_title (Globa (None, 16)           0           dropout_5[0][0]                  \n",
      "__________________________________________________________________________________________________\n",
      "Global_avg_pooling_author (Glob (None, 10)           0           Embeddings_author[0][0]          \n",
      "__________________________________________________________________________________________________\n",
      "other_input (InputLayer)        [(None, 12)]         0                                            \n",
      "__________________________________________________________________________________________________\n",
      "Concatenation_layer_all_inputs  (None, 102)          0           Global_avg_pooling_description[0]\n",
      "                                                                 Global_avg_pooling_title[0][0]   \n",
      "                                                                 Global_avg_pooling_author[0][0]  \n",
      "                                                                 other_input[0][0]                \n",
      "__________________________________________________________________________________________________\n",
      "batch_normalization_13 (BatchNo (None, 102)          408         Concatenation_layer_all_inputs[0]\n",
      "__________________________________________________________________________________________________\n",
      "dense_21 (Dense)                (None, 128)          13184       batch_normalization_13[0][0]     \n",
      "__________________________________________________________________________________________________\n",
      "dropout_6 (Dropout)             (None, 128)          0           dense_21[0][0]                   \n",
      "__________________________________________________________________________________________________\n",
      "dense_22 (Dense)                (None, 64)           8256        dropout_6[0][0]                  \n",
      "__________________________________________________________________________________________________\n",
      "dense_23 (Dense)                (None, 10)           650         dense_22[0][0]                   \n",
      "==================================================================================================\n",
      "Total params: 2,638,178\n",
      "Trainable params: 2,637,974\n",
      "Non-trainable params: 204\n",
      "__________________________________________________________________________________________________\n",
      "None\n"
     ]
    }
   ],
   "source": [
    "emb_gr.prepare_embedding_vectors(cleaned_train_description, cleaned_train_title,pretrained_emb='spacy',window_size_desc=window_size_desc,window_size_title=window_size_title)\n",
    "emb_gr.build_model(len(other_columns), dense_config, kernel_size_desc=10, kernel_size_title=3, dropout_rate=0.1, conv_filters_desc=conv_filters_desc, conv_filters_title=conv_filters_title)\n",
    "print(emb_gr.model.summary())"
   ]
  },
  {
   "cell_type": "markdown",
   "metadata": {},
   "source": [
    "Prepare tokenizer and embedding layers. We need to preprocess these layers in order to form a vocabulary in the training process. Embedding are either based on spacy pretrained emebddings vector or calculated word2vec embeddings on description and title features."
   ]
  },
  {
   "cell_type": "code",
   "execution_count": 81,
   "metadata": {
    "scrolled": false
   },
   "outputs": [
    {
     "name": "stdout",
     "output_type": "stream",
     "text": [
      "INFO:tensorflow:Using MirroredStrategy with devices ('/job:localhost/replica:0/task:0/device:GPU:0', '/job:localhost/replica:0/task:0/device:GPU:1')\n",
      "Number of devices: 2\n",
      "\n",
      "\n",
      "Start training model. Kernel description:5 ,Kernel title: 3, Dropout rate:0.2, Learning rate:0.003, embedding type: spacy\n",
      "Epoch 1/20\n",
      "INFO:tensorflow:batch_all_reduce: 12 all-reduces with algorithm = nccl, num_packs = 1\n",
      "WARNING:tensorflow:Efficient allreduce is not supported for 3 IndexedSlices\n",
      "3857/3857 [==============================] - 26s 7ms/step - loss: 1.0692 - f1_score: 0.6402 - accuracy: 0.6504 - val_loss: 0.8379 - val_f1_score: 0.7287 - val_accuracy: 0.7275\n",
      "Epoch 2/20\n",
      "3857/3857 [==============================] - 23s 6ms/step - loss: 0.6452 - f1_score: 0.7988 - accuracy: 0.8010 - val_loss: 0.8478 - val_f1_score: 0.7357 - val_accuracy: 0.7392\n",
      "Epoch 3/20\n",
      "3857/3857 [==============================] - 24s 6ms/step - loss: 0.4352 - f1_score: 0.8667 - accuracy: 0.8674 - val_loss: 0.9195 - val_f1_score: 0.7333 - val_accuracy: 0.7272\n",
      "Epoch 4/20\n",
      "3857/3857 [==============================] - 23s 6ms/step - loss: 0.3525 - f1_score: 0.8909 - accuracy: 0.8912 - val_loss: 0.9417 - val_f1_score: 0.7372 - val_accuracy: 0.7365\n",
      "429/429 [==============================] - 1s 3ms/step - loss: 0.9417 - f1_score: 0.7372 - accuracy: 0.7365\n",
      "*********************************************************\n",
      "Finished training. Kernel description:5 ,Kernel title: 3, Dropout rate:0.2, Learning rate:0.003, embedding type: spacy, Accuracy:0.737, F1-weighted:0.737\n",
      "*********************************************************\n",
      "\n",
      "\n",
      "Start training model. Kernel description:5 ,Kernel title: 3, Dropout rate:0.1, Learning rate:0.003, embedding type: spacy\n",
      "Epoch 1/20\n",
      "3857/3857 [==============================] - 25s 7ms/step - loss: 1.0433 - f1_score: 0.6482 - accuracy: 0.6575 - val_loss: 0.8391 - val_f1_score: 0.7267 - val_accuracy: 0.7302\n",
      "Epoch 2/20\n",
      "3857/3857 [==============================] - 23s 6ms/step - loss: 0.6232 - f1_score: 0.8046 - accuracy: 0.8068 - val_loss: 0.8858 - val_f1_score: 0.7270 - val_accuracy: 0.7353\n",
      "Epoch 3/20\n",
      "3857/3857 [==============================] - 24s 6ms/step - loss: 0.4134 - f1_score: 0.8736 - accuracy: 0.8742 - val_loss: 0.8984 - val_f1_score: 0.7337 - val_accuracy: 0.7369\n",
      "Epoch 4/20\n",
      "3857/3857 [==============================] - 24s 6ms/step - loss: 0.3294 - f1_score: 0.8985 - accuracy: 0.8987 - val_loss: 0.9927 - val_f1_score: 0.7287 - val_accuracy: 0.7357\n",
      "429/429 [==============================] - 1s 3ms/step - loss: 0.9927 - f1_score: 0.7287 - accuracy: 0.7357\n",
      "*********************************************************\n",
      "Finished training. Kernel description:5 ,Kernel title: 3, Dropout rate:0.1, Learning rate:0.003, embedding type: spacy, Accuracy:0.736, F1-weighted:0.729\n",
      "*********************************************************\n",
      "\n",
      "\n",
      "Start training model. Kernel description:5 ,Kernel title: 3, Dropout rate:0.2, Learning rate:0.001, embedding type: spacy\n",
      "Epoch 1/20\n",
      "3857/3857 [==============================] - 25s 7ms/step - loss: 1.0918 - f1_score: 0.6263 - accuracy: 0.6381 - val_loss: 0.8350 - val_f1_score: 0.7222 - val_accuracy: 0.7287\n",
      "Epoch 2/20\n",
      "3857/3857 [==============================] - 24s 6ms/step - loss: 0.6727 - f1_score: 0.7803 - accuracy: 0.7845 - val_loss: 0.8126 - val_f1_score: 0.7424 - val_accuracy: 0.7432\n",
      "Epoch 3/20\n",
      "3857/3857 [==============================] - 24s 6ms/step - loss: 0.4219 - f1_score: 0.8680 - accuracy: 0.8691 - val_loss: 0.8963 - val_f1_score: 0.7405 - val_accuracy: 0.7322\n",
      "Epoch 4/20\n",
      "3857/3857 [==============================] - 24s 6ms/step - loss: 0.3113 - f1_score: 0.9031 - accuracy: 0.9034 - val_loss: 1.0498 - val_f1_score: 0.7374 - val_accuracy: 0.7243\n",
      "Epoch 5/20\n",
      "3857/3857 [==============================] - 24s 6ms/step - loss: 0.2587 - f1_score: 0.9169 - accuracy: 0.9171 - val_loss: 1.0573 - val_f1_score: 0.7399 - val_accuracy: 0.7307\n",
      "429/429 [==============================] - 1s 3ms/step - loss: 1.0573 - f1_score: 0.7399 - accuracy: 0.7307\n",
      "*********************************************************\n",
      "Finished training. Kernel description:5 ,Kernel title: 3, Dropout rate:0.2, Learning rate:0.001, embedding type: spacy, Accuracy:0.731, F1-weighted:0.740\n",
      "*********************************************************\n",
      "\n",
      "\n",
      "Start training model. Kernel description:5 ,Kernel title: 3, Dropout rate:0.1, Learning rate:0.001, embedding type: spacy\n",
      "Epoch 1/20\n",
      "3857/3857 [==============================] - 25s 7ms/step - loss: 1.0503 - f1_score: 0.6424 - accuracy: 0.6520 - val_loss: 0.8394 - val_f1_score: 0.7199 - val_accuracy: 0.7214\n",
      "Epoch 2/20\n",
      "3857/3857 [==============================] - 24s 6ms/step - loss: 0.6343 - f1_score: 0.7946 - accuracy: 0.7971 - val_loss: 0.8294 - val_f1_score: 0.7423 - val_accuracy: 0.7430\n",
      "Epoch 3/20\n",
      "3857/3857 [==============================] - 24s 6ms/step - loss: 0.3829 - f1_score: 0.8801 - accuracy: 0.8806 - val_loss: 0.9258 - val_f1_score: 0.7365 - val_accuracy: 0.7352\n",
      "Epoch 4/20\n",
      "3857/3857 [==============================] - 24s 6ms/step - loss: 0.2786 - f1_score: 0.9113 - accuracy: 0.9114 - val_loss: 1.0488 - val_f1_score: 0.7329 - val_accuracy: 0.7329\n",
      "Epoch 5/20\n",
      "3857/3857 [==============================] - 24s 6ms/step - loss: 0.2262 - f1_score: 0.9256 - accuracy: 0.9257 - val_loss: 1.1220 - val_f1_score: 0.7329 - val_accuracy: 0.7346\n",
      "429/429 [==============================] - 1s 3ms/step - loss: 1.1220 - f1_score: 0.7329 - accuracy: 0.7346\n",
      "*********************************************************\n",
      "Finished training. Kernel description:5 ,Kernel title: 3, Dropout rate:0.1, Learning rate:0.001, embedding type: spacy, Accuracy:0.735, F1-weighted:0.733\n",
      "*********************************************************\n",
      "\n",
      "\n",
      "Start training model. Kernel description:5 ,Kernel title: 5, Dropout rate:0.2, Learning rate:0.003, embedding type: spacy\n",
      "Epoch 1/20\n",
      "3857/3857 [==============================] - 25s 7ms/step - loss: 1.0667 - f1_score: 0.6399 - accuracy: 0.6506 - val_loss: 0.8542 - val_f1_score: 0.7216 - val_accuracy: 0.7284\n",
      "Epoch 2/20\n",
      "3857/3857 [==============================] - 24s 6ms/step - loss: 0.6410 - f1_score: 0.7988 - accuracy: 0.8011 - val_loss: 0.8727 - val_f1_score: 0.7303 - val_accuracy: 0.7266\n",
      "Epoch 3/20\n",
      "3857/3857 [==============================] - 24s 6ms/step - loss: 0.4287 - f1_score: 0.8692 - accuracy: 0.8699 - val_loss: 0.9466 - val_f1_score: 0.7335 - val_accuracy: 0.7244\n",
      "Epoch 4/20\n",
      "3857/3857 [==============================] - 24s 6ms/step - loss: 0.3492 - f1_score: 0.8924 - accuracy: 0.8927 - val_loss: 0.9917 - val_f1_score: 0.7305 - val_accuracy: 0.7345\n",
      "429/429 [==============================] - 1s 3ms/step - loss: 0.9917 - f1_score: 0.7305 - accuracy: 0.7345\n",
      "*********************************************************\n",
      "Finished training. Kernel description:5 ,Kernel title: 5, Dropout rate:0.2, Learning rate:0.003, embedding type: spacy, Accuracy:0.734, F1-weighted:0.730\n",
      "*********************************************************\n",
      "\n",
      "\n",
      "Start training model. Kernel description:5 ,Kernel title: 5, Dropout rate:0.1, Learning rate:0.003, embedding type: spacy\n",
      "Epoch 1/20\n",
      "3857/3857 [==============================] - 26s 7ms/step - loss: 1.0432 - f1_score: 0.6479 - accuracy: 0.6578 - val_loss: 0.8509 - val_f1_score: 0.7225 - val_accuracy: 0.7220\n",
      "Epoch 2/20\n",
      "3857/3857 [==============================] - 24s 6ms/step - loss: 0.6345 - f1_score: 0.7996 - accuracy: 0.8016 - val_loss: 0.8680 - val_f1_score: 0.7347 - val_accuracy: 0.7365\n",
      "Epoch 3/20\n",
      "3857/3857 [==============================] - 24s 6ms/step - loss: 0.4181 - f1_score: 0.8717 - accuracy: 0.8720 - val_loss: 0.9338 - val_f1_score: 0.7329 - val_accuracy: 0.7242\n",
      "Epoch 4/20\n",
      "3857/3857 [==============================] - 24s 6ms/step - loss: 0.3292 - f1_score: 0.8970 - accuracy: 0.8972 - val_loss: 0.9622 - val_f1_score: 0.7414 - val_accuracy: 0.7435\n",
      "429/429 [==============================] - 1s 3ms/step - loss: 0.9622 - f1_score: 0.7414 - accuracy: 0.7435\n",
      "*********************************************************\n",
      "Finished training. Kernel description:5 ,Kernel title: 5, Dropout rate:0.1, Learning rate:0.003, embedding type: spacy, Accuracy:0.744, F1-weighted:0.741\n",
      "*********************************************************\n"
     ]
    },
    {
     "name": "stdout",
     "output_type": "stream",
     "text": [
      "\n",
      "\n",
      "Start training model. Kernel description:5 ,Kernel title: 5, Dropout rate:0.2, Learning rate:0.001, embedding type: spacy\n",
      "Epoch 1/20\n",
      "3857/3857 [==============================] - 26s 7ms/step - loss: 1.0838 - f1_score: 0.6303 - accuracy: 0.6412 - val_loss: 0.8246 - val_f1_score: 0.7224 - val_accuracy: 0.7302\n",
      "Epoch 2/20\n",
      "3857/3857 [==============================] - 24s 6ms/step - loss: 0.6616 - f1_score: 0.7862 - accuracy: 0.7894 - val_loss: 0.8355 - val_f1_score: 0.7321 - val_accuracy: 0.7385\n",
      "Epoch 3/20\n",
      "3857/3857 [==============================] - 24s 6ms/step - loss: 0.4102 - f1_score: 0.8728 - accuracy: 0.8734 - val_loss: 0.9404 - val_f1_score: 0.7261 - val_accuracy: 0.7319\n",
      "Epoch 4/20\n",
      "3857/3857 [==============================] - 24s 6ms/step - loss: 0.3043 - f1_score: 0.9034 - accuracy: 0.9037 - val_loss: 1.0768 - val_f1_score: 0.7234 - val_accuracy: 0.7297\n",
      "429/429 [==============================] - 1s 3ms/step - loss: 1.0768 - f1_score: 0.7234 - accuracy: 0.7297\n",
      "*********************************************************\n",
      "Finished training. Kernel description:5 ,Kernel title: 5, Dropout rate:0.2, Learning rate:0.001, embedding type: spacy, Accuracy:0.730, F1-weighted:0.723\n",
      "*********************************************************\n",
      "\n",
      "\n",
      "Start training model. Kernel description:5 ,Kernel title: 5, Dropout rate:0.1, Learning rate:0.001, embedding type: spacy\n",
      "Epoch 1/20\n",
      "3857/3857 [==============================] - 26s 7ms/step - loss: 1.0558 - f1_score: 0.6407 - accuracy: 0.6504 - val_loss: 0.8361 - val_f1_score: 0.7210 - val_accuracy: 0.7263\n",
      "Epoch 2/20\n",
      "3857/3857 [==============================] - 24s 6ms/step - loss: 0.6412 - f1_score: 0.7926 - accuracy: 0.7956 - val_loss: 0.8397 - val_f1_score: 0.7284 - val_accuracy: 0.7331\n",
      "Epoch 3/20\n",
      "3857/3857 [==============================] - 24s 6ms/step - loss: 0.3929 - f1_score: 0.8763 - accuracy: 0.8771 - val_loss: 0.9281 - val_f1_score: 0.7290 - val_accuracy: 0.7326\n",
      "Epoch 4/20\n",
      "3857/3857 [==============================] - 24s 6ms/step - loss: 0.2834 - f1_score: 0.9103 - accuracy: 0.9105 - val_loss: 1.0350 - val_f1_score: 0.7261 - val_accuracy: 0.7302\n",
      "429/429 [==============================] - 1s 3ms/step - loss: 1.0350 - f1_score: 0.7261 - accuracy: 0.7302\n",
      "*********************************************************\n",
      "Finished training. Kernel description:5 ,Kernel title: 5, Dropout rate:0.1, Learning rate:0.001, embedding type: spacy, Accuracy:0.730, F1-weighted:0.726\n",
      "*********************************************************\n",
      "\n",
      "\n",
      "Start training model. Kernel description:10 ,Kernel title: 3, Dropout rate:0.2, Learning rate:0.003, embedding type: spacy\n",
      "Epoch 1/20\n",
      "3857/3857 [==============================] - 27s 7ms/step - loss: 1.0744 - f1_score: 0.6388 - accuracy: 0.6503 - val_loss: 0.8431 - val_f1_score: 0.7279 - val_accuracy: 0.7316\n",
      "Epoch 2/20\n",
      "3857/3857 [==============================] - 25s 6ms/step - loss: 0.6507 - f1_score: 0.7962 - accuracy: 0.7986 - val_loss: 0.8597 - val_f1_score: 0.7343 - val_accuracy: 0.7340\n",
      "Epoch 3/20\n",
      "3857/3857 [==============================] - 25s 6ms/step - loss: 0.4332 - f1_score: 0.8680 - accuracy: 0.8685 - val_loss: 0.9463 - val_f1_score: 0.7304 - val_accuracy: 0.7259\n",
      "Epoch 4/20\n",
      "3857/3857 [==============================] - 25s 6ms/step - loss: 0.3474 - f1_score: 0.8934 - accuracy: 0.8936 - val_loss: 0.9764 - val_f1_score: 0.7302 - val_accuracy: 0.7335\n",
      "429/429 [==============================] - 1s 3ms/step - loss: 0.9764 - f1_score: 0.7302 - accuracy: 0.7335\n",
      "*********************************************************\n",
      "Finished training. Kernel description:10 ,Kernel title: 3, Dropout rate:0.2, Learning rate:0.003, embedding type: spacy, Accuracy:0.734, F1-weighted:0.730\n",
      "*********************************************************\n",
      "\n",
      "\n",
      "Start training model. Kernel description:10 ,Kernel title: 3, Dropout rate:0.1, Learning rate:0.003, embedding type: spacy\n",
      "Epoch 1/20\n",
      "3857/3857 [==============================] - 27s 7ms/step - loss: 1.0463 - f1_score: 0.6456 - accuracy: 0.6560 - val_loss: 0.8552 - val_f1_score: 0.7165 - val_accuracy: 0.7214\n",
      "Epoch 2/20\n",
      "3857/3857 [==============================] - 25s 6ms/step - loss: 0.6207 - f1_score: 0.8038 - accuracy: 0.8065 - val_loss: 0.8649 - val_f1_score: 0.7322 - val_accuracy: 0.7356\n",
      "Epoch 3/20\n",
      "3857/3857 [==============================] - 25s 6ms/step - loss: 0.4047 - f1_score: 0.8739 - accuracy: 0.8747 - val_loss: 0.9434 - val_f1_score: 0.7339 - val_accuracy: 0.7289\n",
      "Epoch 4/20\n",
      "3857/3857 [==============================] - 25s 6ms/step - loss: 0.3224 - f1_score: 0.8984 - accuracy: 0.8987 - val_loss: 1.1298 - val_f1_score: 0.7032 - val_accuracy: 0.7157\n",
      "429/429 [==============================] - 1s 3ms/step - loss: 1.1298 - f1_score: 0.7032 - accuracy: 0.7157\n",
      "*********************************************************\n",
      "Finished training. Kernel description:10 ,Kernel title: 3, Dropout rate:0.1, Learning rate:0.003, embedding type: spacy, Accuracy:0.716, F1-weighted:0.703\n",
      "*********************************************************\n",
      "\n",
      "\n",
      "Start training model. Kernel description:10 ,Kernel title: 3, Dropout rate:0.2, Learning rate:0.001, embedding type: spacy\n",
      "Epoch 1/20\n",
      "3857/3857 [==============================] - 27s 7ms/step - loss: 1.0928 - f1_score: 0.6261 - accuracy: 0.6383 - val_loss: 0.8372 - val_f1_score: 0.7209 - val_accuracy: 0.7253\n",
      "Epoch 2/20\n",
      "3857/3857 [==============================] - 25s 7ms/step - loss: 0.6753 - f1_score: 0.7780 - accuracy: 0.7819 - val_loss: 0.8198 - val_f1_score: 0.7404 - val_accuracy: 0.7403\n",
      "Epoch 3/20\n",
      "3857/3857 [==============================] - 25s 7ms/step - loss: 0.4277 - f1_score: 0.8644 - accuracy: 0.8652 - val_loss: 0.9260 - val_f1_score: 0.7350 - val_accuracy: 0.7224\n",
      "Epoch 4/20\n",
      "3857/3857 [==============================] - 25s 7ms/step - loss: 0.3125 - f1_score: 0.9012 - accuracy: 0.9014 - val_loss: 0.9950 - val_f1_score: 0.7305 - val_accuracy: 0.7245\n",
      "Epoch 5/20\n",
      "3857/3857 [==============================] - 25s 7ms/step - loss: 0.2496 - f1_score: 0.9193 - accuracy: 0.9195 - val_loss: 1.0992 - val_f1_score: 0.7288 - val_accuracy: 0.7238\n",
      "429/429 [==============================] - 1s 3ms/step - loss: 1.0992 - f1_score: 0.7288 - accuracy: 0.7238\n",
      "*********************************************************\n",
      "Finished training. Kernel description:10 ,Kernel title: 3, Dropout rate:0.2, Learning rate:0.001, embedding type: spacy, Accuracy:0.724, F1-weighted:0.729\n",
      "*********************************************************\n",
      "\n",
      "\n",
      "Start training model. Kernel description:10 ,Kernel title: 3, Dropout rate:0.1, Learning rate:0.001, embedding type: spacy\n",
      "Epoch 1/20\n",
      "3857/3857 [==============================] - 27s 7ms/step - loss: 1.0618 - f1_score: 0.6382 - accuracy: 0.6482 - val_loss: 0.8224 - val_f1_score: 0.7279 - val_accuracy: 0.7307\n",
      "Epoch 2/20\n",
      "3857/3857 [==============================] - 25s 6ms/step - loss: 0.6396 - f1_score: 0.7914 - accuracy: 0.7942 - val_loss: 0.8239 - val_f1_score: 0.7304 - val_accuracy: 0.7378\n",
      "Epoch 3/20\n",
      "3857/3857 [==============================] - 25s 6ms/step - loss: 0.3872 - f1_score: 0.8777 - accuracy: 0.8782 - val_loss: 0.9449 - val_f1_score: 0.7237 - val_accuracy: 0.7228\n",
      "Epoch 4/20\n",
      "3857/3857 [==============================] - 25s 6ms/step - loss: 0.2761 - f1_score: 0.9110 - accuracy: 0.9112 - val_loss: 1.0935 - val_f1_score: 0.7155 - val_accuracy: 0.7184\n",
      "429/429 [==============================] - 1s 3ms/step - loss: 1.0935 - f1_score: 0.7155 - accuracy: 0.7184\n",
      "*********************************************************\n",
      "Finished training. Kernel description:10 ,Kernel title: 3, Dropout rate:0.1, Learning rate:0.001, embedding type: spacy, Accuracy:0.718, F1-weighted:0.715\n",
      "*********************************************************\n",
      "\n",
      "\n",
      "Start training model. Kernel description:10 ,Kernel title: 5, Dropout rate:0.2, Learning rate:0.003, embedding type: spacy\n",
      "Epoch 1/20\n",
      "3857/3857 [==============================] - 27s 7ms/step - loss: 1.0765 - f1_score: 0.6373 - accuracy: 0.6483 - val_loss: 0.8416 - val_f1_score: 0.7239 - val_accuracy: 0.7270\n",
      "Epoch 2/20\n",
      "3857/3857 [==============================] - 25s 7ms/step - loss: 0.6524 - f1_score: 0.7956 - accuracy: 0.7976 - val_loss: 0.8779 - val_f1_score: 0.7290 - val_accuracy: 0.7286\n"
     ]
    },
    {
     "name": "stdout",
     "output_type": "stream",
     "text": [
      "Epoch 3/20\n",
      "3857/3857 [==============================] - 25s 7ms/step - loss: 0.4379 - f1_score: 0.8662 - accuracy: 0.8667 - val_loss: 0.9390 - val_f1_score: 0.7310 - val_accuracy: 0.7298\n",
      "Epoch 4/20\n",
      "3857/3857 [==============================] - 25s 7ms/step - loss: 0.3534 - f1_score: 0.8902 - accuracy: 0.8904 - val_loss: 0.9856 - val_f1_score: 0.7344 - val_accuracy: 0.7374\n",
      "429/429 [==============================] - 1s 3ms/step - loss: 0.9856 - f1_score: 0.7344 - accuracy: 0.7374\n",
      "*********************************************************\n",
      "Finished training. Kernel description:10 ,Kernel title: 5, Dropout rate:0.2, Learning rate:0.003, embedding type: spacy, Accuracy:0.737, F1-weighted:0.734\n",
      "*********************************************************\n",
      "\n",
      "\n",
      "Start training model. Kernel description:10 ,Kernel title: 5, Dropout rate:0.1, Learning rate:0.003, embedding type: spacy\n",
      "Epoch 1/20\n",
      "3857/3857 [==============================] - 27s 7ms/step - loss: 1.0474 - f1_score: 0.6463 - accuracy: 0.6567 - val_loss: 0.9851 - val_f1_score: 0.6757 - val_accuracy: 0.6820\n",
      "Epoch 2/20\n",
      "3857/3857 [==============================] - 25s 6ms/step - loss: 0.6180 - f1_score: 0.8050 - accuracy: 0.8076 - val_loss: 0.8559 - val_f1_score: 0.7325 - val_accuracy: 0.7346\n",
      "Epoch 3/20\n",
      "3857/3857 [==============================] - 25s 7ms/step - loss: 0.4011 - f1_score: 0.8763 - accuracy: 0.8769 - val_loss: 1.0406 - val_f1_score: 0.7215 - val_accuracy: 0.7014\n",
      "Epoch 4/20\n",
      "3857/3857 [==============================] - 25s 7ms/step - loss: 0.3173 - f1_score: 0.9005 - accuracy: 0.9007 - val_loss: 0.9874 - val_f1_score: 0.7396 - val_accuracy: 0.7392\n",
      "Epoch 5/20\n",
      "3857/3857 [==============================] - 25s 7ms/step - loss: 0.2708 - f1_score: 0.9132 - accuracy: 0.9134 - val_loss: 1.0449 - val_f1_score: 0.7384 - val_accuracy: 0.7366\n",
      "429/429 [==============================] - 1s 3ms/step - loss: 1.0449 - f1_score: 0.7384 - accuracy: 0.7366\n",
      "*********************************************************\n",
      "Finished training. Kernel description:10 ,Kernel title: 5, Dropout rate:0.1, Learning rate:0.003, embedding type: spacy, Accuracy:0.737, F1-weighted:0.738\n",
      "*********************************************************\n",
      "\n",
      "\n",
      "Start training model. Kernel description:10 ,Kernel title: 5, Dropout rate:0.2, Learning rate:0.001, embedding type: spacy\n",
      "Epoch 1/20\n",
      "3857/3857 [==============================] - 27s 7ms/step - loss: 1.0905 - f1_score: 0.6278 - accuracy: 0.6395 - val_loss: 0.8445 - val_f1_score: 0.7218 - val_accuracy: 0.7221\n",
      "Epoch 2/20\n",
      "3857/3857 [==============================] - 25s 7ms/step - loss: 0.6703 - f1_score: 0.7826 - accuracy: 0.7865 - val_loss: 0.8337 - val_f1_score: 0.7372 - val_accuracy: 0.7314\n",
      "Epoch 3/20\n",
      "3857/3857 [==============================] - 25s 7ms/step - loss: 0.4189 - f1_score: 0.8702 - accuracy: 0.8713 - val_loss: 0.9199 - val_f1_score: 0.7363 - val_accuracy: 0.7270\n",
      "Epoch 4/20\n",
      "3857/3857 [==============================] - 25s 7ms/step - loss: 0.3081 - f1_score: 0.9022 - accuracy: 0.9025 - val_loss: 1.0157 - val_f1_score: 0.7360 - val_accuracy: 0.7257\n",
      "Epoch 5/20\n",
      "3857/3857 [==============================] - 25s 7ms/step - loss: 0.2497 - f1_score: 0.9200 - accuracy: 0.9202 - val_loss: 1.0898 - val_f1_score: 0.7352 - val_accuracy: 0.7252\n",
      "429/429 [==============================] - 1s 3ms/step - loss: 1.0898 - f1_score: 0.7352 - accuracy: 0.7252\n",
      "*********************************************************\n",
      "Finished training. Kernel description:10 ,Kernel title: 5, Dropout rate:0.2, Learning rate:0.001, embedding type: spacy, Accuracy:0.725, F1-weighted:0.735\n",
      "*********************************************************\n",
      "\n",
      "\n",
      "Start training model. Kernel description:10 ,Kernel title: 5, Dropout rate:0.1, Learning rate:0.001, embedding type: spacy\n",
      "Epoch 1/20\n",
      "3857/3857 [==============================] - 27s 7ms/step - loss: 1.0609 - f1_score: 0.6361 - accuracy: 0.6460 - val_loss: 0.8257 - val_f1_score: 0.7243 - val_accuracy: 0.7284\n",
      "Epoch 2/20\n",
      "3857/3857 [==============================] - 25s 7ms/step - loss: 0.6480 - f1_score: 0.7874 - accuracy: 0.7901 - val_loss: 0.8074 - val_f1_score: 0.7398 - val_accuracy: 0.7457\n",
      "Epoch 3/20\n",
      "3857/3857 [==============================] - 25s 7ms/step - loss: 0.3879 - f1_score: 0.8783 - accuracy: 0.8788 - val_loss: 0.9260 - val_f1_score: 0.7332 - val_accuracy: 0.7357\n",
      "Epoch 4/20\n",
      "3857/3857 [==============================] - 25s 7ms/step - loss: 0.2720 - f1_score: 0.9135 - accuracy: 0.9136 - val_loss: 1.0291 - val_f1_score: 0.7264 - val_accuracy: 0.7325\n",
      "Epoch 5/20\n",
      "3857/3857 [==============================] - 25s 7ms/step - loss: 0.2133 - f1_score: 0.9300 - accuracy: 0.9301 - val_loss: 1.1678 - val_f1_score: 0.7243 - val_accuracy: 0.7208\n",
      "429/429 [==============================] - 1s 3ms/step - loss: 1.1678 - f1_score: 0.7243 - accuracy: 0.7208\n",
      "*********************************************************\n",
      "Finished training. Kernel description:10 ,Kernel title: 5, Dropout rate:0.1, Learning rate:0.001, embedding type: spacy, Accuracy:0.721, F1-weighted:0.724\n",
      "*********************************************************\n",
      "\n",
      "\n",
      "Start training model. Kernel description:5 ,Kernel title: 3, Dropout rate:0.2, Learning rate:0.003, embedding type: word2vec\n",
      "Epoch 1/20\n",
      "3857/3857 [==============================] - 27s 7ms/step - loss: 1.0690 - f1_score: 0.6388 - accuracy: 0.6498 - val_loss: 0.8557 - val_f1_score: 0.7165 - val_accuracy: 0.7188\n",
      "Epoch 2/20\n",
      "3857/3857 [==============================] - 24s 6ms/step - loss: 0.6602 - f1_score: 0.7906 - accuracy: 0.7944 - val_loss: 0.8498 - val_f1_score: 0.7303 - val_accuracy: 0.7339\n",
      "Epoch 3/20\n",
      "3857/3857 [==============================] - 24s 6ms/step - loss: 0.4427 - f1_score: 0.8637 - accuracy: 0.8646 - val_loss: 0.9325 - val_f1_score: 0.7355 - val_accuracy: 0.7289\n",
      "Epoch 4/20\n",
      "3857/3857 [==============================] - 25s 7ms/step - loss: 0.3591 - f1_score: 0.8887 - accuracy: 0.8890 - val_loss: 0.9225 - val_f1_score: 0.7391 - val_accuracy: 0.7405\n",
      "Epoch 5/20\n",
      "3857/3857 [==============================] - 24s 6ms/step - loss: 0.3161 - f1_score: 0.9008 - accuracy: 0.9011 - val_loss: 0.9909 - val_f1_score: 0.7368 - val_accuracy: 0.7337\n",
      "429/429 [==============================] - 1s 3ms/step - loss: 0.9909 - f1_score: 0.7368 - accuracy: 0.7337\n",
      "*********************************************************\n",
      "Finished training. Kernel description:5 ,Kernel title: 3, Dropout rate:0.2, Learning rate:0.003, embedding type: word2vec, Accuracy:0.734, F1-weighted:0.737\n",
      "*********************************************************\n",
      "\n",
      "\n",
      "Start training model. Kernel description:5 ,Kernel title: 3, Dropout rate:0.1, Learning rate:0.003, embedding type: word2vec\n",
      "Epoch 1/20\n",
      "3857/3857 [==============================] - 27s 7ms/step - loss: 1.0386 - f1_score: 0.6490 - accuracy: 0.6585 - val_loss: 0.8251 - val_f1_score: 0.7316 - val_accuracy: 0.7351\n",
      "Epoch 2/20\n",
      "3857/3857 [==============================] - 24s 6ms/step - loss: 0.6144 - f1_score: 0.8088 - accuracy: 0.8107 - val_loss: 0.8641 - val_f1_score: 0.7357 - val_accuracy: 0.7377\n",
      "Epoch 3/20\n",
      "3857/3857 [==============================] - 26s 7ms/step - loss: 0.4087 - f1_score: 0.8754 - accuracy: 0.8758 - val_loss: 0.9039 - val_f1_score: 0.7388 - val_accuracy: 0.7341\n",
      "Epoch 4/20\n",
      "3857/3857 [==============================] - 26s 7ms/step - loss: 0.3338 - f1_score: 0.8974 - accuracy: 0.8976 - val_loss: 0.9438 - val_f1_score: 0.7340 - val_accuracy: 0.7375\n",
      "429/429 [==============================] - 1s 3ms/step - loss: 0.9438 - f1_score: 0.7340 - accuracy: 0.7375\n",
      "*********************************************************\n",
      "Finished training. Kernel description:5 ,Kernel title: 3, Dropout rate:0.1, Learning rate:0.003, embedding type: word2vec, Accuracy:0.738, F1-weighted:0.734\n",
      "*********************************************************\n",
      "\n",
      "\n",
      "Start training model. Kernel description:5 ,Kernel title: 3, Dropout rate:0.2, Learning rate:0.001, embedding type: word2vec\n",
      "Epoch 1/20\n",
      "3857/3857 [==============================] - 27s 7ms/step - loss: 1.0897 - f1_score: 0.6279 - accuracy: 0.6385 - val_loss: 0.8361 - val_f1_score: 0.7218 - val_accuracy: 0.7229\n",
      "Epoch 2/20\n",
      "3857/3857 [==============================] - 24s 6ms/step - loss: 0.6904 - f1_score: 0.7763 - accuracy: 0.7796 - val_loss: 0.8251 - val_f1_score: 0.7333 - val_accuracy: 0.7316\n",
      "Epoch 3/20\n",
      "3857/3857 [==============================] - 24s 6ms/step - loss: 0.4427 - f1_score: 0.8615 - accuracy: 0.8622 - val_loss: 0.9024 - val_f1_score: 0.7386 - val_accuracy: 0.7295\n",
      "Epoch 4/20\n",
      "3857/3857 [==============================] - 25s 6ms/step - loss: 0.3439 - f1_score: 0.8914 - accuracy: 0.8917 - val_loss: 0.9549 - val_f1_score: 0.7363 - val_accuracy: 0.7294\n",
      "Epoch 5/20\n",
      "3857/3857 [==============================] - 25s 7ms/step - loss: 0.2965 - f1_score: 0.9037 - accuracy: 0.9039 - val_loss: 1.0352 - val_f1_score: 0.7315 - val_accuracy: 0.7239\n",
      "429/429 [==============================] - 1s 3ms/step - loss: 1.0352 - f1_score: 0.7315 - accuracy: 0.7239\n",
      "*********************************************************\n",
      "Finished training. Kernel description:5 ,Kernel title: 3, Dropout rate:0.2, Learning rate:0.001, embedding type: word2vec, Accuracy:0.724, F1-weighted:0.732\n",
      "*********************************************************\n",
      "\n",
      "\n",
      "Start training model. Kernel description:5 ,Kernel title: 3, Dropout rate:0.1, Learning rate:0.001, embedding type: word2vec\n",
      "Epoch 1/20\n",
      "3857/3857 [==============================] - 27s 7ms/step - loss: 1.0610 - f1_score: 0.6389 - accuracy: 0.6488 - val_loss: 0.8357 - val_f1_score: 0.7231 - val_accuracy: 0.7275\n",
      "Epoch 2/20\n",
      "3857/3857 [==============================] - 25s 6ms/step - loss: 0.6605 - f1_score: 0.7847 - accuracy: 0.7880 - val_loss: 0.8535 - val_f1_score: 0.7233 - val_accuracy: 0.7314\n",
      "Epoch 3/20\n",
      "3857/3857 [==============================] - 24s 6ms/step - loss: 0.4112 - f1_score: 0.8710 - accuracy: 0.8716 - val_loss: 0.9269 - val_f1_score: 0.7265 - val_accuracy: 0.7295\n",
      "Epoch 4/20\n",
      "3857/3857 [==============================] - 25s 7ms/step - loss: 0.3100 - f1_score: 0.8995 - accuracy: 0.8998 - val_loss: 1.0426 - val_f1_score: 0.7253 - val_accuracy: 0.7295\n",
      "429/429 [==============================] - 1s 3ms/step - loss: 1.0426 - f1_score: 0.7253 - accuracy: 0.7295\n",
      "*********************************************************\n",
      "Finished training. Kernel description:5 ,Kernel title: 3, Dropout rate:0.1, Learning rate:0.001, embedding type: word2vec, Accuracy:0.730, F1-weighted:0.725\n",
      "*********************************************************\n",
      "\n",
      "\n",
      "Start training model. Kernel description:5 ,Kernel title: 5, Dropout rate:0.2, Learning rate:0.003, embedding type: word2vec\n",
      "Epoch 1/20\n",
      "3857/3857 [==============================] - 27s 7ms/step - loss: 1.0699 - f1_score: 0.6393 - accuracy: 0.6504 - val_loss: 0.8500 - val_f1_score: 0.7196 - val_accuracy: 0.7243\n",
      "Epoch 2/20\n",
      "3857/3857 [==============================] - 25s 7ms/step - loss: 0.6565 - f1_score: 0.7930 - accuracy: 0.7964 - val_loss: 0.8858 - val_f1_score: 0.7262 - val_accuracy: 0.7245\n",
      "Epoch 3/20\n",
      "3857/3857 [==============================] - 25s 7ms/step - loss: 0.4452 - f1_score: 0.8641 - accuracy: 0.8649 - val_loss: 0.8961 - val_f1_score: 0.7369 - val_accuracy: 0.7324\n",
      "Epoch 4/20\n",
      "3857/3857 [==============================] - 25s 7ms/step - loss: 0.3614 - f1_score: 0.8884 - accuracy: 0.8888 - val_loss: 0.9169 - val_f1_score: 0.7386 - val_accuracy: 0.7404\n",
      "429/429 [==============================] - 1s 3ms/step - loss: 0.9169 - f1_score: 0.7386 - accuracy: 0.7404\n",
      "*********************************************************\n",
      "Finished training. Kernel description:5 ,Kernel title: 5, Dropout rate:0.2, Learning rate:0.003, embedding type: word2vec, Accuracy:0.740, F1-weighted:0.739\n",
      "*********************************************************\n",
      "\n",
      "\n",
      "Start training model. Kernel description:5 ,Kernel title: 5, Dropout rate:0.1, Learning rate:0.003, embedding type: word2vec\n",
      "Epoch 1/20\n",
      "3857/3857 [==============================] - 29s 7ms/step - loss: 1.0420 - f1_score: 0.6477 - accuracy: 0.6577 - val_loss: 0.8288 - val_f1_score: 0.7305 - val_accuracy: 0.7334\n",
      "Epoch 2/20\n",
      "3857/3857 [==============================] - 26s 7ms/step - loss: 0.6203 - f1_score: 0.8063 - accuracy: 0.8082 - val_loss: 0.8651 - val_f1_score: 0.7275 - val_accuracy: 0.7334\n",
      "Epoch 3/20\n",
      "3857/3857 [==============================] - 26s 7ms/step - loss: 0.4070 - f1_score: 0.8745 - accuracy: 0.8748 - val_loss: 0.9274 - val_f1_score: 0.7379 - val_accuracy: 0.7361\n",
      "Epoch 4/20\n",
      "3857/3857 [==============================] - 24s 6ms/step - loss: 0.3299 - f1_score: 0.8974 - accuracy: 0.8975 - val_loss: 0.9852 - val_f1_score: 0.7358 - val_accuracy: 0.7428\n",
      "429/429 [==============================] - 1s 3ms/step - loss: 0.9852 - f1_score: 0.7358 - accuracy: 0.7428\n",
      "*********************************************************\n",
      "Finished training. Kernel description:5 ,Kernel title: 5, Dropout rate:0.1, Learning rate:0.003, embedding type: word2vec, Accuracy:0.743, F1-weighted:0.736\n",
      "*********************************************************\n",
      "\n",
      "\n",
      "Start training model. Kernel description:5 ,Kernel title: 5, Dropout rate:0.2, Learning rate:0.001, embedding type: word2vec\n",
      "Epoch 1/20\n",
      "3857/3857 [==============================] - 26s 7ms/step - loss: 1.0908 - f1_score: 0.6291 - accuracy: 0.6397 - val_loss: 0.8420 - val_f1_score: 0.7207 - val_accuracy: 0.7240\n",
      "Epoch 2/20\n",
      "3857/3857 [==============================] - 24s 6ms/step - loss: 0.6918 - f1_score: 0.7759 - accuracy: 0.7797 - val_loss: 0.9929 - val_f1_score: 0.6815 - val_accuracy: 0.6821\n",
      "Epoch 3/20\n",
      "3857/3857 [==============================] - 25s 6ms/step - loss: 0.4476 - f1_score: 0.8598 - accuracy: 0.8609 - val_loss: 0.9178 - val_f1_score: 0.7255 - val_accuracy: 0.7276\n",
      "Epoch 4/20\n",
      "3857/3857 [==============================] - 24s 6ms/step - loss: 0.3461 - f1_score: 0.8905 - accuracy: 0.8909 - val_loss: 0.9311 - val_f1_score: 0.7354 - val_accuracy: 0.7399\n",
      "429/429 [==============================] - 1s 3ms/step - loss: 0.9311 - f1_score: 0.7354 - accuracy: 0.7399\n",
      "*********************************************************\n",
      "Finished training. Kernel description:5 ,Kernel title: 5, Dropout rate:0.2, Learning rate:0.001, embedding type: word2vec, Accuracy:0.740, F1-weighted:0.735\n",
      "*********************************************************\n",
      "\n",
      "\n",
      "Start training model. Kernel description:5 ,Kernel title: 5, Dropout rate:0.1, Learning rate:0.001, embedding type: word2vec\n",
      "Epoch 1/20\n",
      "3857/3857 [==============================] - 27s 7ms/step - loss: 1.0625 - f1_score: 0.6380 - accuracy: 0.6473 - val_loss: 0.8285 - val_f1_score: 0.7261 - val_accuracy: 0.7299\n",
      "Epoch 2/20\n",
      "3857/3857 [==============================] - 26s 7ms/step - loss: 0.6687 - f1_score: 0.7816 - accuracy: 0.7854 - val_loss: 0.8308 - val_f1_score: 0.7346 - val_accuracy: 0.7369\n",
      "Epoch 3/20\n",
      "3857/3857 [==============================] - 26s 7ms/step - loss: 0.4258 - f1_score: 0.8659 - accuracy: 0.8668 - val_loss: 0.9129 - val_f1_score: 0.7335 - val_accuracy: 0.7324\n",
      "Epoch 4/20\n",
      "3857/3857 [==============================] - 27s 7ms/step - loss: 0.3215 - f1_score: 0.8970 - accuracy: 0.8972 - val_loss: 0.9652 - val_f1_score: 0.7304 - val_accuracy: 0.7343\n",
      "429/429 [==============================] - 1s 3ms/step - loss: 0.9652 - f1_score: 0.7304 - accuracy: 0.7343\n",
      "*********************************************************\n",
      "Finished training. Kernel description:5 ,Kernel title: 5, Dropout rate:0.1, Learning rate:0.001, embedding type: word2vec, Accuracy:0.734, F1-weighted:0.730\n",
      "*********************************************************\n",
      "\n",
      "\n",
      "Start training model. Kernel description:10 ,Kernel title: 3, Dropout rate:0.2, Learning rate:0.003, embedding type: word2vec\n",
      "Epoch 1/20\n",
      "3857/3857 [==============================] - 29s 8ms/step - loss: 1.0688 - f1_score: 0.6396 - accuracy: 0.6496 - val_loss: 0.9099 - val_f1_score: 0.7002 - val_accuracy: 0.7016\n",
      "Epoch 2/20\n",
      "3857/3857 [==============================] - 26s 7ms/step - loss: 0.6464 - f1_score: 0.7957 - accuracy: 0.7984 - val_loss: 0.8534 - val_f1_score: 0.7337 - val_accuracy: 0.7388\n",
      "Epoch 3/20\n",
      "3857/3857 [==============================] - 27s 7ms/step - loss: 0.4315 - f1_score: 0.8693 - accuracy: 0.8699 - val_loss: 0.9035 - val_f1_score: 0.7390 - val_accuracy: 0.7326\n",
      "Epoch 4/20\n"
     ]
    },
    {
     "name": "stdout",
     "output_type": "stream",
     "text": [
      "3857/3857 [==============================] - 27s 7ms/step - loss: 0.3488 - f1_score: 0.8923 - accuracy: 0.8925 - val_loss: 0.9568 - val_f1_score: 0.7362 - val_accuracy: 0.7353\n",
      "Epoch 5/20\n",
      "3857/3857 [==============================] - 28s 7ms/step - loss: 0.3062 - f1_score: 0.9043 - accuracy: 0.9045 - val_loss: 0.9677 - val_f1_score: 0.7358 - val_accuracy: 0.7347\n",
      "429/429 [==============================] - 1s 3ms/step - loss: 0.9677 - f1_score: 0.7358 - accuracy: 0.7347\n",
      "*********************************************************\n",
      "Finished training. Kernel description:10 ,Kernel title: 3, Dropout rate:0.2, Learning rate:0.003, embedding type: word2vec, Accuracy:0.735, F1-weighted:0.736\n",
      "*********************************************************\n",
      "\n",
      "\n",
      "Start training model. Kernel description:10 ,Kernel title: 3, Dropout rate:0.1, Learning rate:0.003, embedding type: word2vec\n",
      "Epoch 1/20\n",
      "3857/3857 [==============================] - 28s 7ms/step - loss: 1.0444 - f1_score: 0.6460 - accuracy: 0.6564 - val_loss: 0.9506 - val_f1_score: 0.6920 - val_accuracy: 0.6906\n",
      "Epoch 2/20\n",
      "3857/3857 [==============================] - 26s 7ms/step - loss: 0.6178 - f1_score: 0.8065 - accuracy: 0.8086 - val_loss: 0.8505 - val_f1_score: 0.7339 - val_accuracy: 0.7383\n",
      "Epoch 3/20\n",
      "3857/3857 [==============================] - 27s 7ms/step - loss: 0.4098 - f1_score: 0.8739 - accuracy: 0.8744 - val_loss: 0.9060 - val_f1_score: 0.7369 - val_accuracy: 0.7313\n",
      "Epoch 4/20\n",
      "3857/3857 [==============================] - 27s 7ms/step - loss: 0.3290 - f1_score: 0.8974 - accuracy: 0.8976 - val_loss: 0.9494 - val_f1_score: 0.7384 - val_accuracy: 0.7391\n",
      "Epoch 5/20\n",
      "3857/3857 [==============================] - 27s 7ms/step - loss: 0.2824 - f1_score: 0.9100 - accuracy: 0.9101 - val_loss: 1.0088 - val_f1_score: 0.7386 - val_accuracy: 0.7365\n",
      "429/429 [==============================] - 1s 3ms/step - loss: 1.0088 - f1_score: 0.7386 - accuracy: 0.7365\n",
      "*********************************************************\n",
      "Finished training. Kernel description:10 ,Kernel title: 3, Dropout rate:0.1, Learning rate:0.003, embedding type: word2vec, Accuracy:0.737, F1-weighted:0.739\n",
      "*********************************************************\n",
      "\n",
      "\n",
      "Start training model. Kernel description:10 ,Kernel title: 3, Dropout rate:0.2, Learning rate:0.001, embedding type: word2vec\n",
      "Epoch 1/20\n",
      "3857/3857 [==============================] - 29s 7ms/step - loss: 1.0978 - f1_score: 0.6241 - accuracy: 0.6348 - val_loss: 0.8410 - val_f1_score: 0.7197 - val_accuracy: 0.7234\n",
      "Epoch 2/20\n",
      "3857/3857 [==============================] - 27s 7ms/step - loss: 0.6930 - f1_score: 0.7753 - accuracy: 0.7796 - val_loss: 0.8287 - val_f1_score: 0.7321 - val_accuracy: 0.7355\n",
      "Epoch 3/20\n",
      "3857/3857 [==============================] - 27s 7ms/step - loss: 0.4437 - f1_score: 0.8612 - accuracy: 0.8624 - val_loss: 0.8935 - val_f1_score: 0.7297 - val_accuracy: 0.7311\n",
      "Epoch 4/20\n",
      "3857/3857 [==============================] - 27s 7ms/step - loss: 0.3408 - f1_score: 0.8919 - accuracy: 0.8923 - val_loss: 0.9413 - val_f1_score: 0.7350 - val_accuracy: 0.7380\n",
      "Epoch 5/20\n",
      "3857/3857 [==============================] - 26s 7ms/step - loss: 0.2882 - f1_score: 0.9066 - accuracy: 0.9068 - val_loss: 0.9890 - val_f1_score: 0.7279 - val_accuracy: 0.7282\n",
      "429/429 [==============================] - 1s 3ms/step - loss: 0.9890 - f1_score: 0.7279 - accuracy: 0.7282\n",
      "*********************************************************\n",
      "Finished training. Kernel description:10 ,Kernel title: 3, Dropout rate:0.2, Learning rate:0.001, embedding type: word2vec, Accuracy:0.728, F1-weighted:0.728\n",
      "*********************************************************\n",
      "\n",
      "\n",
      "Start training model. Kernel description:10 ,Kernel title: 3, Dropout rate:0.1, Learning rate:0.001, embedding type: word2vec\n",
      "Epoch 1/20\n",
      "3857/3857 [==============================] - 28s 7ms/step - loss: 1.0619 - f1_score: 0.6373 - accuracy: 0.6476 - val_loss: 0.8734 - val_f1_score: 0.7113 - val_accuracy: 0.7111\n",
      "Epoch 2/20\n",
      "3857/3857 [==============================] - 27s 7ms/step - loss: 0.6522 - f1_score: 0.7879 - accuracy: 0.7913 - val_loss: 0.8366 - val_f1_score: 0.7309 - val_accuracy: 0.7325\n",
      "Epoch 3/20\n",
      "3857/3857 [==============================] - 27s 7ms/step - loss: 0.4085 - f1_score: 0.8716 - accuracy: 0.8724 - val_loss: 0.9025 - val_f1_score: 0.7342 - val_accuracy: 0.7337\n",
      "Epoch 4/20\n",
      "3857/3857 [==============================] - 27s 7ms/step - loss: 0.3093 - f1_score: 0.9014 - accuracy: 0.9017 - val_loss: 0.9219 - val_f1_score: 0.7395 - val_accuracy: 0.7412\n",
      "Epoch 5/20\n",
      "3857/3857 [==============================] - 27s 7ms/step - loss: 0.2594 - f1_score: 0.9150 - accuracy: 0.9151 - val_loss: 1.0339 - val_f1_score: 0.7322 - val_accuracy: 0.7340\n",
      "429/429 [==============================] - 1s 3ms/step - loss: 1.0339 - f1_score: 0.7322 - accuracy: 0.7340\n",
      "*********************************************************\n",
      "Finished training. Kernel description:10 ,Kernel title: 3, Dropout rate:0.1, Learning rate:0.001, embedding type: word2vec, Accuracy:0.734, F1-weighted:0.732\n",
      "*********************************************************\n",
      "\n",
      "\n",
      "Start training model. Kernel description:10 ,Kernel title: 5, Dropout rate:0.2, Learning rate:0.003, embedding type: word2vec\n",
      "Epoch 1/20\n",
      "3857/3857 [==============================] - 29s 8ms/step - loss: 1.0706 - f1_score: 0.6386 - accuracy: 0.6503 - val_loss: 0.8811 - val_f1_score: 0.7059 - val_accuracy: 0.7073\n",
      "Epoch 2/20\n",
      "3857/3857 [==============================] - 27s 7ms/step - loss: 0.6574 - f1_score: 0.7926 - accuracy: 0.7964 - val_loss: 0.8554 - val_f1_score: 0.7308 - val_accuracy: 0.7305\n",
      "Epoch 3/20\n",
      "3857/3857 [==============================] - 27s 7ms/step - loss: 0.4482 - f1_score: 0.8617 - accuracy: 0.8627 - val_loss: 0.9605 - val_f1_score: 0.7100 - val_accuracy: 0.7134\n",
      "Epoch 4/20\n",
      "3857/3857 [==============================] - 27s 7ms/step - loss: 0.3620 - f1_score: 0.8882 - accuracy: 0.8887 - val_loss: 0.9426 - val_f1_score: 0.7390 - val_accuracy: 0.7306\n",
      "Epoch 5/20\n",
      "3857/3857 [==============================] - 27s 7ms/step - loss: 0.3140 - f1_score: 0.9011 - accuracy: 0.9014 - val_loss: 0.9724 - val_f1_score: 0.7370 - val_accuracy: 0.7372\n",
      "429/429 [==============================] - 1s 3ms/step - loss: 0.9724 - f1_score: 0.7370 - accuracy: 0.7372\n",
      "*********************************************************\n",
      "Finished training. Kernel description:10 ,Kernel title: 5, Dropout rate:0.2, Learning rate:0.003, embedding type: word2vec, Accuracy:0.737, F1-weighted:0.737\n",
      "*********************************************************\n",
      "\n",
      "\n",
      "Start training model. Kernel description:10 ,Kernel title: 5, Dropout rate:0.1, Learning rate:0.003, embedding type: word2vec\n",
      "Epoch 1/20\n",
      "3857/3857 [==============================] - 28s 7ms/step - loss: 1.0437 - f1_score: 0.6479 - accuracy: 0.6572 - val_loss: 0.8614 - val_f1_score: 0.7140 - val_accuracy: 0.7187\n",
      "Epoch 2/20\n",
      "3857/3857 [==============================] - 26s 7ms/step - loss: 0.6298 - f1_score: 0.8017 - accuracy: 0.8042 - val_loss: 0.8712 - val_f1_score: 0.7284 - val_accuracy: 0.7313\n",
      "Epoch 3/20\n",
      "3857/3857 [==============================] - 27s 7ms/step - loss: 0.4128 - f1_score: 0.8736 - accuracy: 0.8742 - val_loss: 0.9184 - val_f1_score: 0.7403 - val_accuracy: 0.7375\n",
      "Epoch 4/20\n",
      "3857/3857 [==============================] - 26s 7ms/step - loss: 0.3342 - f1_score: 0.8967 - accuracy: 0.8970 - val_loss: 0.9391 - val_f1_score: 0.7431 - val_accuracy: 0.7458\n",
      "429/429 [==============================] - 1s 3ms/step - loss: 0.9391 - f1_score: 0.7431 - accuracy: 0.7458\n",
      "*********************************************************\n",
      "Finished training. Kernel description:10 ,Kernel title: 5, Dropout rate:0.1, Learning rate:0.003, embedding type: word2vec, Accuracy:0.746, F1-weighted:0.743\n",
      "*********************************************************\n",
      "\n",
      "\n",
      "Start training model. Kernel description:10 ,Kernel title: 5, Dropout rate:0.2, Learning rate:0.001, embedding type: word2vec\n",
      "Epoch 1/20\n",
      "3857/3857 [==============================] - 27s 7ms/step - loss: 1.0984 - f1_score: 0.6264 - accuracy: 0.6371 - val_loss: 0.8522 - val_f1_score: 0.7214 - val_accuracy: 0.7223\n",
      "Epoch 2/20\n",
      "3857/3857 [==============================] - 25s 7ms/step - loss: 0.6891 - f1_score: 0.7770 - accuracy: 0.7807 - val_loss: 0.8590 - val_f1_score: 0.7197 - val_accuracy: 0.7191\n",
      "Epoch 3/20\n",
      "3857/3857 [==============================] - 25s 7ms/step - loss: 0.4399 - f1_score: 0.8629 - accuracy: 0.8638 - val_loss: 0.9416 - val_f1_score: 0.7276 - val_accuracy: 0.7192\n",
      "Epoch 4/20\n",
      "3857/3857 [==============================] - 26s 7ms/step - loss: 0.3373 - f1_score: 0.8935 - accuracy: 0.8938 - val_loss: 0.9886 - val_f1_score: 0.7274 - val_accuracy: 0.7229\n",
      "429/429 [==============================] - 1s 3ms/step - loss: 0.9886 - f1_score: 0.7274 - accuracy: 0.7229\n",
      "*********************************************************\n",
      "Finished training. Kernel description:10 ,Kernel title: 5, Dropout rate:0.2, Learning rate:0.001, embedding type: word2vec, Accuracy:0.723, F1-weighted:0.727\n",
      "*********************************************************\n",
      "\n",
      "\n",
      "Start training model. Kernel description:10 ,Kernel title: 5, Dropout rate:0.1, Learning rate:0.001, embedding type: word2vec\n",
      "Epoch 1/20\n",
      "3857/3857 [==============================] - 27s 7ms/step - loss: 1.0701 - f1_score: 0.6345 - accuracy: 0.6441 - val_loss: 0.9154 - val_f1_score: 0.6936 - val_accuracy: 0.6986\n",
      "Epoch 2/20\n",
      "3857/3857 [==============================] - 26s 7ms/step - loss: 0.6697 - f1_score: 0.7817 - accuracy: 0.7852 - val_loss: 0.8460 - val_f1_score: 0.7198 - val_accuracy: 0.7291\n",
      "Epoch 3/20\n",
      "3857/3857 [==============================] - 26s 7ms/step - loss: 0.4235 - f1_score: 0.8667 - accuracy: 0.8675 - val_loss: 0.8814 - val_f1_score: 0.7397 - val_accuracy: 0.7371\n",
      "Epoch 4/20\n",
      "3857/3857 [==============================] - 26s 7ms/step - loss: 0.3179 - f1_score: 0.8981 - accuracy: 0.8984 - val_loss: 0.9405 - val_f1_score: 0.7357 - val_accuracy: 0.7361\n",
      "Epoch 5/20\n",
      "3857/3857 [==============================] - 27s 7ms/step - loss: 0.2663 - f1_score: 0.9119 - accuracy: 0.9120 - val_loss: 1.0339 - val_f1_score: 0.7312 - val_accuracy: 0.7331\n",
      "429/429 [==============================] - 1s 3ms/step - loss: 1.0339 - f1_score: 0.7312 - accuracy: 0.7331\n",
      "*********************************************************\n",
      "Finished training. Kernel description:10 ,Kernel title: 5, Dropout rate:0.1, Learning rate:0.001, embedding type: word2vec, Accuracy:0.733, F1-weighted:0.731\n",
      "*********************************************************\n"
     ]
    }
   ],
   "source": [
    "best_embedding_model_history=None\n",
    "best_f1_embedding=math.inf\n",
    "\n",
    "\n",
    "#Search for the best hyperparameters. Exhausted search(Cartesian product).Each run trains the network and eveluates of the validation set.\n",
    "#Results are loaded to a dictionary.\n",
    "strategy = tf.distribute.MirroredStrategy()\n",
    "print ('Number of devices: {}'.format(strategy.num_replicas_in_sync))\n",
    "with strategy.scope():\n",
    "    emb_gr.prepare_preprocessing_voc_layers(cleaned_train_title, num_voc_title=num_voc_title,\n",
    "                                            description_array=cleaned_train_description,\n",
    "                                            num_voc_description=num_voc_description,\n",
    "                                            author_array=X_train[\"author_id\"].values, max_len_title=max_len_title,\n",
    "                                            max_len_desc=max_len_desc)\n",
    "    for emb_type in embedding_type:\n",
    "        emb_gr.prepare_embedding_vectors(cleaned_train_description, cleaned_train_title,pretrained_emb=emb_type,window_size_desc=window_size_desc,window_size_title=window_size_title)               \n",
    "        for kernel_desc in kernel_size_desc:\n",
    "            for kernel_title in kernel_size_title:                \n",
    "                for lr in learning_rate:\n",
    "                    for dropout_rate in dropout_rates:\n",
    "                        emb_gr.build_model(len(other_columns), dense_config, kernel_size_desc=kernel_desc, kernel_size_title=kernel_title, dropout_rate=dropout_rate, conv_filters_desc=conv_filters_desc, conv_filters_title=conv_filters_title)\n",
    "                        print(\"\\n\")\n",
    "                        print(f\"Start training model. Kernel description:{kernel_desc} ,Kernel title: {kernel_title}, Dropout rate:{dropout_rate}, Learning rate:{lr}, embedding type: {emb_type}\")\n",
    "                        \n",
    "                        history=emb_gr.fit(X_train[other_columns].values, X_val[other_columns].values,  cleaned_train_description, \n",
    "                                           cleaned_val_description, cleaned_train_title, cleaned_val_title, \n",
    "                                           X_train[\"author_id\"].values, X_val[\"author_id\"].values, y_train, y_val, epochs,patience=patience, learning_rate = lr)\n",
    "                        embedding_history=history.history.copy()\n",
    "                        scores_dict=emb_gr.evaluate(X_val[other_columns].values, cleaned_val_description, cleaned_val_title, \n",
    "                                                    X_val[\"author_id\"].values,y_val)\n",
    "                        embedding_scores['embedding type'].append(emb_type)\n",
    "                        embedding_scores['learning rate'].append(lr)\n",
    "                        embedding_scores['kernel_desc'].append(kernel_desc)\n",
    "                        embedding_scores['kernel_title'].append(kernel_title)\n",
    "                        embedding_scores['dropout rate'].append(dropout_rate)\n",
    "                        embedding_scores['accuracy'].append(scores_dict[\"accuracy\"])\n",
    "                        embedding_scores['f1-weighted'].append(scores_dict[\"f1_score\"])\n",
    "                        accuracy=scores_dict[\"accuracy\"]\n",
    "                        f1_weighted=scores_dict[\"f1_score\"]\n",
    "                        print(\"*********************************************************\")\n",
    "                        print(f\"Finished training. Kernel description:{kernel_desc} ,Kernel title: {kernel_title}, Dropout rate:{dropout_rate}, Learning rate:{lr}, embedding type: {emb_type}, Accuracy:{accuracy:.3f}, F1-weighted:{f1_weighted:.3f}\")\n",
    "                        print(\"*********************************************************\")\n",
    "                        if  scores_dict[\"f1_score\"]<best_f1_embedding:\n",
    "                            best_f1_embedding= scores_dict[\"f1_score\"]\n",
    "                            best_embedding_model_history=embedding_history"
   ]
  },
  {
   "cell_type": "code",
   "execution_count": 84,
   "metadata": {},
   "outputs": [
    {
     "data": {
      "text/html": [
       "<div>\n",
       "<style scoped>\n",
       "    .dataframe tbody tr th:only-of-type {\n",
       "        vertical-align: middle;\n",
       "    }\n",
       "\n",
       "    .dataframe tbody tr th {\n",
       "        vertical-align: top;\n",
       "    }\n",
       "\n",
       "    .dataframe thead th {\n",
       "        text-align: right;\n",
       "    }\n",
       "</style>\n",
       "<table border=\"1\" class=\"dataframe\">\n",
       "  <thead>\n",
       "    <tr style=\"text-align: right;\">\n",
       "      <th></th>\n",
       "      <th>embedding type</th>\n",
       "      <th>learning rate</th>\n",
       "      <th>kernel_desc</th>\n",
       "      <th>kernel_title</th>\n",
       "      <th>dropout rate</th>\n",
       "      <th>accuracy</th>\n",
       "      <th>f1-weighted</th>\n",
       "    </tr>\n",
       "  </thead>\n",
       "  <tbody>\n",
       "    <tr>\n",
       "      <th>0</th>\n",
       "      <td>spacy</td>\n",
       "      <td>0.003</td>\n",
       "      <td>5</td>\n",
       "      <td>3</td>\n",
       "      <td>0.2</td>\n",
       "      <td>0.736508</td>\n",
       "      <td>0.737167</td>\n",
       "    </tr>\n",
       "    <tr>\n",
       "      <th>1</th>\n",
       "      <td>spacy</td>\n",
       "      <td>0.003</td>\n",
       "      <td>5</td>\n",
       "      <td>3</td>\n",
       "      <td>0.1</td>\n",
       "      <td>0.735706</td>\n",
       "      <td>0.728700</td>\n",
       "    </tr>\n",
       "    <tr>\n",
       "      <th>2</th>\n",
       "      <td>spacy</td>\n",
       "      <td>0.001</td>\n",
       "      <td>5</td>\n",
       "      <td>3</td>\n",
       "      <td>0.2</td>\n",
       "      <td>0.730674</td>\n",
       "      <td>0.739883</td>\n",
       "    </tr>\n",
       "    <tr>\n",
       "      <th>3</th>\n",
       "      <td>spacy</td>\n",
       "      <td>0.001</td>\n",
       "      <td>5</td>\n",
       "      <td>3</td>\n",
       "      <td>0.1</td>\n",
       "      <td>0.734612</td>\n",
       "      <td>0.732936</td>\n",
       "    </tr>\n",
       "    <tr>\n",
       "      <th>4</th>\n",
       "      <td>spacy</td>\n",
       "      <td>0.003</td>\n",
       "      <td>5</td>\n",
       "      <td>5</td>\n",
       "      <td>0.2</td>\n",
       "      <td>0.734466</td>\n",
       "      <td>0.730500</td>\n",
       "    </tr>\n",
       "    <tr>\n",
       "      <th>5</th>\n",
       "      <td>spacy</td>\n",
       "      <td>0.003</td>\n",
       "      <td>5</td>\n",
       "      <td>5</td>\n",
       "      <td>0.1</td>\n",
       "      <td>0.743509</td>\n",
       "      <td>0.741410</td>\n",
       "    </tr>\n",
       "    <tr>\n",
       "      <th>6</th>\n",
       "      <td>spacy</td>\n",
       "      <td>0.001</td>\n",
       "      <td>5</td>\n",
       "      <td>5</td>\n",
       "      <td>0.2</td>\n",
       "      <td>0.729653</td>\n",
       "      <td>0.723430</td>\n",
       "    </tr>\n",
       "    <tr>\n",
       "      <th>7</th>\n",
       "      <td>spacy</td>\n",
       "      <td>0.001</td>\n",
       "      <td>5</td>\n",
       "      <td>5</td>\n",
       "      <td>0.1</td>\n",
       "      <td>0.730236</td>\n",
       "      <td>0.726101</td>\n",
       "    </tr>\n",
       "    <tr>\n",
       "      <th>8</th>\n",
       "      <td>spacy</td>\n",
       "      <td>0.003</td>\n",
       "      <td>10</td>\n",
       "      <td>3</td>\n",
       "      <td>0.2</td>\n",
       "      <td>0.733518</td>\n",
       "      <td>0.730190</td>\n",
       "    </tr>\n",
       "    <tr>\n",
       "      <th>9</th>\n",
       "      <td>spacy</td>\n",
       "      <td>0.003</td>\n",
       "      <td>10</td>\n",
       "      <td>3</td>\n",
       "      <td>0.1</td>\n",
       "      <td>0.715723</td>\n",
       "      <td>0.703220</td>\n",
       "    </tr>\n",
       "    <tr>\n",
       "      <th>10</th>\n",
       "      <td>spacy</td>\n",
       "      <td>0.001</td>\n",
       "      <td>10</td>\n",
       "      <td>3</td>\n",
       "      <td>0.2</td>\n",
       "      <td>0.723819</td>\n",
       "      <td>0.728848</td>\n",
       "    </tr>\n",
       "    <tr>\n",
       "      <th>11</th>\n",
       "      <td>spacy</td>\n",
       "      <td>0.001</td>\n",
       "      <td>10</td>\n",
       "      <td>3</td>\n",
       "      <td>0.1</td>\n",
       "      <td>0.718422</td>\n",
       "      <td>0.715482</td>\n",
       "    </tr>\n",
       "    <tr>\n",
       "      <th>12</th>\n",
       "      <td>spacy</td>\n",
       "      <td>0.003</td>\n",
       "      <td>10</td>\n",
       "      <td>5</td>\n",
       "      <td>0.2</td>\n",
       "      <td>0.737383</td>\n",
       "      <td>0.734399</td>\n",
       "    </tr>\n",
       "    <tr>\n",
       "      <th>13</th>\n",
       "      <td>spacy</td>\n",
       "      <td>0.003</td>\n",
       "      <td>10</td>\n",
       "      <td>5</td>\n",
       "      <td>0.1</td>\n",
       "      <td>0.736581</td>\n",
       "      <td>0.738443</td>\n",
       "    </tr>\n",
       "    <tr>\n",
       "      <th>14</th>\n",
       "      <td>spacy</td>\n",
       "      <td>0.001</td>\n",
       "      <td>10</td>\n",
       "      <td>5</td>\n",
       "      <td>0.2</td>\n",
       "      <td>0.725204</td>\n",
       "      <td>0.735173</td>\n",
       "    </tr>\n",
       "    <tr>\n",
       "      <th>15</th>\n",
       "      <td>spacy</td>\n",
       "      <td>0.001</td>\n",
       "      <td>10</td>\n",
       "      <td>5</td>\n",
       "      <td>0.1</td>\n",
       "      <td>0.720828</td>\n",
       "      <td>0.724284</td>\n",
       "    </tr>\n",
       "    <tr>\n",
       "      <th>16</th>\n",
       "      <td>word2vec</td>\n",
       "      <td>0.003</td>\n",
       "      <td>5</td>\n",
       "      <td>3</td>\n",
       "      <td>0.2</td>\n",
       "      <td>0.733664</td>\n",
       "      <td>0.736757</td>\n",
       "    </tr>\n",
       "    <tr>\n",
       "      <th>17</th>\n",
       "      <td>word2vec</td>\n",
       "      <td>0.003</td>\n",
       "      <td>5</td>\n",
       "      <td>3</td>\n",
       "      <td>0.1</td>\n",
       "      <td>0.737529</td>\n",
       "      <td>0.733957</td>\n",
       "    </tr>\n",
       "    <tr>\n",
       "      <th>18</th>\n",
       "      <td>word2vec</td>\n",
       "      <td>0.001</td>\n",
       "      <td>5</td>\n",
       "      <td>3</td>\n",
       "      <td>0.2</td>\n",
       "      <td>0.723891</td>\n",
       "      <td>0.731522</td>\n",
       "    </tr>\n",
       "    <tr>\n",
       "      <th>19</th>\n",
       "      <td>word2vec</td>\n",
       "      <td>0.001</td>\n",
       "      <td>5</td>\n",
       "      <td>3</td>\n",
       "      <td>0.1</td>\n",
       "      <td>0.729507</td>\n",
       "      <td>0.725289</td>\n",
       "    </tr>\n",
       "    <tr>\n",
       "      <th>20</th>\n",
       "      <td>word2vec</td>\n",
       "      <td>0.003</td>\n",
       "      <td>5</td>\n",
       "      <td>5</td>\n",
       "      <td>0.2</td>\n",
       "      <td>0.740373</td>\n",
       "      <td>0.738552</td>\n",
       "    </tr>\n",
       "    <tr>\n",
       "      <th>21</th>\n",
       "      <td>word2vec</td>\n",
       "      <td>0.003</td>\n",
       "      <td>5</td>\n",
       "      <td>5</td>\n",
       "      <td>0.1</td>\n",
       "      <td>0.742780</td>\n",
       "      <td>0.735807</td>\n",
       "    </tr>\n",
       "    <tr>\n",
       "      <th>22</th>\n",
       "      <td>word2vec</td>\n",
       "      <td>0.001</td>\n",
       "      <td>5</td>\n",
       "      <td>5</td>\n",
       "      <td>0.2</td>\n",
       "      <td>0.739863</td>\n",
       "      <td>0.735401</td>\n",
       "    </tr>\n",
       "    <tr>\n",
       "      <th>23</th>\n",
       "      <td>word2vec</td>\n",
       "      <td>0.001</td>\n",
       "      <td>5</td>\n",
       "      <td>5</td>\n",
       "      <td>0.1</td>\n",
       "      <td>0.734320</td>\n",
       "      <td>0.730357</td>\n",
       "    </tr>\n",
       "    <tr>\n",
       "      <th>24</th>\n",
       "      <td>word2vec</td>\n",
       "      <td>0.003</td>\n",
       "      <td>10</td>\n",
       "      <td>3</td>\n",
       "      <td>0.2</td>\n",
       "      <td>0.734685</td>\n",
       "      <td>0.735786</td>\n",
       "    </tr>\n",
       "    <tr>\n",
       "      <th>25</th>\n",
       "      <td>word2vec</td>\n",
       "      <td>0.003</td>\n",
       "      <td>10</td>\n",
       "      <td>3</td>\n",
       "      <td>0.1</td>\n",
       "      <td>0.736508</td>\n",
       "      <td>0.738603</td>\n",
       "    </tr>\n",
       "    <tr>\n",
       "      <th>26</th>\n",
       "      <td>word2vec</td>\n",
       "      <td>0.001</td>\n",
       "      <td>10</td>\n",
       "      <td>3</td>\n",
       "      <td>0.2</td>\n",
       "      <td>0.728194</td>\n",
       "      <td>0.727869</td>\n",
       "    </tr>\n",
       "    <tr>\n",
       "      <th>27</th>\n",
       "      <td>word2vec</td>\n",
       "      <td>0.001</td>\n",
       "      <td>10</td>\n",
       "      <td>3</td>\n",
       "      <td>0.1</td>\n",
       "      <td>0.734029</td>\n",
       "      <td>0.732241</td>\n",
       "    </tr>\n",
       "    <tr>\n",
       "      <th>28</th>\n",
       "      <td>word2vec</td>\n",
       "      <td>0.003</td>\n",
       "      <td>10</td>\n",
       "      <td>5</td>\n",
       "      <td>0.2</td>\n",
       "      <td>0.737165</td>\n",
       "      <td>0.736981</td>\n",
       "    </tr>\n",
       "    <tr>\n",
       "      <th>29</th>\n",
       "      <td>word2vec</td>\n",
       "      <td>0.003</td>\n",
       "      <td>10</td>\n",
       "      <td>5</td>\n",
       "      <td>0.1</td>\n",
       "      <td>0.745770</td>\n",
       "      <td>0.743148</td>\n",
       "    </tr>\n",
       "    <tr>\n",
       "      <th>30</th>\n",
       "      <td>word2vec</td>\n",
       "      <td>0.001</td>\n",
       "      <td>10</td>\n",
       "      <td>5</td>\n",
       "      <td>0.2</td>\n",
       "      <td>0.722943</td>\n",
       "      <td>0.727432</td>\n",
       "    </tr>\n",
       "    <tr>\n",
       "      <th>31</th>\n",
       "      <td>word2vec</td>\n",
       "      <td>0.001</td>\n",
       "      <td>10</td>\n",
       "      <td>5</td>\n",
       "      <td>0.1</td>\n",
       "      <td>0.733081</td>\n",
       "      <td>0.731172</td>\n",
       "    </tr>\n",
       "  </tbody>\n",
       "</table>\n",
       "</div>"
      ],
      "text/plain": [
       "   embedding type  learning rate  kernel_desc  kernel_title  dropout rate  \\\n",
       "0           spacy          0.003            5             3           0.2   \n",
       "1           spacy          0.003            5             3           0.1   \n",
       "2           spacy          0.001            5             3           0.2   \n",
       "3           spacy          0.001            5             3           0.1   \n",
       "4           spacy          0.003            5             5           0.2   \n",
       "5           spacy          0.003            5             5           0.1   \n",
       "6           spacy          0.001            5             5           0.2   \n",
       "7           spacy          0.001            5             5           0.1   \n",
       "8           spacy          0.003           10             3           0.2   \n",
       "9           spacy          0.003           10             3           0.1   \n",
       "10          spacy          0.001           10             3           0.2   \n",
       "11          spacy          0.001           10             3           0.1   \n",
       "12          spacy          0.003           10             5           0.2   \n",
       "13          spacy          0.003           10             5           0.1   \n",
       "14          spacy          0.001           10             5           0.2   \n",
       "15          spacy          0.001           10             5           0.1   \n",
       "16       word2vec          0.003            5             3           0.2   \n",
       "17       word2vec          0.003            5             3           0.1   \n",
       "18       word2vec          0.001            5             3           0.2   \n",
       "19       word2vec          0.001            5             3           0.1   \n",
       "20       word2vec          0.003            5             5           0.2   \n",
       "21       word2vec          0.003            5             5           0.1   \n",
       "22       word2vec          0.001            5             5           0.2   \n",
       "23       word2vec          0.001            5             5           0.1   \n",
       "24       word2vec          0.003           10             3           0.2   \n",
       "25       word2vec          0.003           10             3           0.1   \n",
       "26       word2vec          0.001           10             3           0.2   \n",
       "27       word2vec          0.001           10             3           0.1   \n",
       "28       word2vec          0.003           10             5           0.2   \n",
       "29       word2vec          0.003           10             5           0.1   \n",
       "30       word2vec          0.001           10             5           0.2   \n",
       "31       word2vec          0.001           10             5           0.1   \n",
       "\n",
       "    accuracy  f1-weighted  \n",
       "0   0.736508     0.737167  \n",
       "1   0.735706     0.728700  \n",
       "2   0.730674     0.739883  \n",
       "3   0.734612     0.732936  \n",
       "4   0.734466     0.730500  \n",
       "5   0.743509     0.741410  \n",
       "6   0.729653     0.723430  \n",
       "7   0.730236     0.726101  \n",
       "8   0.733518     0.730190  \n",
       "9   0.715723     0.703220  \n",
       "10  0.723819     0.728848  \n",
       "11  0.718422     0.715482  \n",
       "12  0.737383     0.734399  \n",
       "13  0.736581     0.738443  \n",
       "14  0.725204     0.735173  \n",
       "15  0.720828     0.724284  \n",
       "16  0.733664     0.736757  \n",
       "17  0.737529     0.733957  \n",
       "18  0.723891     0.731522  \n",
       "19  0.729507     0.725289  \n",
       "20  0.740373     0.738552  \n",
       "21  0.742780     0.735807  \n",
       "22  0.739863     0.735401  \n",
       "23  0.734320     0.730357  \n",
       "24  0.734685     0.735786  \n",
       "25  0.736508     0.738603  \n",
       "26  0.728194     0.727869  \n",
       "27  0.734029     0.732241  \n",
       "28  0.737165     0.736981  \n",
       "29  0.745770     0.743148  \n",
       "30  0.722943     0.727432  \n",
       "31  0.733081     0.731172  "
      ]
     },
     "execution_count": 84,
     "metadata": {},
     "output_type": "execute_result"
    }
   ],
   "source": [
    "df_embedding_scores= pd.DataFrame.from_dict(embedding_scores)\n",
    "df_embedding_scores.head(40)"
   ]
  },
  {
   "cell_type": "markdown",
   "metadata": {},
   "source": [
    "We can see that the best model was based on word2vec our own trained embeddings with dropout 0.2 and learning rate of 0.001 and Description kernel of 5 and title kernel of 5"
   ]
  },
  {
   "cell_type": "code",
   "execution_count": 85,
   "metadata": {},
   "outputs": [],
   "source": [
    "accuracy=df_embedding_scores.loc[df_embedding_scores[\"f1-weighted\"].idxmax(), [\"accuracy\"]].values[0]\n",
    "f1_weighted=df_embedding_scores.loc[df_embedding_scores[\"f1-weighted\"].idxmax(), [\"f1-weighted\"]].values[0]"
   ]
  },
  {
   "cell_type": "code",
   "execution_count": 86,
   "metadata": {},
   "outputs": [],
   "source": [
    "score_dictionary['model'].append(\"Embedding model\")\n",
    "score_dictionary['accuracy'].append(accuracy)\n",
    "score_dictionary['F1-weighted'].append(f1_weighted)"
   ]
  },
  {
   "cell_type": "markdown",
   "metadata": {},
   "source": [
    "### All models best validation results"
   ]
  },
  {
   "cell_type": "code",
   "execution_count": 87,
   "metadata": {},
   "outputs": [
    {
     "data": {
      "text/html": [
       "<div>\n",
       "<style scoped>\n",
       "    .dataframe tbody tr th:only-of-type {\n",
       "        vertical-align: middle;\n",
       "    }\n",
       "\n",
       "    .dataframe tbody tr th {\n",
       "        vertical-align: top;\n",
       "    }\n",
       "\n",
       "    .dataframe thead th {\n",
       "        text-align: right;\n",
       "    }\n",
       "</style>\n",
       "<table border=\"1\" class=\"dataframe\">\n",
       "  <thead>\n",
       "    <tr style=\"text-align: right;\">\n",
       "      <th></th>\n",
       "      <th>model</th>\n",
       "      <th>accuracy</th>\n",
       "      <th>F1-weighted</th>\n",
       "    </tr>\n",
       "  </thead>\n",
       "  <tbody>\n",
       "    <tr>\n",
       "      <th>0</th>\n",
       "      <td>Baseline</td>\n",
       "      <td>0.525963</td>\n",
       "      <td>0.529492</td>\n",
       "    </tr>\n",
       "    <tr>\n",
       "      <th>1</th>\n",
       "      <td>Naive bayes'</td>\n",
       "      <td>0.551488</td>\n",
       "      <td>0.548509</td>\n",
       "    </tr>\n",
       "    <tr>\n",
       "      <th>2</th>\n",
       "      <td>Logistic regression</td>\n",
       "      <td>0.620624</td>\n",
       "      <td>0.613384</td>\n",
       "    </tr>\n",
       "    <tr>\n",
       "      <th>3</th>\n",
       "      <td>Random forest</td>\n",
       "      <td>0.591817</td>\n",
       "      <td>0.569528</td>\n",
       "    </tr>\n",
       "    <tr>\n",
       "      <th>4</th>\n",
       "      <td>Resnet based conv model</td>\n",
       "      <td>0.371135</td>\n",
       "      <td>0.361919</td>\n",
       "    </tr>\n",
       "    <tr>\n",
       "      <th>5</th>\n",
       "      <td>Simple conv net</td>\n",
       "      <td>0.348527</td>\n",
       "      <td>0.329049</td>\n",
       "    </tr>\n",
       "    <tr>\n",
       "      <th>6</th>\n",
       "      <td>Embedding model</td>\n",
       "      <td>0.745770</td>\n",
       "      <td>0.743148</td>\n",
       "    </tr>\n",
       "  </tbody>\n",
       "</table>\n",
       "</div>"
      ],
      "text/plain": [
       "                     model  accuracy  F1-weighted\n",
       "0                 Baseline  0.525963     0.529492\n",
       "1             Naive bayes'  0.551488     0.548509\n",
       "2      Logistic regression  0.620624     0.613384\n",
       "3            Random forest  0.591817     0.569528\n",
       "4  Resnet based conv model  0.371135     0.361919\n",
       "5          Simple conv net  0.348527     0.329049\n",
       "6          Embedding model  0.745770     0.743148"
      ]
     },
     "execution_count": 87,
     "metadata": {},
     "output_type": "execute_result"
    }
   ],
   "source": [
    "df_scores= pd.DataFrame.from_dict(score_dictionary)\n",
    "df_scores.head(10)"
   ]
  },
  {
   "cell_type": "code",
   "execution_count": 88,
   "metadata": {},
   "outputs": [],
   "source": [
    "df_scores=df_scores.set_index('model')"
   ]
  },
  {
   "cell_type": "code",
   "execution_count": 89,
   "metadata": {},
   "outputs": [
    {
     "data": {
      "text/plain": [
       "Text(0.5, 0, 'Rate %')"
      ]
     },
     "execution_count": 89,
     "metadata": {},
     "output_type": "execute_result"
    },
    {
     "data": {
      "image/png": "[encoded data removed]",
      "text/plain": [
       "<Figure size 576x432 with 1 Axes>"
      ]
     },
     "metadata": {
      "needs_background": "light"
     },
     "output_type": "display_data"
    }
   ],
   "source": [
    "figure, axes = plt.subplots(figsize=(8, 6))\n",
    "df_scores[[\"accuracy\",\"F1-weighted\"]].sort_values([\"F1-weighted\"], ascending=False).plot(kind='barh',ax=axes)\n",
    "axes.set_title('All models best results')\n",
    "axes.set_xlabel(\"Rate %\")"
   ]
  },
  {
   "cell_type": "markdown",
   "metadata": {},
   "source": [
    "We can see clearly that our best model is the Embeddings model"
   ]
  },
  {
   "cell_type": "markdown",
   "metadata": {},
   "source": [
    "## Final Results"
   ]
  },
  {
   "cell_type": "markdown",
   "metadata": {},
   "source": [
    "We will compare our best model on test data against baseline on test data"
   ]
  },
  {
   "cell_type": "code",
   "execution_count": 90,
   "metadata": {},
   "outputs": [],
   "source": [
    "test_scores={'Model':[], 'accuracy':[], 'f1-weighted':[]}"
   ]
  },
  {
   "cell_type": "markdown",
   "metadata": {},
   "source": [
    "### Baseline test"
   ]
  },
  {
   "cell_type": "code",
   "execution_count": 91,
   "metadata": {},
   "outputs": [
    {
     "name": "stdout",
     "output_type": "stream",
     "text": [
      "Loaded train dataset containing: 123399 samples\n",
      "Loaded validation dataset containing: 13712 samples\n",
      "Loaded test dataset containing: 15235 samples\n"
     ]
    }
   ],
   "source": [
    "base_dataset = gr.GoodreadsDataset.load_from_split(conf['preprocessed'], image_source_path, image_source_list, data_path)"
   ]
  },
  {
   "cell_type": "code",
   "execution_count": 92,
   "metadata": {},
   "outputs": [
    {
     "name": "stdout",
     "output_type": "stream",
     "text": [
      "Baseline classifer\n",
      "Accuracy: 0.530\n",
      "                                        precision    recall  f1-score   support\n",
      "\n",
      "                                poetry       0.63      0.28      0.39       507\n",
      "                              children       0.74      0.46      0.57       869\n",
      "                   fantasy, paranormal       0.33      0.80      0.47      2934\n",
      "history, historical fiction, biography       0.62      0.38      0.48      2133\n",
      "                       comics, graphic       0.91      0.75      0.83      1151\n",
      "                           non-fiction       0.64      0.26      0.37      1714\n",
      "              mystery, thriller, crime       0.77      0.58      0.66      2180\n",
      "                           young-adult       0.56      0.43      0.48       770\n",
      "                               romance       0.78      0.60      0.68      2237\n",
      "                               fiction       0.31      0.15      0.20       740\n",
      "\n",
      "                              accuracy                           0.53     15235\n",
      "                             macro avg       0.63      0.47      0.51     15235\n",
      "                          weighted avg       0.62      0.53      0.53     15235\n",
      "\n",
      "Confusion matrix:\n",
      "[[ 142    5  293   23    0   14    7    2    9   12]\n",
      " [   5  403  330   20    5   22   19   49    3   13]\n",
      " [  15   39 2356  100   37   32   91   83  119   62]\n",
      " [  28   29  890  820    4   95   84   25   99   59]\n",
      " [   0    5  240    7  868    6    7   10    4    4]\n",
      " [  10   14 1077   81    5  442   32    4   19   30]\n",
      " [   3   12  660   75    7   40 1254   39   62   28]\n",
      " [   1   24  316   11    2    7   31  328   40   10]\n",
      " [   4    7  600  117   11   11   61   38 1353   35]\n",
      " [  17    6  423   65   10   22   40   12   32  113]]\n"
     ]
    },
    {
     "data": {
      "image/png": "[encoded data removed]",
      "text/plain": [
       "<Figure size 720x720 with 2 Axes>"
      ]
     },
     "metadata": {
      "needs_background": "light"
     },
     "output_type": "display_data"
    }
   ],
   "source": [
    "#There is no need for validation dataset(becuase there is no real training..) \n",
    "#so we will unite the train and validation dataset in order the have a larger dataset.\n",
    "full_generes=conf[\"preprocessed\"][\"full_genres_col\"]\n",
    "X_train_val=np.vstack((base_dataset.X_train,base_dataset.X_val))\n",
    "y_train_val = np.vstack((base_dataset.y_train, base_dataset.y_val))\n",
    "\n",
    "X_test=base_dataset.X_test\n",
    "y_test=base_dataset.y_test\n",
    "\n",
    "#create the baseline model and predict test genres\n",
    "baseline_learner=gr.Baseline(conf[\"preprocessed\"][\"preprocess_col_order\"])\n",
    "baseline_learner.fit(X_train_val,y_train_val)\n",
    "y_test_predicted=baseline_learner.predict(base_dataset.X_test)\n",
    "\n",
    "accuracy=accuracy_score(y_test, y_test_predicted)\n",
    "f1_weighted=f1_score(y_test, y_test_predicted, average='weighted')\n",
    "test_scores['Model'].append(\"Baseline model\")\n",
    "test_scores['accuracy'].append(accuracy)\n",
    "test_scores['f1-weighted'].append(f1_weighted)\n",
    "\n",
    "gr.report_result(y_test_predicted,y_test,'Baseline',full_generes,'Baseline test results-confusion matrix')"
   ]
  },
  {
   "cell_type": "code",
   "execution_count": 93,
   "metadata": {},
   "outputs": [
    {
     "data": {
      "text/plain": [
       "(123399,)"
      ]
     },
     "execution_count": 93,
     "metadata": {},
     "output_type": "execute_result"
    }
   ],
   "source": [
    "cleaned_train_title[:np.newaxis].shape"
   ]
  },
  {
   "cell_type": "markdown",
   "metadata": {},
   "source": [
    "###  Best model- test results"
   ]
  },
  {
   "cell_type": "code",
   "execution_count": 95,
   "metadata": {},
   "outputs": [
    {
     "name": "stdout",
     "output_type": "stream",
     "text": [
      "(137111,)\n",
      "(137111, 15)\n",
      "\n",
      "\n",
      "Start training.Kernel description:10 ,Kernel title: 5, Dropout rate:0.1, Learning rate:0.003, embedding type: word2vec\n",
      "Epoch 1/20\n",
      "4285/4285 [==============================] - 57s 13ms/step - loss: 1.0938 - f1_score: 0.6290 - accuracy: 0.6410 - val_loss: 0.9500 - val_f1_score: 0.6798 - val_accuracy: 0.6883\n",
      "Epoch 2/20\n",
      "4285/4285 [==============================] - 56s 13ms/step - loss: 0.5964 - f1_score: 0.8143 - accuracy: 0.8167 - val_loss: 0.8977 - val_f1_score: 0.7247 - val_accuracy: 0.7214\n",
      "Epoch 3/20\n",
      "4285/4285 [==============================] - 56s 13ms/step - loss: 0.3782 - f1_score: 0.8831 - accuracy: 0.8837 - val_loss: 0.9858 - val_f1_score: 0.7217 - val_accuracy: 0.7268\n",
      "Epoch 4/20\n",
      "4285/4285 [==============================] - 56s 13ms/step - loss: 0.2938 - f1_score: 0.9071 - accuracy: 0.9074 - val_loss: 1.0517 - val_f1_score: 0.7267 - val_accuracy: 0.7238\n",
      "Epoch 5/20\n",
      "4285/4285 [==============================] - 56s 13ms/step - loss: 0.2434 - f1_score: 0.9219 - accuracy: 0.9221 - val_loss: 1.1294 - val_f1_score: 0.7315 - val_accuracy: 0.7294\n",
      "477/477 [==============================] - 2s 4ms/step - loss: 1.1294 - f1_score: 0.7315 - accuracy: 0.7294\n"
     ]
    }
   ],
   "source": [
    "kernel_desc=10\n",
    "kernel_title=5\n",
    "lr=0.003\n",
    "dropout_rate=0.1\n",
    "emb_type='word2vec'\n",
    "\n",
    "\n",
    "cleaned_X_train_val_title=np.vstack((cleaned_train_title[:, np.newaxis],cleaned_val_title[:, np.newaxis]))\n",
    "cleaned_X_train_val_description=np.vstack((cleaned_train_description[:, np.newaxis],cleaned_val_description[:, np.newaxis]))\n",
    "\n",
    "cleaned_X_train_val_title=np.squeeze(cleaned_X_train_val_title)\n",
    "cleaned_X_train_val_description=np.squeeze(cleaned_X_train_val_description)\n",
    "\n",
    "print(cleaned_X_train_val_title.shape)\n",
    "y_train_val=np.vstack((goodr_dataset_embeddings.y_train,goodr_dataset_embeddings.y_val))\n",
    "X_train_val=pd.concat([goodr_dataset_embeddings.X_train,goodr_dataset_embeddings.X_val])\n",
    "\n",
    "print(X_train_val.shape)\n",
    "y_test=goodr_dataset_embeddings.y_test\n",
    "X_test=goodr_dataset_embeddings.X_test\n",
    "cleaned_test_title = np.array(emb_gr.remove_stopword(X_test[\"title\"].values))\n",
    "cleaned_test_description = np.array(emb_gr.remove_stopword(X_test[\"description\"].values))\n",
    "\n",
    "\n",
    "\n",
    "\n",
    "emb_gr.prepare_preprocessing_voc_layers(cleaned_X_train_val_title, num_voc_title=num_voc_title,\n",
    "                                            description_array=cleaned_X_train_val_description,\n",
    "                                            num_voc_description=num_voc_description,\n",
    "                                            author_array=X_train_val[\"author_id\"].values, max_len_title=max_len_title,\n",
    "                                            max_len_desc=max_len_desc)\n",
    "emb_gr.build_model(len(other_columns), dense_config, kernel_size_desc=kernel_desc, kernel_size_title=kernel_title, dropout_rate=dropout_rate, conv_filters_desc=conv_filters_desc, conv_filters_title=conv_filters_title)\n",
    "print(\"\\n\")\n",
    "print(f\"Start training.Kernel description:{kernel_desc} ,Kernel title: {kernel_title}, Dropout rate:{dropout_rate}, Learning rate:{lr}, embedding type: {emb_type}\")\n",
    "history=emb_gr.fit(X_train_val[other_columns].values, X_test[other_columns].values,  cleaned_X_train_val_description, \n",
    "                                           cleaned_test_description, cleaned_X_train_val_title, cleaned_test_title, \n",
    "                                           X_train_val[\"author_id\"].values, X_test[\"author_id\"].values, y_train_val, y_test, epochs,patience=patience, learning_rate = lr)\n",
    "embedding_history=history.history.copy()\n",
    "scores_dict=emb_gr.evaluate(X_test[other_columns].values, cleaned_test_description, cleaned_test_title, \n",
    "                                                    X_test[\"author_id\"].values,y_test)\n",
    "\n",
    "\n"
   ]
  },
  {
   "cell_type": "code",
   "execution_count": 96,
   "metadata": {},
   "outputs": [],
   "source": [
    "y_test_predicted=emb_gr.predict(X_test[other_columns].values, cleaned_test_description, cleaned_test_title, \n",
    "                                                    X_test[\"author_id\"].values)\n"
   ]
  },
  {
   "cell_type": "code",
   "execution_count": 97,
   "metadata": {},
   "outputs": [],
   "source": [
    "labels=goodr_dataset_embeddings.label_classes\n",
    "predicted=[labels[ind] for ind in tf.argmax(y_test_predicted,1).numpy()]\n",
    "true=[labels[ind] for ind in tf.argmax(y_test,1).numpy()]"
   ]
  },
  {
   "cell_type": "code",
   "execution_count": 98,
   "metadata": {},
   "outputs": [
    {
     "ename": "SyntaxError",
     "evalue": "positional argument follows keyword argument (<ipython-input-98-254953d6e946>, line 9)",
     "output_type": "error",
     "traceback": [
      "\u001B[0;36m  File \u001B[0;32m\"<ipython-input-98-254953d6e946>\"\u001B[0;36m, line \u001B[0;32m9\u001B[0m\n\u001B[0;31m    gr.report_result(predicted,true,'Embedding model',labels=labels,'Best model test results-confusion matrix')\u001B[0m\n\u001B[0m                                                                    ^\u001B[0m\n\u001B[0;31mSyntaxError\u001B[0m\u001B[0;31m:\u001B[0m positional argument follows keyword argument\n"
     ]
    }
   ],
   "source": [
    "\n",
    "accuracy=accuracy_score(true, predicted)\n",
    "f1_weighted=f1_score(true, predicted, average='weighted')\n",
    "test_scores['Model'].append(\"Embedding model\")\n",
    "test_scores['accuracy'].append(accuracy)\n",
    "test_scores['f1-weighted'].append(f1_weighted)\n",
    "\n",
    "\n",
    "\n",
    "gr.report_result(predicted,true,'Embedding model',labels=labels,'Best model test results-confusion matrix')"
   ]
  },
  {
   "cell_type": "markdown",
   "metadata": {},
   "source": [
    "### Comparison of test results"
   ]
  },
  {
   "cell_type": "code",
   "execution_count": 149,
   "metadata": {},
   "outputs": [
    {
     "data": {
      "text/html": [
       "<div>\n",
       "<style scoped>\n",
       "    .dataframe tbody tr th:only-of-type {\n",
       "        vertical-align: middle;\n",
       "    }\n",
       "\n",
       "    .dataframe tbody tr th {\n",
       "        vertical-align: top;\n",
       "    }\n",
       "\n",
       "    .dataframe thead th {\n",
       "        text-align: right;\n",
       "    }\n",
       "</style>\n",
       "<table border=\"1\" class=\"dataframe\">\n",
       "  <thead>\n",
       "    <tr style=\"text-align: right;\">\n",
       "      <th></th>\n",
       "      <th>Model</th>\n",
       "      <th>accuracy</th>\n",
       "      <th>f1-weighted</th>\n",
       "    </tr>\n",
       "  </thead>\n",
       "  <tbody>\n",
       "    <tr>\n",
       "      <th>0</th>\n",
       "      <td>Baseline model</td>\n",
       "      <td>0.530292</td>\n",
       "      <td>0.533951</td>\n",
       "    </tr>\n",
       "    <tr>\n",
       "      <th>1</th>\n",
       "      <td>Embedding model</td>\n",
       "      <td>0.729111</td>\n",
       "      <td>0.725839</td>\n",
       "    </tr>\n",
       "  </tbody>\n",
       "</table>\n",
       "</div>"
      ],
      "text/plain": [
       "             Model  accuracy  f1-weighted\n",
       "0   Baseline model  0.530292     0.533951\n",
       "1  Embedding model  0.729111     0.725839"
      ]
     },
     "execution_count": 149,
     "metadata": {},
     "output_type": "execute_result"
    }
   ],
   "source": [
    "df_test_scores= pd.DataFrame.from_dict(test_scores)\n",
    "df_test_scores.head(10)"
   ]
  },
  {
   "cell_type": "code",
   "execution_count": 155,
   "metadata": {},
   "outputs": [
    {
     "data": {
      "text/plain": [
       "Text(0.5, 0, 'Rate %')"
      ]
     },
     "execution_count": 155,
     "metadata": {},
     "output_type": "execute_result"
    },
    {
     "data": {
      "image/png": "[encoded data removed]",
      "text/plain": [
       "<Figure size 576x288 with 1 Axes>"
      ]
     },
     "metadata": {
      "needs_background": "light"
     },
     "output_type": "display_data"
    }
   ],
   "source": [
    "#df_test_scores=df_test_scores.set_index('Model')\n",
    "figure, axes = plt.subplots(figsize=(8, 4))\n",
    "df_test_scores[[\"accuracy\",\"f1-weighted\"]].sort_values([\"f1-weighted\"], ascending=False).plot(kind='barh',ax=axes)\n",
    "axes.set_title('Test results')\n",
    "axes.set_xlabel(\"Rate %\")"
   ]
  },
  {
   "cell_type": "code",
   "execution_count": 111,
   "metadata": {},
   "outputs": [
    {
     "ename": "ModuleNotFoundError",
     "evalue": "No module named 'pytdot'",
     "output_type": "error",
     "traceback": [
      "\u001B[0;31m---------------------------------------------------------------------------\u001B[0m",
      "\u001B[0;31mModuleNotFoundError\u001B[0m                       Traceback (most recent call last)",
      "\u001B[0;32m<ipython-input-111-235e6cb50dfe>\u001B[0m in \u001B[0;36m<module>\u001B[0;34m\u001B[0m\n\u001B[0;32m----> 1\u001B[0;31m \u001B[0;32mimport\u001B[0m \u001B[0mpytdot\u001B[0m\u001B[0;34m\u001B[0m\u001B[0;34m\u001B[0m\u001B[0m\n\u001B[0m\u001B[1;32m      2\u001B[0m \u001B[0mtf\u001B[0m\u001B[0;34m.\u001B[0m\u001B[0mkeras\u001B[0m\u001B[0;34m.\u001B[0m\u001B[0mutils\u001B[0m\u001B[0;34m.\u001B[0m\u001B[0mplot_model\u001B[0m\u001B[0;34m(\u001B[0m\u001B[0memb_gr\u001B[0m\u001B[0;34m.\u001B[0m\u001B[0mmodel\u001B[0m\u001B[0;34m,\u001B[0m \u001B[0;34m\"embeddings_model.png\"\u001B[0m\u001B[0;34m,\u001B[0m \u001B[0mshow_shapes\u001B[0m\u001B[0;34m=\u001B[0m\u001B[0;32mTrue\u001B[0m\u001B[0;34m)\u001B[0m\u001B[0;34m\u001B[0m\u001B[0;34m\u001B[0m\u001B[0m\n",
      "\u001B[0;31mModuleNotFoundError\u001B[0m: No module named 'pytdot'"
     ]
    }
   ],
   "source": [
    "import pytdot\n",
    "tf.keras.utils.plot_model(emb_gr.model, \"embeddings_model.png\", show_shapes=True)"
   ]
  },
  {
   "cell_type": "code",
   "execution_count": null,
   "metadata": {},
   "outputs": [],
   "source": []
  }
 ],
 "metadata": {
  "kernelspec": {
   "display_name": "Python 3",
   "language": "python",
   "name": "python3"
  },
  "language_info": {
   "codemirror_mode": {
    "name": "ipython",
    "version": 3
   },
   "file_extension": ".py",
   "mimetype": "text/x-python",
   "name": "python",
   "nbconvert_exporter": "python",
   "pygments_lexer": "ipython3",
   "version": "3.8.5"
  }
 },
 "nbformat": 4,
 "nbformat_minor": 1
}