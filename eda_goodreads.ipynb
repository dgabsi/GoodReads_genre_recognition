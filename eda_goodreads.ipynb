{
 "cells": [
  {
   "cell_type": "code",
   "execution_count": 18,
   "metadata": {
    "collapsed": true
   },
   "outputs": [
    {
     "data": {
      "text/plain": "0    124096793\n4     37497451\n5     35506166\n3     23307457\n2      6189946\n1      2050529\nName: rating, dtype: int64"
     },
     "execution_count": 18,
     "metadata": {},
     "output_type": "execute_result"
    }
   ],
   "source": [
    "import pandas as pd\n",
    "import os\n",
    "\n",
    "file_loc='./data/'\n",
    "\n",
    "file=os.path.join(file_loc,'goodreads_interactions.csv')\n",
    "interactions=pd.read_csv(file)\n",
    "interactions.head()\n",
    "\n",
    "interactions['rating'].value_counts(normalize=True)"
   ]
  },
  {
   "cell_type": "code",
   "execution_count": 19,
   "outputs": [
    {
     "data": {
      "text/plain": "   average_rating  author_id  text_reviews_count              name  \\\n0            3.98     604031                   7  Ronald J. Fields   \n1            4.08     626222               28716     Anita Diamant   \n2            3.92      10333                5075    Barbara Hambly   \n3            3.68       9212               36262   Jennifer Weiner   \n4            3.82     149918                  96     Nigel Pennick   \n\n   ratings_count  \n0             49  \n1         546796  \n2         122118  \n3         888522  \n4           1740  ",
      "text/html": "<div>\n<style scoped>\n    .dataframe tbody tr th:only-of-type {\n        vertical-align: middle;\n    }\n\n    .dataframe tbody tr th {\n        vertical-align: top;\n    }\n\n    .dataframe thead th {\n        text-align: right;\n    }\n</style>\n<table border=\"1\" class=\"dataframe\">\n  <thead>\n    <tr style=\"text-align: right;\">\n      <th></th>\n      <th>average_rating</th>\n      <th>author_id</th>\n      <th>text_reviews_count</th>\n      <th>name</th>\n      <th>ratings_count</th>\n    </tr>\n  </thead>\n  <tbody>\n    <tr>\n      <th>0</th>\n      <td>3.98</td>\n      <td>604031</td>\n      <td>7</td>\n      <td>Ronald J. Fields</td>\n      <td>49</td>\n    </tr>\n    <tr>\n      <th>1</th>\n      <td>4.08</td>\n      <td>626222</td>\n      <td>28716</td>\n      <td>Anita Diamant</td>\n      <td>546796</td>\n    </tr>\n    <tr>\n      <th>2</th>\n      <td>3.92</td>\n      <td>10333</td>\n      <td>5075</td>\n      <td>Barbara Hambly</td>\n      <td>122118</td>\n    </tr>\n    <tr>\n      <th>3</th>\n      <td>3.68</td>\n      <td>9212</td>\n      <td>36262</td>\n      <td>Jennifer Weiner</td>\n      <td>888522</td>\n    </tr>\n    <tr>\n      <th>4</th>\n      <td>3.82</td>\n      <td>149918</td>\n      <td>96</td>\n      <td>Nigel Pennick</td>\n      <td>1740</td>\n    </tr>\n  </tbody>\n</table>\n</div>"
     },
     "execution_count": 19,
     "metadata": {},
     "output_type": "execute_result"
    }
   ],
   "source": [
    "authors_file=os.path.join(file_loc,'goodreads_book_authors.json')\n",
    "authors=pd.read_json(authors_file, lines=True)\n",
    "authors.head()\n",
    "\n"
   ],
   "metadata": {
    "collapsed": false,
    "pycharm": {
     "name": "#%%\n"
    }
   }
  }
 ],
 "metadata": {
  "kernelspec": {
   "display_name": "Python 3",
   "language": "python",
   "name": "python3"
  },
  "language_info": {
   "codemirror_mode": {
    "name": "ipython",
    "version": 2
   },
   "file_extension": ".py",
   "mimetype": "text/x-python",
   "name": "python",
   "nbconvert_exporter": "python",
   "pygments_lexer": "ipython2",
   "version": "2.7.6"
  }
 },
 "nbformat": 4,
 "nbformat_minor": 0
}