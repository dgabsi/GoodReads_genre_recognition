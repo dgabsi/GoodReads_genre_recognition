{
 "cells": [
  {
   "cell_type": "markdown",
   "metadata": {
    "pycharm": {
     "name": "#%% md\n"
    }
   },
   "source": [
    "## Analysing Goodreads ratings - Artificial Intelligence project\n",
    "### EDA -Exploratory Data Analysis\n",
    "Daniela Stern-Gabsi\n"
   ]
  },
  {
   "cell_type": "code",
   "execution_count": 62,
   "metadata": {
    "collapsed": true
   },
   "outputs": [
    {
     "ename": "KeyError",
     "evalue": "'xticklabels.rotation is not a valid rc parameter (see rcParams.keys() for a list of valid parameters)'",
     "output_type": "error",
     "traceback": [
      "\u001B[0;31m---------------------------------------------------------------------------\u001B[0m",
      "\u001B[0;31mKeyError\u001B[0m                                  Traceback (most recent call last)",
      "\u001B[0;32m~/anaconda3/envs/701project/lib/python3.8/site-packages/matplotlib/__init__.py\u001B[0m in \u001B[0;36m__setitem__\u001B[0;34m(self, key, val)\u001B[0m\n\u001B[1;32m    676\u001B[0m             \u001B[0;32mtry\u001B[0m\u001B[0;34m:\u001B[0m\u001B[0;34m\u001B[0m\u001B[0;34m\u001B[0m\u001B[0m\n\u001B[0;32m--> 677\u001B[0;31m                 \u001B[0mcval\u001B[0m \u001B[0;34m=\u001B[0m \u001B[0mself\u001B[0m\u001B[0;34m.\u001B[0m\u001B[0mvalidate\u001B[0m\u001B[0;34m[\u001B[0m\u001B[0mkey\u001B[0m\u001B[0;34m]\u001B[0m\u001B[0;34m(\u001B[0m\u001B[0mval\u001B[0m\u001B[0;34m)\u001B[0m\u001B[0;34m\u001B[0m\u001B[0;34m\u001B[0m\u001B[0m\n\u001B[0m\u001B[1;32m    678\u001B[0m             \u001B[0;32mexcept\u001B[0m \u001B[0mValueError\u001B[0m \u001B[0;32mas\u001B[0m \u001B[0mve\u001B[0m\u001B[0;34m:\u001B[0m\u001B[0;34m\u001B[0m\u001B[0;34m\u001B[0m\u001B[0m\n",
      "\u001B[0;31mKeyError\u001B[0m: 'xticklabels.rotation'",
      "\nThe above exception was the direct cause of the following exception:\n",
      "\u001B[0;31mKeyError\u001B[0m                                  Traceback (most recent call last)",
      "\u001B[0;32m<ipython-input-62-e29eb79a714b>\u001B[0m in \u001B[0;36m<module>\u001B[0;34m\u001B[0m\n\u001B[1;32m      5\u001B[0m \u001B[0;32mimport\u001B[0m \u001B[0mmatplotlib\u001B[0m\u001B[0;34m.\u001B[0m\u001B[0mpyplot\u001B[0m \u001B[0;32mas\u001B[0m \u001B[0mplt\u001B[0m\u001B[0;34m\u001B[0m\u001B[0;34m\u001B[0m\u001B[0m\n\u001B[1;32m      6\u001B[0m \u001B[0mplt\u001B[0m\u001B[0;34m.\u001B[0m\u001B[0mstyle\u001B[0m\u001B[0;34m.\u001B[0m\u001B[0muse\u001B[0m\u001B[0;34m(\u001B[0m\u001B[0;34m'ggplot'\u001B[0m\u001B[0;34m)\u001B[0m\u001B[0;34m\u001B[0m\u001B[0;34m\u001B[0m\u001B[0m\n\u001B[0;32m----> 7\u001B[0;31m \u001B[0mplt\u001B[0m\u001B[0;34m.\u001B[0m\u001B[0mrcParams\u001B[0m\u001B[0;34m[\u001B[0m\u001B[0;34m\"xticklabels.rotation\"\u001B[0m\u001B[0;34m]\u001B[0m\u001B[0;34m=\u001B[0m\u001B[0;36m0\u001B[0m\u001B[0;34m\u001B[0m\u001B[0;34m\u001B[0m\u001B[0m\n\u001B[0m\u001B[1;32m      8\u001B[0m \u001B[0;34m\u001B[0m\u001B[0m\n",
      "\u001B[0;32m~/anaconda3/envs/701project/lib/python3.8/site-packages/matplotlib/__init__.py\u001B[0m in \u001B[0;36m__setitem__\u001B[0;34m(self, key, val)\u001B[0m\n\u001B[1;32m    680\u001B[0m             \u001B[0mdict\u001B[0m\u001B[0;34m.\u001B[0m\u001B[0m__setitem__\u001B[0m\u001B[0;34m(\u001B[0m\u001B[0mself\u001B[0m\u001B[0;34m,\u001B[0m \u001B[0mkey\u001B[0m\u001B[0;34m,\u001B[0m \u001B[0mcval\u001B[0m\u001B[0;34m)\u001B[0m\u001B[0;34m\u001B[0m\u001B[0;34m\u001B[0m\u001B[0m\n\u001B[1;32m    681\u001B[0m         \u001B[0;32mexcept\u001B[0m \u001B[0mKeyError\u001B[0m \u001B[0;32mas\u001B[0m \u001B[0merr\u001B[0m\u001B[0;34m:\u001B[0m\u001B[0;34m\u001B[0m\u001B[0;34m\u001B[0m\u001B[0m\n\u001B[0;32m--> 682\u001B[0;31m             raise KeyError(\n\u001B[0m\u001B[1;32m    683\u001B[0m                 \u001B[0;34mf\"{key} is not a valid rc parameter (see rcParams.keys() for \"\u001B[0m\u001B[0;34m\u001B[0m\u001B[0;34m\u001B[0m\u001B[0m\n\u001B[1;32m    684\u001B[0m                 f\"a list of valid parameters)\") from err\n",
      "\u001B[0;31mKeyError\u001B[0m: 'xticklabels.rotation is not a valid rc parameter (see rcParams.keys() for a list of valid parameters)'"
     ]
    }
   ],
   "source": [
    "#Import necessary packages\n",
    "import pandas as pd\n",
    "import os\n",
    "import yaml\n",
    "import matplotlib.pyplot as plt\n",
    "plt.style.use('ggplot')"
   ]
  },
  {
   "cell_type": "code",
   "execution_count": 38,
   "metadata": {
    "pycharm": {
     "name": "#%%\n"
    }
   },
   "outputs": [],
   "source": [
    "#load configuration file\n",
    "try:\n",
    "    with open('configuration.yml', 'r') as file:\n",
    "        conf = yaml.load(file, Loader=yaml.FullLoader)\n",
    "except Exception as e:\n",
    "    print('Error reading the config file')"
   ]
  },
  {
   "cell_type": "code",
   "execution_count": 37,
   "metadata": {
    "pycharm": {
     "name": "#%%\n"
    }
   },
   "outputs": [
    {
     "data": {
      "text/plain": [
       "{'data_files': {'data_dir': 'data',\n",
       "  'ratings_file': 'goodreads_interactions.csv',\n",
       "  'books_authors_file': 'goodreads_book_authors.json',\n",
       "  'books_works_file': 'goodreads_book_works.json',\n",
       "  'books_genres_file': 'goodreads_book_genres_initial.json'}}"
      ]
     },
     "execution_count": 37,
     "metadata": {},
     "output_type": "execute_result"
    }
   ],
   "source": [
    "conf"
   ]
  },
  {
   "cell_type": "markdown",
   "metadata": {
    "pycharm": {
     "name": "#%% md\n"
    }
   },
   "source": [
    "Loading the data files"
   ]
  },
  {
   "cell_type": "code",
   "execution_count": 39,
   "metadata": {
    "pycharm": {
     "name": "#%%\n"
    }
   },
   "outputs": [],
   "source": [
    "#Loading the data to pandas dataframes\n",
    "rating_file=os.path.join(conf[\"files\"][\"data_dir\"],conf[\"files\"][\"ratings_file\"])\n",
    "ratings=pd.read_csv(rating_file)\n",
    "authors_file=os.path.join(conf[\"files\"][\"data_dir\"],conf[\"files\"][\"books_authors_file\"])\n",
    "authors=pd.read_json(authors_file, lines=True)\n",
    "works_file=os.path.join(conf[\"files\"][\"data_dir\"],conf[\"files\"][\"books_works_file\"])\n",
    "works=pd.read_json(authors_file, lines=True)\n",
    "genres_file=os.path.join(conf[\"files\"][\"data_dir\"],conf[\"files\"][\"books_genres_file\"])\n",
    "genres=pd.read_json(genres_file, lines=True)\n"
   ]
  },
  {
   "cell_type": "markdown",
   "metadata": {
    "pycharm": {
     "name": "#%% md\n"
    }
   },
   "source": [
    "First we will explore the rating data which consists of the interactions between the if user and books:\n",
    "Each user can rate a book in ascending order from zero to five .Zero rate means the users hasnt rated the book. User can also\n",
    "add a review on the book ."
   ]
  },
  {
   "cell_type": "code",
   "execution_count": 42,
   "metadata": {
    "pycharm": {
     "name": "#%%\n"
    }
   },
   "outputs": [
    {
     "name": "stdout",
     "output_type": "stream",
     "text": [
      "   user_id  book_id  is_read  rating  is_reviewed\n",
      "0        0      948        1       5            0\n",
      "1        0      947        1       5            1\n",
      "2        0      946        1       5            0\n",
      "3        0      945        1       5            0\n",
      "4        0      944        1       5            0\n",
      "<class 'pandas.core.frame.DataFrame'>\n",
      "RangeIndex: 228648342 entries, 0 to 228648341\n",
      "Data columns (total 5 columns):\n",
      " #   Column       Dtype\n",
      "---  ------       -----\n",
      " 0   user_id      int64\n",
      " 1   book_id      int64\n",
      " 2   is_read      int64\n",
      " 3   rating       int64\n",
      " 4   is_reviewed  int64\n",
      "dtypes: int64(5)\n",
      "memory usage: 8.5 GB\n",
      "None\n",
      "            user_id       book_id       is_read        rating   is_reviewed\n",
      "count  2.286483e+08  2.286483e+08  2.286483e+08  2.286483e+08  2.286483e+08\n",
      "mean   2.500636e+05  2.015756e+05  4.904090e-01  1.801340e+00  7.093491e-02\n",
      "std    1.712713e+05  3.448677e+05  4.999080e-01  2.072672e+00  2.567161e-01\n",
      "min    0.000000e+00  0.000000e+00  0.000000e+00  0.000000e+00  0.000000e+00\n",
      "25%    1.143010e+05  1.252700e+04  0.000000e+00  0.000000e+00  0.000000e+00\n",
      "50%    2.338990e+05  5.034600e+04  0.000000e+00  0.000000e+00  0.000000e+00\n",
      "75%    3.581100e+05  2.229240e+05  1.000000e+00  4.000000e+00  0.000000e+00\n",
      "max    8.761440e+05  2.360649e+06  1.000000e+00  5.000000e+00  1.000000e+00\n",
      "user_id        False\n",
      "book_id        False\n",
      "is_read        False\n",
      "rating         False\n",
      "is_reviewed    False\n",
      "dtype: bool\n"
     ]
    }
   ],
   "source": [
    "print(ratings.head())\n",
    "print(ratings.info())\n",
    "print(ratings.describe())\n",
    "print(ratings.isnull().any())"
   ]
  },
  {
   "cell_type": "markdown",
   "metadata": {
    "pycharm": {
     "name": "#%% md\n"
    }
   },
   "source": [
    "We can see that there are no null values.\n",
    "Lets look at the rating distribution\n"
   ]
  },
  {
   "cell_type": "code",
   "execution_count": 67,
   "metadata": {
    "pycharm": {
     "name": "#%%\n"
    }
   },
   "outputs": [
    {
     "data": {
      "text/plain": [
       "[Text(0, 0, '0'), Text(1, 0, '1')]"
      ]
     },
     "execution_count": 67,
     "metadata": {},
     "output_type": "execute_result"
    },
    {
     "data": {
      "image/png": "[encoded data removed]",
      "text/plain": [
       "<Figure size 1008x360 with 3 Axes>"
      ]
     },
     "metadata": {},
     "output_type": "display_data"
    }
   ],
   "source": [
    "figure, axes = plt.subplots(1,3,figsize=(14,5))\n",
    "ratings[\"rating\"].value_counts(normalize=True).plot(kind='bar',ax=axes[0])\n",
    "axes[0].set_title(\"Rating distribution (normalized)\")\n",
    "axes[0].set_ylabel(\"ratio\")\n",
    "axes[0].set_xlabel(\"rating\")\n",
    "axes[0].set_xticklabels(axes[0].get_xticklabels(),rotation=0)\n",
    "ratings[\"is_reviewed\"].value_counts(normalize=True).plot(kind='bar',ax=axes[1])\n",
    "axes[1].set_title(\"Is reviewed distribution (normalized)\")\n",
    "axes[1].set_ylabel(\"ratio\")\n",
    "axes[1].set_xlabel(\"is_reviewed\")\n",
    "axes[1].set_xticklabels(axes[1].get_xticklabels(),rotation=0)\n",
    "ratings[\"is_read\"].value_counts(normalize=True).plot(kind='bar',ax=axes[2])\n",
    "axes[2].set_title(\"Is read distribution (normalized)\")\n",
    "axes[2].set_ylabel(\"ratio\")\n",
    "axes[2].set_xlabel(\"is_read\")\n",
    "axes[2].set_xticklabels(axes[2].get_xticklabels(),rotation=0)"
   ]
  },
  {
   "cell_type": "code",
   "execution_count": 68,
   "metadata": {
    "pycharm": {
     "name": "#%%\n"
    }
   },
   "outputs": [
    {
     "name": "stdout",
     "output_type": "stream",
     "text": [
      "   average_rating  author_id  text_reviews_count              name  \\\n",
      "0            3.98     604031                   7  Ronald J. Fields   \n",
      "1            4.08     626222               28716     Anita Diamant   \n",
      "2            3.92      10333                5075    Barbara Hambly   \n",
      "3            3.68       9212               36262   Jennifer Weiner   \n",
      "4            3.82     149918                  96     Nigel Pennick   \n",
      "\n",
      "   ratings_count  \n",
      "0             49  \n",
      "1         546796  \n",
      "2         122118  \n",
      "3         888522  \n",
      "4           1740  \n",
      "<class 'pandas.core.frame.DataFrame'>\n",
      "RangeIndex: 829529 entries, 0 to 829528\n",
      "Data columns (total 5 columns):\n",
      " #   Column              Non-Null Count   Dtype  \n",
      "---  ------              --------------   -----  \n",
      " 0   average_rating      829529 non-null  float64\n",
      " 1   author_id           829529 non-null  int64  \n",
      " 2   text_reviews_count  829529 non-null  int64  \n",
      " 3   name                829529 non-null  object \n",
      " 4   ratings_count       829529 non-null  int64  \n",
      "dtypes: float64(1), int64(3), object(1)\n",
      "memory usage: 31.6+ MB\n",
      "None\n",
      "       average_rating     author_id  text_reviews_count  ratings_count\n",
      "count   829529.000000  8.295290e+05       829529.000000   8.295290e+05\n",
      "mean         3.844779  5.751610e+06          106.865331   1.595326e+03\n",
      "std          0.603013  5.129977e+06         1770.225828   4.479669e+04\n",
      "min          0.000000  3.000000e+00            0.000000   0.000000e+00\n",
      "25%          3.580000  9.327180e+05            2.000000   8.000000e+00\n",
      "50%          3.900000  4.952564e+06            6.000000   3.100000e+01\n",
      "75%          4.170000  7.838936e+06           20.000000   1.310000e+02\n",
      "max          5.000000  1.734337e+07       448570.000000   1.853272e+07\n",
      "average_rating        False\n",
      "author_id             False\n",
      "text_reviews_count    False\n",
      "name                  False\n",
      "ratings_count         False\n",
      "dtype: bool\n"
     ]
    }
   ],
   "source": [
    "print(authors.head())\n",
    "print(authors.info())\n",
    "print(authors.describe())\n",
    "print(authors.isnull().any())\n"
   ]
  },
  {
   "cell_type": "code",
   "execution_count": 69,
   "metadata": {
    "pycharm": {
     "name": "#%%\n"
    }
   },
   "outputs": [
    {
     "name": "stdout",
     "output_type": "stream",
     "text": [
      "   average_rating  author_id  text_reviews_count              name  \\\n",
      "0            3.98     604031                   7  Ronald J. Fields   \n",
      "1            4.08     626222               28716     Anita Diamant   \n",
      "2            3.92      10333                5075    Barbara Hambly   \n",
      "3            3.68       9212               36262   Jennifer Weiner   \n",
      "4            3.82     149918                  96     Nigel Pennick   \n",
      "\n",
      "   ratings_count  \n",
      "0             49  \n",
      "1         546796  \n",
      "2         122118  \n",
      "3         888522  \n",
      "4           1740  \n",
      "<class 'pandas.core.frame.DataFrame'>\n",
      "RangeIndex: 829529 entries, 0 to 829528\n",
      "Data columns (total 5 columns):\n",
      " #   Column              Non-Null Count   Dtype  \n",
      "---  ------              --------------   -----  \n",
      " 0   average_rating      829529 non-null  float64\n",
      " 1   author_id           829529 non-null  int64  \n",
      " 2   text_reviews_count  829529 non-null  int64  \n",
      " 3   name                829529 non-null  object \n",
      " 4   ratings_count       829529 non-null  int64  \n",
      "dtypes: float64(1), int64(3), object(1)\n",
      "memory usage: 31.6+ MB\n",
      "None\n",
      "       average_rating     author_id  text_reviews_count  ratings_count\n",
      "count   829529.000000  8.295290e+05       829529.000000   8.295290e+05\n",
      "mean         3.844779  5.751610e+06          106.865331   1.595326e+03\n",
      "std          0.603013  5.129977e+06         1770.225828   4.479669e+04\n",
      "min          0.000000  3.000000e+00            0.000000   0.000000e+00\n",
      "25%          3.580000  9.327180e+05            2.000000   8.000000e+00\n",
      "50%          3.900000  4.952564e+06            6.000000   3.100000e+01\n",
      "75%          4.170000  7.838936e+06           20.000000   1.310000e+02\n",
      "max          5.000000  1.734337e+07       448570.000000   1.853272e+07\n",
      "average_rating        False\n",
      "author_id             False\n",
      "text_reviews_count    False\n",
      "name                  False\n",
      "ratings_count         False\n",
      "dtype: bool\n"
     ]
    }
   ],
   "source": [
    "print(works.head())\n",
    "print(works.info())\n",
    "print(works.describe())\n",
    "print(works.isnull().any())"
   ]
  },
  {
   "cell_type": "code",
   "execution_count": 70,
   "metadata": {
    "pycharm": {
     "name": "#%%\n"
    }
   },
   "outputs": [
    {
     "name": "stdout",
     "output_type": "stream",
     "text": [
      "   book_id                                             genres\n",
      "0  5333265      {'history, historical fiction, biography': 1}\n",
      "1  1333909  {'fiction': 219, 'history, historical fiction,...\n",
      "2  7327624  {'fantasy, paranormal': 31, 'fiction': 8, 'mys...\n",
      "3  6066819  {'fiction': 555, 'romance': 23, 'mystery, thri...\n",
      "4   287140                                 {'non-fiction': 3}\n",
      "<class 'pandas.core.frame.DataFrame'>\n",
      "RangeIndex: 2360655 entries, 0 to 2360654\n",
      "Data columns (total 2 columns):\n",
      " #   Column   Dtype \n",
      "---  ------   ----- \n",
      " 0   book_id  int64 \n",
      " 1   genres   object\n",
      "dtypes: int64(1), object(1)\n",
      "memory usage: 36.0+ MB\n",
      "None\n",
      "            book_id\n",
      "count  2.360655e+06\n",
      "mean   1.540953e+07\n",
      "std    1.081897e+07\n",
      "min    1.000000e+00\n",
      "25%    5.979046e+06\n",
      "50%    1.585681e+07\n",
      "75%    2.438194e+07\n",
      "max    3.653043e+07\n",
      "book_id    False\n",
      "genres     False\n",
      "dtype: bool\n"
     ]
    }
   ],
   "source": [
    "print(genres.head())\n",
    "print(genres.info())\n",
    "print(genres.describe())\n",
    "print(genres.isnull().any())"
   ]
  },
  {
   "cell_type": "code",
   "execution_count": 71,
   "metadata": {
    "pycharm": {
     "name": "#%%\n"
    }
   },
   "outputs": [
    {
     "data": {
      "text/plain": [
       "0.9356568943515737"
      ]
     },
     "execution_count": 71,
     "metadata": {},
     "output_type": "execute_result"
    }
   ],
   "source": [
    "ratings[\"is_rated\"]=ratings[\"rating\"]>0\n",
    "\n",
    "ratings[\"is_read\"].corr(ratings[\"is rated\"])\n"
   ]
  },
  {
   "cell_type": "code",
   "execution_count": null,
   "outputs": [],
   "source": [
    "ratings.head()"
   ],
   "metadata": {
    "collapsed": false,
    "pycharm": {
     "name": "#%%\n"
    }
   }
  },
  {
   "cell_type": "raw",
   "source": [],
   "metadata": {
    "collapsed": false
   }
  },
  {
   "cell_type": "code",
   "execution_count": 73,
   "metadata": {},
   "outputs": [
    {
     "data": {
      "text/html": [
       "<div>\n",
       "<style scoped>\n",
       "    .dataframe tbody tr th:only-of-type {\n",
       "        vertical-align: middle;\n",
       "    }\n",
       "\n",
       "    .dataframe tbody tr th {\n",
       "        vertical-align: top;\n",
       "    }\n",
       "\n",
       "    .dataframe thead th {\n",
       "        text-align: right;\n",
       "    }\n",
       "</style>\n",
       "<table border=\"1\" class=\"dataframe\">\n",
       "  <thead>\n",
       "    <tr style=\"text-align: right;\">\n",
       "      <th></th>\n",
       "      <th>user_id</th>\n",
       "      <th>book_id</th>\n",
       "      <th>is_read</th>\n",
       "      <th>rating</th>\n",
       "      <th>is_reviewed</th>\n",
       "      <th>is rated</th>\n",
       "    </tr>\n",
       "  </thead>\n",
       "  <tbody>\n",
       "    <tr>\n",
       "      <th>0</th>\n",
       "      <td>0</td>\n",
       "      <td>948</td>\n",
       "      <td>1</td>\n",
       "      <td>5</td>\n",
       "      <td>0</td>\n",
       "      <td>True</td>\n",
       "    </tr>\n",
       "    <tr>\n",
       "      <th>1</th>\n",
       "      <td>0</td>\n",
       "      <td>947</td>\n",
       "      <td>1</td>\n",
       "      <td>5</td>\n",
       "      <td>1</td>\n",
       "      <td>True</td>\n",
       "    </tr>\n",
       "    <tr>\n",
       "      <th>2</th>\n",
       "      <td>0</td>\n",
       "      <td>946</td>\n",
       "      <td>1</td>\n",
       "      <td>5</td>\n",
       "      <td>0</td>\n",
       "      <td>True</td>\n",
       "    </tr>\n",
       "    <tr>\n",
       "      <th>3</th>\n",
       "      <td>0</td>\n",
       "      <td>945</td>\n",
       "      <td>1</td>\n",
       "      <td>5</td>\n",
       "      <td>0</td>\n",
       "      <td>True</td>\n",
       "    </tr>\n",
       "    <tr>\n",
       "      <th>4</th>\n",
       "      <td>0</td>\n",
       "      <td>944</td>\n",
       "      <td>1</td>\n",
       "      <td>5</td>\n",
       "      <td>0</td>\n",
       "      <td>True</td>\n",
       "    </tr>\n",
       "  </tbody>\n",
       "</table>\n",
       "</div>"
      ],
      "text/plain": [
       "   user_id  book_id  is_read  rating  is_reviewed  is rated\n",
       "0        0      948        1       5            0      True\n",
       "1        0      947        1       5            1      True\n",
       "2        0      946        1       5            0      True\n",
       "3        0      945        1       5            0      True\n",
       "4        0      944        1       5            0      True"
      ]
     },
     "execution_count": 73,
     "metadata": {},
     "output_type": "execute_result"
    }
   ],
   "source": []
  },
  {
   "cell_type": "raw",
   "metadata": {},
   "source": []
  }
 ],
 "metadata": {
  "kernelspec": {
   "display_name": "Python 3",
   "language": "python",
   "name": "python3"
  },
  "language_info": {
   "codemirror_mode": {
    "name": "ipython",
    "version": 3
   },
   "file_extension": ".py",
   "mimetype": "text/x-python",
   "name": "python",
   "nbconvert_exporter": "python",
   "pygments_lexer": "ipython3",
   "version": "3.8.5"
  }
 },
 "nbformat": 4,
 "nbformat_minor": 1
}